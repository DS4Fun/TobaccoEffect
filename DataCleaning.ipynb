{
 "cells": [
  {
   "cell_type": "code",
   "execution_count": 1,
   "metadata": {},
   "outputs": [],
   "source": [
    "import numpy as np\n",
    "import pandas as pd\n",
    "import math\n",
    "from functools import reduce"
   ]
  },
  {
   "cell_type": "markdown",
   "metadata": {},
   "source": [
    "\n",
    "##TODO add the link of each data with description of each column\n",
    "\n",
    "###  [Alcohol Per Capita consumption (APC)](http://apps.who.int/gho/data/node.main.A1039?lang=en)\n",
    "\n",
    "###  [Tobacco Use By Country]()"
   ]
  },
  {
   "cell_type": "code",
   "execution_count": 52,
   "metadata": {},
   "outputs": [],
   "source": [
    "apc_raw = pd.read_csv('data/raw/APC_2010-2018.csv')\n",
    "tobac_use_raw = pd.read_csv('data/raw/TobaccoUseByCountry_gte15.csv')\n",
    "country_data = pd.read_csv('data/raw/CountriesOfTheWorld.csv')\n",
    "tobac_cost_raw = pd.read_csv('data/raw/Tobacco_cost.csv')\n",
    "tobac_ad_raw = pd.read_csv('data/raw/BanOnDirectAdvertising.csv')\n",
    "tobac_tax_raw = pd.read_csv('data/raw/tax-Cigarate/Most-Brand-tax/R_Sp_excise_estimate,R_Ad_val_estimate,R_imp_duty_estimate,R_VAT_estimate,R_Other_estimate,R_total_tax_estimate,R_excise_incr.csv')\n",
    "ppp_raw = pd.read_csv('data/raw/PPP/DP_LIVE_01122019124828802.csv')"
   ]
  },
  {
   "cell_type": "code",
   "execution_count": 131,
   "metadata": {},
   "outputs": [],
   "source": [
    "def generic_clean(df_raw, \n",
    "                  columns, \n",
    "                  names_dict=None,\n",
    "                  drop_indices=None,\n",
    "                  apply_func_cols=None,\n",
    "                  save_path=None):\n",
    "    '''\n",
    "    Parameters\n",
    "    ----------\n",
    "    df_raw: pandas.DataFrame\n",
    "        the raw dataframe input\n",
    "    \n",
    "    columns: list\n",
    "        list of columns to keep\n",
    "    \n",
    "    names_dict: dict\n",
    "        dictionary of old_name:new_name to rename column names\n",
    "        \n",
    "    drop_indices: list\n",
    "        list of row indices to be deleted\n",
    "    \n",
    "    func_cols: list\n",
    "        list of (func, cols)\n",
    "        applies the func to the list of columns in cols\n",
    "    \n",
    "    map_func: funtion\n",
    "        the function to be use for dataframe map \n",
    "\n",
    "    save_path: str\n",
    "        path to store the final df\n",
    "    \n",
    "    Returns\n",
    "    -------\n",
    "    pandas.DataFrame\n",
    "            Processed dataframe\n",
    "    '''\n",
    "    \n",
    "    df = df_raw[columns]\n",
    "    if names_dict != None:\n",
    "        df = df.rename(columns=names_dict)\n",
    "\n",
    "    if drop_indices != None:\n",
    "            df.drop(drop_indices, inplace=True)\n",
    "    df = df.dropna()\n",
    "    \n",
    "    if apply_func_cols != None:\n",
    "        for apply_func_col in apply_func_cols:            \n",
    "            func, cols = apply_func_col\n",
    "            for col in cols:\n",
    "                df[col] = df[col].apply(func)\n",
    "        \n",
    "#         tobac_use['Country'].map(lambda x: x.strip())\n",
    "        \n",
    "    df.reset_index(inplace=True, drop=True)\n",
    "    df.reset_index(inplace=True)\n",
    "    \n",
    "    if save_path != None:\n",
    "        df.to_csv(save_path, index=False)\n",
    "\n",
    "    return df"
   ]
  },
  {
   "cell_type": "code",
   "execution_count": 107,
   "metadata": {},
   "outputs": [],
   "source": [
    "country_str_strip = (lambda x: x.strip(), ['Country'])"
   ]
  },
  {
   "cell_type": "markdown",
   "metadata": {},
   "source": [
    "## Tobac_use cleaning"
   ]
  },
  {
   "cell_type": "code",
   "execution_count": 77,
   "metadata": {},
   "outputs": [],
   "source": [
    "def split_row(row):\n",
    "    if isinstance(row, str):\n",
    "        return float(row.split()[0])\n",
    "    else:\n",
    "        return row"
   ]
  },
  {
   "cell_type": "code",
   "execution_count": 108,
   "metadata": {},
   "outputs": [],
   "source": [
    "tobac_use_cols = list(tobac_use_raw.columns)\n",
    "tobac_use_names = {\" Male\": \"Male\", \" Female\": \"Female\"}\n",
    "use_func_cols = [(split_row, ['Male', 'Female']), country_str_strip]\n",
    "drop_indices_use = list(tobac_use_raw[tobac_use_raw['Year']>2019].index)"
   ]
  },
  {
   "cell_type": "code",
   "execution_count": 109,
   "metadata": {},
   "outputs": [],
   "source": [
    "tobac_use = generic_clean(df_raw=tobac_use_raw,\n",
    "             columns=tobac_use_cols,\n",
    "             names_dict=tobac_use_names,\n",
    "             drop_indices=drop_indices_use,\n",
    "             apply_func_cols=use_func_cols,\n",
    "             save_path='data/tobac_use_by_country.csv')"
   ]
  },
  {
   "cell_type": "code",
   "execution_count": 110,
   "metadata": {},
   "outputs": [
    {
     "data": {
      "text/html": [
       "<div>\n",
       "<style scoped>\n",
       "    .dataframe tbody tr th:only-of-type {\n",
       "        vertical-align: middle;\n",
       "    }\n",
       "\n",
       "    .dataframe tbody tr th {\n",
       "        vertical-align: top;\n",
       "    }\n",
       "\n",
       "    .dataframe thead th {\n",
       "        text-align: right;\n",
       "    }\n",
       "</style>\n",
       "<table border=\"1\" class=\"dataframe\">\n",
       "  <thead>\n",
       "    <tr style=\"text-align: right;\">\n",
       "      <th></th>\n",
       "      <th>index</th>\n",
       "      <th>Country</th>\n",
       "      <th>Year</th>\n",
       "      <th>Male</th>\n",
       "      <th>Female</th>\n",
       "    </tr>\n",
       "  </thead>\n",
       "  <tbody>\n",
       "    <tr>\n",
       "      <th>0</th>\n",
       "      <td>0</td>\n",
       "      <td>Albania</td>\n",
       "      <td>2015</td>\n",
       "      <td>51.2</td>\n",
       "      <td>7.6</td>\n",
       "    </tr>\n",
       "    <tr>\n",
       "      <th>1</th>\n",
       "      <td>1</td>\n",
       "      <td>Albania</td>\n",
       "      <td>2012</td>\n",
       "      <td>52.1</td>\n",
       "      <td>8.2</td>\n",
       "    </tr>\n",
       "    <tr>\n",
       "      <th>2</th>\n",
       "      <td>2</td>\n",
       "      <td>Albania</td>\n",
       "      <td>2010</td>\n",
       "      <td>53.1</td>\n",
       "      <td>8.7</td>\n",
       "    </tr>\n",
       "    <tr>\n",
       "      <th>3</th>\n",
       "      <td>3</td>\n",
       "      <td>Albania</td>\n",
       "      <td>2005</td>\n",
       "      <td>54.7</td>\n",
       "      <td>10.1</td>\n",
       "    </tr>\n",
       "    <tr>\n",
       "      <th>4</th>\n",
       "      <td>4</td>\n",
       "      <td>Albania</td>\n",
       "      <td>2000</td>\n",
       "      <td>56.9</td>\n",
       "      <td>11.6</td>\n",
       "    </tr>\n",
       "  </tbody>\n",
       "</table>\n",
       "</div>"
      ],
      "text/plain": [
       "   index  Country  Year  Male  Female\n",
       "0      0  Albania  2015  51.2     7.6\n",
       "1      1  Albania  2012  52.1     8.2\n",
       "2      2  Albania  2010  53.1     8.7\n",
       "3      3  Albania  2005  54.7    10.1\n",
       "4      4  Albania  2000  56.9    11.6"
      ]
     },
     "execution_count": 110,
     "metadata": {},
     "output_type": "execute_result"
    }
   ],
   "source": [
    "tobac_use.head()"
   ]
  },
  {
   "cell_type": "markdown",
   "metadata": {},
   "source": [
    "## Tobacco Cost cleaning"
   ]
  },
  {
   "cell_type": "code",
   "execution_count": 92,
   "metadata": {},
   "outputs": [],
   "source": [
    "tobac_cost_cols = list(tobac_cost_raw.columns)\n",
    "tobac_cost_names = {\"Premium brand of cigarettes - currency reported\": \"currency\",\n",
    "                                       \"Premium brand of cigarettes - price in currency reported\": \"price in currency\",\n",
    "                                       \"Premium brand of cigarettes - price in international dollars\": \"price in international $\",\n",
    "                                       \"Premium brand of cigarettes - price in US$ at official exchange rates\": \"price in US$\"}"
   ]
  },
  {
   "cell_type": "code",
   "execution_count": 111,
   "metadata": {},
   "outputs": [],
   "source": [
    "cols_for_drop = list(tobac_cost_names.keys())[1:]\n",
    "not_avail = tobac_cost_raw[tobac_cost_raw[cols_for_drop].eq('Not available').any(axis=1)]\n",
    "drop_indices_cost = list(not_avail.index)\n",
    "cost_func_cols = [country_str_strip]"
   ]
  },
  {
   "cell_type": "code",
   "execution_count": 100,
   "metadata": {},
   "outputs": [],
   "source": [
    "tobac_cost = generic_clean(df_raw=tobac_cost_raw,\n",
    "              columns=tobac_cost_cols,\n",
    "              names_dict=tobac_cost_names,\n",
    "              drop_indices=drop_indices_cost,\n",
    "              apply_func_cols=cost_func_cols,\n",
    "              save_path='data/tobac_cost.csv')"
   ]
  },
  {
   "cell_type": "code",
   "execution_count": 101,
   "metadata": {},
   "outputs": [
    {
     "data": {
      "text/html": [
       "<div>\n",
       "<style scoped>\n",
       "    .dataframe tbody tr th:only-of-type {\n",
       "        vertical-align: middle;\n",
       "    }\n",
       "\n",
       "    .dataframe tbody tr th {\n",
       "        vertical-align: top;\n",
       "    }\n",
       "\n",
       "    .dataframe thead th {\n",
       "        text-align: right;\n",
       "    }\n",
       "</style>\n",
       "<table border=\"1\" class=\"dataframe\">\n",
       "  <thead>\n",
       "    <tr style=\"text-align: right;\">\n",
       "      <th></th>\n",
       "      <th>index</th>\n",
       "      <th>Country</th>\n",
       "      <th>Year</th>\n",
       "      <th>currency</th>\n",
       "      <th>price in currency</th>\n",
       "      <th>price in international $</th>\n",
       "      <th>price in US$</th>\n",
       "    </tr>\n",
       "  </thead>\n",
       "  <tbody>\n",
       "    <tr>\n",
       "      <th>0</th>\n",
       "      <td>0</td>\n",
       "      <td>Afghanistan</td>\n",
       "      <td>2014</td>\n",
       "      <td>AFN</td>\n",
       "      <td>100.00</td>\n",
       "      <td>2.95</td>\n",
       "      <td>1.73</td>\n",
       "    </tr>\n",
       "    <tr>\n",
       "      <th>1</th>\n",
       "      <td>1</td>\n",
       "      <td>Albania</td>\n",
       "      <td>2014</td>\n",
       "      <td>ALL</td>\n",
       "      <td>270.00</td>\n",
       "      <td>5.23</td>\n",
       "      <td>2.60</td>\n",
       "    </tr>\n",
       "    <tr>\n",
       "      <th>2</th>\n",
       "      <td>2</td>\n",
       "      <td>Algeria</td>\n",
       "      <td>2014</td>\n",
       "      <td>DZD</td>\n",
       "      <td>150.00</td>\n",
       "      <td>2.53</td>\n",
       "      <td>1.91</td>\n",
       "    </tr>\n",
       "    <tr>\n",
       "      <th>3</th>\n",
       "      <td>3</td>\n",
       "      <td>Angola</td>\n",
       "      <td>2014</td>\n",
       "      <td>AOA</td>\n",
       "      <td>200.00</td>\n",
       "      <td>2.18</td>\n",
       "      <td>2.06</td>\n",
       "    </tr>\n",
       "    <tr>\n",
       "      <th>4</th>\n",
       "      <td>4</td>\n",
       "      <td>Antigua and Barbuda</td>\n",
       "      <td>2014</td>\n",
       "      <td>XCD</td>\n",
       "      <td>8.00</td>\n",
       "      <td>3.99</td>\n",
       "      <td>2.96</td>\n",
       "    </tr>\n",
       "  </tbody>\n",
       "</table>\n",
       "</div>"
      ],
      "text/plain": [
       "   index              Country  Year currency price in currency  \\\n",
       "0      0          Afghanistan  2014      AFN            100.00   \n",
       "1      1              Albania  2014      ALL            270.00   \n",
       "2      2              Algeria  2014      DZD            150.00   \n",
       "3      3               Angola  2014      AOA            200.00   \n",
       "4      4  Antigua and Barbuda  2014      XCD              8.00   \n",
       "\n",
       "  price in international $ price in US$  \n",
       "0                     2.95         1.73  \n",
       "1                     5.23         2.60  \n",
       "2                     2.53         1.91  \n",
       "3                     2.18         2.06  \n",
       "4                     3.99         2.96  "
      ]
     },
     "execution_count": 101,
     "metadata": {},
     "output_type": "execute_result"
    }
   ],
   "source": [
    "tobac_cost.head()"
   ]
  },
  {
   "cell_type": "markdown",
   "metadata": {},
   "source": [
    "# Tobacco Tax\n",
    "\n",
    "Data from [Most Sold Brand Tax](http://apps.who.int/gho/data/node.main.1309?lang=en)\n",
    "\n",
    "We use the **Most sold brand of cigarettes - taxes as a % of price - total tax** column of table.\n"
   ]
  },
  {
   "cell_type": "code",
   "execution_count": 112,
   "metadata": {},
   "outputs": [],
   "source": [
    "tax_cols = ['Most sold brand of cigarettes - taxes as a % of price - total tax', 'Country', 'Year']\n",
    "tax_col_names = {'Most sold brand of cigarettes - taxes as a % of price - total tax': 'Tax'}\n",
    "tax_func_cols = [country_str_strip]"
   ]
  },
  {
   "cell_type": "code",
   "execution_count": 113,
   "metadata": {},
   "outputs": [],
   "source": [
    "tobac_tax = generic_clean(df_raw=tobac_tax_raw,\n",
    "                          columns=tax_cols,\n",
    "                          names_dict=tax_col_names,\n",
    "                          save_path='data/tobac_tax.csv')"
   ]
  },
  {
   "cell_type": "code",
   "execution_count": 114,
   "metadata": {},
   "outputs": [
    {
     "data": {
      "text/html": [
       "<div>\n",
       "<style scoped>\n",
       "    .dataframe tbody tr th:only-of-type {\n",
       "        vertical-align: middle;\n",
       "    }\n",
       "\n",
       "    .dataframe tbody tr th {\n",
       "        vertical-align: top;\n",
       "    }\n",
       "\n",
       "    .dataframe thead th {\n",
       "        text-align: right;\n",
       "    }\n",
       "</style>\n",
       "<table border=\"1\" class=\"dataframe\">\n",
       "  <thead>\n",
       "    <tr style=\"text-align: right;\">\n",
       "      <th></th>\n",
       "      <th>index</th>\n",
       "      <th>Tax</th>\n",
       "      <th>Country</th>\n",
       "      <th>Year</th>\n",
       "    </tr>\n",
       "  </thead>\n",
       "  <tbody>\n",
       "    <tr>\n",
       "      <th>0</th>\n",
       "      <td>0</td>\n",
       "      <td>2.80</td>\n",
       "      <td>Afghanistan</td>\n",
       "      <td>2014</td>\n",
       "    </tr>\n",
       "    <tr>\n",
       "      <th>1</th>\n",
       "      <td>1</td>\n",
       "      <td>2.45</td>\n",
       "      <td>Afghanistan</td>\n",
       "      <td>2012</td>\n",
       "    </tr>\n",
       "    <tr>\n",
       "      <th>2</th>\n",
       "      <td>2</td>\n",
       "      <td>3.60</td>\n",
       "      <td>Afghanistan</td>\n",
       "      <td>2010</td>\n",
       "    </tr>\n",
       "    <tr>\n",
       "      <th>3</th>\n",
       "      <td>3</td>\n",
       "      <td>7.79</td>\n",
       "      <td>Afghanistan</td>\n",
       "      <td>2008</td>\n",
       "    </tr>\n",
       "    <tr>\n",
       "      <th>4</th>\n",
       "      <td>4</td>\n",
       "      <td>64.10</td>\n",
       "      <td>Albania</td>\n",
       "      <td>2014</td>\n",
       "    </tr>\n",
       "  </tbody>\n",
       "</table>\n",
       "</div>"
      ],
      "text/plain": [
       "   index    Tax      Country  Year\n",
       "0      0   2.80  Afghanistan  2014\n",
       "1      1   2.45  Afghanistan  2012\n",
       "2      2   3.60  Afghanistan  2010\n",
       "3      3   7.79  Afghanistan  2008\n",
       "4      4  64.10      Albania  2014"
      ]
     },
     "execution_count": 114,
     "metadata": {},
     "output_type": "execute_result"
    }
   ],
   "source": [
    "tobac_tax.head()"
   ]
  },
  {
   "cell_type": "markdown",
   "metadata": {},
   "source": [
    "# Purchasing power parity (PPP)"
   ]
  },
  {
   "cell_type": "code",
   "execution_count": 156,
   "metadata": {},
   "outputs": [],
   "source": [
    "ppp_cols = ['LOCATION', 'TIME', 'Value']\n",
    "ppp_names_dict = {'LOCATION':'Country', 'TIME':'Year', 'Value': 'PPP'} \n",
    "ppp_func_cols = [country_str_strip]"
   ]
  },
  {
   "cell_type": "code",
   "execution_count": 157,
   "metadata": {},
   "outputs": [],
   "source": [
    "ppp_data = generic_clean(df_raw=ppp_raw, \n",
    "                         columns=ppp_cols,\n",
    "                         names_dict=ppp_names_dict,\n",
    "                         apply_func_cols=ppp_func_cols,\n",
    "                         save_path=\"data/ppp_data.csv\")"
   ]
  },
  {
   "cell_type": "code",
   "execution_count": 155,
   "metadata": {},
   "outputs": [
    {
     "data": {
      "text/html": [
       "<div>\n",
       "<style scoped>\n",
       "    .dataframe tbody tr th:only-of-type {\n",
       "        vertical-align: middle;\n",
       "    }\n",
       "\n",
       "    .dataframe tbody tr th {\n",
       "        vertical-align: top;\n",
       "    }\n",
       "\n",
       "    .dataframe thead th {\n",
       "        text-align: right;\n",
       "    }\n",
       "</style>\n",
       "<table border=\"1\" class=\"dataframe\">\n",
       "  <thead>\n",
       "    <tr style=\"text-align: right;\">\n",
       "      <th></th>\n",
       "      <th>index</th>\n",
       "      <th>Country</th>\n",
       "      <th>Year</th>\n",
       "      <th>PPP</th>\n",
       "    </tr>\n",
       "  </thead>\n",
       "  <tbody>\n",
       "    <tr>\n",
       "      <th>0</th>\n",
       "      <td>0</td>\n",
       "      <td>AUS</td>\n",
       "      <td>1960</td>\n",
       "      <td>0.700946</td>\n",
       "    </tr>\n",
       "    <tr>\n",
       "      <th>1</th>\n",
       "      <td>1</td>\n",
       "      <td>AUS</td>\n",
       "      <td>1961</td>\n",
       "      <td>0.701324</td>\n",
       "    </tr>\n",
       "    <tr>\n",
       "      <th>2</th>\n",
       "      <td>2</td>\n",
       "      <td>AUS</td>\n",
       "      <td>1962</td>\n",
       "      <td>0.687990</td>\n",
       "    </tr>\n",
       "    <tr>\n",
       "      <th>3</th>\n",
       "      <td>3</td>\n",
       "      <td>AUS</td>\n",
       "      <td>1963</td>\n",
       "      <td>0.698321</td>\n",
       "    </tr>\n",
       "    <tr>\n",
       "      <th>4</th>\n",
       "      <td>4</td>\n",
       "      <td>AUS</td>\n",
       "      <td>1964</td>\n",
       "      <td>0.708346</td>\n",
       "    </tr>\n",
       "  </tbody>\n",
       "</table>\n",
       "</div>"
      ],
      "text/plain": [
       "   index Country  Year       PPP\n",
       "0      0     AUS  1960  0.700946\n",
       "1      1     AUS  1961  0.701324\n",
       "2      2     AUS  1962  0.687990\n",
       "3      3     AUS  1963  0.698321\n",
       "4      4     AUS  1964  0.708346"
      ]
     },
     "execution_count": 155,
     "metadata": {},
     "output_type": "execute_result"
    }
   ],
   "source": [
    "ppp_data.head()"
   ]
  },
  {
   "cell_type": "markdown",
   "metadata": {},
   "source": [
    "## APC cleaning"
   ]
  },
  {
   "cell_type": "code",
   "execution_count": 148,
   "metadata": {},
   "outputs": [],
   "source": [
    "apc_cols = ['Country', 'Beverage Types', '2016', '2015', '2014','2013', '2012', '2011', '2010']\n",
    "apc_func_cols = [country_str_strip]"
   ]
  },
  {
   "cell_type": "code",
   "execution_count": 159,
   "metadata": {},
   "outputs": [],
   "source": [
    "apc_data = generic_clean(df_raw=apc_raw,\n",
    "                         columns=apc_cols,\n",
    "                         apply_func_cols=apc_func_cols)"
   ]
  },
  {
   "cell_type": "code",
   "execution_count": 160,
   "metadata": {},
   "outputs": [],
   "source": [
    "beverages = [' Beer', ' Wine', ' Spirits', ' Other alcoholic beverages']\n",
    "apc_data = apc_data[~apc_data['Beverage Types'].isin(beverages)]\n",
    "apc_data = apc_data.drop(['Beverage Types'], axis=1)"
   ]
  },
  {
   "cell_type": "code",
   "execution_count": 161,
   "metadata": {},
   "outputs": [
    {
     "data": {
      "text/html": [
       "<div>\n",
       "<style scoped>\n",
       "    .dataframe tbody tr th:only-of-type {\n",
       "        vertical-align: middle;\n",
       "    }\n",
       "\n",
       "    .dataframe tbody tr th {\n",
       "        vertical-align: top;\n",
       "    }\n",
       "\n",
       "    .dataframe thead th {\n",
       "        text-align: right;\n",
       "    }\n",
       "</style>\n",
       "<table border=\"1\" class=\"dataframe\">\n",
       "  <thead>\n",
       "    <tr style=\"text-align: right;\">\n",
       "      <th></th>\n",
       "      <th>index</th>\n",
       "      <th>Country</th>\n",
       "      <th>2016</th>\n",
       "      <th>2015</th>\n",
       "      <th>2014</th>\n",
       "      <th>2013</th>\n",
       "      <th>2012</th>\n",
       "      <th>2011</th>\n",
       "      <th>2010</th>\n",
       "    </tr>\n",
       "  </thead>\n",
       "  <tbody>\n",
       "    <tr>\n",
       "      <th>0</th>\n",
       "      <td>0</td>\n",
       "      <td>Albania</td>\n",
       "      <td>5.07</td>\n",
       "      <td>4.77</td>\n",
       "      <td>4.81</td>\n",
       "      <td>5.06</td>\n",
       "      <td>5.43</td>\n",
       "      <td>5.65</td>\n",
       "      <td>5.53</td>\n",
       "    </tr>\n",
       "    <tr>\n",
       "      <th>5</th>\n",
       "      <td>5</td>\n",
       "      <td>Algeria</td>\n",
       "      <td>0.56</td>\n",
       "      <td>0.56</td>\n",
       "      <td>0.56</td>\n",
       "      <td>0.54</td>\n",
       "      <td>0.49</td>\n",
       "      <td>0.44</td>\n",
       "      <td>0.39</td>\n",
       "    </tr>\n",
       "    <tr>\n",
       "      <th>10</th>\n",
       "      <td>10</td>\n",
       "      <td>Andorra</td>\n",
       "      <td>10.06</td>\n",
       "      <td>9.97</td>\n",
       "      <td>9.95</td>\n",
       "      <td>9.78</td>\n",
       "      <td>10.06</td>\n",
       "      <td>10.31</td>\n",
       "      <td>10.64</td>\n",
       "    </tr>\n",
       "    <tr>\n",
       "      <th>15</th>\n",
       "      <td>15</td>\n",
       "      <td>Angola</td>\n",
       "      <td>4.70</td>\n",
       "      <td>5.65</td>\n",
       "      <td>9.00</td>\n",
       "      <td>8.02</td>\n",
       "      <td>8.14</td>\n",
       "      <td>7.86</td>\n",
       "      <td>7.67</td>\n",
       "    </tr>\n",
       "    <tr>\n",
       "      <th>20</th>\n",
       "      <td>20</td>\n",
       "      <td>Armenia</td>\n",
       "      <td>3.77</td>\n",
       "      <td>3.84</td>\n",
       "      <td>3.97</td>\n",
       "      <td>3.72</td>\n",
       "      <td>3.84</td>\n",
       "      <td>4.06</td>\n",
       "      <td>4.23</td>\n",
       "    </tr>\n",
       "  </tbody>\n",
       "</table>\n",
       "</div>"
      ],
      "text/plain": [
       "    index  Country   2016  2015  2014  2013   2012   2011   2010\n",
       "0       0  Albania   5.07  4.77  4.81  5.06   5.43   5.65   5.53\n",
       "5       5  Algeria   0.56  0.56  0.56  0.54   0.49   0.44   0.39\n",
       "10     10  Andorra  10.06  9.97  9.95  9.78  10.06  10.31  10.64\n",
       "15     15   Angola   4.70  5.65  9.00  8.02   8.14   7.86   7.67\n",
       "20     20  Armenia   3.77  3.84  3.97  3.72   3.84   4.06   4.23"
      ]
     },
     "execution_count": 161,
     "metadata": {},
     "output_type": "execute_result"
    }
   ],
   "source": [
    "apc_data.head()"
   ]
  },
  {
   "cell_type": "code",
   "execution_count": 152,
   "metadata": {},
   "outputs": [],
   "source": [
    "apc_data.to_csv('data/apc_data.csv', index=False)"
   ]
  },
  {
   "cell_type": "markdown",
   "metadata": {},
   "source": [
    "## Tobac ad cleaning"
   ]
  },
  {
   "cell_type": "code",
   "execution_count": null,
   "metadata": {},
   "outputs": [],
   "source": [
    "# tobac_ad_raw.rename(columns={})"
   ]
  },
  {
   "cell_type": "code",
   "execution_count": null,
   "metadata": {},
   "outputs": [],
   "source": [
    "# tobac_ad_ban = tobac_ad_raw.rename(columns={})"
   ]
  },
  {
   "cell_type": "markdown",
   "metadata": {},
   "source": [
    "## Country data"
   ]
  },
  {
   "cell_type": "code",
   "execution_count": 158,
   "metadata": {},
   "outputs": [],
   "source": [
    "gdp_cols = ['Country', 'Population', 'GDP ($ per capita)']\n",
    "gdp_func_cols = [country_str_strip]"
   ]
  },
  {
   "cell_type": "code",
   "execution_count": 174,
   "metadata": {},
   "outputs": [],
   "source": [
    "gdp_data = generic_clean(df_raw=country_data,\n",
    "                         columns=gdp_cols,\n",
    "                         apply_func_cols=gdp_func_cols,\n",
    "                         save_path=\"data/gdp_data.csv\")"
   ]
  },
  {
   "cell_type": "code",
   "execution_count": 176,
   "metadata": {},
   "outputs": [
    {
     "data": {
      "text/html": [
       "<div>\n",
       "<style scoped>\n",
       "    .dataframe tbody tr th:only-of-type {\n",
       "        vertical-align: middle;\n",
       "    }\n",
       "\n",
       "    .dataframe tbody tr th {\n",
       "        vertical-align: top;\n",
       "    }\n",
       "\n",
       "    .dataframe thead th {\n",
       "        text-align: right;\n",
       "    }\n",
       "</style>\n",
       "<table border=\"1\" class=\"dataframe\">\n",
       "  <thead>\n",
       "    <tr style=\"text-align: right;\">\n",
       "      <th></th>\n",
       "      <th>index</th>\n",
       "      <th>Country</th>\n",
       "      <th>Population</th>\n",
       "      <th>GDP ($ per capita)</th>\n",
       "    </tr>\n",
       "  </thead>\n",
       "  <tbody>\n",
       "    <tr>\n",
       "      <th>0</th>\n",
       "      <td>0</td>\n",
       "      <td>Afghanistan</td>\n",
       "      <td>31056997</td>\n",
       "      <td>700.0</td>\n",
       "    </tr>\n",
       "    <tr>\n",
       "      <th>1</th>\n",
       "      <td>1</td>\n",
       "      <td>Albania</td>\n",
       "      <td>3581655</td>\n",
       "      <td>4500.0</td>\n",
       "    </tr>\n",
       "    <tr>\n",
       "      <th>2</th>\n",
       "      <td>2</td>\n",
       "      <td>Algeria</td>\n",
       "      <td>32930091</td>\n",
       "      <td>6000.0</td>\n",
       "    </tr>\n",
       "    <tr>\n",
       "      <th>3</th>\n",
       "      <td>3</td>\n",
       "      <td>American Samoa</td>\n",
       "      <td>57794</td>\n",
       "      <td>8000.0</td>\n",
       "    </tr>\n",
       "    <tr>\n",
       "      <th>4</th>\n",
       "      <td>4</td>\n",
       "      <td>Andorra</td>\n",
       "      <td>71201</td>\n",
       "      <td>19000.0</td>\n",
       "    </tr>\n",
       "  </tbody>\n",
       "</table>\n",
       "</div>"
      ],
      "text/plain": [
       "   index         Country  Population  GDP ($ per capita)\n",
       "0      0     Afghanistan    31056997               700.0\n",
       "1      1         Albania     3581655              4500.0\n",
       "2      2         Algeria    32930091              6000.0\n",
       "3      3  American Samoa       57794              8000.0\n",
       "4      4         Andorra       71201             19000.0"
      ]
     },
     "execution_count": 176,
     "metadata": {},
     "output_type": "execute_result"
    }
   ],
   "source": [
    "gdp_data.head()"
   ]
  },
  {
   "cell_type": "markdown",
   "metadata": {},
   "source": [
    "## Merging different datasets based on country\n",
    "    \n",
    "    The name of countries are not the same over different datasets.\n",
    "    \n",
    "    - Preparing a list of countries with same names\n",
    "    \n"
   ]
  },
  {
   "cell_type": "markdown",
   "metadata": {},
   "source": [
    "### Unifiying countries name"
   ]
  },
  {
   "cell_type": "code",
   "execution_count": 177,
   "metadata": {},
   "outputs": [],
   "source": [
    "gdp_map_countries = {\"Bolivia\": \"Bolivia (Plurinational State of)\", \n",
    "                     \"Bosnia & Herzegovina\":\"Bosnia and Herzegovina\",\n",
    "                    \"Brunei\": \"Brunei Darussalam\",\n",
    "                    \"Cape Verde\": \"Cabo Verde\",\n",
    "                    \"Czech Republic\": \"Czechia\",\n",
    "                    \"Iran\": \"Iran (Islamic Republic of)\",\n",
    "                    \"United Kingdom\": \"United Kingdom of Great Britain and Northern Ireland\",\n",
    "                    \"United States\": \"United States of America\",\n",
    "                    \"Vietnam\": \"Viet Nam\"}\n",
    "\n",
    "cost_map_countries = {\"Democratic Republic of the Congo\":\"Congo\",}"
   ]
  },
  {
   "cell_type": "code",
   "execution_count": 178,
   "metadata": {},
   "outputs": [],
   "source": [
    "tobac_cost = tobac_cost.replace( {\"Democratic Republic of the Congo\":\"Congo\"})\n",
    "gdp_data = gdp_data.replace(gdp_map_countries)\n",
    "# tobac_cost[tobac_cost['Country']==\"Democratic Republic of the Congo\"]"
   ]
  },
  {
   "cell_type": "code",
   "execution_count": 179,
   "metadata": {},
   "outputs": [
    {
     "name": "stdout",
     "output_type": "stream",
     "text": [
      "Number of countries in tobacco use table: 127\n",
      "Number of countries in tobacco cost table: 172\n",
      "Number of countries in tobacco tax table: 194\n",
      "Number of countries in APC table: 93\n",
      "Number of countries in GDP table: 226\n",
      "Number of countries in PPP table: 57\n"
     ]
    }
   ],
   "source": [
    "cost_countries = tobac_cost['Country'].unique()\n",
    "use_countries = tobac_use['Country'].unique()\n",
    "apc_countries = apc_data['Country'].unique()\n",
    "gdp_countries = gdp_data['Country'].unique()\n",
    "tax_countries = tobac_tax['Country'].unique()\n",
    "ppp_countries = ppp_data['Country'].unique()\n",
    "print(f\"Number of countries in tobacco use table: {len(use_countries)}\")\n",
    "print(f\"Number of countries in tobacco cost table: {len(cost_countries)}\")\n",
    "print(f\"Number of countries in tobacco tax table: {len(tax_countries)}\")\n",
    "print(f\"Number of countries in APC table: {len(apc_countries)}\")\n",
    "print(f\"Number of countries in GDP table: {len(gdp_countries)}\")\n",
    "print(f\"Number of countries in PPP table: {len(ppp_countries)}\")"
   ]
  },
  {
   "cell_type": "code",
   "execution_count": 181,
   "metadata": {},
   "outputs": [
    {
     "name": "stdout",
     "output_type": "stream",
     "text": [
      "Number of countries with same names: 67\n"
     ]
    }
   ],
   "source": [
    "same_countries = reduce(np.intersect1d, (cost_countries, use_countries, apc_countries, gdp_countries, tax_countries)) \n",
    "print(f\"Number of countries with same names: {len(same_countries)}\")"
   ]
  },
  {
   "cell_type": "code",
   "execution_count": 182,
   "metadata": {},
   "outputs": [
    {
     "data": {
      "text/plain": [
       "array(['Albania', 'Armenia', 'Australia', 'Azerbaijan', 'Bahrain',\n",
       "       'Belarus', 'Bolivia (Plurinational State of)',\n",
       "       'Bosnia and Herzegovina', 'Brazil', 'Bulgaria', 'Cambodia',\n",
       "       'Canada', 'China', 'Colombia', 'Costa Rica', 'Croatia', 'Czechia',\n",
       "       'Denmark', 'Dominican Republic', 'Ecuador', 'Egypt', 'Estonia',\n",
       "       'Finland', 'France', 'Georgia', 'Germany', 'Greece', 'Honduras',\n",
       "       'Iceland', 'India', 'Indonesia', 'Ireland', 'Israel', 'Italy',\n",
       "       'Jamaica', 'Jordan', 'Kazakhstan', 'Kyrgyzstan', 'Latvia',\n",
       "       'Lebanon', 'Lithuania', 'Luxembourg', 'Malaysia', 'Malta',\n",
       "       'Mexico', 'Mozambique', 'Norway', 'Oman', 'Pakistan', 'Panama',\n",
       "       'Paraguay', 'Philippines', 'Poland', 'Portugal', 'Serbia',\n",
       "       'Singapore', 'Slovakia', 'Slovenia', 'South Africa', 'Spain',\n",
       "       'Sweden', 'Switzerland', 'Turkey', 'Ukraine',\n",
       "       'United Kingdom of Great Britain and Northern Ireland',\n",
       "       'Uzbekistan', 'Viet Nam'], dtype=object)"
      ]
     },
     "execution_count": 182,
     "metadata": {},
     "output_type": "execute_result"
    }
   ],
   "source": [
    "same_countries"
   ]
  },
  {
   "cell_type": "code",
   "execution_count": 183,
   "metadata": {},
   "outputs": [],
   "source": [
    "cost_diff = cost_countries[np.isin(cost_countries, same_countries, invert=True)]\n",
    "use_diff = use_countries[np.isin(use_countries, same_countries, invert=True)]\n",
    "apc_diff = apc_countries[np.isin(apc_countries, same_countries, invert=True)]\n",
    "gdp_diff = gdp_countries[np.isin(gdp_countries, same_countries, invert=True)]"
   ]
  },
  {
   "cell_type": "code",
   "execution_count": 184,
   "metadata": {},
   "outputs": [],
   "source": [
    "# map_countries = {   \"Bolivia (Plurinational State of)\": \"Bolivia\", \n",
    "#                     \"Brunei Darussalam\":\"Brunei\",\n",
    "#                     \"Iran (Islamic Republic of)\":\"Iran\",\n",
    "# #                     \"United Kingdom\": \"United Kingdom of Great Britain and Northern Ireland\",\n",
    "#                     \"United States of America\":\"United States\",\n",
    "#                     \"Viet Nam\":\"Vietnam\"}"
   ]
  },
  {
   "cell_type": "code",
   "execution_count": 187,
   "metadata": {},
   "outputs": [],
   "source": [
    "tobac_use = tobac_use[ tobac_use['Country'].isin( same_countries)]\n",
    "tobac_cost = tobac_cost[ tobac_cost['Country'].isin( same_countries)]\n",
    "tobac_tax = tobac_tax[tobac_tax['Country'].isin(same_countries)]\n",
    "apc_data = apc_data[ apc_data['Country'].isin( same_countries)]\n",
    "gdp_data = gdp_data[ gdp_data['Country'].isin( same_countries)]"
   ]
  },
  {
   "cell_type": "markdown",
   "metadata": {},
   "source": [
    "### Selecting rows with based on available years"
   ]
  },
  {
   "cell_type": "code",
   "execution_count": 188,
   "metadata": {},
   "outputs": [],
   "source": [
    "use_year = tobac_use['Year'].unique()\n",
    "cost_year = tobac_cost['Year'].unique()\n",
    "tax_year = tobac_tax['Year'].unique()\n",
    "apc_year = ['2016', '2015', '2014', '2013', '2012', '2011', '2010']"
   ]
  },
  {
   "cell_type": "code",
   "execution_count": null,
   "metadata": {},
   "outputs": [],
   "source": [
    "use_year"
   ]
  },
  {
   "cell_type": "code",
   "execution_count": null,
   "metadata": {},
   "outputs": [],
   "source": [
    "cost_year"
   ]
  },
  {
   "cell_type": "code",
   "execution_count": null,
   "metadata": {},
   "outputs": [],
   "source": [
    "tax_year"
   ]
  },
  {
   "cell_type": "code",
   "execution_count": null,
   "metadata": {},
   "outputs": [],
   "source": [
    "# gdp_tobac_use = pd.merge(gdp_data, tobac_use, on='Country') "
   ]
  },
  {
   "cell_type": "code",
   "execution_count": null,
   "metadata": {},
   "outputs": [],
   "source": [
    "# gdp_tobac_use = gdp_tobac_use.rename(columns={\"Male\": \"Male Tobacco Use%\", \"Female\": \"Female Tobacco Use%\"})"
   ]
  },
  {
   "cell_type": "code",
   "execution_count": null,
   "metadata": {},
   "outputs": [],
   "source": [
    "# gdp_tobac_use[gdp_tobac_use['Country']=='Germany'] "
   ]
  },
  {
   "cell_type": "code",
   "execution_count": null,
   "metadata": {},
   "outputs": [],
   "source": [
    "# gdp_tobac_use.plot.scatter(x='GDP ($ per capita)',\n",
    "#                            y='Male Tobacco Use%')"
   ]
  },
  {
   "cell_type": "code",
   "execution_count": null,
   "metadata": {},
   "outputs": [],
   "source": [
    "# Make csv of clean data.\n",
    "# tobac_use.to_csv('data/Clean_Data/cl-tobac-use.csv')\n",
    "# tobac_cost.to_csv('data/Clean_Data/cl-tobac-cost.csv')\n",
    "# gdp_data.to_csv('data/Clean_Data/cl-gdp-data.csv')"
   ]
  },
  {
   "cell_type": "code",
   "execution_count": null,
   "metadata": {},
   "outputs": [],
   "source": []
  }
 ],
 "metadata": {
  "kernelspec": {
   "display_name": "Python 3",
   "language": "python",
   "name": "python3"
  },
  "language_info": {
   "codemirror_mode": {
    "name": "ipython",
    "version": 3
   },
   "file_extension": ".py",
   "mimetype": "text/x-python",
   "name": "python",
   "nbconvert_exporter": "python",
   "pygments_lexer": "ipython3",
   "version": "3.7.5"
  }
 },
 "nbformat": 4,
 "nbformat_minor": 2
}
