{
 "cells": [
  {
   "cell_type": "code",
   "execution_count": 1,
   "metadata": {},
   "outputs": [],
   "source": [
    "import numpy as np\n",
    "import pandas as pd\n",
    "import math\n",
    "from functools import reduce"
   ]
  },
  {
   "cell_type": "markdown",
   "metadata": {},
   "source": [
    "\n",
    "Data source:\n",
    "###  [WHO report on the global tobacco epidemic 2019](https://www.who.int/tobacco/global_report/en/)\n",
    "\n",
    "\n",
    "#TODO link to tobacco use data [Tobacco Use By Country]()\n",
    "\n",
    "#TODO link to [Happiness]()"
   ]
  },
  {
   "cell_type": "code",
   "execution_count": 2,
   "metadata": {},
   "outputs": [],
   "source": [
    "def generic_clean(df_raw, \n",
    "                  columns, \n",
    "                  names_dict=None,\n",
    "                  drop_indices=None,\n",
    "                  apply_func_cols=None,\n",
    "                  save_path=None):\n",
    "    '''\n",
    "    Parameters\n",
    "    ----------\n",
    "    df_raw: pandas.DataFrame\n",
    "        the raw dataframe input\n",
    "    \n",
    "    columns: list\n",
    "        list of columns to keep\n",
    "    \n",
    "    names_dict: dict\n",
    "        dictionary of old_name:new_name to rename column names\n",
    "        \n",
    "    drop_indices: list\n",
    "        list of row indices to be deleted\n",
    "    \n",
    "    func_cols: list\n",
    "        list of (func, cols)\n",
    "        applies the func to the list of columns in cols\n",
    "    \n",
    "    map_func: funtion\n",
    "        the function to be use for dataframe map \n",
    "\n",
    "    save_path: str\n",
    "        path to store the final df\n",
    "    \n",
    "    Returns\n",
    "    -------\n",
    "    pandas.DataFrame\n",
    "            Processed dataframe\n",
    "    '''\n",
    "    \n",
    "    df = df_raw[columns]\n",
    "    if names_dict != None:\n",
    "        df = df.rename(columns=names_dict)\n",
    "\n",
    "    if drop_indices != None:\n",
    "            df.drop(drop_indices, inplace=True)\n",
    "    df = df.dropna()\n",
    "    \n",
    "    if apply_func_cols != None:\n",
    "        for apply_func_col in apply_func_cols:            \n",
    "            func, cols = apply_func_col\n",
    "            for col in cols:\n",
    "                df[col] = df[col].apply(func)           \n",
    "    df.reset_index(inplace=True, drop=True)\n",
    "\n",
    "    if save_path != None:\n",
    "        df.to_csv(save_path, index=False)\n",
    "\n",
    "    return df"
   ]
  },
  {
   "cell_type": "code",
   "execution_count": 3,
   "metadata": {},
   "outputs": [],
   "source": [
    "country_str_strip = (lambda x: x.strip(), ['Country'])"
   ]
  },
  {
   "cell_type": "markdown",
   "metadata": {},
   "source": [
    "## Tobac_use cleaning"
   ]
  },
  {
   "cell_type": "code",
   "execution_count": 4,
   "metadata": {},
   "outputs": [],
   "source": [
    "def split_row(row):\n",
    "    if isinstance(row, str):\n",
    "        return float(row.split()[0])\n",
    "    else:\n",
    "        return row"
   ]
  },
  {
   "cell_type": "code",
   "execution_count": 5,
   "metadata": {},
   "outputs": [],
   "source": [
    "tobac_use_raw = pd.read_csv('data/raw/tobac_use_by_country.csv')\n",
    "tobac_use_cols = list(tobac_use_raw.columns[1:])\n",
    "tobac_use_names = {\"Male\": \"Tobac_Use_M\", \"Female\": \"Tobac_Use_F\"}\n",
    "use_func_cols = [(split_row, [\"Tobac_Use_M\", \"Tobac_Use_F\"]), country_str_strip]\n",
    "drop_indices_use = list(tobac_use_raw[tobac_use_raw['Year']!=2015].index)"
   ]
  },
  {
   "cell_type": "code",
   "execution_count": 6,
   "metadata": {},
   "outputs": [],
   "source": [
    "tobac_use = generic_clean(df_raw=tobac_use_raw,\n",
    "             columns=tobac_use_cols,\n",
    "             names_dict=tobac_use_names,\n",
    "             drop_indices=drop_indices_use,\n",
    "             apply_func_cols=use_func_cols,\n",
    "             save_path='data/clean/tobac_use_by_country.csv')"
   ]
  },
  {
   "cell_type": "code",
   "execution_count": 7,
   "metadata": {},
   "outputs": [
    {
     "data": {
      "text/html": [
       "<div>\n",
       "<style scoped>\n",
       "    .dataframe tbody tr th:only-of-type {\n",
       "        vertical-align: middle;\n",
       "    }\n",
       "\n",
       "    .dataframe tbody tr th {\n",
       "        vertical-align: top;\n",
       "    }\n",
       "\n",
       "    .dataframe thead th {\n",
       "        text-align: right;\n",
       "    }\n",
       "</style>\n",
       "<table border=\"1\" class=\"dataframe\">\n",
       "  <thead>\n",
       "    <tr style=\"text-align: right;\">\n",
       "      <th></th>\n",
       "      <th>Country</th>\n",
       "      <th>Year</th>\n",
       "      <th>Tobac_Use_M</th>\n",
       "      <th>Tobac_Use_F</th>\n",
       "    </tr>\n",
       "  </thead>\n",
       "  <tbody>\n",
       "    <tr>\n",
       "      <th>0</th>\n",
       "      <td>Albania</td>\n",
       "      <td>2015</td>\n",
       "      <td>51.2</td>\n",
       "      <td>7.6</td>\n",
       "    </tr>\n",
       "    <tr>\n",
       "      <th>1</th>\n",
       "      <td>Andorra</td>\n",
       "      <td>2015</td>\n",
       "      <td>37.2</td>\n",
       "      <td>27.8</td>\n",
       "    </tr>\n",
       "    <tr>\n",
       "      <th>2</th>\n",
       "      <td>Argentina</td>\n",
       "      <td>2015</td>\n",
       "      <td>29.5</td>\n",
       "      <td>18.4</td>\n",
       "    </tr>\n",
       "    <tr>\n",
       "      <th>3</th>\n",
       "      <td>Armenia</td>\n",
       "      <td>2015</td>\n",
       "      <td>52.3</td>\n",
       "      <td>1.5</td>\n",
       "    </tr>\n",
       "    <tr>\n",
       "      <th>4</th>\n",
       "      <td>Australia</td>\n",
       "      <td>2015</td>\n",
       "      <td>16.7</td>\n",
       "      <td>13.1</td>\n",
       "    </tr>\n",
       "  </tbody>\n",
       "</table>\n",
       "</div>"
      ],
      "text/plain": [
       "     Country  Year  Tobac_Use_M  Tobac_Use_F\n",
       "0    Albania  2015         51.2          7.6\n",
       "1    Andorra  2015         37.2         27.8\n",
       "2  Argentina  2015         29.5         18.4\n",
       "3    Armenia  2015         52.3          1.5\n",
       "4  Australia  2015         16.7         13.1"
      ]
     },
     "execution_count": 7,
     "metadata": {},
     "output_type": "execute_result"
    }
   ],
   "source": [
    "tobac_use.head()"
   ]
  },
  {
   "cell_type": "markdown",
   "metadata": {},
   "source": [
    "# Tobacco Tax"
   ]
  },
  {
   "cell_type": "code",
   "execution_count": 8,
   "metadata": {},
   "outputs": [],
   "source": [
    "def extract_precent(row):\n",
    "    if isinstance(row, str):\n",
    "        return float(row[:-1])\n",
    "    else:\n",
    "        return row"
   ]
  },
  {
   "cell_type": "code",
   "execution_count": 9,
   "metadata": {},
   "outputs": [],
   "source": [
    "tax_raw = pd.read_csv('data/raw/Taxes-and-retail-price-for-a-pack-of-20-cigarette-most-sold-brand.csv')\n",
    "tax_cols = ['2016', '2014', 'COUNTRY']\n",
    "not_avail = tax_raw[tax_raw[tax_cols].eq('. . .').any(axis=1)]\n",
    "no_data = tax_raw[tax_raw[tax_cols].eq('—').any(axis=1)]\n",
    "drop_indices_tax = list(not_avail.index)\n",
    "drop_indices_tax.extend(list(no_data.index))\n",
    "tax_col_names = {'COUNTRY': 'Country'}\n",
    "tax_func_cols = [country_str_strip, (extract_precent, tax_cols[:-1])]"
   ]
  },
  {
   "cell_type": "code",
   "execution_count": 10,
   "metadata": {},
   "outputs": [],
   "source": [
    "tax_data = generic_clean(df_raw=tax_raw,\n",
    "                          columns=tax_cols,\n",
    "                          drop_indices=drop_indices_tax,\n",
    "                          apply_func_cols=tax_func_cols,\n",
    "                          names_dict=tax_col_names)"
   ]
  },
  {
   "cell_type": "code",
   "execution_count": 11,
   "metadata": {},
   "outputs": [],
   "source": [
    "tax_data['Tax_2015'] = (tax_data['2016'] + tax_data['2014'])/2\n",
    "tobac_tax = tax_data[['Country', 'Tax_2015']]"
   ]
  },
  {
   "cell_type": "code",
   "execution_count": 12,
   "metadata": {},
   "outputs": [],
   "source": [
    "tobac_tax.to_csv(\"data/clean/tobac_tax_2015.csv\", index=False)"
   ]
  },
  {
   "cell_type": "code",
   "execution_count": 13,
   "metadata": {},
   "outputs": [
    {
     "data": {
      "text/html": [
       "<div>\n",
       "<style scoped>\n",
       "    .dataframe tbody tr th:only-of-type {\n",
       "        vertical-align: middle;\n",
       "    }\n",
       "\n",
       "    .dataframe tbody tr th {\n",
       "        vertical-align: top;\n",
       "    }\n",
       "\n",
       "    .dataframe thead th {\n",
       "        text-align: right;\n",
       "    }\n",
       "</style>\n",
       "<table border=\"1\" class=\"dataframe\">\n",
       "  <thead>\n",
       "    <tr style=\"text-align: right;\">\n",
       "      <th></th>\n",
       "      <th>Country</th>\n",
       "      <th>Tax_2015</th>\n",
       "    </tr>\n",
       "  </thead>\n",
       "  <tbody>\n",
       "    <tr>\n",
       "      <th>0</th>\n",
       "      <td>Afghanistan</td>\n",
       "      <td>3.425</td>\n",
       "    </tr>\n",
       "    <tr>\n",
       "      <th>1</th>\n",
       "      <td>Albania</td>\n",
       "      <td>65.195</td>\n",
       "    </tr>\n",
       "    <tr>\n",
       "      <th>2</th>\n",
       "      <td>Algeria</td>\n",
       "      <td>36.135</td>\n",
       "    </tr>\n",
       "    <tr>\n",
       "      <th>3</th>\n",
       "      <td>Andorra</td>\n",
       "      <td>71.350</td>\n",
       "    </tr>\n",
       "    <tr>\n",
       "      <th>4</th>\n",
       "      <td>Antigua and Barbuda</td>\n",
       "      <td>15.050</td>\n",
       "    </tr>\n",
       "  </tbody>\n",
       "</table>\n",
       "</div>"
      ],
      "text/plain": [
       "               Country  Tax_2015\n",
       "0          Afghanistan     3.425\n",
       "1              Albania    65.195\n",
       "2              Algeria    36.135\n",
       "3              Andorra    71.350\n",
       "4  Antigua and Barbuda    15.050"
      ]
     },
     "execution_count": 13,
     "metadata": {},
     "output_type": "execute_result"
    }
   ],
   "source": [
    "tobac_tax.head()"
   ]
  },
  {
   "cell_type": "markdown",
   "metadata": {},
   "source": [
    "## Happiness"
   ]
  },
  {
   "cell_type": "code",
   "execution_count": 14,
   "metadata": {},
   "outputs": [],
   "source": [
    "happiness_raw = pd.read_csv('data/raw/happiness/world-happiness/2015.csv')\n",
    "happiness_cols = ['Country', 'Happiness Score']\n",
    "happiness_names = {\"Happiness Score\": \"Happiness_Score\"}\n",
    "happiness_func_cols = [country_str_strip]"
   ]
  },
  {
   "cell_type": "code",
   "execution_count": 15,
   "metadata": {},
   "outputs": [],
   "source": [
    "happiness_data = generic_clean(df_raw=happiness_raw, \n",
    "                         columns=happiness_cols, \n",
    "                         names_dict=happiness_names,\n",
    "                         apply_func_cols=happiness_func_cols,\n",
    "                         save_path=\"data/clean/happiness_2015.csv\")"
   ]
  },
  {
   "cell_type": "code",
   "execution_count": 16,
   "metadata": {},
   "outputs": [
    {
     "data": {
      "text/html": [
       "<div>\n",
       "<style scoped>\n",
       "    .dataframe tbody tr th:only-of-type {\n",
       "        vertical-align: middle;\n",
       "    }\n",
       "\n",
       "    .dataframe tbody tr th {\n",
       "        vertical-align: top;\n",
       "    }\n",
       "\n",
       "    .dataframe thead th {\n",
       "        text-align: right;\n",
       "    }\n",
       "</style>\n",
       "<table border=\"1\" class=\"dataframe\">\n",
       "  <thead>\n",
       "    <tr style=\"text-align: right;\">\n",
       "      <th></th>\n",
       "      <th>Country</th>\n",
       "      <th>Happiness_Score</th>\n",
       "    </tr>\n",
       "  </thead>\n",
       "  <tbody>\n",
       "    <tr>\n",
       "      <th>0</th>\n",
       "      <td>Switzerland</td>\n",
       "      <td>7.587</td>\n",
       "    </tr>\n",
       "    <tr>\n",
       "      <th>1</th>\n",
       "      <td>Iceland</td>\n",
       "      <td>7.561</td>\n",
       "    </tr>\n",
       "    <tr>\n",
       "      <th>2</th>\n",
       "      <td>Denmark</td>\n",
       "      <td>7.527</td>\n",
       "    </tr>\n",
       "    <tr>\n",
       "      <th>3</th>\n",
       "      <td>Norway</td>\n",
       "      <td>7.522</td>\n",
       "    </tr>\n",
       "    <tr>\n",
       "      <th>4</th>\n",
       "      <td>Canada</td>\n",
       "      <td>7.427</td>\n",
       "    </tr>\n",
       "  </tbody>\n",
       "</table>\n",
       "</div>"
      ],
      "text/plain": [
       "       Country  Happiness_Score\n",
       "0  Switzerland            7.587\n",
       "1      Iceland            7.561\n",
       "2      Denmark            7.527\n",
       "3       Norway            7.522\n",
       "4       Canada            7.427"
      ]
     },
     "execution_count": 16,
     "metadata": {},
     "output_type": "execute_result"
    }
   ],
   "source": [
    "happiness_data.head()"
   ]
  },
  {
   "cell_type": "markdown",
   "metadata": {},
   "source": [
    "## Affordability"
   ]
  },
  {
   "cell_type": "code",
   "execution_count": 17,
   "metadata": {},
   "outputs": [
    {
     "data": {
      "text/html": [
       "<div>\n",
       "<style scoped>\n",
       "    .dataframe tbody tr th:only-of-type {\n",
       "        vertical-align: middle;\n",
       "    }\n",
       "\n",
       "    .dataframe tbody tr th {\n",
       "        vertical-align: top;\n",
       "    }\n",
       "\n",
       "    .dataframe thead th {\n",
       "        text-align: right;\n",
       "    }\n",
       "</style>\n",
       "<table border=\"1\" class=\"dataframe\">\n",
       "  <thead>\n",
       "    <tr style=\"text-align: right;\">\n",
       "      <th></th>\n",
       "      <th>COUNTRY</th>\n",
       "      <th>2008</th>\n",
       "      <th>2010</th>\n",
       "      <th>2012</th>\n",
       "      <th>2014</th>\n",
       "      <th>2016</th>\n",
       "      <th>2018</th>\n",
       "      <th>TREND GROWTH RATE IN AFFORDABILITY</th>\n",
       "      <th>Unnamed: 8</th>\n",
       "      <th>CIGARETTES LESS AFFORDABLE SINCE 2008 +++</th>\n",
       "      <th>CIGARETTES LESS AFFORDABLE IN 2018 THAN IN 2016</th>\n",
       "      <th>Unnamed: 11</th>\n",
       "    </tr>\n",
       "  </thead>\n",
       "  <tbody>\n",
       "    <tr>\n",
       "      <th>0</th>\n",
       "      <td>Afghanistan</td>\n",
       "      <td>NaN</td>\n",
       "      <td>4.48%</td>\n",
       "      <td>4.05%</td>\n",
       "      <td>4.45%</td>\n",
       "      <td>5.54%</td>\n",
       "      <td>7.89%</td>\n",
       "      <td>7.44%</td>\n",
       "      <td>6.79%</td>\n",
       "      <td>**</td>\n",
       "      <td>Yes</td>\n",
       "      <td>No*</td>\n",
       "    </tr>\n",
       "    <tr>\n",
       "      <th>1</th>\n",
       "      <td>Albania</td>\n",
       "      <td>NaN</td>\n",
       "      <td>3.55%</td>\n",
       "      <td>3.52%</td>\n",
       "      <td>3.70%</td>\n",
       "      <td>4.14%</td>\n",
       "      <td>4.48%</td>\n",
       "      <td>4.17%</td>\n",
       "      <td>2.35%</td>\n",
       "      <td>**</td>\n",
       "      <td>Yes</td>\n",
       "      <td>No*</td>\n",
       "    </tr>\n",
       "    <tr>\n",
       "      <th>2</th>\n",
       "      <td>Algeria</td>\n",
       "      <td>NaN</td>\n",
       "      <td>2.19%</td>\n",
       "      <td>2.55%</td>\n",
       "      <td>1.97%</td>\n",
       "      <td>3.41%</td>\n",
       "      <td>4.88%</td>\n",
       "      <td>5.99%</td>\n",
       "      <td>10.74%</td>\n",
       "      <td>**</td>\n",
       "      <td>Yes</td>\n",
       "      <td>Yes</td>\n",
       "    </tr>\n",
       "    <tr>\n",
       "      <th>3</th>\n",
       "      <td>Andorra</td>\n",
       "      <td>NaN</td>\n",
       "      <td>. . .</td>\n",
       "      <td>0.80%</td>\n",
       "      <td>1.04%</td>\n",
       "      <td>1.10%</td>\n",
       "      <td>1.04%</td>\n",
       "      <td>. . .</td>\n",
       "      <td>. . .</td>\n",
       "      <td>NaN</td>\n",
       "      <td>. . .</td>\n",
       "      <td>. . .</td>\n",
       "    </tr>\n",
       "    <tr>\n",
       "      <th>4</th>\n",
       "      <td>Angola</td>\n",
       "      <td>NaN</td>\n",
       "      <td>1.63%</td>\n",
       "      <td>. . .</td>\n",
       "      <td>3.00%</td>\n",
       "      <td>3.62%</td>\n",
       "      <td>. . .</td>\n",
       "      <td>4.66%</td>\n",
       "      <td>10.44%</td>\n",
       "      <td>**</td>\n",
       "      <td>Yes</td>\n",
       "      <td>. . .</td>\n",
       "    </tr>\n",
       "  </tbody>\n",
       "</table>\n",
       "</div>"
      ],
      "text/plain": [
       "       COUNTRY 2008   2010   2012   2014   2016   2018  \\\n",
       "0  Afghanistan  NaN  4.48%  4.05%  4.45%  5.54%  7.89%   \n",
       "1      Albania  NaN  3.55%  3.52%  3.70%  4.14%  4.48%   \n",
       "2      Algeria  NaN  2.19%  2.55%  1.97%  3.41%  4.88%   \n",
       "3      Andorra  NaN  . . .  0.80%  1.04%  1.10%  1.04%   \n",
       "4       Angola  NaN  1.63%  . . .  3.00%  3.62%  . . .   \n",
       "\n",
       "  TREND GROWTH RATE IN AFFORDABILITY Unnamed: 8  \\\n",
       "0                              7.44%      6.79%   \n",
       "1                              4.17%      2.35%   \n",
       "2                              5.99%     10.74%   \n",
       "3                              . . .      . . .   \n",
       "4                              4.66%     10.44%   \n",
       "\n",
       "  CIGARETTES LESS AFFORDABLE SINCE 2008 +++  \\\n",
       "0                                        **   \n",
       "1                                        **   \n",
       "2                                        **   \n",
       "3                                       NaN   \n",
       "4                                        **   \n",
       "\n",
       "  CIGARETTES LESS AFFORDABLE IN 2018 THAN IN 2016 Unnamed: 11  \n",
       "0                                             Yes         No*  \n",
       "1                                             Yes         No*  \n",
       "2                                             Yes         Yes  \n",
       "3                                           . . .       . . .  \n",
       "4                                             Yes       . . .  "
      ]
     },
     "execution_count": 17,
     "metadata": {},
     "output_type": "execute_result"
    }
   ],
   "source": [
    "afford_raw = pd.read_csv('data/raw/Affordability.csv')\n",
    "afford_raw.head()"
   ]
  },
  {
   "cell_type": "code",
   "execution_count": 18,
   "metadata": {},
   "outputs": [],
   "source": [
    "afford_cols = ['2016', '2014', 'COUNTRY']\n",
    "not_avail = afford_raw[afford_raw[afford_cols].eq('. . .').any(axis=1)]\n",
    "no_data = afford_raw[afford_raw[afford_cols].eq('—').any(axis=1)]\n",
    "drop_indices_afford = list(not_avail.index)\n",
    "drop_indices_afford.extend(list(no_data.index))\n",
    "afford_col_names = {'COUNTRY': 'Country'}\n",
    "afford_func_cols = [country_str_strip, (extract_precent, afford_cols[:-1])]"
   ]
  },
  {
   "cell_type": "code",
   "execution_count": 19,
   "metadata": {},
   "outputs": [],
   "source": [
    "afford_data = generic_clean(df_raw=afford_raw,\n",
    "                         columns=afford_cols,\n",
    "                         names_dict=afford_col_names,\n",
    "                         drop_indices=drop_indices_afford,\n",
    "                         apply_func_cols=afford_func_cols)\n",
    "afford_data['Afford_2015'] = (afford_data['2016'] + afford_data['2014'])/2\n",
    "afford_data = afford_data[['Country', 'Afford_2015']]"
   ]
  },
  {
   "cell_type": "code",
   "execution_count": 20,
   "metadata": {},
   "outputs": [],
   "source": [
    "afford_data.to_csv(\"data/clean/affordability_2015.csv\", index=False)"
   ]
  },
  {
   "cell_type": "code",
   "execution_count": 21,
   "metadata": {},
   "outputs": [
    {
     "data": {
      "text/html": [
       "<div>\n",
       "<style scoped>\n",
       "    .dataframe tbody tr th:only-of-type {\n",
       "        vertical-align: middle;\n",
       "    }\n",
       "\n",
       "    .dataframe tbody tr th {\n",
       "        vertical-align: top;\n",
       "    }\n",
       "\n",
       "    .dataframe thead th {\n",
       "        text-align: right;\n",
       "    }\n",
       "</style>\n",
       "<table border=\"1\" class=\"dataframe\">\n",
       "  <thead>\n",
       "    <tr style=\"text-align: right;\">\n",
       "      <th></th>\n",
       "      <th>Country</th>\n",
       "      <th>Afford_2015</th>\n",
       "    </tr>\n",
       "  </thead>\n",
       "  <tbody>\n",
       "    <tr>\n",
       "      <th>0</th>\n",
       "      <td>Afghanistan</td>\n",
       "      <td>4.995</td>\n",
       "    </tr>\n",
       "    <tr>\n",
       "      <th>1</th>\n",
       "      <td>Albania</td>\n",
       "      <td>3.920</td>\n",
       "    </tr>\n",
       "    <tr>\n",
       "      <th>2</th>\n",
       "      <td>Algeria</td>\n",
       "      <td>2.690</td>\n",
       "    </tr>\n",
       "    <tr>\n",
       "      <th>3</th>\n",
       "      <td>Andorra</td>\n",
       "      <td>1.070</td>\n",
       "    </tr>\n",
       "    <tr>\n",
       "      <th>4</th>\n",
       "      <td>Angola</td>\n",
       "      <td>3.310</td>\n",
       "    </tr>\n",
       "  </tbody>\n",
       "</table>\n",
       "</div>"
      ],
      "text/plain": [
       "       Country  Afford_2015\n",
       "0  Afghanistan        4.995\n",
       "1      Albania        3.920\n",
       "2      Algeria        2.690\n",
       "3      Andorra        1.070\n",
       "4       Angola        3.310"
      ]
     },
     "execution_count": 21,
     "metadata": {},
     "output_type": "execute_result"
    }
   ],
   "source": [
    "afford_data.head()"
   ]
  },
  {
   "cell_type": "markdown",
   "metadata": {},
   "source": [
    "## Nominal Data"
   ]
  },
  {
   "cell_type": "code",
   "execution_count": 22,
   "metadata": {},
   "outputs": [],
   "source": [
    "ads_ban_dir = pd.read_csv('data/clean/Bans-on-direct-advertising.csv')\n",
    "ads_ban_indir = pd.read_csv('data/clean/Bans-on-indirect-advertising.csv')\n",
    "add_ads_ban_indir = pd.read_csv('data/clean/Additional-bans-on-indirect-advertising.csv')\n",
    "health_warn = pd.read_csv('data/clean/Characteristics-of-health-warnings-on-cigarette-packages.csv')\n",
    "smokefree_places = pd.read_csv('data/clean/Public-places-with-smoke-free-legislation.csv')"
   ]
  },
  {
   "cell_type": "markdown",
   "metadata": {},
   "source": [
    "## Merging different datasets based on country\n",
    "    \n",
    "    The name of countries are not the same over different datasets.\n",
    "    \n",
    "    - Preparing a list of countries with same names\n",
    "    \n"
   ]
  },
  {
   "cell_type": "markdown",
   "metadata": {},
   "source": [
    "### Unifiying countries name"
   ]
  },
  {
   "cell_type": "code",
   "execution_count": 23,
   "metadata": {},
   "outputs": [],
   "source": [
    "happiness_map_countries = {\"Bolivia\": \"Bolivia (Plurinational State of)\", \n",
    "                     \"Bosnia & Herzegovina\":\"Bosnia and Herzegovina\",\n",
    "                    \"Brunei\": \"Brunei Darussalam\",\n",
    "                    \"Cape Verde\": \"Cabo Verde\",\n",
    "                    \"Czech Republic\": \"Czechia\",\n",
    "                    \"Iran\": \"Iran (Islamic Republic of)\",\n",
    "                    \"United Kingdom\": \"United Kingdom of Great Britain and Northern Ireland\",\n",
    "                    \"United States\": \"United States of America\",\n",
    "                    \"Vietnam\": \"Viet Nam\"}\n",
    "\n",
    "# cost_map_countries = {\"Democratic Republic of the Congo\":\"Congo\",}"
   ]
  },
  {
   "cell_type": "code",
   "execution_count": 24,
   "metadata": {},
   "outputs": [],
   "source": [
    "happiness_data = happiness_data.replace(happiness_map_countries)\n",
    "# tobac_cost[tobac_cost['Country']==\"Democratic Republic of the Congo\"]"
   ]
  },
  {
   "cell_type": "code",
   "execution_count": 25,
   "metadata": {},
   "outputs": [
    {
     "name": "stdout",
     "output_type": "stream",
     "text": [
      "Number of countries in tobacco use table: 127\n",
      "Number of countries in tobacco tax table: 182\n",
      "Number of countries in happiness table: 158\n",
      "Number of countries in afford table: 181\n",
      "Number of countries in ads_dir table: 195\n",
      "Number of countries in health warn table: 194\n",
      "Number of countries in smokefree places table: 195\n"
     ]
    }
   ],
   "source": [
    "use_countries = tobac_use['Country'].unique()\n",
    "tax_countries = tobac_tax['Country'].unique()\n",
    "happiness_countries = happiness_data['Country'].unique()\n",
    "afford_countries = afford_data['Country'].unique()\n",
    "ads_dir_countries = ads_ban_dir['Country'].unique()\n",
    "ads_indr_countries = ads_ban_indir['Country'].unique()\n",
    "ads_add_countries = add_ads_ban_indir['Country'].unique()\n",
    "health_countries = health_warn['Country'].unique()\n",
    "smokefree_countries = smokefree_places['Country'].unique()\n",
    "\n",
    "print(f\"Number of countries in tobacco use table: {len(use_countries)}\")\n",
    "print(f\"Number of countries in tobacco tax table: {len(tax_countries)}\")\n",
    "print(f\"Number of countries in happiness table: {len(happiness_countries)}\")\n",
    "print(f\"Number of countries in afford table: {len(afford_countries)}\")\n",
    "print(f\"Number of countries in ads_dir table: {len(ads_dir_countries)}\")\n",
    "print(f\"Number of countries in health warn table: {len(health_countries)}\")\n",
    "print(f\"Number of countries in smokefree places table: {len(smokefree_countries)}\")"
   ]
  },
  {
   "cell_type": "code",
   "execution_count": 26,
   "metadata": {},
   "outputs": [
    {
     "name": "stdout",
     "output_type": "stream",
     "text": [
      "Number of countries with same names: 103\n"
     ]
    }
   ],
   "source": [
    "\n",
    "same_countries = reduce(np.intersect1d, (use_countries,\n",
    "                                         tax_countries,\n",
    "                                         happiness_countries, \n",
    "                                         afford_countries,\n",
    "                                         ads_dir_countries, \n",
    "                                         ads_indr_countries, \n",
    "                                         ads_indr_countries, \n",
    "                                         health_countries, \n",
    "                                         smokefree_countries)) \n",
    "print(f\"Number of countries with same names: {len(same_countries)}\")"
   ]
  },
  {
   "cell_type": "code",
   "execution_count": 27,
   "metadata": {},
   "outputs": [
    {
     "data": {
      "text/plain": [
       "array(['Albania', 'Argentina', 'Armenia', 'Australia', 'Austria',\n",
       "       'Azerbaijan', 'Bahrain', 'Bangladesh', 'Belarus', 'Belgium',\n",
       "       'Benin', 'Bosnia and Herzegovina', 'Brazil', 'Bulgaria',\n",
       "       'Burkina Faso', 'Cambodia', 'Cameroon', 'Canada', 'Chile', 'China',\n",
       "       'Colombia', 'Comoros', 'Costa Rica', 'Croatia', 'Czechia',\n",
       "       'Denmark', 'Dominican Republic', 'Ecuador', 'Egypt', 'Estonia',\n",
       "       'Ethiopia', 'Finland', 'France', 'Georgia', 'Germany', 'Ghana',\n",
       "       'Greece', 'Honduras', 'Hungary', 'Iceland', 'India', 'Indonesia',\n",
       "       'Iran (Islamic Republic of)', 'Ireland', 'Israel', 'Italy',\n",
       "       'Jamaica', 'Japan', 'Jordan', 'Kazakhstan', 'Kenya', 'Kyrgyzstan',\n",
       "       'Latvia', 'Lebanon', 'Liberia', 'Lithuania', 'Luxembourg',\n",
       "       'Malaysia', 'Mali', 'Malta', 'Mauritania', 'Mauritius', 'Mexico',\n",
       "       'Mongolia', 'Morocco', 'Mozambique', 'Myanmar', 'Nepal',\n",
       "       'Netherlands', 'Niger', 'Nigeria', 'Norway', 'Oman', 'Pakistan',\n",
       "       'Panama', 'Paraguay', 'Philippines', 'Poland', 'Portugal',\n",
       "       'Romania', 'Saudi Arabia', 'Senegal', 'Serbia', 'Sierra Leone',\n",
       "       'Singapore', 'Slovakia', 'Slovenia', 'South Africa', 'Spain',\n",
       "       'Sri Lanka', 'Sweden', 'Switzerland', 'Thailand', 'Turkey',\n",
       "       'Uganda', 'Ukraine',\n",
       "       'United Kingdom of Great Britain and Northern Ireland',\n",
       "       'United States of America', 'Uruguay', 'Uzbekistan', 'Viet Nam',\n",
       "       'Zambia', 'Zimbabwe'], dtype=object)"
      ]
     },
     "execution_count": 27,
     "metadata": {},
     "output_type": "execute_result"
    }
   ],
   "source": [
    "same_countries"
   ]
  },
  {
   "cell_type": "code",
   "execution_count": 28,
   "metadata": {},
   "outputs": [],
   "source": [
    "df_list = [tobac_use, \n",
    "           tobac_tax, \n",
    "           happiness_data, \n",
    "           afford_data, \n",
    "           ads_ban_dir, \n",
    "           ads_ban_indir, \n",
    "           add_ads_ban_indir, \n",
    "           health_warn, \n",
    "           smokefree_places]"
   ]
  },
  {
   "cell_type": "code",
   "execution_count": 31,
   "metadata": {},
   "outputs": [],
   "source": [
    "tobacco_data = reduce(lambda  left,right: pd.merge(left,right,on=['Country']), df_list)"
   ]
  },
  {
   "cell_type": "code",
   "execution_count": 32,
   "metadata": {},
   "outputs": [
    {
     "data": {
      "text/html": [
       "<div>\n",
       "<style scoped>\n",
       "    .dataframe tbody tr th:only-of-type {\n",
       "        vertical-align: middle;\n",
       "    }\n",
       "\n",
       "    .dataframe tbody tr th {\n",
       "        vertical-align: top;\n",
       "    }\n",
       "\n",
       "    .dataframe thead th {\n",
       "        text-align: right;\n",
       "    }\n",
       "</style>\n",
       "<table border=\"1\" class=\"dataframe\">\n",
       "  <thead>\n",
       "    <tr style=\"text-align: right;\">\n",
       "      <th></th>\n",
       "      <th>Country</th>\n",
       "      <th>Year</th>\n",
       "      <th>Tobac_Use_M</th>\n",
       "      <th>Tobac_Use_F</th>\n",
       "      <th>Tax_2015</th>\n",
       "      <th>Happiness_Score</th>\n",
       "      <th>Afford_2015</th>\n",
       "      <th>Ban_Score_Dir_Ads</th>\n",
       "      <th>Ban_Score_Indr_Ads</th>\n",
       "      <th>Ban_Score_add_indir_ads</th>\n",
       "      <th>Warn_Score</th>\n",
       "      <th>Ban_Score_places</th>\n",
       "    </tr>\n",
       "  </thead>\n",
       "  <tbody>\n",
       "    <tr>\n",
       "      <th>0</th>\n",
       "      <td>Albania</td>\n",
       "      <td>2015</td>\n",
       "      <td>51.2</td>\n",
       "      <td>7.6</td>\n",
       "      <td>65.195</td>\n",
       "      <td>4.959</td>\n",
       "      <td>3.920</td>\n",
       "      <td>8</td>\n",
       "      <td>8</td>\n",
       "      <td>3</td>\n",
       "      <td>50</td>\n",
       "      <td>8</td>\n",
       "    </tr>\n",
       "    <tr>\n",
       "      <th>1</th>\n",
       "      <td>Argentina</td>\n",
       "      <td>2015</td>\n",
       "      <td>29.5</td>\n",
       "      <td>18.4</td>\n",
       "      <td>75.045</td>\n",
       "      <td>6.574</td>\n",
       "      <td>1.310</td>\n",
       "      <td>7</td>\n",
       "      <td>10</td>\n",
       "      <td>5</td>\n",
       "      <td>50</td>\n",
       "      <td>8</td>\n",
       "    </tr>\n",
       "    <tr>\n",
       "      <th>2</th>\n",
       "      <td>Armenia</td>\n",
       "      <td>2015</td>\n",
       "      <td>52.3</td>\n",
       "      <td>1.5</td>\n",
       "      <td>34.165</td>\n",
       "      <td>4.350</td>\n",
       "      <td>3.945</td>\n",
       "      <td>5</td>\n",
       "      <td>2</td>\n",
       "      <td>0</td>\n",
       "      <td>50</td>\n",
       "      <td>3</td>\n",
       "    </tr>\n",
       "    <tr>\n",
       "      <th>3</th>\n",
       "      <td>Australia</td>\n",
       "      <td>2015</td>\n",
       "      <td>16.7</td>\n",
       "      <td>13.1</td>\n",
       "      <td>58.515</td>\n",
       "      <td>7.284</td>\n",
       "      <td>2.285</td>\n",
       "      <td>6</td>\n",
       "      <td>2</td>\n",
       "      <td>0</td>\n",
       "      <td>83</td>\n",
       "      <td>6</td>\n",
       "    </tr>\n",
       "    <tr>\n",
       "      <th>4</th>\n",
       "      <td>Austria</td>\n",
       "      <td>2015</td>\n",
       "      <td>35.5</td>\n",
       "      <td>34.8</td>\n",
       "      <td>74.835</td>\n",
       "      <td>7.200</td>\n",
       "      <td>1.225</td>\n",
       "      <td>7</td>\n",
       "      <td>8</td>\n",
       "      <td>5</td>\n",
       "      <td>65</td>\n",
       "      <td>2</td>\n",
       "    </tr>\n",
       "  </tbody>\n",
       "</table>\n",
       "</div>"
      ],
      "text/plain": [
       "     Country  Year  Tobac_Use_M  Tobac_Use_F  Tax_2015  Happiness_Score  \\\n",
       "0    Albania  2015         51.2          7.6    65.195            4.959   \n",
       "1  Argentina  2015         29.5         18.4    75.045            6.574   \n",
       "2    Armenia  2015         52.3          1.5    34.165            4.350   \n",
       "3  Australia  2015         16.7         13.1    58.515            7.284   \n",
       "4    Austria  2015         35.5         34.8    74.835            7.200   \n",
       "\n",
       "   Afford_2015  Ban_Score_Dir_Ads  Ban_Score_Indr_Ads  \\\n",
       "0        3.920                  8                   8   \n",
       "1        1.310                  7                  10   \n",
       "2        3.945                  5                   2   \n",
       "3        2.285                  6                   2   \n",
       "4        1.225                  7                   8   \n",
       "\n",
       "   Ban_Score_add_indir_ads Warn_Score  Ban_Score_places  \n",
       "0                        3         50                 8  \n",
       "1                        5         50                 8  \n",
       "2                        0         50                 3  \n",
       "3                        0         83                 6  \n",
       "4                        5         65                 2  "
      ]
     },
     "execution_count": 32,
     "metadata": {},
     "output_type": "execute_result"
    }
   ],
   "source": [
    "tobacco_data.head()"
   ]
  },
  {
   "cell_type": "code",
   "execution_count": 33,
   "metadata": {},
   "outputs": [],
   "source": [
    "tobacco_data.to_csv(\"data/tobacco_data.csv\", index=False)"
   ]
  },
  {
   "cell_type": "code",
   "execution_count": null,
   "metadata": {},
   "outputs": [],
   "source": []
  }
 ],
 "metadata": {
  "kernelspec": {
   "display_name": "Python 3",
   "language": "python",
   "name": "python3"
  },
  "language_info": {
   "codemirror_mode": {
    "name": "ipython",
    "version": 3
   },
   "file_extension": ".py",
   "mimetype": "text/x-python",
   "name": "python",
   "nbconvert_exporter": "python",
   "pygments_lexer": "ipython3",
   "version": "3.7.5"
  }
 },
 "nbformat": 4,
 "nbformat_minor": 2
}
