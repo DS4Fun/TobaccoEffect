{
 "cells": [
  {
   "cell_type": "markdown",
   "metadata": {},
   "source": [
    "# Significance Test \n"
   ]
  },
  {
   "cell_type": "markdown",
   "metadata": {},
   "source": [
    "to check if the difference of values over years is statistically significant or random.\n",
    "### Null Hypothesis: \n",
    "There is no statistically significant difference between values over years.\n",
    "### Alternative Hypothesis: \n",
    "There is statistically significant difference between values over years."
   ]
  },
  {
   "cell_type": "markdown",
   "metadata": {},
   "source": [
    "#### Friedman statistical test: \n",
    "As we don't have information about the distribution of data, ranking-based tests are used.\n",
    "\n",
    "Multiple number of parameters to test (years here) makes us to choose Friedman test instead Wilcoxson test.\n",
    "\n",
    "In the case of normal distribution we can use ANOVA test. \n",
    "\n",
    "Pairwise posthoc test is not necessary, as we just want to check the significance and not to extract the most or least extreme values."
   ]
  },
  {
   "cell_type": "code",
   "execution_count": 2,
   "metadata": {},
   "outputs": [],
   "source": [
    "import numpy as np\n",
    "import warnings\n",
    "import pandas as pd\n",
    "from scipy.stats import friedmanchisquare\n",
    "warnings.filterwarnings('ignore') # Just to mute warnings, if you like you can comment this line."
   ]
  },
  {
   "cell_type": "code",
   "execution_count": 3,
   "metadata": {},
   "outputs": [],
   "source": [
    "df = pd.read_csv('data/Clean_Data/cl-tobac-use.csv')"
   ]
  },
  {
   "cell_type": "code",
   "execution_count": 4,
   "metadata": {},
   "outputs": [
    {
     "data": {
      "text/html": [
       "<div>\n",
       "<style scoped>\n",
       "    .dataframe tbody tr th:only-of-type {\n",
       "        vertical-align: middle;\n",
       "    }\n",
       "\n",
       "    .dataframe tbody tr th {\n",
       "        vertical-align: top;\n",
       "    }\n",
       "\n",
       "    .dataframe thead th {\n",
       "        text-align: right;\n",
       "    }\n",
       "</style>\n",
       "<table border=\"1\" class=\"dataframe\">\n",
       "  <thead>\n",
       "    <tr style=\"text-align: right;\">\n",
       "      <th></th>\n",
       "      <th>Unnamed: 0</th>\n",
       "      <th>Country</th>\n",
       "      <th>Year</th>\n",
       "      <th>Male</th>\n",
       "      <th>Female</th>\n",
       "    </tr>\n",
       "  </thead>\n",
       "  <tbody>\n",
       "    <tr>\n",
       "      <th>0</th>\n",
       "      <td>2</td>\n",
       "      <td>Albania</td>\n",
       "      <td>2015</td>\n",
       "      <td>51.2</td>\n",
       "      <td>7.6</td>\n",
       "    </tr>\n",
       "    <tr>\n",
       "      <th>1</th>\n",
       "      <td>3</td>\n",
       "      <td>Albania</td>\n",
       "      <td>2012</td>\n",
       "      <td>52.1</td>\n",
       "      <td>8.2</td>\n",
       "    </tr>\n",
       "    <tr>\n",
       "      <th>2</th>\n",
       "      <td>4</td>\n",
       "      <td>Albania</td>\n",
       "      <td>2010</td>\n",
       "      <td>53.1</td>\n",
       "      <td>8.7</td>\n",
       "    </tr>\n",
       "    <tr>\n",
       "      <th>3</th>\n",
       "      <td>6</td>\n",
       "      <td>Albania</td>\n",
       "      <td>2005</td>\n",
       "      <td>54.7</td>\n",
       "      <td>10.1</td>\n",
       "    </tr>\n",
       "    <tr>\n",
       "      <th>4</th>\n",
       "      <td>9</td>\n",
       "      <td>Albania</td>\n",
       "      <td>2000</td>\n",
       "      <td>56.9</td>\n",
       "      <td>11.6</td>\n",
       "    </tr>\n",
       "  </tbody>\n",
       "</table>\n",
       "</div>"
      ],
      "text/plain": [
       "   Unnamed: 0  Country  Year  Male  Female\n",
       "0           2  Albania  2015  51.2     7.6\n",
       "1           3  Albania  2012  52.1     8.2\n",
       "2           4  Albania  2010  53.1     8.7\n",
       "3           6  Albania  2005  54.7    10.1\n",
       "4           9  Albania  2000  56.9    11.6"
      ]
     },
     "execution_count": 4,
     "metadata": {},
     "output_type": "execute_result"
    }
   ],
   "source": [
    "df.head()\n"
   ]
  },
  {
   "cell_type": "code",
   "execution_count": 5,
   "metadata": {},
   "outputs": [
    {
     "data": {
      "text/plain": [
       "array([2015, 2012, 2010, 2005, 2000])"
      ]
     },
     "execution_count": 5,
     "metadata": {},
     "output_type": "execute_result"
    }
   ],
   "source": [
    "df['Year'].unique()"
   ]
  },
  {
   "cell_type": "code",
   "execution_count": 14,
   "metadata": {},
   "outputs": [],
   "source": [
    "df_2015 = df[df['Year'] == 2015]\n",
    "df_2012 = df[df['Year'] == 2012]\n",
    "df_2010 = df[df['Year'] == 2010]\n",
    "df_2005 = df[df['Year'] == 2005]\n",
    "df_2000 = df[df['Year'] == 2000]"
   ]
  },
  {
   "cell_type": "code",
   "execution_count": 10,
   "metadata": {},
   "outputs": [
    {
     "data": {
      "text/plain": [
       "array([[2, 'Albania', 2015, 51.2, 7.6],\n",
       "       [3, 'Albania', 2012, 52.1, 8.2],\n",
       "       [4, 'Albania', 2010, 53.1, 8.7],\n",
       "       ...,\n",
       "       [1167, 'Zimbabwe', 2010, 31.8, 2.4],\n",
       "       [1168, 'Zimbabwe', 2005, 32.5, 2.7],\n",
       "       [1169, 'Zimbabwe', 2000, 33.5, 3.1]], dtype=object)"
      ]
     },
     "execution_count": 10,
     "metadata": {},
     "output_type": "execute_result"
    }
   ],
   "source": [
    "data = df.to_numpy()\n",
    "trans_data = data.transpose()\n",
    "trans_data\n",
    "data"
   ]
  },
  {
   "cell_type": "code",
   "execution_count": 7,
   "metadata": {},
   "outputs": [],
   "source": [
    "alpha = 0.05\n",
    "#Friedman Test.\n",
    "stat, p = friedmanchisquare(data[0], data[1], data[2], data[3], data[4], data[5], data[6], data[7])\n",
    "print('Statistics=%.3f, p=%.3f' % (stat, p))"
   ]
  },
  {
   "cell_type": "code",
   "execution_count": null,
   "metadata": {},
   "outputs": [],
   "source": []
  }
 ],
 "metadata": {
  "kernelspec": {
   "display_name": "Python 3",
   "language": "python",
   "name": "python3"
  },
  "language_info": {
   "codemirror_mode": {
    "name": "ipython",
    "version": 3
   },
   "file_extension": ".py",
   "mimetype": "text/x-python",
   "name": "python",
   "nbconvert_exporter": "python",
   "pygments_lexer": "ipython3",
   "version": "3.7.3"
  }
 },
 "nbformat": 4,
 "nbformat_minor": 2
}
