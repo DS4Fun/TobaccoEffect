{
 "cells": [
  {
   "cell_type": "markdown",
   "metadata": {},
   "source": [
    "# Significance Test \n"
   ]
  },
  {
   "cell_type": "markdown",
   "metadata": {},
   "source": [
    "to check if the difference of values over years is statistically significant or random.\n",
    "### Null Hypothesis: \n",
    "There is no statistically significant difference between values over years.\n",
    "### Alternative Hypothesis: \n",
    "There is statistically significant difference between values over years."
   ]
  },
  {
   "cell_type": "markdown",
   "metadata": {},
   "source": [
    "#### Friedman statistical test: \n",
    "As we don't have information about the distribution of data, ranking-based tests are used.\n",
    "\n",
    "Multiple number of parameters to test (years here) makes us to choose Friedman test instead Wilcoxson test.\n",
    "\n",
    "In the case of normal distribution we can use ANOVA test. \n",
    "\n",
    "Pairwise posthoc test is not necessary, as we just want to check the significance and not to extract the most or least extreme values."
   ]
  },
  {
   "cell_type": "code",
   "execution_count": 32,
   "metadata": {},
   "outputs": [],
   "source": [
    "import numpy as np\n",
    "import warnings\n",
    "import pandas as pd\n",
    "from scipy.stats import friedmanchisquare\n",
    "import scikit_posthocs as sp\n",
    "warnings.filterwarnings('ignore') # Just to mute warnings, if you like you can comment this line."
   ]
  },
  {
   "cell_type": "code",
   "execution_count": 33,
   "metadata": {},
   "outputs": [],
   "source": [
    "df = pd.read_csv('data/Clean_Data/cl-tobac-use.csv')"
   ]
  },
  {
   "cell_type": "code",
   "execution_count": 34,
   "metadata": {},
   "outputs": [
    {
     "data": {
      "text/html": [
       "<div>\n",
       "<style scoped>\n",
       "    .dataframe tbody tr th:only-of-type {\n",
       "        vertical-align: middle;\n",
       "    }\n",
       "\n",
       "    .dataframe tbody tr th {\n",
       "        vertical-align: top;\n",
       "    }\n",
       "\n",
       "    .dataframe thead th {\n",
       "        text-align: right;\n",
       "    }\n",
       "</style>\n",
       "<table border=\"1\" class=\"dataframe\">\n",
       "  <thead>\n",
       "    <tr style=\"text-align: right;\">\n",
       "      <th></th>\n",
       "      <th>Year</th>\n",
       "      <th>Total_Use</th>\n",
       "    </tr>\n",
       "  </thead>\n",
       "  <tbody>\n",
       "    <tr>\n",
       "      <th>0</th>\n",
       "      <td>2015</td>\n",
       "      <td>58.8</td>\n",
       "    </tr>\n",
       "    <tr>\n",
       "      <th>1</th>\n",
       "      <td>2012</td>\n",
       "      <td>60.3</td>\n",
       "    </tr>\n",
       "    <tr>\n",
       "      <th>2</th>\n",
       "      <td>2010</td>\n",
       "      <td>61.8</td>\n",
       "    </tr>\n",
       "    <tr>\n",
       "      <th>3</th>\n",
       "      <td>2005</td>\n",
       "      <td>64.8</td>\n",
       "    </tr>\n",
       "    <tr>\n",
       "      <th>4</th>\n",
       "      <td>2000</td>\n",
       "      <td>68.5</td>\n",
       "    </tr>\n",
       "  </tbody>\n",
       "</table>\n",
       "</div>"
      ],
      "text/plain": [
       "   Year  Total_Use\n",
       "0  2015       58.8\n",
       "1  2012       60.3\n",
       "2  2010       61.8\n",
       "3  2005       64.8\n",
       "4  2000       68.5"
      ]
     },
     "execution_count": 34,
     "metadata": {},
     "output_type": "execute_result"
    }
   ],
   "source": [
    "# Calculates the total usage for both genders. And drop unnecessary columns.\n",
    "df['Total_Use'] = df['Male'] + df['Female']\n",
    "df.drop(['Male', 'Female', 'Country'] , axis=1, inplace=True)\n",
    "df.drop(df.columns[df.columns.str.contains('unnamed',case = False)],axis = 1, inplace = True)\n",
    "df.drop([0])\n",
    "df.head()"
   ]
  },
  {
   "cell_type": "code",
   "execution_count": 35,
   "metadata": {},
   "outputs": [
    {
     "data": {
      "text/plain": [
       "array([[ 58.8,  65. ,  47.9,  53.8,  29.8,  70.3,  46.9,  56.4,  40.5,\n",
       "         14. ,  56.8,  46.5,  18.7,  47.6,  77.2,  30.6,  32.4,  70.6,\n",
       "         40.5,  25.7,  46.9,  44.7,  29.9,  76. ,  49.4,  22.2,  29.1,\n",
       "         44.9,  26.8,  72.9,  70.5,  66.4,  34. ,  28.2,  17.3,  50.2,\n",
       "         66.1,  21.2,   9.4,  51.1,  41.7,  55.4,  63.4,  60.7,  13.5,\n",
       "         85.3,  24.6,  35.4,  56.8,  32.1,  22.3,  79.8,  22.2,  44.3,\n",
       "         60.5,  48. ,  35.8,  44.3,  80.9,  53.2,  26.7, 104.8,  54. ,\n",
       "         65.7,  73.2,  76.4,  55.5,  30. ,  60.3,  47.2,  31.4,  44.4,\n",
       "         40. ,  49.9,  47.7,  43.4,  27.4,  53. ,  46.8,  37.3,  38. ,\n",
       "         50.3,  95. ,  48.2,  50.1,  18.8,  18.5,  31.7,  44.5,  22. ,\n",
       "         44.9,  13.2,  36.2,  51.5,  56.1,  45.2,  54. ,  51.1,  59.6,\n",
       "         81.8,  59.9,  30.8,  24.1,  83.3,  51.8,  72. ,  33. ,  57.3,\n",
       "         40.4,  37.9,  58.4,  28.8,  41.2,  46.6,  43.7,  60.3,  51.9,\n",
       "         19.3,  63.4,  38.3,  31.3,  34.5,  46.1,  26.2,  48.4,  31.1,\n",
       "         33.3],\n",
       "       [ 60.3,  66.9,  52.6,  56.5,  33.1,  73.3,  49. ,  47. ,  44.8,\n",
       "         14.3,  60.4,  48.9,  17.5,  52.2,  80.2,  33.4,  32.6,  75.6,\n",
       "         38.2,  24.1,  48.7,  34.6,  33.7,  79.1,  51. ,  24.1,  31.5,\n",
       "         33.8,  29. ,  71.7,  73. ,  66.9,  40. ,  29.4,  18.7,  46.3,\n",
       "         69. ,  20.6,   9.4,  53.4,  44.6,  56.9,  64.4,  62.3,  12.6,\n",
       "         88.5,  23.9,  39.6,  61. ,  36.2,  25.2,  75.8,  24. ,  47.7,\n",
       "         61.8,  48.9,  35.9,  47.6,  73.6,  56. ,  28. , 109.9,  54. ,\n",
       "         70.5,  74.9,  72.4,  50.5,  28.1,  62.4,  49.7,  33.2,  46.5,\n",
       "         36. ,  53. ,  42.9,  44.8,  30.9,  55.1,  44.2,  39.6,  42.9,\n",
       "         48.4,  99.1,  52.6,  52.2,  16.1,  17.1,  33.9,  50.4,  19.9,\n",
       "         44.2,  15.4,  40.3,  55. ,  61. ,  46.4,  56.1,  50. ,  62.9,\n",
       "         82.8,  64.9,  29.3,  22.9,  85.3,  53.2,  68.4,  32.9,  58.8,\n",
       "         42.5,  39.5,  61.7,  29.3,  45.3,  49.2,  44.7,  61.7,  56.2,\n",
       "         21.3,  65.8,  41.9,  33.2,  37.3,  52. ,  27.2,  49. ,  32.1,\n",
       "         33.8],\n",
       "       [ 61.8,  68. ,  55.8,  58.5,  35.4,  75.5,  50.4,  41.3,  48. ,\n",
       "         14.4,  62.7,  50.4,  16.7,  55.5,  81.7,  35.5,  32.7,  79.1,\n",
       "         36.6,  23.2,  50. ,  29.4,  36.7,  81.1,  52.3,  25.7,  33.1,\n",
       "         28.1,  30.7,  71. ,  74.5,  67.7,  44.3,  30.4,  19.7,  44.4,\n",
       "         70.8,  20.3,   9.5,  55.4,  46.9,  58.3,  65.6,  63.3,  12.1,\n",
       "         90.8,  23.6,  43. ,  63.4,  39.2,  27.3,  72.6,  25.3,  49.9,\n",
       "         62.2,  49.5,  36. ,  50.1,  68.4,  57.7,  28.7, 113. ,  54.3,\n",
       "         73.6,  76. ,  70. ,  47.7,  26.7,  64.1,  51.1,  34.6,  48. ,\n",
       "         33.8,  54.5,  40. ,  45.7,  33.5,  56.6,  42.5,  41.2,  46.9,\n",
       "         47.4, 102.4,  55.8,  55.3,  14.6,  16.3,  35.7,  55.1,  18.5,\n",
       "         44.4,  17.3,  42.8,  57.3,  64.2,  47.1,  57.9,  49.5,  65.3,\n",
       "         83.6,  68.3,  27.9,  22.1,  87. ,  54.3,  66.5,  32.9,  60. ,\n",
       "         44.1,  40.5,  63.9,  29.9,  48.3,  50.9,  45.7,  62.9,  59.4,\n",
       "         22.7,  67.2,  44.4,  34.4,  39.3,  56.3,  27.9,  49.7,  32.8,\n",
       "         34.2],\n",
       "       [ 64.8,  71.5,  65.9,  63.7,  42.1,  80.7,  54.6,  30.6,  57.2,\n",
       "         14.9,  69.9,  54.8,  15.1,  65.6,  87.4,  41. ,  33.5,  89.1,\n",
       "         33.9,  21.4,  54.1,  19.6,  45.2,  87. ,  55.7,  29.9,  38.2,\n",
       "         17.8,  35.4,  69.4,  79.6,  68.9,  58.1,  33.3,  22.9,  40.1,\n",
       "         76.4,  19.6,   9.7,  60.5,  52.7,  61.6,  67.6,  65.7,  10.9,\n",
       "         97.9,  22.7,  52.5,  71.4,  48.6,  34.1,  67. ,  29.7,  56.2,\n",
       "         64.1,  51.3,  36.7,  57.4,  58.1,  62.8,  31.2, 123. ,  54.7,\n",
       "         83.3,  78.5,  64.5,  41.2,  24.4,  68.6,  55.2,  38.2,  52.4,\n",
       "         28.6,  59.7,  34.1,  48.3,  40.7,  61.1,  39.2,  45.4,  58. ,\n",
       "         45.3, 110.9,  66. ,  60.8,  11.6,  14.6,  40.5,  68.1,  15.7,\n",
       "         44.4,  23. ,  51. ,  64.4,  73.3,  49.4,  62. ,  47.5,  72.2,\n",
       "         86.1,  78.2,  25.6,  20.3,  91. ,  56.5,  62.8,  33. ,  63.6,\n",
       "         48. ,  43.9,  70.2,  31.3,  56.8,  55.6,  47.7,  66.1,  68.2,\n",
       "         27.1,  71.5,  51.5,  38.3,  44.6,  69.2,  29.6,  51.1,  34.8,\n",
       "         35.2],\n",
       "       [ 68.5,  75.2,  77.7,  69.7,  49.9,  86.9,  59.2,  23. ,  70. ,\n",
       "         15.6,  77.5,  59.9,  14. ,  77.3,  93.6,  47.9,  34.6, 100.8,\n",
       "         32.2,  20.3,  59.3,  13.2,  55.9,  93.5,  59.3,  35.1,  44.6,\n",
       "         11.7,  41.6,  68.3,  85.8,  70.4,  76.2,  36.9,  26.7,  36.7,\n",
       "         82.7,  19.1,   9.6,  67.2,  59.5,  65.5,  69.9,  68.8,  10. ,\n",
       "        105.4,  22.2,  64.4,  80.5,  60.6,  43.2,  62.2,  36. ,  63.6,\n",
       "         66.4,  53.1,  37.9,  65.7,  49.7,  68.9,  34. , 133.1,  55.9,\n",
       "         94.9,  82.1,  59.7,  35.8,  22.5,  74. ,  60.1,  42.5,  58. ,\n",
       "         24.7,  65.7,  29.6,  51.4,  49.9,  65.9,  37.1,  50.3,  72.4,\n",
       "         44. , 120.9,  79.9,  67.4,   9.3,  13.3,  46.3,  84.1,  13.3,\n",
       "         45.8,  30.7,  61.1,  72. ,  84.8,  51.8,  67.1,  46.2,  80.2,\n",
       "         89. ,  89.4,  23.7,  19. ,  95.8,  59.3,  61. ,  33.2,  67.6,\n",
       "         52.5,  47.8,  77.5,  33.4,  67.2,  61.1,  49.7,  69.5,  78.4,\n",
       "         32.3,  76.1,  60.2,  42.5,  50.7,  84.8,  31.6,  53. ,  37.1,\n",
       "         36.6]])"
      ]
     },
     "execution_count": 35,
     "metadata": {},
     "output_type": "execute_result"
    }
   ],
   "source": [
    "# Extract data for each year.\n",
    "data =[] \n",
    "\n",
    "for year in df['Year'].unique():\n",
    "    values = df[df['Year'] == year]\n",
    "    values.drop(['Year'], axis=1, inplace=True)\n",
    "    data.append(values.to_numpy().transpose()[0])\n",
    "data = np.array(data)\n",
    "data\n"
   ]
  },
  {
   "cell_type": "code",
   "execution_count": 42,
   "metadata": {},
   "outputs": [
    {
     "name": "stdout",
     "output_type": "stream",
     "text": [
      "Statistics=117.555, p=0.000\n",
      "Different distributions (reject H0)\n"
     ]
    }
   ],
   "source": [
    "alpha = 0.05\n",
    "#Friedman Test.\n",
    "stat, p = friedmanchisquare(data[0], data[1], data[2], data[3], data[4])\n",
    "print('Statistics=%.3f, p=%.3f' % (stat, p))\n",
    "alpha = 0.05\n",
    "if p > alpha:\n",
    "    print('Same distributions (fail to reject H0)')\n",
    "else:\n",
    "    print('Different distributions (reject H0)')"
   ]
  },
  {
   "cell_type": "code",
   "execution_count": 37,
   "metadata": {},
   "outputs": [
    {
     "data": {
      "text/plain": [
       "array([[ 58.8,  65. ,  47.9,  53.8,  29.8,  70.3,  46.9,  56.4,  40.5,\n",
       "         14. ,  56.8,  46.5,  18.7,  47.6,  77.2,  30.6,  32.4,  70.6,\n",
       "         40.5,  25.7,  46.9,  44.7,  29.9,  76. ,  49.4,  22.2,  29.1,\n",
       "         44.9,  26.8,  72.9,  70.5,  66.4,  34. ,  28.2,  17.3,  50.2,\n",
       "         66.1,  21.2,   9.4,  51.1,  41.7,  55.4,  63.4,  60.7,  13.5,\n",
       "         85.3,  24.6,  35.4,  56.8,  32.1,  22.3,  79.8,  22.2,  44.3,\n",
       "         60.5,  48. ,  35.8,  44.3,  80.9,  53.2,  26.7, 104.8,  54. ,\n",
       "         65.7,  73.2,  76.4,  55.5,  30. ,  60.3,  47.2,  31.4,  44.4,\n",
       "         40. ,  49.9,  47.7,  43.4,  27.4,  53. ,  46.8,  37.3,  38. ,\n",
       "         50.3,  95. ,  48.2,  50.1,  18.8,  18.5,  31.7,  44.5,  22. ,\n",
       "         44.9,  13.2,  36.2,  51.5,  56.1,  45.2,  54. ,  51.1,  59.6,\n",
       "         81.8,  59.9,  30.8,  24.1,  83.3,  51.8,  72. ,  33. ,  57.3,\n",
       "         40.4,  37.9,  58.4,  28.8,  41.2,  46.6,  43.7,  60.3,  51.9,\n",
       "         19.3,  63.4,  38.3,  31.3,  34.5,  46.1,  26.2,  48.4,  31.1,\n",
       "         33.3],\n",
       "       [ 60.3,  66.9,  52.6,  56.5,  33.1,  73.3,  49. ,  47. ,  44.8,\n",
       "         14.3,  60.4,  48.9,  17.5,  52.2,  80.2,  33.4,  32.6,  75.6,\n",
       "         38.2,  24.1,  48.7,  34.6,  33.7,  79.1,  51. ,  24.1,  31.5,\n",
       "         33.8,  29. ,  71.7,  73. ,  66.9,  40. ,  29.4,  18.7,  46.3,\n",
       "         69. ,  20.6,   9.4,  53.4,  44.6,  56.9,  64.4,  62.3,  12.6,\n",
       "         88.5,  23.9,  39.6,  61. ,  36.2,  25.2,  75.8,  24. ,  47.7,\n",
       "         61.8,  48.9,  35.9,  47.6,  73.6,  56. ,  28. , 109.9,  54. ,\n",
       "         70.5,  74.9,  72.4,  50.5,  28.1,  62.4,  49.7,  33.2,  46.5,\n",
       "         36. ,  53. ,  42.9,  44.8,  30.9,  55.1,  44.2,  39.6,  42.9,\n",
       "         48.4,  99.1,  52.6,  52.2,  16.1,  17.1,  33.9,  50.4,  19.9,\n",
       "         44.2,  15.4,  40.3,  55. ,  61. ,  46.4,  56.1,  50. ,  62.9,\n",
       "         82.8,  64.9,  29.3,  22.9,  85.3,  53.2,  68.4,  32.9,  58.8,\n",
       "         42.5,  39.5,  61.7,  29.3,  45.3,  49.2,  44.7,  61.7,  56.2,\n",
       "         21.3,  65.8,  41.9,  33.2,  37.3,  52. ,  27.2,  49. ,  32.1,\n",
       "         33.8],\n",
       "       [ 61.8,  68. ,  55.8,  58.5,  35.4,  75.5,  50.4,  41.3,  48. ,\n",
       "         14.4,  62.7,  50.4,  16.7,  55.5,  81.7,  35.5,  32.7,  79.1,\n",
       "         36.6,  23.2,  50. ,  29.4,  36.7,  81.1,  52.3,  25.7,  33.1,\n",
       "         28.1,  30.7,  71. ,  74.5,  67.7,  44.3,  30.4,  19.7,  44.4,\n",
       "         70.8,  20.3,   9.5,  55.4,  46.9,  58.3,  65.6,  63.3,  12.1,\n",
       "         90.8,  23.6,  43. ,  63.4,  39.2,  27.3,  72.6,  25.3,  49.9,\n",
       "         62.2,  49.5,  36. ,  50.1,  68.4,  57.7,  28.7, 113. ,  54.3,\n",
       "         73.6,  76. ,  70. ,  47.7,  26.7,  64.1,  51.1,  34.6,  48. ,\n",
       "         33.8,  54.5,  40. ,  45.7,  33.5,  56.6,  42.5,  41.2,  46.9,\n",
       "         47.4, 102.4,  55.8,  55.3,  14.6,  16.3,  35.7,  55.1,  18.5,\n",
       "         44.4,  17.3,  42.8,  57.3,  64.2,  47.1,  57.9,  49.5,  65.3,\n",
       "         83.6,  68.3,  27.9,  22.1,  87. ,  54.3,  66.5,  32.9,  60. ,\n",
       "         44.1,  40.5,  63.9,  29.9,  48.3,  50.9,  45.7,  62.9,  59.4,\n",
       "         22.7,  67.2,  44.4,  34.4,  39.3,  56.3,  27.9,  49.7,  32.8,\n",
       "         34.2],\n",
       "       [ 64.8,  71.5,  65.9,  63.7,  42.1,  80.7,  54.6,  30.6,  57.2,\n",
       "         14.9,  69.9,  54.8,  15.1,  65.6,  87.4,  41. ,  33.5,  89.1,\n",
       "         33.9,  21.4,  54.1,  19.6,  45.2,  87. ,  55.7,  29.9,  38.2,\n",
       "         17.8,  35.4,  69.4,  79.6,  68.9,  58.1,  33.3,  22.9,  40.1,\n",
       "         76.4,  19.6,   9.7,  60.5,  52.7,  61.6,  67.6,  65.7,  10.9,\n",
       "         97.9,  22.7,  52.5,  71.4,  48.6,  34.1,  67. ,  29.7,  56.2,\n",
       "         64.1,  51.3,  36.7,  57.4,  58.1,  62.8,  31.2, 123. ,  54.7,\n",
       "         83.3,  78.5,  64.5,  41.2,  24.4,  68.6,  55.2,  38.2,  52.4,\n",
       "         28.6,  59.7,  34.1,  48.3,  40.7,  61.1,  39.2,  45.4,  58. ,\n",
       "         45.3, 110.9,  66. ,  60.8,  11.6,  14.6,  40.5,  68.1,  15.7,\n",
       "         44.4,  23. ,  51. ,  64.4,  73.3,  49.4,  62. ,  47.5,  72.2,\n",
       "         86.1,  78.2,  25.6,  20.3,  91. ,  56.5,  62.8,  33. ,  63.6,\n",
       "         48. ,  43.9,  70.2,  31.3,  56.8,  55.6,  47.7,  66.1,  68.2,\n",
       "         27.1,  71.5,  51.5,  38.3,  44.6,  69.2,  29.6,  51.1,  34.8,\n",
       "         35.2],\n",
       "       [ 68.5,  75.2,  77.7,  69.7,  49.9,  86.9,  59.2,  23. ,  70. ,\n",
       "         15.6,  77.5,  59.9,  14. ,  77.3,  93.6,  47.9,  34.6, 100.8,\n",
       "         32.2,  20.3,  59.3,  13.2,  55.9,  93.5,  59.3,  35.1,  44.6,\n",
       "         11.7,  41.6,  68.3,  85.8,  70.4,  76.2,  36.9,  26.7,  36.7,\n",
       "         82.7,  19.1,   9.6,  67.2,  59.5,  65.5,  69.9,  68.8,  10. ,\n",
       "        105.4,  22.2,  64.4,  80.5,  60.6,  43.2,  62.2,  36. ,  63.6,\n",
       "         66.4,  53.1,  37.9,  65.7,  49.7,  68.9,  34. , 133.1,  55.9,\n",
       "         94.9,  82.1,  59.7,  35.8,  22.5,  74. ,  60.1,  42.5,  58. ,\n",
       "         24.7,  65.7,  29.6,  51.4,  49.9,  65.9,  37.1,  50.3,  72.4,\n",
       "         44. , 120.9,  79.9,  67.4,   9.3,  13.3,  46.3,  84.1,  13.3,\n",
       "         45.8,  30.7,  61.1,  72. ,  84.8,  51.8,  67.1,  46.2,  80.2,\n",
       "         89. ,  89.4,  23.7,  19. ,  95.8,  59.3,  61. ,  33.2,  67.6,\n",
       "         52.5,  47.8,  77.5,  33.4,  67.2,  61.1,  49.7,  69.5,  78.4,\n",
       "         32.3,  76.1,  60.2,  42.5,  50.7,  84.8,  31.6,  53. ,  37.1,\n",
       "         36.6]])"
      ]
     },
     "execution_count": 37,
     "metadata": {},
     "output_type": "execute_result"
    }
   ],
   "source": [
    "data"
   ]
  },
  {
   "cell_type": "markdown",
   "metadata": {},
   "source": [
    "P value is 0, so the result of Friedman test shows different distribution based on years. "
   ]
  },
  {
   "cell_type": "code",
   "execution_count": 43,
   "metadata": {},
   "outputs": [
    {
     "data": {
      "text/html": [
       "<div>\n",
       "<style scoped>\n",
       "    .dataframe tbody tr th:only-of-type {\n",
       "        vertical-align: middle;\n",
       "    }\n",
       "\n",
       "    .dataframe tbody tr th {\n",
       "        vertical-align: top;\n",
       "    }\n",
       "\n",
       "    .dataframe thead th {\n",
       "        text-align: right;\n",
       "    }\n",
       "</style>\n",
       "<table border=\"1\" class=\"dataframe\">\n",
       "  <thead>\n",
       "    <tr style=\"text-align: right;\">\n",
       "      <th></th>\n",
       "      <th>2005</th>\n",
       "      <th>2010</th>\n",
       "      <th>2012</th>\n",
       "      <th>2015</th>\n",
       "    </tr>\n",
       "  </thead>\n",
       "  <tbody>\n",
       "    <tr>\n",
       "      <th>2005</th>\n",
       "      <td>-1.000000</td>\n",
       "      <td>0.627570</td>\n",
       "      <td>0.380522</td>\n",
       "      <td>0.148670</td>\n",
       "    </tr>\n",
       "    <tr>\n",
       "      <th>2010</th>\n",
       "      <td>0.627570</td>\n",
       "      <td>-1.000000</td>\n",
       "      <td>0.979582</td>\n",
       "      <td>0.805876</td>\n",
       "    </tr>\n",
       "    <tr>\n",
       "      <th>2012</th>\n",
       "      <td>0.380522</td>\n",
       "      <td>0.979582</td>\n",
       "      <td>-1.000000</td>\n",
       "      <td>0.958006</td>\n",
       "    </tr>\n",
       "    <tr>\n",
       "      <th>2015</th>\n",
       "      <td>0.148670</td>\n",
       "      <td>0.805876</td>\n",
       "      <td>0.958006</td>\n",
       "      <td>-1.000000</td>\n",
       "    </tr>\n",
       "  </tbody>\n",
       "</table>\n",
       "</div>"
      ],
      "text/plain": [
       "          2005      2010      2012      2015\n",
       "2005 -1.000000  0.627570  0.380522  0.148670\n",
       "2010  0.627570 -1.000000  0.979582  0.805876\n",
       "2012  0.380522  0.979582 -1.000000  0.958006\n",
       "2015  0.148670  0.805876  0.958006 -1.000000"
      ]
     },
     "execution_count": 43,
     "metadata": {},
     "output_type": "execute_result"
    }
   ],
   "source": [
    "dt = pd.DataFrame({'2015':data[0], '2012':data[1], '2010':data[2], '2005':data[3], '2000':data[4]})\n",
    "x = dt.melt(var_name='groups', value_name='values')\n",
    "res = sp.posthoc_nemenyi(x, val_col='values', group_col='groups')\n",
    "res"
   ]
  },
  {
   "cell_type": "code",
   "execution_count": 44,
   "metadata": {},
   "outputs": [
    {
     "data": {
      "text/plain": [
       "(<matplotlib.axes._subplots.AxesSubplot at 0x7fe837dde390>,\n",
       " <matplotlib.colorbar.ColorbarBase at 0x7fe837dbfcc0>)"
      ]
     },
     "execution_count": 44,
     "metadata": {},
     "output_type": "execute_result"
    },
    {
     "data": {
      "image/png": "[encoded data removed]",
      "text/plain": [
       "<Figure size 432x288 with 2 Axes>"
      ]
     },
     "metadata": {
      "needs_background": "light"
     },
     "output_type": "display_data"
    }
   ],
   "source": [
    "res.to_csv('results-nemenyi-hit-fb15k-.csv')\n",
    "cmap = ['1', '#fb6a4a',  '#08306b',  '#4292c6', '#c6dbef']\n",
    "heatmap_args = {'cmap': cmap, 'linewidths': 0.25, 'linecolor': '0.5', 'clip_on': False, 'square': True, 'cbar_ax_bbox': [0.80, 0.35, 0.04, 0.3]}\n",
    "sp.sign_plot(res, **heatmap_args)"
   ]
  },
  {
   "cell_type": "code",
   "execution_count": null,
   "metadata": {},
   "outputs": [],
   "source": []
  }
 ],
 "metadata": {
  "kernelspec": {
   "display_name": "Python 3",
   "language": "python",
   "name": "python3"
  },
  "language_info": {
   "codemirror_mode": {
    "name": "ipython",
    "version": 3
   },
   "file_extension": ".py",
   "mimetype": "text/x-python",
   "name": "python",
   "nbconvert_exporter": "python",
   "pygments_lexer": "ipython3",
   "version": "3.7.3"
  }
 },
 "nbformat": 4,
 "nbformat_minor": 2
}
