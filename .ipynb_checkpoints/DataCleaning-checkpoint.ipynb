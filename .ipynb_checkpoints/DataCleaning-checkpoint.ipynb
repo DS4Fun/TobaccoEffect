{
 "cells": [
  {
   "cell_type": "code",
   "execution_count": 1,
   "metadata": {},
   "outputs": [],
   "source": [
    "import numpy as np\n",
    "import pandas as pd\n",
    "import math\n",
    "from functools import reduce"
   ]
  },
  {
   "cell_type": "markdown",
   "metadata": {},
   "source": [
    "\n",
    "##TODO add the link of each data with description of each column\n",
    "\n",
    "###  [Alcohol Per Capita consumption (APC)](http://apps.who.int/gho/data/node.main.A1039?lang=en)\n",
    "\n",
    "###  [Tobacco Use By Country]()"
   ]
  },
  {
   "cell_type": "code",
   "execution_count": 12,
   "metadata": {},
   "outputs": [],
   "source": [
    "apc_raw = pd.read_csv('data/raw/APC_2010-2018.csv')\n",
    "tobac_use_raw = pd.read_csv('data/raw/TobaccoUseByCountry_gte15.csv')\n",
    "country_data = pd.read_csv('data/raw/CountriesOfTheWorld.csv')\n",
    "tobac_cost_raw = pd.read_csv('data/raw/Tobacco_cost.csv')\n",
    "tobac_ad_raw = pd.read_csv('data/raw/BanOnDirectAdvertising.csv')"
   ]
  },
  {
   "cell_type": "markdown",
   "metadata": {},
   "source": [
    "## Tobac_use cleaning"
   ]
  },
  {
   "cell_type": "code",
   "execution_count": 13,
   "metadata": {},
   "outputs": [
    {
     "data": {
      "text/plain": [
       "Index(['Country', 'Year', ' Male', ' Female'], dtype='object')"
      ]
     },
     "execution_count": 13,
     "metadata": {},
     "output_type": "execute_result"
    }
   ],
   "source": [
    "tobac_use_raw.columns"
   ]
  },
  {
   "cell_type": "code",
   "execution_count": 14,
   "metadata": {},
   "outputs": [],
   "source": [
    "tobac_use = tobac_use_raw.rename(columns={\" Male\": \"Male\", \" Female\": \"Female\"})\n",
    "tobac_use = tobac_use.dropna()"
   ]
  },
  {
   "cell_type": "code",
   "execution_count": 15,
   "metadata": {},
   "outputs": [],
   "source": [
    "def split_row(row):\n",
    "    if isinstance(row, str):\n",
    "        return float(row.split()[0])\n",
    "    else:\n",
    "        return row"
   ]
  },
  {
   "cell_type": "code",
   "execution_count": 16,
   "metadata": {},
   "outputs": [],
   "source": [
    "tobac_use['Male'] = tobac_use['Male'].apply(split_row)\n",
    "tobac_use['Female'] = tobac_use['Female'].apply(split_row)"
   ]
  },
  {
   "cell_type": "code",
   "execution_count": 17,
   "metadata": {},
   "outputs": [],
   "source": [
    "tobac_use.drop(tobac_use[tobac_use['Year']>2019].index, inplace=True)"
   ]
  },
  {
   "cell_type": "code",
   "execution_count": 18,
   "metadata": {},
   "outputs": [],
   "source": [
    "tobac_use.reset_index(inplace=True, drop=True)"
   ]
  },
  {
   "cell_type": "code",
   "execution_count": 20,
   "metadata": {},
   "outputs": [],
   "source": [
    "tobac_use.reset_index(inplace=True)"
   ]
  },
  {
   "cell_type": "code",
   "execution_count": 21,
   "metadata": {},
   "outputs": [
    {
     "data": {
      "text/html": [
       "<div>\n",
       "<style scoped>\n",
       "    .dataframe tbody tr th:only-of-type {\n",
       "        vertical-align: middle;\n",
       "    }\n",
       "\n",
       "    .dataframe tbody tr th {\n",
       "        vertical-align: top;\n",
       "    }\n",
       "\n",
       "    .dataframe thead th {\n",
       "        text-align: right;\n",
       "    }\n",
       "</style>\n",
       "<table border=\"1\" class=\"dataframe\">\n",
       "  <thead>\n",
       "    <tr style=\"text-align: right;\">\n",
       "      <th></th>\n",
       "      <th>index</th>\n",
       "      <th>Country</th>\n",
       "      <th>Year</th>\n",
       "      <th>Male</th>\n",
       "      <th>Female</th>\n",
       "    </tr>\n",
       "  </thead>\n",
       "  <tbody>\n",
       "    <tr>\n",
       "      <th>0</th>\n",
       "      <td>0</td>\n",
       "      <td>Albania</td>\n",
       "      <td>2015</td>\n",
       "      <td>51.2</td>\n",
       "      <td>7.6</td>\n",
       "    </tr>\n",
       "    <tr>\n",
       "      <th>1</th>\n",
       "      <td>1</td>\n",
       "      <td>Albania</td>\n",
       "      <td>2012</td>\n",
       "      <td>52.1</td>\n",
       "      <td>8.2</td>\n",
       "    </tr>\n",
       "    <tr>\n",
       "      <th>2</th>\n",
       "      <td>2</td>\n",
       "      <td>Albania</td>\n",
       "      <td>2010</td>\n",
       "      <td>53.1</td>\n",
       "      <td>8.7</td>\n",
       "    </tr>\n",
       "    <tr>\n",
       "      <th>3</th>\n",
       "      <td>3</td>\n",
       "      <td>Albania</td>\n",
       "      <td>2005</td>\n",
       "      <td>54.7</td>\n",
       "      <td>10.1</td>\n",
       "    </tr>\n",
       "    <tr>\n",
       "      <th>4</th>\n",
       "      <td>4</td>\n",
       "      <td>Albania</td>\n",
       "      <td>2000</td>\n",
       "      <td>56.9</td>\n",
       "      <td>11.6</td>\n",
       "    </tr>\n",
       "  </tbody>\n",
       "</table>\n",
       "</div>"
      ],
      "text/plain": [
       "   index  Country  Year  Male  Female\n",
       "0      0  Albania  2015  51.2     7.6\n",
       "1      1  Albania  2012  52.1     8.2\n",
       "2      2  Albania  2010  53.1     8.7\n",
       "3      3  Albania  2005  54.7    10.1\n",
       "4      4  Albania  2000  56.9    11.6"
      ]
     },
     "execution_count": 21,
     "metadata": {},
     "output_type": "execute_result"
    }
   ],
   "source": [
    "tobac_use.head()"
   ]
  },
  {
   "cell_type": "code",
   "execution_count": 93,
   "metadata": {},
   "outputs": [],
   "source": [
    "tobac_use['Country'] = tobac_use['Country'].map(lambda x: x.strip())"
   ]
  },
  {
   "cell_type": "code",
   "execution_count": 94,
   "metadata": {},
   "outputs": [],
   "source": [
    "tobac_use.to_csv('data/tobac_use_by_country.csv', index=False)"
   ]
  },
  {
   "cell_type": "markdown",
   "metadata": {},
   "source": [
    "## Tobacco Cost cleaning"
   ]
  },
  {
   "cell_type": "code",
   "execution_count": 23,
   "metadata": {},
   "outputs": [],
   "source": [
    "tobac_cost = tobac_cost_raw.rename(columns={\"Premium brand of cigarettes - currency reported\": \"currency\",\n",
    "                                       \"Premium brand of cigarettes - price in currency reported\": \"price in currency\",\n",
    "                                       \"Premium brand of cigarettes - price in international dollars\": \"price in international $\",\n",
    "                                       \"Premium brand of cigarettes - price in US$ at official exchange rates\": \"price in US$\"})"
   ]
  },
  {
   "cell_type": "code",
   "execution_count": 24,
   "metadata": {},
   "outputs": [],
   "source": [
    "tobac_cost = tobac_cost.dropna()"
   ]
  },
  {
   "cell_type": "code",
   "execution_count": 25,
   "metadata": {},
   "outputs": [],
   "source": [
    "cols = ['currency', 'price in currency',\n",
    "       'price in international $', 'price in US$']\n",
    "\n",
    "not_avail = tobac_cost[tobac_cost[cols].eq('Not available').any(axis=1)]\n",
    "tobac_cost.drop(not_avail.index, inplace=True)"
   ]
  },
  {
   "cell_type": "code",
   "execution_count": 26,
   "metadata": {},
   "outputs": [],
   "source": [
    "tobac_cost.reset_index(inplace=True, drop=True)\n",
    "tobac_cost.reset_index(inplace=True)"
   ]
  },
  {
   "cell_type": "code",
   "execution_count": 27,
   "metadata": {},
   "outputs": [
    {
     "data": {
      "text/html": [
       "<div>\n",
       "<style scoped>\n",
       "    .dataframe tbody tr th:only-of-type {\n",
       "        vertical-align: middle;\n",
       "    }\n",
       "\n",
       "    .dataframe tbody tr th {\n",
       "        vertical-align: top;\n",
       "    }\n",
       "\n",
       "    .dataframe thead th {\n",
       "        text-align: right;\n",
       "    }\n",
       "</style>\n",
       "<table border=\"1\" class=\"dataframe\">\n",
       "  <thead>\n",
       "    <tr style=\"text-align: right;\">\n",
       "      <th></th>\n",
       "      <th>index</th>\n",
       "      <th>Country</th>\n",
       "      <th>Year</th>\n",
       "      <th>currency</th>\n",
       "      <th>price in currency</th>\n",
       "      <th>price in international $</th>\n",
       "      <th>price in US$</th>\n",
       "    </tr>\n",
       "  </thead>\n",
       "  <tbody>\n",
       "    <tr>\n",
       "      <th>0</th>\n",
       "      <td>0</td>\n",
       "      <td>Afghanistan</td>\n",
       "      <td>2014</td>\n",
       "      <td>AFN</td>\n",
       "      <td>100.00</td>\n",
       "      <td>2.95</td>\n",
       "      <td>1.73</td>\n",
       "    </tr>\n",
       "    <tr>\n",
       "      <th>1</th>\n",
       "      <td>1</td>\n",
       "      <td>Albania</td>\n",
       "      <td>2014</td>\n",
       "      <td>ALL</td>\n",
       "      <td>270.00</td>\n",
       "      <td>5.23</td>\n",
       "      <td>2.60</td>\n",
       "    </tr>\n",
       "    <tr>\n",
       "      <th>2</th>\n",
       "      <td>2</td>\n",
       "      <td>Algeria</td>\n",
       "      <td>2014</td>\n",
       "      <td>DZD</td>\n",
       "      <td>150.00</td>\n",
       "      <td>2.53</td>\n",
       "      <td>1.91</td>\n",
       "    </tr>\n",
       "    <tr>\n",
       "      <th>3</th>\n",
       "      <td>3</td>\n",
       "      <td>Angola</td>\n",
       "      <td>2014</td>\n",
       "      <td>AOA</td>\n",
       "      <td>200.00</td>\n",
       "      <td>2.18</td>\n",
       "      <td>2.06</td>\n",
       "    </tr>\n",
       "    <tr>\n",
       "      <th>4</th>\n",
       "      <td>4</td>\n",
       "      <td>Antigua and Barbuda</td>\n",
       "      <td>2014</td>\n",
       "      <td>XCD</td>\n",
       "      <td>8.00</td>\n",
       "      <td>3.99</td>\n",
       "      <td>2.96</td>\n",
       "    </tr>\n",
       "  </tbody>\n",
       "</table>\n",
       "</div>"
      ],
      "text/plain": [
       "   index              Country  Year currency price in currency  \\\n",
       "0      0          Afghanistan  2014      AFN            100.00   \n",
       "1      1              Albania  2014      ALL            270.00   \n",
       "2      2              Algeria  2014      DZD            150.00   \n",
       "3      3               Angola  2014      AOA            200.00   \n",
       "4      4  Antigua and Barbuda  2014      XCD              8.00   \n",
       "\n",
       "  price in international $ price in US$  \n",
       "0                     2.95         1.73  \n",
       "1                     5.23         2.60  \n",
       "2                     2.53         1.91  \n",
       "3                     2.18         2.06  \n",
       "4                     3.99         2.96  "
      ]
     },
     "execution_count": 27,
     "metadata": {},
     "output_type": "execute_result"
    }
   ],
   "source": [
    "tobac_cost.head()"
   ]
  },
  {
   "cell_type": "code",
   "execution_count": 95,
   "metadata": {},
   "outputs": [],
   "source": [
    "tobac_cost['Country'] = tobac_cost['Country'].map(lambda x: x.strip())"
   ]
  },
  {
   "cell_type": "code",
   "execution_count": 96,
   "metadata": {},
   "outputs": [],
   "source": [
    "tobac_cost.to_csv('data/tobac_cost.csv', index=False)"
   ]
  },
  {
   "cell_type": "markdown",
   "metadata": {},
   "source": [
    "## APC cleaning"
   ]
  },
  {
   "cell_type": "code",
   "execution_count": 29,
   "metadata": {},
   "outputs": [],
   "source": [
    "beverages = [' Beer', ' Wine', ' Spirits', ' Other alcoholic beverages']"
   ]
  },
  {
   "cell_type": "code",
   "execution_count": 31,
   "metadata": {},
   "outputs": [
    {
     "data": {
      "text/html": [
       "<div>\n",
       "<style scoped>\n",
       "    .dataframe tbody tr th:only-of-type {\n",
       "        vertical-align: middle;\n",
       "    }\n",
       "\n",
       "    .dataframe tbody tr th {\n",
       "        vertical-align: top;\n",
       "    }\n",
       "\n",
       "    .dataframe thead th {\n",
       "        text-align: right;\n",
       "    }\n",
       "</style>\n",
       "<table border=\"1\" class=\"dataframe\">\n",
       "  <thead>\n",
       "    <tr style=\"text-align: right;\">\n",
       "      <th></th>\n",
       "      <th>Country</th>\n",
       "      <th>Data Source</th>\n",
       "      <th>Beverage Types</th>\n",
       "      <th>2016</th>\n",
       "      <th>2015</th>\n",
       "      <th>2014</th>\n",
       "      <th>2013</th>\n",
       "      <th>2012</th>\n",
       "      <th>2011</th>\n",
       "      <th>2010</th>\n",
       "    </tr>\n",
       "  </thead>\n",
       "  <tbody>\n",
       "    <tr>\n",
       "      <th>0</th>\n",
       "      <td>Afghanistan</td>\n",
       "      <td>Data source</td>\n",
       "      <td>All types</td>\n",
       "      <td>NaN</td>\n",
       "      <td>0.02</td>\n",
       "      <td>0.03</td>\n",
       "      <td>0.03</td>\n",
       "      <td>0.04</td>\n",
       "      <td>0.04</td>\n",
       "      <td>0.03</td>\n",
       "    </tr>\n",
       "    <tr>\n",
       "      <th>1</th>\n",
       "      <td>Afghanistan</td>\n",
       "      <td>Data source</td>\n",
       "      <td>Beer</td>\n",
       "      <td>NaN</td>\n",
       "      <td>0.01</td>\n",
       "      <td>0.01</td>\n",
       "      <td>0.01</td>\n",
       "      <td>0.01</td>\n",
       "      <td>0.01</td>\n",
       "      <td>0.01</td>\n",
       "    </tr>\n",
       "    <tr>\n",
       "      <th>2</th>\n",
       "      <td>Afghanistan</td>\n",
       "      <td>Data source</td>\n",
       "      <td>Wine</td>\n",
       "      <td>NaN</td>\n",
       "      <td>0.00</td>\n",
       "      <td>0.00</td>\n",
       "      <td>0.00</td>\n",
       "      <td>0.00</td>\n",
       "      <td>0.00</td>\n",
       "      <td>0.00</td>\n",
       "    </tr>\n",
       "    <tr>\n",
       "      <th>3</th>\n",
       "      <td>Afghanistan</td>\n",
       "      <td>Data source</td>\n",
       "      <td>Spirits</td>\n",
       "      <td>NaN</td>\n",
       "      <td>0.02</td>\n",
       "      <td>0.02</td>\n",
       "      <td>0.02</td>\n",
       "      <td>0.03</td>\n",
       "      <td>0.03</td>\n",
       "      <td>0.02</td>\n",
       "    </tr>\n",
       "    <tr>\n",
       "      <th>4</th>\n",
       "      <td>Afghanistan</td>\n",
       "      <td>Data source</td>\n",
       "      <td>Other alcoholic beverages</td>\n",
       "      <td>NaN</td>\n",
       "      <td>0.00</td>\n",
       "      <td>0.00</td>\n",
       "      <td>0.00</td>\n",
       "      <td>0.00</td>\n",
       "      <td>0.00</td>\n",
       "      <td>0.00</td>\n",
       "    </tr>\n",
       "  </tbody>\n",
       "</table>\n",
       "</div>"
      ],
      "text/plain": [
       "       Country   Data Source              Beverage Types  2016  2015  2014  \\\n",
       "0  Afghanistan   Data source                   All types   NaN  0.02  0.03   \n",
       "1  Afghanistan   Data source                        Beer   NaN  0.01  0.01   \n",
       "2  Afghanistan   Data source                        Wine   NaN  0.00  0.00   \n",
       "3  Afghanistan   Data source                     Spirits   NaN  0.02  0.02   \n",
       "4  Afghanistan   Data source   Other alcoholic beverages   NaN  0.00  0.00   \n",
       "\n",
       "   2013  2012  2011  2010  \n",
       "0  0.03  0.04  0.04  0.03  \n",
       "1  0.01  0.01  0.01  0.01  \n",
       "2  0.00  0.00  0.00  0.00  \n",
       "3  0.02  0.03  0.03  0.02  \n",
       "4  0.00  0.00  0.00  0.00  "
      ]
     },
     "execution_count": 31,
     "metadata": {},
     "output_type": "execute_result"
    }
   ],
   "source": [
    "apc_raw.head()"
   ]
  },
  {
   "cell_type": "code",
   "execution_count": 32,
   "metadata": {},
   "outputs": [],
   "source": [
    "apc_raw = apc_raw[~apc_raw['Beverage Types'].isin(beverages)]"
   ]
  },
  {
   "cell_type": "code",
   "execution_count": 33,
   "metadata": {},
   "outputs": [],
   "source": [
    "apc_data = apc_raw.drop(['Data Source', 'Beverage Types'], axis=1)"
   ]
  },
  {
   "cell_type": "code",
   "execution_count": 34,
   "metadata": {},
   "outputs": [],
   "source": [
    "apc_data = apc_data.dropna()"
   ]
  },
  {
   "cell_type": "code",
   "execution_count": 35,
   "metadata": {},
   "outputs": [],
   "source": [
    "apc_data.reset_index(inplace=True, drop=True)\n",
    "apc_data.reset_index(inplace=True)"
   ]
  },
  {
   "cell_type": "code",
   "execution_count": 36,
   "metadata": {},
   "outputs": [
    {
     "data": {
      "text/html": [
       "<div>\n",
       "<style scoped>\n",
       "    .dataframe tbody tr th:only-of-type {\n",
       "        vertical-align: middle;\n",
       "    }\n",
       "\n",
       "    .dataframe tbody tr th {\n",
       "        vertical-align: top;\n",
       "    }\n",
       "\n",
       "    .dataframe thead th {\n",
       "        text-align: right;\n",
       "    }\n",
       "</style>\n",
       "<table border=\"1\" class=\"dataframe\">\n",
       "  <thead>\n",
       "    <tr style=\"text-align: right;\">\n",
       "      <th></th>\n",
       "      <th>index</th>\n",
       "      <th>Country</th>\n",
       "      <th>2016</th>\n",
       "      <th>2015</th>\n",
       "      <th>2014</th>\n",
       "      <th>2013</th>\n",
       "      <th>2012</th>\n",
       "      <th>2011</th>\n",
       "      <th>2010</th>\n",
       "    </tr>\n",
       "  </thead>\n",
       "  <tbody>\n",
       "    <tr>\n",
       "      <th>0</th>\n",
       "      <td>0</td>\n",
       "      <td>Albania</td>\n",
       "      <td>5.07</td>\n",
       "      <td>4.77</td>\n",
       "      <td>4.81</td>\n",
       "      <td>5.06</td>\n",
       "      <td>5.43</td>\n",
       "      <td>5.65</td>\n",
       "      <td>5.53</td>\n",
       "    </tr>\n",
       "    <tr>\n",
       "      <th>1</th>\n",
       "      <td>1</td>\n",
       "      <td>Algeria</td>\n",
       "      <td>0.56</td>\n",
       "      <td>0.56</td>\n",
       "      <td>0.56</td>\n",
       "      <td>0.54</td>\n",
       "      <td>0.49</td>\n",
       "      <td>0.44</td>\n",
       "      <td>0.39</td>\n",
       "    </tr>\n",
       "    <tr>\n",
       "      <th>2</th>\n",
       "      <td>2</td>\n",
       "      <td>Andorra</td>\n",
       "      <td>10.06</td>\n",
       "      <td>9.97</td>\n",
       "      <td>9.95</td>\n",
       "      <td>9.78</td>\n",
       "      <td>10.06</td>\n",
       "      <td>10.31</td>\n",
       "      <td>10.64</td>\n",
       "    </tr>\n",
       "    <tr>\n",
       "      <th>3</th>\n",
       "      <td>3</td>\n",
       "      <td>Angola</td>\n",
       "      <td>4.70</td>\n",
       "      <td>5.65</td>\n",
       "      <td>9.00</td>\n",
       "      <td>8.02</td>\n",
       "      <td>8.14</td>\n",
       "      <td>7.86</td>\n",
       "      <td>7.67</td>\n",
       "    </tr>\n",
       "    <tr>\n",
       "      <th>4</th>\n",
       "      <td>4</td>\n",
       "      <td>Armenia</td>\n",
       "      <td>3.77</td>\n",
       "      <td>3.84</td>\n",
       "      <td>3.97</td>\n",
       "      <td>3.72</td>\n",
       "      <td>3.84</td>\n",
       "      <td>4.06</td>\n",
       "      <td>4.23</td>\n",
       "    </tr>\n",
       "  </tbody>\n",
       "</table>\n",
       "</div>"
      ],
      "text/plain": [
       "   index  Country   2016  2015  2014  2013   2012   2011   2010\n",
       "0      0  Albania   5.07  4.77  4.81  5.06   5.43   5.65   5.53\n",
       "1      1  Algeria   0.56  0.56  0.56  0.54   0.49   0.44   0.39\n",
       "2      2  Andorra  10.06  9.97  9.95  9.78  10.06  10.31  10.64\n",
       "3      3   Angola   4.70  5.65  9.00  8.02   8.14   7.86   7.67\n",
       "4      4  Armenia   3.77  3.84  3.97  3.72   3.84   4.06   4.23"
      ]
     },
     "execution_count": 36,
     "metadata": {},
     "output_type": "execute_result"
    }
   ],
   "source": [
    "apc_data.head()"
   ]
  },
  {
   "cell_type": "code",
   "execution_count": 97,
   "metadata": {},
   "outputs": [],
   "source": [
    "apc_data['Country'] = apc_data['Country'].map(lambda x: x.strip())"
   ]
  },
  {
   "cell_type": "code",
   "execution_count": 98,
   "metadata": {},
   "outputs": [],
   "source": [
    "apc_data.to_csv('data/apc_data.csv', index=False)"
   ]
  },
  {
   "cell_type": "markdown",
   "metadata": {},
   "source": [
    "## Tobac ad cleaning"
   ]
  },
  {
   "cell_type": "code",
   "execution_count": 38,
   "metadata": {},
   "outputs": [],
   "source": [
    "# tobac_ad_raw.rename(columns={})"
   ]
  },
  {
   "cell_type": "code",
   "execution_count": 39,
   "metadata": {},
   "outputs": [],
   "source": [
    "# tobac_ad_ban = tobac_ad_raw.rename(columns={})"
   ]
  },
  {
   "cell_type": "markdown",
   "metadata": {},
   "source": [
    "## Country data"
   ]
  },
  {
   "cell_type": "code",
   "execution_count": 41,
   "metadata": {},
   "outputs": [],
   "source": [
    "# country_data.columns"
   ]
  },
  {
   "cell_type": "code",
   "execution_count": 42,
   "metadata": {},
   "outputs": [],
   "source": [
    "gdp_data = country_data[['Country', 'Population', 'GDP ($ per capita)']]"
   ]
  },
  {
   "cell_type": "code",
   "execution_count": 43,
   "metadata": {},
   "outputs": [
    {
     "name": "stderr",
     "output_type": "stream",
     "text": [
      "/home/emad/anaconda3/lib/python3.7/site-packages/ipykernel_launcher.py:1: SettingWithCopyWarning: \n",
      "A value is trying to be set on a copy of a slice from a DataFrame.\n",
      "Try using .loc[row_indexer,col_indexer] = value instead\n",
      "\n",
      "See the caveats in the documentation: http://pandas.pydata.org/pandas-docs/stable/indexing.html#indexing-view-versus-copy\n",
      "  \"\"\"Entry point for launching an IPython kernel.\n"
     ]
    }
   ],
   "source": [
    "gdp_data['Country'] =  gdp_data['Country'].apply(lambda x: x.strip())"
   ]
  },
  {
   "cell_type": "code",
   "execution_count": 44,
   "metadata": {},
   "outputs": [],
   "source": [
    "gdp_data.reset_index(inplace=True, drop=True)\n",
    "gdp_data.reset_index(inplace=True)"
   ]
  },
  {
   "cell_type": "code",
   "execution_count": 99,
   "metadata": {},
   "outputs": [
    {
     "name": "stderr",
     "output_type": "stream",
     "text": [
      "/home/emad/anaconda3/lib/python3.7/site-packages/ipykernel_launcher.py:1: SettingWithCopyWarning: \n",
      "A value is trying to be set on a copy of a slice from a DataFrame.\n",
      "Try using .loc[row_indexer,col_indexer] = value instead\n",
      "\n",
      "See the caveats in the documentation: http://pandas.pydata.org/pandas-docs/stable/indexing.html#indexing-view-versus-copy\n",
      "  \"\"\"Entry point for launching an IPython kernel.\n"
     ]
    }
   ],
   "source": [
    "gdp_data['Country'] = gdp_data['Country'].map(lambda x: x.strip())"
   ]
  },
  {
   "cell_type": "code",
   "execution_count": 100,
   "metadata": {},
   "outputs": [],
   "source": [
    "gdp_data.to_csv('data/gdp_data.csv', index=False)"
   ]
  },
  {
   "cell_type": "markdown",
   "metadata": {},
   "source": [
    "## Merging different datasets based on country\n",
    "    \n",
    "    The name of countries are not the same over different datasets.\n",
    "    \n",
    "    - Preparing a list of countries with same names\n",
    "    \n"
   ]
  },
  {
   "cell_type": "markdown",
   "metadata": {},
   "source": [
    "### Unifiying countries name"
   ]
  },
  {
   "cell_type": "code",
   "execution_count": 101,
   "metadata": {},
   "outputs": [
    {
     "name": "stdout",
     "output_type": "stream",
     "text": [
      "Number of countries in tobacco use table: 127\n",
      "Number of countries in tobacco cost table: 173\n",
      "Number of countries in APC table: 93\n",
      "Number of countries in GDP table: 227\n"
     ]
    }
   ],
   "source": [
    "cost_countries = tobac_cost['Country'].unique()\n",
    "use_countries = tobac_use['Country'].unique()\n",
    "apc_countries = apc_data['Country'].unique()\n",
    "gdp_countries = gdp_data['Country'].unique()\n",
    "print(f\"Number of countries in tobacco use table: {len(use_countries)}\")\n",
    "print(f\"Number of countries in tobacco cost table: {len(cost_countries)}\")\n",
    "print(f\"Number of countries in APC table: {len(apc_countries)}\")\n",
    "print(f\"Number of countries in GDP table: {len(gdp_countries)}\")"
   ]
  },
  {
   "cell_type": "code",
   "execution_count": 103,
   "metadata": {},
   "outputs": [
    {
     "name": "stdout",
     "output_type": "stream",
     "text": [
      "Number of countries with same names: 62\n"
     ]
    }
   ],
   "source": [
    "same_countries = reduce(np.intersect1d, (cost_countries, use_countries, apc_countries, gdp_countries)) \n",
    "print(f\"Number of countries with same names: {len(same_countries)}\")"
   ]
  },
  {
   "cell_type": "code",
   "execution_count": 82,
   "metadata": {},
   "outputs": [],
   "source": [
    "cost_diff = cost_countries[np.isin(cost_countries, same_countries, invert=True)] "
   ]
  },
  {
   "cell_type": "code",
   "execution_count": 83,
   "metadata": {},
   "outputs": [],
   "source": [
    "use_diff = use_countries[np.isin(use_countries, same_countries, invert=True)] "
   ]
  },
  {
   "cell_type": "code",
   "execution_count": 84,
   "metadata": {},
   "outputs": [],
   "source": [
    "apc_diff = apc_countries[np.isin(apc_countries, same_countries, invert=True)] "
   ]
  },
  {
   "cell_type": "code",
   "execution_count": 85,
   "metadata": {},
   "outputs": [],
   "source": [
    "gdp_diff = gdp_countries[np.isin(gdp_countries, same_countries, invert=True)]"
   ]
  },
  {
   "cell_type": "code",
   "execution_count": 138,
   "metadata": {},
   "outputs": [
    {
     "name": "stdout",
     "output_type": "stream",
     "text": [
      "Andorra\n",
      "Argentina\n",
      "Austria\n",
      "Bangladesh\n",
      "Barbados\n",
      "Belgium\n",
      "Benin\n",
      "Bolivia (Plurinational State of)\n",
      "Bosnia and Herzegovina\n",
      "Brunei Darussalam\n",
      "Burkina Faso\n",
      "Cabo Verde\n",
      "Cameroon\n",
      "Chile\n",
      "Comoros\n",
      "Congo\n",
      "Cuba\n",
      "Czechia\n",
      "Eswatini\n",
      "Ethiopia\n",
      "Fiji\n",
      "Ghana\n",
      "Haiti\n",
      "Hungary\n",
      "Iran (Islamic Republic of)\n",
      "Japan\n",
      "Kenya\n",
      "Kiribati\n",
      "Lao People's Democratic Republic\n",
      "Lesotho\n",
      "Liberia\n",
      "Malawi\n",
      "Mali\n",
      "Mauritania\n",
      "Mauritius\n",
      "Mongolia\n",
      "Morocco\n",
      "Myanmar\n",
      "Namibia\n",
      "Nauru\n",
      "Nepal\n",
      "Netherlands\n",
      "Niger\n",
      "Nigeria\n",
      "Niue\n",
      "Republic of Korea\n",
      "Republic of Moldova\n",
      "Romania\n",
      "Russian Federation\n",
      "Samoa\n",
      "Saudi Arabia\n",
      "Senegal\n",
      "Seychelles\n",
      "Sierra Leone\n",
      "Sri Lanka\n",
      "Thailand\n",
      "Tonga\n",
      "Uganda\n",
      "United Kingdom of Great Britain and Northern Ireland\n",
      "United Republic of Tanzania\n",
      "United States of America\n",
      "Uruguay\n",
      "Viet Nam\n",
      "Zambia\n",
      "Zimbabwe\n"
     ]
    }
   ],
   "source": [
    "for c in use_diff:\n",
    "    print(c)"
   ]
  },
  {
   "cell_type": "code",
   "execution_count": 135,
   "metadata": {},
   "outputs": [],
   "source": [
    "# print(\"Countries in apc but not in use_countries\")\n",
    "# for c in apc_countries[np.isin(apc_countries, np.intersect1d(use_countries, apc_countries), invert=True)]:\n",
    "#     print(c)"
   ]
  },
  {
   "cell_type": "code",
   "execution_count": 136,
   "metadata": {},
   "outputs": [],
   "source": [
    "# print(\"Countries in cost but not in use_countries\")\n",
    "# for c in cost_countries[np.isin(cost_countries, np.intersect1d(use_countries, cost_countries), invert=True)]:\n",
    "#     print(c)"
   ]
  },
  {
   "cell_type": "code",
   "execution_count": 137,
   "metadata": {},
   "outputs": [],
   "source": [
    "# print(\"Countries in gdp but not in use_countries\")\n",
    "# for c in gdp_countries[np.isin(gdp_countries, np.intersect1d(use_countries, gdp_countries), invert=True)]:\n",
    "#     print(c)"
   ]
  },
  {
   "cell_type": "code",
   "execution_count": null,
   "metadata": {},
   "outputs": [],
   "source": [
    "cost_map_countries = {:\"Congo\",}"
   ]
  },
  {
   "cell_type": "code",
   "execution_count": null,
   "metadata": {},
   "outputs": [],
   "source": [
    "gdp_map_countries = {\"Bolivia\": \"Bolivia (Plurinational State of)\", \n",
    "                     \"Bosnia & Herzegovina\":\"Bosnia and Herzegovina\",\n",
    "                    \"Brunei\": \"Brunei Darussalam\",\n",
    "                    \"Cape Verde\": \"Cabo Verde\",\n",
    "                    \"Czech Republic\": \"Czechia\",\n",
    "                    \"Iran\": \"Iran (Islamic Republic of)\",\n",
    "                    \"United Kingdom\": \"United Kingdom of Great Britain and Northern Ireland\"}"
   ]
  },
  {
   "cell_type": "code",
   "execution_count": null,
   "metadata": {},
   "outputs": [],
   "source": [
    "# gdp_tobac_use = pd.merge(gdp_data, tobac_use, on='Country') "
   ]
  },
  {
   "cell_type": "code",
   "execution_count": null,
   "metadata": {},
   "outputs": [],
   "source": [
    "# gdp_tobac_use = gdp_tobac_use.rename(columns={\"Male\": \"Male Tobacco Use%\", \"Female\": \"Female Tobacco Use%\"})"
   ]
  },
  {
   "cell_type": "code",
   "execution_count": null,
   "metadata": {},
   "outputs": [],
   "source": [
    "# gdp_tobac_use[gdp_tobac_use['Country']=='Germany'] "
   ]
  },
  {
   "cell_type": "code",
   "execution_count": 74,
   "metadata": {},
   "outputs": [],
   "source": [
    "# gdp_tobac_use.plot.scatter(x='GDP ($ per capita)',\n",
    "#                            y='Male Tobacco Use%')"
   ]
  },
  {
   "cell_type": "code",
   "execution_count": null,
   "metadata": {},
   "outputs": [],
   "source": [
    "# Make csv of clean data.\n",
    "# tobac_use.to_csv('data/Clean_Data/cl-tobac-use.csv')\n",
    "# tobac_cost.to_csv('data/Clean_Data/cl-tobac-cost.csv')\n",
    "# gdp_data.to_csv('data/Clean_Data/cl-gdp-data.csv')"
   ]
  },
  {
   "cell_type": "code",
   "execution_count": null,
   "metadata": {},
   "outputs": [],
   "source": []
  }
 ],
 "metadata": {
  "kernelspec": {
   "display_name": "Python 3",
   "language": "python",
   "name": "python3"
  },
  "language_info": {
   "codemirror_mode": {
    "name": "ipython",
    "version": 3
   },
   "file_extension": ".py",
   "mimetype": "text/x-python",
   "name": "python",
   "nbconvert_exporter": "python",
   "pygments_lexer": "ipython3",
   "version": "3.7.5"
  }
 },
 "nbformat": 4,
 "nbformat_minor": 2
}
