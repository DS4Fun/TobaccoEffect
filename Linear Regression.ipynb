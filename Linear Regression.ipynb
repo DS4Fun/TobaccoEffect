{
 "cells": [
  {
   "cell_type": "code",
   "execution_count": 1,
   "metadata": {},
   "outputs": [],
   "source": [
    "import numpy as np\n",
    "from sklearn.linear_model import LinearRegression\n",
    "from sklearn.preprocessing import PolynomialFeatures\n",
    "import pandas as pd\n",
    "from sklearn.model_selection import train_test_split"
   ]
  },
  {
   "cell_type": "code",
   "execution_count": 2,
   "metadata": {},
   "outputs": [],
   "source": [
    "df = pd.read_csv('data/tobacco_data.csv')"
   ]
  },
  {
   "cell_type": "code",
   "execution_count": 3,
   "metadata": {},
   "outputs": [
    {
     "data": {
      "text/html": [
       "<div>\n",
       "<style scoped>\n",
       "    .dataframe tbody tr th:only-of-type {\n",
       "        vertical-align: middle;\n",
       "    }\n",
       "\n",
       "    .dataframe tbody tr th {\n",
       "        vertical-align: top;\n",
       "    }\n",
       "\n",
       "    .dataframe thead th {\n",
       "        text-align: right;\n",
       "    }\n",
       "</style>\n",
       "<table border=\"1\" class=\"dataframe\">\n",
       "  <thead>\n",
       "    <tr style=\"text-align: right;\">\n",
       "      <th></th>\n",
       "      <th>Country</th>\n",
       "      <th>Year</th>\n",
       "      <th>Tobac_Use_M</th>\n",
       "      <th>Tobac_Use_F</th>\n",
       "      <th>Tax_2015</th>\n",
       "      <th>Happiness_Score</th>\n",
       "      <th>Afford_2015</th>\n",
       "      <th>Ban_Score_Dir_Ads</th>\n",
       "      <th>Ban_Score_Indr_Ads</th>\n",
       "      <th>Ban_Score_add_indir_ads</th>\n",
       "      <th>Warn_Score</th>\n",
       "      <th>Ban_Score_places</th>\n",
       "    </tr>\n",
       "  </thead>\n",
       "  <tbody>\n",
       "    <tr>\n",
       "      <td>0</td>\n",
       "      <td>Albania</td>\n",
       "      <td>2015</td>\n",
       "      <td>51.2</td>\n",
       "      <td>7.6</td>\n",
       "      <td>65.195</td>\n",
       "      <td>4.959</td>\n",
       "      <td>3.920</td>\n",
       "      <td>8</td>\n",
       "      <td>8</td>\n",
       "      <td>3</td>\n",
       "      <td>50</td>\n",
       "      <td>8</td>\n",
       "    </tr>\n",
       "    <tr>\n",
       "      <td>1</td>\n",
       "      <td>Argentina</td>\n",
       "      <td>2015</td>\n",
       "      <td>29.5</td>\n",
       "      <td>18.4</td>\n",
       "      <td>75.045</td>\n",
       "      <td>6.574</td>\n",
       "      <td>1.310</td>\n",
       "      <td>7</td>\n",
       "      <td>10</td>\n",
       "      <td>5</td>\n",
       "      <td>50</td>\n",
       "      <td>8</td>\n",
       "    </tr>\n",
       "    <tr>\n",
       "      <td>2</td>\n",
       "      <td>Armenia</td>\n",
       "      <td>2015</td>\n",
       "      <td>52.3</td>\n",
       "      <td>1.5</td>\n",
       "      <td>34.165</td>\n",
       "      <td>4.350</td>\n",
       "      <td>3.945</td>\n",
       "      <td>5</td>\n",
       "      <td>2</td>\n",
       "      <td>0</td>\n",
       "      <td>50</td>\n",
       "      <td>3</td>\n",
       "    </tr>\n",
       "    <tr>\n",
       "      <td>3</td>\n",
       "      <td>Australia</td>\n",
       "      <td>2015</td>\n",
       "      <td>16.7</td>\n",
       "      <td>13.1</td>\n",
       "      <td>58.515</td>\n",
       "      <td>7.284</td>\n",
       "      <td>2.285</td>\n",
       "      <td>6</td>\n",
       "      <td>2</td>\n",
       "      <td>0</td>\n",
       "      <td>83</td>\n",
       "      <td>6</td>\n",
       "    </tr>\n",
       "    <tr>\n",
       "      <td>4</td>\n",
       "      <td>Austria</td>\n",
       "      <td>2015</td>\n",
       "      <td>35.5</td>\n",
       "      <td>34.8</td>\n",
       "      <td>74.835</td>\n",
       "      <td>7.200</td>\n",
       "      <td>1.225</td>\n",
       "      <td>7</td>\n",
       "      <td>8</td>\n",
       "      <td>5</td>\n",
       "      <td>65</td>\n",
       "      <td>2</td>\n",
       "    </tr>\n",
       "  </tbody>\n",
       "</table>\n",
       "</div>"
      ],
      "text/plain": [
       "     Country  Year  Tobac_Use_M  Tobac_Use_F  Tax_2015  Happiness_Score  \\\n",
       "0    Albania  2015         51.2          7.6    65.195            4.959   \n",
       "1  Argentina  2015         29.5         18.4    75.045            6.574   \n",
       "2    Armenia  2015         52.3          1.5    34.165            4.350   \n",
       "3  Australia  2015         16.7         13.1    58.515            7.284   \n",
       "4    Austria  2015         35.5         34.8    74.835            7.200   \n",
       "\n",
       "   Afford_2015  Ban_Score_Dir_Ads  Ban_Score_Indr_Ads  \\\n",
       "0        3.920                  8                   8   \n",
       "1        1.310                  7                  10   \n",
       "2        3.945                  5                   2   \n",
       "3        2.285                  6                   2   \n",
       "4        1.225                  7                   8   \n",
       "\n",
       "   Ban_Score_add_indir_ads Warn_Score  Ban_Score_places  \n",
       "0                        3         50                 8  \n",
       "1                        5         50                 8  \n",
       "2                        0         50                 3  \n",
       "3                        0         83                 6  \n",
       "4                        5         65                 2  "
      ]
     },
     "execution_count": 3,
     "metadata": {},
     "output_type": "execute_result"
    }
   ],
   "source": [
    "df.head()"
   ]
  },
  {
   "cell_type": "code",
   "execution_count": 4,
   "metadata": {},
   "outputs": [],
   "source": [
    "df.drop(['Country', 'Year'] , axis=1, inplace=True)"
   ]
  },
  {
   "cell_type": "code",
   "execution_count": 5,
   "metadata": {},
   "outputs": [
    {
     "data": {
      "text/html": [
       "<div>\n",
       "<style scoped>\n",
       "    .dataframe tbody tr th:only-of-type {\n",
       "        vertical-align: middle;\n",
       "    }\n",
       "\n",
       "    .dataframe tbody tr th {\n",
       "        vertical-align: top;\n",
       "    }\n",
       "\n",
       "    .dataframe thead th {\n",
       "        text-align: right;\n",
       "    }\n",
       "</style>\n",
       "<table border=\"1\" class=\"dataframe\">\n",
       "  <thead>\n",
       "    <tr style=\"text-align: right;\">\n",
       "      <th></th>\n",
       "      <th>Tobac_Use_M</th>\n",
       "      <th>Tobac_Use_F</th>\n",
       "      <th>Tax_2015</th>\n",
       "      <th>Happiness_Score</th>\n",
       "      <th>Afford_2015</th>\n",
       "      <th>Ban_Score_Dir_Ads</th>\n",
       "      <th>Ban_Score_Indr_Ads</th>\n",
       "      <th>Ban_Score_add_indir_ads</th>\n",
       "      <th>Warn_Score</th>\n",
       "      <th>Ban_Score_places</th>\n",
       "    </tr>\n",
       "  </thead>\n",
       "  <tbody>\n",
       "    <tr>\n",
       "      <td>0</td>\n",
       "      <td>51.2</td>\n",
       "      <td>7.6</td>\n",
       "      <td>65.195</td>\n",
       "      <td>4.959</td>\n",
       "      <td>3.920</td>\n",
       "      <td>8</td>\n",
       "      <td>8</td>\n",
       "      <td>3</td>\n",
       "      <td>50</td>\n",
       "      <td>8</td>\n",
       "    </tr>\n",
       "    <tr>\n",
       "      <td>1</td>\n",
       "      <td>29.5</td>\n",
       "      <td>18.4</td>\n",
       "      <td>75.045</td>\n",
       "      <td>6.574</td>\n",
       "      <td>1.310</td>\n",
       "      <td>7</td>\n",
       "      <td>10</td>\n",
       "      <td>5</td>\n",
       "      <td>50</td>\n",
       "      <td>8</td>\n",
       "    </tr>\n",
       "    <tr>\n",
       "      <td>2</td>\n",
       "      <td>52.3</td>\n",
       "      <td>1.5</td>\n",
       "      <td>34.165</td>\n",
       "      <td>4.350</td>\n",
       "      <td>3.945</td>\n",
       "      <td>5</td>\n",
       "      <td>2</td>\n",
       "      <td>0</td>\n",
       "      <td>50</td>\n",
       "      <td>3</td>\n",
       "    </tr>\n",
       "    <tr>\n",
       "      <td>3</td>\n",
       "      <td>16.7</td>\n",
       "      <td>13.1</td>\n",
       "      <td>58.515</td>\n",
       "      <td>7.284</td>\n",
       "      <td>2.285</td>\n",
       "      <td>6</td>\n",
       "      <td>2</td>\n",
       "      <td>0</td>\n",
       "      <td>83</td>\n",
       "      <td>6</td>\n",
       "    </tr>\n",
       "    <tr>\n",
       "      <td>4</td>\n",
       "      <td>35.5</td>\n",
       "      <td>34.8</td>\n",
       "      <td>74.835</td>\n",
       "      <td>7.200</td>\n",
       "      <td>1.225</td>\n",
       "      <td>7</td>\n",
       "      <td>8</td>\n",
       "      <td>5</td>\n",
       "      <td>65</td>\n",
       "      <td>2</td>\n",
       "    </tr>\n",
       "  </tbody>\n",
       "</table>\n",
       "</div>"
      ],
      "text/plain": [
       "   Tobac_Use_M  Tobac_Use_F  Tax_2015  Happiness_Score  Afford_2015  \\\n",
       "0         51.2          7.6    65.195            4.959        3.920   \n",
       "1         29.5         18.4    75.045            6.574        1.310   \n",
       "2         52.3          1.5    34.165            4.350        3.945   \n",
       "3         16.7         13.1    58.515            7.284        2.285   \n",
       "4         35.5         34.8    74.835            7.200        1.225   \n",
       "\n",
       "   Ban_Score_Dir_Ads  Ban_Score_Indr_Ads  Ban_Score_add_indir_ads Warn_Score  \\\n",
       "0                  8                   8                        3         50   \n",
       "1                  7                  10                        5         50   \n",
       "2                  5                   2                        0         50   \n",
       "3                  6                   2                        0         83   \n",
       "4                  7                   8                        5         65   \n",
       "\n",
       "   Ban_Score_places  \n",
       "0                 8  \n",
       "1                 8  \n",
       "2                 3  \n",
       "3                 6  \n",
       "4                 2  "
      ]
     },
     "execution_count": 5,
     "metadata": {},
     "output_type": "execute_result"
    }
   ],
   "source": [
    "df = df.replace('^', 0)\n",
    "df.head()"
   ]
  },
  {
   "cell_type": "markdown",
   "metadata": {},
   "source": [
    "# Correlation Matrix"
   ]
  },
  {
   "cell_type": "code",
   "execution_count": 8,
   "metadata": {},
   "outputs": [
    {
     "data": {
      "text/html": [
       "<style  type=\"text/css\" >\n",
       "    #T_b251f054_377a_11ea_9c96_9b80cf1d2f94row0_col0 {\n",
       "            background-color:  #b40426;\n",
       "            color:  #f1f1f1;\n",
       "        }    #T_b251f054_377a_11ea_9c96_9b80cf1d2f94row0_col1 {\n",
       "            background-color:  #b2ccfb;\n",
       "            color:  #000000;\n",
       "        }    #T_b251f054_377a_11ea_9c96_9b80cf1d2f94row0_col2 {\n",
       "            background-color:  #bed2f6;\n",
       "            color:  #000000;\n",
       "        }    #T_b251f054_377a_11ea_9c96_9b80cf1d2f94row0_col3 {\n",
       "            background-color:  #7699f6;\n",
       "            color:  #000000;\n",
       "        }    #T_b251f054_377a_11ea_9c96_9b80cf1d2f94row0_col4 {\n",
       "            background-color:  #a7c5fe;\n",
       "            color:  #000000;\n",
       "        }    #T_b251f054_377a_11ea_9c96_9b80cf1d2f94row0_col5 {\n",
       "            background-color:  #516ddb;\n",
       "            color:  #000000;\n",
       "        }    #T_b251f054_377a_11ea_9c96_9b80cf1d2f94row0_col6 {\n",
       "            background-color:  #3b4cc0;\n",
       "            color:  #f1f1f1;\n",
       "        }    #T_b251f054_377a_11ea_9c96_9b80cf1d2f94row0_col7 {\n",
       "            background-color:  #3b4cc0;\n",
       "            color:  #f1f1f1;\n",
       "        }    #T_b251f054_377a_11ea_9c96_9b80cf1d2f94row0_col8 {\n",
       "            background-color:  #688aef;\n",
       "            color:  #000000;\n",
       "        }    #T_b251f054_377a_11ea_9c96_9b80cf1d2f94row1_col0 {\n",
       "            background-color:  #a2c1ff;\n",
       "            color:  #000000;\n",
       "        }    #T_b251f054_377a_11ea_9c96_9b80cf1d2f94row1_col1 {\n",
       "            background-color:  #b40426;\n",
       "            color:  #f1f1f1;\n",
       "        }    #T_b251f054_377a_11ea_9c96_9b80cf1d2f94row1_col2 {\n",
       "            background-color:  #f29274;\n",
       "            color:  #000000;\n",
       "        }    #T_b251f054_377a_11ea_9c96_9b80cf1d2f94row1_col3 {\n",
       "            background-color:  #f6bfa6;\n",
       "            color:  #000000;\n",
       "        }    #T_b251f054_377a_11ea_9c96_9b80cf1d2f94row1_col4 {\n",
       "            background-color:  #6180e9;\n",
       "            color:  #000000;\n",
       "        }    #T_b251f054_377a_11ea_9c96_9b80cf1d2f94row1_col5 {\n",
       "            background-color:  #6384eb;\n",
       "            color:  #000000;\n",
       "        }    #T_b251f054_377a_11ea_9c96_9b80cf1d2f94row1_col6 {\n",
       "            background-color:  #6180e9;\n",
       "            color:  #000000;\n",
       "        }    #T_b251f054_377a_11ea_9c96_9b80cf1d2f94row1_col7 {\n",
       "            background-color:  #5572df;\n",
       "            color:  #000000;\n",
       "        }    #T_b251f054_377a_11ea_9c96_9b80cf1d2f94row1_col8 {\n",
       "            background-color:  #6788ee;\n",
       "            color:  #000000;\n",
       "        }    #T_b251f054_377a_11ea_9c96_9b80cf1d2f94row2_col0 {\n",
       "            background-color:  #a5c3fe;\n",
       "            color:  #000000;\n",
       "        }    #T_b251f054_377a_11ea_9c96_9b80cf1d2f94row2_col1 {\n",
       "            background-color:  #f39577;\n",
       "            color:  #000000;\n",
       "        }    #T_b251f054_377a_11ea_9c96_9b80cf1d2f94row2_col2 {\n",
       "            background-color:  #b40426;\n",
       "            color:  #f1f1f1;\n",
       "        }    #T_b251f054_377a_11ea_9c96_9b80cf1d2f94row2_col3 {\n",
       "            background-color:  #f7ba9f;\n",
       "            color:  #000000;\n",
       "        }    #T_b251f054_377a_11ea_9c96_9b80cf1d2f94row2_col4 {\n",
       "            background-color:  #5470de;\n",
       "            color:  #000000;\n",
       "        }    #T_b251f054_377a_11ea_9c96_9b80cf1d2f94row2_col5 {\n",
       "            background-color:  #7295f4;\n",
       "            color:  #000000;\n",
       "        }    #T_b251f054_377a_11ea_9c96_9b80cf1d2f94row2_col6 {\n",
       "            background-color:  #6f92f3;\n",
       "            color:  #000000;\n",
       "        }    #T_b251f054_377a_11ea_9c96_9b80cf1d2f94row2_col7 {\n",
       "            background-color:  #4e68d8;\n",
       "            color:  #000000;\n",
       "        }    #T_b251f054_377a_11ea_9c96_9b80cf1d2f94row2_col8 {\n",
       "            background-color:  #96b7ff;\n",
       "            color:  #000000;\n",
       "        }    #T_b251f054_377a_11ea_9c96_9b80cf1d2f94row3_col0 {\n",
       "            background-color:  #3b4cc0;\n",
       "            color:  #f1f1f1;\n",
       "        }    #T_b251f054_377a_11ea_9c96_9b80cf1d2f94row3_col1 {\n",
       "            background-color:  #f1cdba;\n",
       "            color:  #000000;\n",
       "        }    #T_b251f054_377a_11ea_9c96_9b80cf1d2f94row3_col2 {\n",
       "            background-color:  #f4c5ad;\n",
       "            color:  #000000;\n",
       "        }    #T_b251f054_377a_11ea_9c96_9b80cf1d2f94row3_col3 {\n",
       "            background-color:  #b40426;\n",
       "            color:  #f1f1f1;\n",
       "        }    #T_b251f054_377a_11ea_9c96_9b80cf1d2f94row3_col4 {\n",
       "            background-color:  #3b4cc0;\n",
       "            color:  #f1f1f1;\n",
       "        }    #T_b251f054_377a_11ea_9c96_9b80cf1d2f94row3_col5 {\n",
       "            background-color:  #5d7ce6;\n",
       "            color:  #000000;\n",
       "        }    #T_b251f054_377a_11ea_9c96_9b80cf1d2f94row3_col6 {\n",
       "            background-color:  #6f92f3;\n",
       "            color:  #000000;\n",
       "        }    #T_b251f054_377a_11ea_9c96_9b80cf1d2f94row3_col7 {\n",
       "            background-color:  #6282ea;\n",
       "            color:  #000000;\n",
       "        }    #T_b251f054_377a_11ea_9c96_9b80cf1d2f94row3_col8 {\n",
       "            background-color:  #3b4cc0;\n",
       "            color:  #f1f1f1;\n",
       "        }    #T_b251f054_377a_11ea_9c96_9b80cf1d2f94row4_col0 {\n",
       "            background-color:  #7295f4;\n",
       "            color:  #000000;\n",
       "        }    #T_b251f054_377a_11ea_9c96_9b80cf1d2f94row4_col1 {\n",
       "            background-color:  #3b4cc0;\n",
       "            color:  #f1f1f1;\n",
       "        }    #T_b251f054_377a_11ea_9c96_9b80cf1d2f94row4_col2 {\n",
       "            background-color:  #3b4cc0;\n",
       "            color:  #f1f1f1;\n",
       "        }    #T_b251f054_377a_11ea_9c96_9b80cf1d2f94row4_col3 {\n",
       "            background-color:  #3b4cc0;\n",
       "            color:  #f1f1f1;\n",
       "        }    #T_b251f054_377a_11ea_9c96_9b80cf1d2f94row4_col4 {\n",
       "            background-color:  #b40426;\n",
       "            color:  #f1f1f1;\n",
       "        }    #T_b251f054_377a_11ea_9c96_9b80cf1d2f94row4_col5 {\n",
       "            background-color:  #3b4cc0;\n",
       "            color:  #f1f1f1;\n",
       "        }    #T_b251f054_377a_11ea_9c96_9b80cf1d2f94row4_col6 {\n",
       "            background-color:  #7093f3;\n",
       "            color:  #000000;\n",
       "        }    #T_b251f054_377a_11ea_9c96_9b80cf1d2f94row4_col7 {\n",
       "            background-color:  #7295f4;\n",
       "            color:  #000000;\n",
       "        }    #T_b251f054_377a_11ea_9c96_9b80cf1d2f94row4_col8 {\n",
       "            background-color:  #6e90f2;\n",
       "            color:  #000000;\n",
       "        }    #T_b251f054_377a_11ea_9c96_9b80cf1d2f94row5_col0 {\n",
       "            background-color:  #799cf8;\n",
       "            color:  #000000;\n",
       "        }    #T_b251f054_377a_11ea_9c96_9b80cf1d2f94row5_col1 {\n",
       "            background-color:  #9dbdff;\n",
       "            color:  #000000;\n",
       "        }    #T_b251f054_377a_11ea_9c96_9b80cf1d2f94row5_col2 {\n",
       "            background-color:  #b2ccfb;\n",
       "            color:  #000000;\n",
       "        }    #T_b251f054_377a_11ea_9c96_9b80cf1d2f94row5_col3 {\n",
       "            background-color:  #b6cefa;\n",
       "            color:  #000000;\n",
       "        }    #T_b251f054_377a_11ea_9c96_9b80cf1d2f94row5_col4 {\n",
       "            background-color:  #9bbcff;\n",
       "            color:  #000000;\n",
       "        }    #T_b251f054_377a_11ea_9c96_9b80cf1d2f94row5_col5 {\n",
       "            background-color:  #b40426;\n",
       "            color:  #f1f1f1;\n",
       "        }    #T_b251f054_377a_11ea_9c96_9b80cf1d2f94row5_col6 {\n",
       "            background-color:  #f7b497;\n",
       "            color:  #000000;\n",
       "        }    #T_b251f054_377a_11ea_9c96_9b80cf1d2f94row5_col7 {\n",
       "            background-color:  #f5c4ac;\n",
       "            color:  #000000;\n",
       "        }    #T_b251f054_377a_11ea_9c96_9b80cf1d2f94row5_col8 {\n",
       "            background-color:  #a3c2fe;\n",
       "            color:  #000000;\n",
       "        }    #T_b251f054_377a_11ea_9c96_9b80cf1d2f94row6_col0 {\n",
       "            background-color:  #5673e0;\n",
       "            color:  #000000;\n",
       "        }    #T_b251f054_377a_11ea_9c96_9b80cf1d2f94row6_col1 {\n",
       "            background-color:  #90b2fe;\n",
       "            color:  #000000;\n",
       "        }    #T_b251f054_377a_11ea_9c96_9b80cf1d2f94row6_col2 {\n",
       "            background-color:  #a7c5fe;\n",
       "            color:  #000000;\n",
       "        }    #T_b251f054_377a_11ea_9c96_9b80cf1d2f94row6_col3 {\n",
       "            background-color:  #bad0f8;\n",
       "            color:  #000000;\n",
       "        }    #T_b251f054_377a_11ea_9c96_9b80cf1d2f94row6_col4 {\n",
       "            background-color:  #bbd1f8;\n",
       "            color:  #000000;\n",
       "        }    #T_b251f054_377a_11ea_9c96_9b80cf1d2f94row6_col5 {\n",
       "            background-color:  #f7b89c;\n",
       "            color:  #000000;\n",
       "        }    #T_b251f054_377a_11ea_9c96_9b80cf1d2f94row6_col6 {\n",
       "            background-color:  #b40426;\n",
       "            color:  #f1f1f1;\n",
       "        }    #T_b251f054_377a_11ea_9c96_9b80cf1d2f94row6_col7 {\n",
       "            background-color:  #e7745b;\n",
       "            color:  #000000;\n",
       "        }    #T_b251f054_377a_11ea_9c96_9b80cf1d2f94row6_col8 {\n",
       "            background-color:  #aac7fd;\n",
       "            color:  #000000;\n",
       "        }    #T_b251f054_377a_11ea_9c96_9b80cf1d2f94row7_col0 {\n",
       "            background-color:  #5b7ae5;\n",
       "            color:  #000000;\n",
       "        }    #T_b251f054_377a_11ea_9c96_9b80cf1d2f94row7_col1 {\n",
       "            background-color:  #89acfd;\n",
       "            color:  #000000;\n",
       "        }    #T_b251f054_377a_11ea_9c96_9b80cf1d2f94row7_col2 {\n",
       "            background-color:  #8fb1fe;\n",
       "            color:  #000000;\n",
       "        }    #T_b251f054_377a_11ea_9c96_9b80cf1d2f94row7_col3 {\n",
       "            background-color:  #b3cdfb;\n",
       "            color:  #000000;\n",
       "        }    #T_b251f054_377a_11ea_9c96_9b80cf1d2f94row7_col4 {\n",
       "            background-color:  #bfd3f6;\n",
       "            color:  #000000;\n",
       "        }    #T_b251f054_377a_11ea_9c96_9b80cf1d2f94row7_col5 {\n",
       "            background-color:  #f3c7b1;\n",
       "            color:  #000000;\n",
       "        }    #T_b251f054_377a_11ea_9c96_9b80cf1d2f94row7_col6 {\n",
       "            background-color:  #e7745b;\n",
       "            color:  #000000;\n",
       "        }    #T_b251f054_377a_11ea_9c96_9b80cf1d2f94row7_col7 {\n",
       "            background-color:  #b40426;\n",
       "            color:  #f1f1f1;\n",
       "        }    #T_b251f054_377a_11ea_9c96_9b80cf1d2f94row7_col8 {\n",
       "            background-color:  #97b8ff;\n",
       "            color:  #000000;\n",
       "        }    #T_b251f054_377a_11ea_9c96_9b80cf1d2f94row8_col0 {\n",
       "            background-color:  #8fb1fe;\n",
       "            color:  #000000;\n",
       "        }    #T_b251f054_377a_11ea_9c96_9b80cf1d2f94row8_col1 {\n",
       "            background-color:  #9fbfff;\n",
       "            color:  #000000;\n",
       "        }    #T_b251f054_377a_11ea_9c96_9b80cf1d2f94row8_col2 {\n",
       "            background-color:  #cbd8ee;\n",
       "            color:  #000000;\n",
       "        }    #T_b251f054_377a_11ea_9c96_9b80cf1d2f94row8_col3 {\n",
       "            background-color:  #9abbff;\n",
       "            color:  #000000;\n",
       "        }    #T_b251f054_377a_11ea_9c96_9b80cf1d2f94row8_col4 {\n",
       "            background-color:  #c1d4f4;\n",
       "            color:  #000000;\n",
       "        }    #T_b251f054_377a_11ea_9c96_9b80cf1d2f94row8_col5 {\n",
       "            background-color:  #a3c2fe;\n",
       "            color:  #000000;\n",
       "        }    #T_b251f054_377a_11ea_9c96_9b80cf1d2f94row8_col6 {\n",
       "            background-color:  #b3cdfb;\n",
       "            color:  #000000;\n",
       "        }    #T_b251f054_377a_11ea_9c96_9b80cf1d2f94row8_col7 {\n",
       "            background-color:  #9dbdff;\n",
       "            color:  #000000;\n",
       "        }    #T_b251f054_377a_11ea_9c96_9b80cf1d2f94row8_col8 {\n",
       "            background-color:  #b40426;\n",
       "            color:  #f1f1f1;\n",
       "        }</style><table id=\"T_b251f054_377a_11ea_9c96_9b80cf1d2f94\" ><thead>    <tr>        <th class=\"blank level0\" ></th>        <th class=\"col_heading level0 col0\" >Tobac_Use_M</th>        <th class=\"col_heading level0 col1\" >Tobac_Use_F</th>        <th class=\"col_heading level0 col2\" >Tax_2015</th>        <th class=\"col_heading level0 col3\" >Happiness_Score</th>        <th class=\"col_heading level0 col4\" >Afford_2015</th>        <th class=\"col_heading level0 col5\" >Ban_Score_Dir_Ads</th>        <th class=\"col_heading level0 col6\" >Ban_Score_Indr_Ads</th>        <th class=\"col_heading level0 col7\" >Ban_Score_add_indir_ads</th>        <th class=\"col_heading level0 col8\" >Ban_Score_places</th>    </tr></thead><tbody>\n",
       "                <tr>\n",
       "                        <th id=\"T_b251f054_377a_11ea_9c96_9b80cf1d2f94level0_row0\" class=\"row_heading level0 row0\" >Tobac_Use_M</th>\n",
       "                        <td id=\"T_b251f054_377a_11ea_9c96_9b80cf1d2f94row0_col0\" class=\"data row0 col0\" >1</td>\n",
       "                        <td id=\"T_b251f054_377a_11ea_9c96_9b80cf1d2f94row0_col1\" class=\"data row0 col1\" >0.0847056</td>\n",
       "                        <td id=\"T_b251f054_377a_11ea_9c96_9b80cf1d2f94row0_col2\" class=\"data row0 col2\" >0.0967064</td>\n",
       "                        <td id=\"T_b251f054_377a_11ea_9c96_9b80cf1d2f94row0_col3\" class=\"data row0 col3\" >-0.327438</td>\n",
       "                        <td id=\"T_b251f054_377a_11ea_9c96_9b80cf1d2f94row0_col4\" class=\"data row0 col4\" >-0.0985019</td>\n",
       "                        <td id=\"T_b251f054_377a_11ea_9c96_9b80cf1d2f94row0_col5\" class=\"data row0 col5\" >-0.0689886</td>\n",
       "                        <td id=\"T_b251f054_377a_11ea_9c96_9b80cf1d2f94row0_col6\" class=\"data row0 col6\" >-0.203158</td>\n",
       "                        <td id=\"T_b251f054_377a_11ea_9c96_9b80cf1d2f94row0_col7\" class=\"data row0 col7\" >-0.187177</td>\n",
       "                        <td id=\"T_b251f054_377a_11ea_9c96_9b80cf1d2f94row0_col8\" class=\"data row0 col8\" >0.0125115</td>\n",
       "            </tr>\n",
       "            <tr>\n",
       "                        <th id=\"T_b251f054_377a_11ea_9c96_9b80cf1d2f94level0_row1\" class=\"row_heading level0 row1\" >Tobac_Use_F</th>\n",
       "                        <td id=\"T_b251f054_377a_11ea_9c96_9b80cf1d2f94row1_col0\" class=\"data row1 col0\" >0.0847056</td>\n",
       "                        <td id=\"T_b251f054_377a_11ea_9c96_9b80cf1d2f94row1_col1\" class=\"data row1 col1\" >1</td>\n",
       "                        <td id=\"T_b251f054_377a_11ea_9c96_9b80cf1d2f94row1_col2\" class=\"data row1 col2\" >0.656236</td>\n",
       "                        <td id=\"T_b251f054_377a_11ea_9c96_9b80cf1d2f94row1_col3\" class=\"data row1 col3\" >0.420648</td>\n",
       "                        <td id=\"T_b251f054_377a_11ea_9c96_9b80cf1d2f94row1_col4\" class=\"data row1 col4\" >-0.42563</td>\n",
       "                        <td id=\"T_b251f054_377a_11ea_9c96_9b80cf1d2f94row1_col5\" class=\"data row1 col5\" >-0.00518897</td>\n",
       "                        <td id=\"T_b251f054_377a_11ea_9c96_9b80cf1d2f94row1_col6\" class=\"data row1 col6\" >-0.0535025</td>\n",
       "                        <td id=\"T_b251f054_377a_11ea_9c96_9b80cf1d2f94row1_col7\" class=\"data row1 col7\" >-0.0825792</td>\n",
       "                        <td id=\"T_b251f054_377a_11ea_9c96_9b80cf1d2f94row1_col8\" class=\"data row1 col8\" >0.00868903</td>\n",
       "            </tr>\n",
       "            <tr>\n",
       "                        <th id=\"T_b251f054_377a_11ea_9c96_9b80cf1d2f94level0_row2\" class=\"row_heading level0 row2\" >Tax_2015</th>\n",
       "                        <td id=\"T_b251f054_377a_11ea_9c96_9b80cf1d2f94row2_col0\" class=\"data row2 col0\" >0.0967064</td>\n",
       "                        <td id=\"T_b251f054_377a_11ea_9c96_9b80cf1d2f94row2_col1\" class=\"data row2 col1\" >0.656236</td>\n",
       "                        <td id=\"T_b251f054_377a_11ea_9c96_9b80cf1d2f94row2_col2\" class=\"data row2 col2\" >1</td>\n",
       "                        <td id=\"T_b251f054_377a_11ea_9c96_9b80cf1d2f94row2_col3\" class=\"data row2 col3\" >0.441964</td>\n",
       "                        <td id=\"T_b251f054_377a_11ea_9c96_9b80cf1d2f94row2_col4\" class=\"data row2 col4\" >-0.487305</td>\n",
       "                        <td id=\"T_b251f054_377a_11ea_9c96_9b80cf1d2f94row2_col5\" class=\"data row2 col5\" >0.0459263</td>\n",
       "                        <td id=\"T_b251f054_377a_11ea_9c96_9b80cf1d2f94row2_col6\" class=\"data row2 col6\" >-0.00311081</td>\n",
       "                        <td id=\"T_b251f054_377a_11ea_9c96_9b80cf1d2f94row2_col7\" class=\"data row2 col7\" >-0.10922</td>\n",
       "                        <td id=\"T_b251f054_377a_11ea_9c96_9b80cf1d2f94row2_col8\" class=\"data row2 col8\" >0.16135</td>\n",
       "            </tr>\n",
       "            <tr>\n",
       "                        <th id=\"T_b251f054_377a_11ea_9c96_9b80cf1d2f94level0_row3\" class=\"row_heading level0 row3\" >Happiness_Score</th>\n",
       "                        <td id=\"T_b251f054_377a_11ea_9c96_9b80cf1d2f94row3_col0\" class=\"data row3 col0\" >-0.327438</td>\n",
       "                        <td id=\"T_b251f054_377a_11ea_9c96_9b80cf1d2f94row3_col1\" class=\"data row3 col1\" >0.420648</td>\n",
       "                        <td id=\"T_b251f054_377a_11ea_9c96_9b80cf1d2f94row3_col2\" class=\"data row3 col2\" >0.441964</td>\n",
       "                        <td id=\"T_b251f054_377a_11ea_9c96_9b80cf1d2f94row3_col3\" class=\"data row3 col3\" >1</td>\n",
       "                        <td id=\"T_b251f054_377a_11ea_9c96_9b80cf1d2f94row3_col4\" class=\"data row3 col4\" >-0.626922</td>\n",
       "                        <td id=\"T_b251f054_377a_11ea_9c96_9b80cf1d2f94row3_col5\" class=\"data row3 col5\" >-0.0272592</td>\n",
       "                        <td id=\"T_b251f054_377a_11ea_9c96_9b80cf1d2f94row3_col6\" class=\"data row3 col6\" >-0.00420253</td>\n",
       "                        <td id=\"T_b251f054_377a_11ea_9c96_9b80cf1d2f94row3_col7\" class=\"data row3 col7\" >-0.0360306</td>\n",
       "                        <td id=\"T_b251f054_377a_11ea_9c96_9b80cf1d2f94row3_col8\" class=\"data row3 col8\" >-0.156774</td>\n",
       "            </tr>\n",
       "            <tr>\n",
       "                        <th id=\"T_b251f054_377a_11ea_9c96_9b80cf1d2f94level0_row4\" class=\"row_heading level0 row4\" >Afford_2015</th>\n",
       "                        <td id=\"T_b251f054_377a_11ea_9c96_9b80cf1d2f94row4_col0\" class=\"data row4 col0\" >-0.0985019</td>\n",
       "                        <td id=\"T_b251f054_377a_11ea_9c96_9b80cf1d2f94row4_col1\" class=\"data row4 col1\" >-0.42563</td>\n",
       "                        <td id=\"T_b251f054_377a_11ea_9c96_9b80cf1d2f94row4_col2\" class=\"data row4 col2\" >-0.487305</td>\n",
       "                        <td id=\"T_b251f054_377a_11ea_9c96_9b80cf1d2f94row4_col3\" class=\"data row4 col3\" >-0.626922</td>\n",
       "                        <td id=\"T_b251f054_377a_11ea_9c96_9b80cf1d2f94row4_col4\" class=\"data row4 col4\" >1</td>\n",
       "                        <td id=\"T_b251f054_377a_11ea_9c96_9b80cf1d2f94row4_col5\" class=\"data row4 col5\" >-0.155646</td>\n",
       "                        <td id=\"T_b251f054_377a_11ea_9c96_9b80cf1d2f94row4_col6\" class=\"data row4 col6\" >-0.000443755</td>\n",
       "                        <td id=\"T_b251f054_377a_11ea_9c96_9b80cf1d2f94row4_col7\" class=\"data row4 col7\" >0.0193821</td>\n",
       "                        <td id=\"T_b251f054_377a_11ea_9c96_9b80cf1d2f94row4_col8\" class=\"data row4 col8\" >0.0304187</td>\n",
       "            </tr>\n",
       "            <tr>\n",
       "                        <th id=\"T_b251f054_377a_11ea_9c96_9b80cf1d2f94level0_row5\" class=\"row_heading level0 row5\" >Ban_Score_Dir_Ads</th>\n",
       "                        <td id=\"T_b251f054_377a_11ea_9c96_9b80cf1d2f94row5_col0\" class=\"data row5 col0\" >-0.0689886</td>\n",
       "                        <td id=\"T_b251f054_377a_11ea_9c96_9b80cf1d2f94row5_col1\" class=\"data row5 col1\" >-0.00518897</td>\n",
       "                        <td id=\"T_b251f054_377a_11ea_9c96_9b80cf1d2f94row5_col2\" class=\"data row5 col2\" >0.0459263</td>\n",
       "                        <td id=\"T_b251f054_377a_11ea_9c96_9b80cf1d2f94row5_col3\" class=\"data row5 col3\" >-0.0272592</td>\n",
       "                        <td id=\"T_b251f054_377a_11ea_9c96_9b80cf1d2f94row5_col4\" class=\"data row5 col4\" >-0.155646</td>\n",
       "                        <td id=\"T_b251f054_377a_11ea_9c96_9b80cf1d2f94row5_col5\" class=\"data row5 col5\" >1</td>\n",
       "                        <td id=\"T_b251f054_377a_11ea_9c96_9b80cf1d2f94row5_col6\" class=\"data row5 col6\" >0.611921</td>\n",
       "                        <td id=\"T_b251f054_377a_11ea_9c96_9b80cf1d2f94row5_col7\" class=\"data row5 col7\" >0.557217</td>\n",
       "                        <td id=\"T_b251f054_377a_11ea_9c96_9b80cf1d2f94row5_col8\" class=\"data row5 col8\" >0.207777</td>\n",
       "            </tr>\n",
       "            <tr>\n",
       "                        <th id=\"T_b251f054_377a_11ea_9c96_9b80cf1d2f94level0_row6\" class=\"row_heading level0 row6\" >Ban_Score_Indr_Ads</th>\n",
       "                        <td id=\"T_b251f054_377a_11ea_9c96_9b80cf1d2f94row6_col0\" class=\"data row6 col0\" >-0.203158</td>\n",
       "                        <td id=\"T_b251f054_377a_11ea_9c96_9b80cf1d2f94row6_col1\" class=\"data row6 col1\" >-0.0535025</td>\n",
       "                        <td id=\"T_b251f054_377a_11ea_9c96_9b80cf1d2f94row6_col2\" class=\"data row6 col2\" >-0.00311081</td>\n",
       "                        <td id=\"T_b251f054_377a_11ea_9c96_9b80cf1d2f94row6_col3\" class=\"data row6 col3\" >-0.00420253</td>\n",
       "                        <td id=\"T_b251f054_377a_11ea_9c96_9b80cf1d2f94row6_col4\" class=\"data row6 col4\" >-0.000443755</td>\n",
       "                        <td id=\"T_b251f054_377a_11ea_9c96_9b80cf1d2f94row6_col5\" class=\"data row6 col5\" >0.611921</td>\n",
       "                        <td id=\"T_b251f054_377a_11ea_9c96_9b80cf1d2f94row6_col6\" class=\"data row6 col6\" >1</td>\n",
       "                        <td id=\"T_b251f054_377a_11ea_9c96_9b80cf1d2f94row6_col7\" class=\"data row6 col7\" >0.801185</td>\n",
       "                        <td id=\"T_b251f054_377a_11ea_9c96_9b80cf1d2f94row6_col8\" class=\"data row6 col8\" >0.230062</td>\n",
       "            </tr>\n",
       "            <tr>\n",
       "                        <th id=\"T_b251f054_377a_11ea_9c96_9b80cf1d2f94level0_row7\" class=\"row_heading level0 row7\" >Ban_Score_add_indir_ads</th>\n",
       "                        <td id=\"T_b251f054_377a_11ea_9c96_9b80cf1d2f94row7_col0\" class=\"data row7 col0\" >-0.187177</td>\n",
       "                        <td id=\"T_b251f054_377a_11ea_9c96_9b80cf1d2f94row7_col1\" class=\"data row7 col1\" >-0.0825792</td>\n",
       "                        <td id=\"T_b251f054_377a_11ea_9c96_9b80cf1d2f94row7_col2\" class=\"data row7 col2\" >-0.10922</td>\n",
       "                        <td id=\"T_b251f054_377a_11ea_9c96_9b80cf1d2f94row7_col3\" class=\"data row7 col3\" >-0.0360306</td>\n",
       "                        <td id=\"T_b251f054_377a_11ea_9c96_9b80cf1d2f94row7_col4\" class=\"data row7 col4\" >0.0193821</td>\n",
       "                        <td id=\"T_b251f054_377a_11ea_9c96_9b80cf1d2f94row7_col5\" class=\"data row7 col5\" >0.557217</td>\n",
       "                        <td id=\"T_b251f054_377a_11ea_9c96_9b80cf1d2f94row7_col6\" class=\"data row7 col6\" >0.801185</td>\n",
       "                        <td id=\"T_b251f054_377a_11ea_9c96_9b80cf1d2f94row7_col7\" class=\"data row7 col7\" >1</td>\n",
       "                        <td id=\"T_b251f054_377a_11ea_9c96_9b80cf1d2f94row7_col8\" class=\"data row7 col8\" >0.164753</td>\n",
       "            </tr>\n",
       "            <tr>\n",
       "                        <th id=\"T_b251f054_377a_11ea_9c96_9b80cf1d2f94level0_row8\" class=\"row_heading level0 row8\" >Ban_Score_places</th>\n",
       "                        <td id=\"T_b251f054_377a_11ea_9c96_9b80cf1d2f94row8_col0\" class=\"data row8 col0\" >0.0125115</td>\n",
       "                        <td id=\"T_b251f054_377a_11ea_9c96_9b80cf1d2f94row8_col1\" class=\"data row8 col1\" >0.00868903</td>\n",
       "                        <td id=\"T_b251f054_377a_11ea_9c96_9b80cf1d2f94row8_col2\" class=\"data row8 col2\" >0.16135</td>\n",
       "                        <td id=\"T_b251f054_377a_11ea_9c96_9b80cf1d2f94row8_col3\" class=\"data row8 col3\" >-0.156774</td>\n",
       "                        <td id=\"T_b251f054_377a_11ea_9c96_9b80cf1d2f94row8_col4\" class=\"data row8 col4\" >0.0304187</td>\n",
       "                        <td id=\"T_b251f054_377a_11ea_9c96_9b80cf1d2f94row8_col5\" class=\"data row8 col5\" >0.207777</td>\n",
       "                        <td id=\"T_b251f054_377a_11ea_9c96_9b80cf1d2f94row8_col6\" class=\"data row8 col6\" >0.230062</td>\n",
       "                        <td id=\"T_b251f054_377a_11ea_9c96_9b80cf1d2f94row8_col7\" class=\"data row8 col7\" >0.164753</td>\n",
       "                        <td id=\"T_b251f054_377a_11ea_9c96_9b80cf1d2f94row8_col8\" class=\"data row8 col8\" >1</td>\n",
       "            </tr>\n",
       "    </tbody></table>"
      ],
      "text/plain": [
       "<pandas.io.formats.style.Styler at 0x7f8e9a9bb750>"
      ]
     },
     "execution_count": 8,
     "metadata": {},
     "output_type": "execute_result"
    }
   ],
   "source": [
    "corr = df.corr()\n",
    "corr.style.background_gradient(cmap='coolwarm')"
   ]
  },
  {
   "cell_type": "markdown",
   "metadata": {},
   "source": [
    "#### Explanation: \n",
    "The correlation value is in the range of [-1, 1]. The positive value indicates positive impact and so for negative. The value close to boundries (-1 and 1) demonstrate high tangible relation between indicators and on ther side the values close to zero show insignificant relation between indicators."
   ]
  },
  {
   "cell_type": "markdown",
   "metadata": {},
   "source": [
    "#### Analytics:\n",
    "As could be seen on correlation matrix, tobacco usage of men is negatively impacted by happiness and advertisement limitations which makes sense. However, there is no indicator which impact on Men tobacco consumpation. \n",
    "Among all it can be seen that tax is the most important influencer of men consumption, which is against what governments claim about it, but this impact is not much significant. There is only one other indicator which has positive impact on men tobacco usage, which is limitation on places where smoking is allowed. Howere this impact is not much cosiderable.\n",
    "\n",
    "On the other side, women are more influenced by these indicators, as tax an happiness cause more tobacco usage between women, that although show different habitat between women, confirm our hypothesis about tax which increasing the tax won't cause decrease on tobacco usage. However it seems tobacco usage between women is mostly for fun and not one regular habitate.  \n",
    "\n",
    "However, the negative correlation between affordability and women tobacco usage shows that the more affordable women (who could be from wealty class) are less likely to smoke and this could be because of more alternative fun for wealty women.  "
   ]
  },
  {
   "cell_type": "markdown",
   "metadata": {},
   "source": [
    "# Linear Regression\n",
    "https://realpython.com/linear-regression-in-python/\n",
    "\n",
    "\n",
    "https://towardsdatascience.com/let-us-understand-the-correlation-matrix-and-covariance-matrix-d42e6b643c22"
   ]
  },
  {
   "cell_type": "code",
   "execution_count": 10,
   "metadata": {},
   "outputs": [],
   "source": [
    "y_f = np.array(df['Tobac_Use_F'])\n",
    "y_m = np.array(df['Tobac_Use_M'])"
   ]
  },
  {
   "cell_type": "code",
   "execution_count": 11,
   "metadata": {},
   "outputs": [],
   "source": [
    "lr_df = df.drop(['Tobac_Use_M', 'Tobac_Use_F'] , axis=1)"
   ]
  },
  {
   "cell_type": "code",
   "execution_count": 12,
   "metadata": {},
   "outputs": [],
   "source": [
    "x = lr_df.to_numpy()"
   ]
  },
  {
   "cell_type": "code",
   "execution_count": 13,
   "metadata": {},
   "outputs": [
    {
     "data": {
      "text/plain": [
       "0.3348470070477083"
      ]
     },
     "execution_count": 13,
     "metadata": {},
     "output_type": "execute_result"
    }
   ],
   "source": [
    "model_m = LinearRegression().fit(x, y_m)\n",
    "r_sq_m = model_m.score(x, y_m) \n",
    "r_sq_m"
   ]
  },
  {
   "cell_type": "code",
   "execution_count": 14,
   "metadata": {},
   "outputs": [
    {
     "name": "stdout",
     "output_type": "stream",
     "text": [
      "slope: [ 0.1203863  -8.21750376 -1.34606392 -0.25634906 -0.50224731 -0.21917918\n",
      " -0.01711739 -0.28092335]\n"
     ]
    }
   ],
   "source": [
    "print('slope:', model_m.coef_)"
   ]
  },
  {
   "cell_type": "code",
   "execution_count": 15,
   "metadata": {},
   "outputs": [
    {
     "data": {
      "text/plain": [
       "0.4625619100103973"
      ]
     },
     "execution_count": 15,
     "metadata": {},
     "output_type": "execute_result"
    }
   ],
   "source": [
    "model_f = LinearRegression().fit(x, y_f)\n",
    "r_sq_f = model_f.score(x, y_f) \n",
    "r_sq_f"
   ]
  },
  {
   "cell_type": "markdown",
   "metadata": {},
   "source": [
    "#### Explanation: \n",
    "The results show not much satisfying model to map the tobacco usage between countries."
   ]
  },
  {
   "cell_type": "markdown",
   "metadata": {},
   "source": [
    "\n",
    "#### R squared definition:\n",
    "http://www.fairlynerdy.com/what-is-r-squared/\n",
    "Any R squared value greater than zero means that the regression analysis did better than just using a horizontal line through the mean value.  In the rare cases you get a negative r squared value, you should probably rethink your regression analysis, especially if you are forcing an intercept."
   ]
  },
  {
   "cell_type": "code",
   "execution_count": 16,
   "metadata": {},
   "outputs": [
    {
     "name": "stdout",
     "output_type": "stream",
     "text": [
      "slope: [ 0.2770912   0.933964   -0.18411967 -0.13775466 -0.30140579  0.3357009\n",
      "  0.01268157 -0.2118413 ]\n",
      "intercept: -6.314735516844612\n"
     ]
    }
   ],
   "source": [
    "print('slope:', model_f.coef_)\n",
    "print('intercept:', model_f.intercept_)"
   ]
  },
  {
   "cell_type": "markdown",
   "metadata": {},
   "source": [
    "# Polynomial Regression"
   ]
  },
  {
   "cell_type": "markdown",
   "metadata": {},
   "source": [
    "https://towardsdatascience.com/polynomial-regression-bbe8b9d97491"
   ]
  },
  {
   "cell_type": "code",
   "execution_count": 17,
   "metadata": {},
   "outputs": [
    {
     "data": {
      "text/plain": [
       "StandardScaler(copy=True, with_mean=True, with_std=True)"
      ]
     },
     "execution_count": 17,
     "metadata": {},
     "output_type": "execute_result"
    }
   ],
   "source": [
    "from sklearn.metrics import mean_squared_error, r2_score\n",
    "from sklearn.preprocessing import StandardScaler\n",
    "scaler = StandardScaler()\n",
    "poly_features = PolynomialFeatures(degree=2, include_bias=True)\n",
    "X_train, X_test, Y_train, Y_test = train_test_split(x, y_m, test_size=0.3, random_state=1)\n",
    "\n",
    "X_train_poly = poly_features.fit_transform(X_train)\n",
    "X_test_poly = poly_features.fit_transform(X_test)\n",
    "scaler.fit(X_train_poly)\n",
    "scaler.fit(X_test_poly)"
   ]
  },
  {
   "cell_type": "code",
   "execution_count": 18,
   "metadata": {},
   "outputs": [
    {
     "data": {
      "text/plain": [
       "LinearRegression(copy_X=True, fit_intercept=True, n_jobs=None, normalize=False)"
      ]
     },
     "execution_count": 18,
     "metadata": {},
     "output_type": "execute_result"
    }
   ],
   "source": [
    "# fit the transformed features to Linear Regression\n",
    "poly_model = LinearRegression()\n",
    "poly_model.fit(X_train_poly, Y_train)"
   ]
  },
  {
   "cell_type": "code",
   "execution_count": 19,
   "metadata": {},
   "outputs": [],
   "source": [
    "# predicting on training data-set\n",
    "y_train_predicted = poly_model.predict(X_train_poly)"
   ]
  },
  {
   "cell_type": "code",
   "execution_count": 20,
   "metadata": {},
   "outputs": [],
   "source": [
    "# predicting on test data-set\n",
    "y_test_predict = poly_model.predict(X_test_poly)"
   ]
  },
  {
   "cell_type": "code",
   "execution_count": 21,
   "metadata": {},
   "outputs": [],
   "source": [
    "# evaluating the model on training dataset\n",
    "rmse_train = np.sqrt(mean_squared_error(Y_train, y_train_predicted))\n",
    "r2_train = r2_score(Y_train, y_train_predicted)"
   ]
  },
  {
   "cell_type": "code",
   "execution_count": 22,
   "metadata": {},
   "outputs": [],
   "source": [
    "# evaluating the model on test dataset\n",
    "rmse_test = np.sqrt(mean_squared_error(Y_test, y_test_predict))\n",
    "r2_test = r2_score(Y_test, y_test_predict)"
   ]
  },
  {
   "cell_type": "code",
   "execution_count": 23,
   "metadata": {},
   "outputs": [
    {
     "name": "stdout",
     "output_type": "stream",
     "text": [
      "The model performance for the training set\n",
      "-------------------------------------------\n",
      "RMSE of training set is 5.284467783625755\n",
      "R2 score of training set is 0.8148437985479489\n",
      "\n",
      "\n",
      "The model performance for the test set\n",
      "-------------------------------------------\n",
      "RMSE of test set is 16.075558315017837\n",
      "R2 score of test set is -0.29386735670008424\n"
     ]
    }
   ],
   "source": [
    "print(\"The model performance for the training set\")\n",
    "print(\"-------------------------------------------\")\n",
    "print(\"RMSE of training set is {}\".format(rmse_train))\n",
    "print(\"R2 score of training set is {}\".format(r2_train))\n",
    "\n",
    "print(\"\\n\")\n",
    "\n",
    "print(\"The model performance for the test set\")\n",
    "print(\"-------------------------------------------\")\n",
    "print(\"RMSE of test set is {}\".format(rmse_test))\n",
    "print(\"R2 score of test set is {}\".format(r2_test))"
   ]
  },
  {
   "cell_type": "markdown",
   "metadata": {},
   "source": [
    "#### Explanation: \n",
    "The results show overfitting which could be because of applying more complex kernel over small data set."
   ]
  },
  {
   "cell_type": "markdown",
   "metadata": {},
   "source": [
    "# SVM\n",
    "https://realpython.com/linear-regression-in-python/"
   ]
  },
  {
   "cell_type": "code",
   "execution_count": 216,
   "metadata": {},
   "outputs": [],
   "source": [
    "from sklearn.model_selection import train_test_split\n",
    "from sklearn.svm import SVR\n",
    "from sklearn import metrics"
   ]
  },
  {
   "cell_type": "code",
   "execution_count": 223,
   "metadata": {},
   "outputs": [],
   "source": [
    "X_train, X_test, y_train, y_test = train_test_split(x, y_m, test_size=0.2, random_state=1)"
   ]
  },
  {
   "cell_type": "code",
   "execution_count": 224,
   "metadata": {},
   "outputs": [
    {
     "name": "stdout",
     "output_type": "stream",
     "text": [
      "0.2674419488353734\n",
      "-1.6162520347341136\n",
      "10.956854494026805\n",
      "20.845230399345212\n"
     ]
    }
   ],
   "source": [
    "svr = SVR(kernel='linear', epsilon= 0.1) #Default hyperparameters\n",
    "svr.fit(X_train,y_train)\n",
    "y_pred_train = svr.predict(X_train)\n",
    "y_pred_test = svr.predict(X_test)\n",
    "rmse_test = np.sqrt(mean_squared_error(y_test, y_pred_test))\n",
    "rmse_train = np.sqrt(mean_squared_error(y_train, y_pred_train))\n",
    "print(svr.score(X_train,y_train))\n",
    "print(r2_score(y_test,y_pred_test))\n",
    "print(rmse_train)\n",
    "print(rmse_test)\n",
    "# print('Accuracy Score:', svr.score(X_train, y_pred_train, sample_weight=None))"
   ]
  },
  {
   "cell_type": "markdown",
   "metadata": {},
   "source": [
    "R squared intrepretation: https://www.datasciencecentral.com/profiles/blogs/regression-analysis-how-do-i-interpret-r-squared-and-assess-the"
   ]
  },
  {
   "cell_type": "markdown",
   "metadata": {},
   "source": [
    "#### Explanation: \n",
    "No promising result."
   ]
  },
  {
   "cell_type": "code",
   "execution_count": 219,
   "metadata": {},
   "outputs": [],
   "source": [
    "# # evaluating the model on training dataset\n",
    "# rmse_train = np.sqrt(mean_squared_error(y_train, y_pred_train))\n",
    "# r2_train = r2_score(y_train, y_train_predicted)\n",
    "# print(rmse_train, r2_train)"
   ]
  },
  {
   "cell_type": "code",
   "execution_count": 220,
   "metadata": {},
   "outputs": [],
   "source": [
    "# # evaluating the model on testing dataset\n",
    "# rmse_test = np.sqrt(mean_squared_error(y_test, y_pred_test))\n",
    "# r2_test = r2_score(y_test, y_pred_test)\n",
    "# print(rmse_test, r2_test)"
   ]
  }
 ],
 "metadata": {
  "kernelspec": {
   "display_name": "Python 3",
   "language": "python",
   "name": "python3"
  },
  "language_info": {
   "codemirror_mode": {
    "name": "ipython",
    "version": 3
   },
   "file_extension": ".py",
   "mimetype": "text/x-python",
   "name": "python",
   "nbconvert_exporter": "python",
   "pygments_lexer": "ipython3",
   "version": "3.7.4"
  }
 },
 "nbformat": 4,
 "nbformat_minor": 2
}
