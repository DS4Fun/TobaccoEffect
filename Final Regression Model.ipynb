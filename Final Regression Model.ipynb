{
 "cells": [
  {
   "cell_type": "markdown",
   "metadata": {},
   "source": [
    "# The Impact of Economic, Society, Health Care and Law on Tobacco Consumption"
   ]
  },
  {
   "cell_type": "markdown",
   "metadata": {},
   "source": [
    "This study aimed to investigate the impact of different parameters on tobacco consumption in different countries. These parameters are generally categorized into:\n",
    "\n",
    "- Economic: we considered Tax and affordability.\n",
    "    - Tax on tabacco usage \n",
    "    - Affordability: which covers GDP intrinsically\n",
    "- Society: we considered happiness as the indicator of social situation for different country.\n",
    "- Health Care: we also included the score of health warn in this pupose.\n",
    "- Law: we cosidered three different bans on cigarette advertising and ban on smoking in some enclosed public places. \n",
    "\n",
    "\n",
    "** This study is based on gathered data for the year 2015.\n",
    "\n",
    "** All data sets are from WHO reports, except happiness score which is found from a Kaggle research.\n",
    "\n",
    "** Domain study is based on WHO reports.\n",
    "\n",
    "*** Links for data source and domain study will be included later.\n",
    "\n",
    "*** Explanation about data will be covered later."
   ]
  },
  {
   "cell_type": "markdown",
   "metadata": {},
   "source": [
    "### Import libraries"
   ]
  },
  {
   "cell_type": "code",
   "execution_count": 55,
   "metadata": {},
   "outputs": [],
   "source": [
    "import numpy as np\n",
    "import pandas as pd\n",
    "import matplotlib.pyplot as plt\n",
    "import seaborn as sns\n",
    "import statsmodels.api as sm\n",
    "from sklearn.linear_model import LinearRegression\n",
    "from sklearn.model_selection import train_test_split\n",
    "sns.set()"
   ]
  },
  {
   "cell_type": "markdown",
   "metadata": {},
   "source": [
    "### Read File"
   ]
  },
  {
   "cell_type": "code",
   "execution_count": 56,
   "metadata": {},
   "outputs": [
    {
     "data": {
      "text/html": [
       "<div>\n",
       "<style scoped>\n",
       "    .dataframe tbody tr th:only-of-type {\n",
       "        vertical-align: middle;\n",
       "    }\n",
       "\n",
       "    .dataframe tbody tr th {\n",
       "        vertical-align: top;\n",
       "    }\n",
       "\n",
       "    .dataframe thead th {\n",
       "        text-align: right;\n",
       "    }\n",
       "</style>\n",
       "<table border=\"1\" class=\"dataframe\">\n",
       "  <thead>\n",
       "    <tr style=\"text-align: right;\">\n",
       "      <th></th>\n",
       "      <th>Country</th>\n",
       "      <th>Year</th>\n",
       "      <th>Tobac_Use_M</th>\n",
       "      <th>Tobac_Use_F</th>\n",
       "      <th>Tax_2015</th>\n",
       "      <th>Happiness_Score</th>\n",
       "      <th>Afford_2015</th>\n",
       "      <th>Ban_Score_Dir_Ads</th>\n",
       "      <th>Ban_Score_Indr_Ads</th>\n",
       "      <th>Ban_Score_add_indir_ads</th>\n",
       "      <th>Warn_Score</th>\n",
       "      <th>Ban_Score_places</th>\n",
       "    </tr>\n",
       "  </thead>\n",
       "  <tbody>\n",
       "    <tr>\n",
       "      <td>0</td>\n",
       "      <td>Albania</td>\n",
       "      <td>2015</td>\n",
       "      <td>51.2</td>\n",
       "      <td>7.6</td>\n",
       "      <td>65.195</td>\n",
       "      <td>4.959</td>\n",
       "      <td>3.920</td>\n",
       "      <td>8</td>\n",
       "      <td>8</td>\n",
       "      <td>3</td>\n",
       "      <td>50.0</td>\n",
       "      <td>8</td>\n",
       "    </tr>\n",
       "    <tr>\n",
       "      <td>1</td>\n",
       "      <td>Argentina</td>\n",
       "      <td>2015</td>\n",
       "      <td>29.5</td>\n",
       "      <td>18.4</td>\n",
       "      <td>75.045</td>\n",
       "      <td>6.574</td>\n",
       "      <td>1.310</td>\n",
       "      <td>7</td>\n",
       "      <td>10</td>\n",
       "      <td>5</td>\n",
       "      <td>50.0</td>\n",
       "      <td>8</td>\n",
       "    </tr>\n",
       "    <tr>\n",
       "      <td>2</td>\n",
       "      <td>Armenia</td>\n",
       "      <td>2015</td>\n",
       "      <td>52.3</td>\n",
       "      <td>1.5</td>\n",
       "      <td>34.165</td>\n",
       "      <td>4.350</td>\n",
       "      <td>3.945</td>\n",
       "      <td>5</td>\n",
       "      <td>2</td>\n",
       "      <td>0</td>\n",
       "      <td>50.0</td>\n",
       "      <td>3</td>\n",
       "    </tr>\n",
       "    <tr>\n",
       "      <td>3</td>\n",
       "      <td>Australia</td>\n",
       "      <td>2015</td>\n",
       "      <td>16.7</td>\n",
       "      <td>13.1</td>\n",
       "      <td>58.515</td>\n",
       "      <td>7.284</td>\n",
       "      <td>2.285</td>\n",
       "      <td>6</td>\n",
       "      <td>2</td>\n",
       "      <td>0</td>\n",
       "      <td>83.0</td>\n",
       "      <td>6</td>\n",
       "    </tr>\n",
       "    <tr>\n",
       "      <td>4</td>\n",
       "      <td>Austria</td>\n",
       "      <td>2015</td>\n",
       "      <td>35.5</td>\n",
       "      <td>34.8</td>\n",
       "      <td>74.835</td>\n",
       "      <td>7.200</td>\n",
       "      <td>1.225</td>\n",
       "      <td>7</td>\n",
       "      <td>8</td>\n",
       "      <td>5</td>\n",
       "      <td>65.0</td>\n",
       "      <td>2</td>\n",
       "    </tr>\n",
       "  </tbody>\n",
       "</table>\n",
       "</div>"
      ],
      "text/plain": [
       "     Country  Year  Tobac_Use_M  Tobac_Use_F  Tax_2015  Happiness_Score  \\\n",
       "0    Albania  2015         51.2          7.6    65.195            4.959   \n",
       "1  Argentina  2015         29.5         18.4    75.045            6.574   \n",
       "2    Armenia  2015         52.3          1.5    34.165            4.350   \n",
       "3  Australia  2015         16.7         13.1    58.515            7.284   \n",
       "4    Austria  2015         35.5         34.8    74.835            7.200   \n",
       "\n",
       "   Afford_2015  Ban_Score_Dir_Ads  Ban_Score_Indr_Ads  \\\n",
       "0        3.920                  8                   8   \n",
       "1        1.310                  7                  10   \n",
       "2        3.945                  5                   2   \n",
       "3        2.285                  6                   2   \n",
       "4        1.225                  7                   8   \n",
       "\n",
       "   Ban_Score_add_indir_ads  Warn_Score  Ban_Score_places  \n",
       "0                        3        50.0                 8  \n",
       "1                        5        50.0                 8  \n",
       "2                        0        50.0                 3  \n",
       "3                        0        83.0                 6  \n",
       "4                        5        65.0                 2  "
      ]
     },
     "execution_count": 56,
     "metadata": {},
     "output_type": "execute_result"
    }
   ],
   "source": [
    "# Read the complete cleaned data that contains all parameters extracted from domain study. \n",
    "data = pd.read_csv('data/tobacco_data.csv')\n",
    "data.head()"
   ]
  },
  {
   "cell_type": "code",
   "execution_count": 57,
   "metadata": {},
   "outputs": [
    {
     "data": {
      "text/html": [
       "<div>\n",
       "<style scoped>\n",
       "    .dataframe tbody tr th:only-of-type {\n",
       "        vertical-align: middle;\n",
       "    }\n",
       "\n",
       "    .dataframe tbody tr th {\n",
       "        vertical-align: top;\n",
       "    }\n",
       "\n",
       "    .dataframe thead th {\n",
       "        text-align: right;\n",
       "    }\n",
       "</style>\n",
       "<table border=\"1\" class=\"dataframe\">\n",
       "  <thead>\n",
       "    <tr style=\"text-align: right;\">\n",
       "      <th></th>\n",
       "      <th>Year</th>\n",
       "      <th>Tobac_Use_M</th>\n",
       "      <th>Tobac_Use_F</th>\n",
       "      <th>Tax_2015</th>\n",
       "      <th>Happiness_Score</th>\n",
       "      <th>Afford_2015</th>\n",
       "      <th>Ban_Score_Dir_Ads</th>\n",
       "      <th>Ban_Score_Indr_Ads</th>\n",
       "      <th>Ban_Score_add_indir_ads</th>\n",
       "      <th>Warn_Score</th>\n",
       "      <th>Ban_Score_places</th>\n",
       "    </tr>\n",
       "  </thead>\n",
       "  <tbody>\n",
       "    <tr>\n",
       "      <td>count</td>\n",
       "      <td>103.0</td>\n",
       "      <td>103.000000</td>\n",
       "      <td>103.000000</td>\n",
       "      <td>103.000000</td>\n",
       "      <td>103.000000</td>\n",
       "      <td>103.000000</td>\n",
       "      <td>103.000000</td>\n",
       "      <td>103.000000</td>\n",
       "      <td>103.000000</td>\n",
       "      <td>103.000000</td>\n",
       "      <td>103.000000</td>\n",
       "    </tr>\n",
       "    <tr>\n",
       "      <td>mean</td>\n",
       "      <td>2015.0</td>\n",
       "      <td>33.366990</td>\n",
       "      <td>11.729126</td>\n",
       "      <td>55.865243</td>\n",
       "      <td>5.586816</td>\n",
       "      <td>4.549126</td>\n",
       "      <td>6.330097</td>\n",
       "      <td>5.563107</td>\n",
       "      <td>3.058252</td>\n",
       "      <td>55.779150</td>\n",
       "      <td>4.543689</td>\n",
       "    </tr>\n",
       "    <tr>\n",
       "      <td>std</td>\n",
       "      <td>0.0</td>\n",
       "      <td>12.935514</td>\n",
       "      <td>10.371725</td>\n",
       "      <td>22.005910</td>\n",
       "      <td>1.118552</td>\n",
       "      <td>4.340402</td>\n",
       "      <td>2.202442</td>\n",
       "      <td>3.126954</td>\n",
       "      <td>2.428690</td>\n",
       "      <td>14.703264</td>\n",
       "      <td>3.031782</td>\n",
       "    </tr>\n",
       "    <tr>\n",
       "      <td>min</td>\n",
       "      <td>2015.0</td>\n",
       "      <td>8.900000</td>\n",
       "      <td>0.200000</td>\n",
       "      <td>7.580000</td>\n",
       "      <td>3.340000</td>\n",
       "      <td>0.550000</td>\n",
       "      <td>0.000000</td>\n",
       "      <td>0.000000</td>\n",
       "      <td>0.000000</td>\n",
       "      <td>20.000000</td>\n",
       "      <td>0.000000</td>\n",
       "    </tr>\n",
       "    <tr>\n",
       "      <td>25%</td>\n",
       "      <td>2015.0</td>\n",
       "      <td>22.750000</td>\n",
       "      <td>2.700000</td>\n",
       "      <td>36.255000</td>\n",
       "      <td>4.683500</td>\n",
       "      <td>1.770000</td>\n",
       "      <td>6.000000</td>\n",
       "      <td>3.000000</td>\n",
       "      <td>1.000000</td>\n",
       "      <td>50.000000</td>\n",
       "      <td>1.000000</td>\n",
       "    </tr>\n",
       "    <tr>\n",
       "      <td>50%</td>\n",
       "      <td>2015.0</td>\n",
       "      <td>31.500000</td>\n",
       "      <td>8.300000</td>\n",
       "      <td>62.000000</td>\n",
       "      <td>5.360000</td>\n",
       "      <td>2.760000</td>\n",
       "      <td>7.000000</td>\n",
       "      <td>6.000000</td>\n",
       "      <td>3.000000</td>\n",
       "      <td>55.000000</td>\n",
       "      <td>5.000000</td>\n",
       "    </tr>\n",
       "    <tr>\n",
       "      <td>75%</td>\n",
       "      <td>2015.0</td>\n",
       "      <td>43.000000</td>\n",
       "      <td>19.700000</td>\n",
       "      <td>75.217500</td>\n",
       "      <td>6.539500</td>\n",
       "      <td>4.815000</td>\n",
       "      <td>8.000000</td>\n",
       "      <td>8.000000</td>\n",
       "      <td>5.000000</td>\n",
       "      <td>65.000000</td>\n",
       "      <td>8.000000</td>\n",
       "    </tr>\n",
       "    <tr>\n",
       "      <td>max</td>\n",
       "      <td>2015.0</td>\n",
       "      <td>76.200000</td>\n",
       "      <td>39.700000</td>\n",
       "      <td>85.990000</td>\n",
       "      <td>7.587000</td>\n",
       "      <td>19.600000</td>\n",
       "      <td>8.000000</td>\n",
       "      <td>10.000000</td>\n",
       "      <td>7.000000</td>\n",
       "      <td>90.000000</td>\n",
       "      <td>8.000000</td>\n",
       "    </tr>\n",
       "  </tbody>\n",
       "</table>\n",
       "</div>"
      ],
      "text/plain": [
       "         Year  Tobac_Use_M  Tobac_Use_F    Tax_2015  Happiness_Score  \\\n",
       "count   103.0   103.000000   103.000000  103.000000       103.000000   \n",
       "mean   2015.0    33.366990    11.729126   55.865243         5.586816   \n",
       "std       0.0    12.935514    10.371725   22.005910         1.118552   \n",
       "min    2015.0     8.900000     0.200000    7.580000         3.340000   \n",
       "25%    2015.0    22.750000     2.700000   36.255000         4.683500   \n",
       "50%    2015.0    31.500000     8.300000   62.000000         5.360000   \n",
       "75%    2015.0    43.000000    19.700000   75.217500         6.539500   \n",
       "max    2015.0    76.200000    39.700000   85.990000         7.587000   \n",
       "\n",
       "       Afford_2015  Ban_Score_Dir_Ads  Ban_Score_Indr_Ads  \\\n",
       "count   103.000000         103.000000          103.000000   \n",
       "mean      4.549126           6.330097            5.563107   \n",
       "std       4.340402           2.202442            3.126954   \n",
       "min       0.550000           0.000000            0.000000   \n",
       "25%       1.770000           6.000000            3.000000   \n",
       "50%       2.760000           7.000000            6.000000   \n",
       "75%       4.815000           8.000000            8.000000   \n",
       "max      19.600000           8.000000           10.000000   \n",
       "\n",
       "       Ban_Score_add_indir_ads  Warn_Score  Ban_Score_places  \n",
       "count               103.000000  103.000000        103.000000  \n",
       "mean                  3.058252   55.779150          4.543689  \n",
       "std                   2.428690   14.703264          3.031782  \n",
       "min                   0.000000   20.000000          0.000000  \n",
       "25%                   1.000000   50.000000          1.000000  \n",
       "50%                   3.000000   55.000000          5.000000  \n",
       "75%                   5.000000   65.000000          8.000000  \n",
       "max                   7.000000   90.000000          8.000000  "
      ]
     },
     "execution_count": 57,
     "metadata": {},
     "output_type": "execute_result"
    }
   ],
   "source": [
    "data.describe()"
   ]
  },
  {
   "cell_type": "code",
   "execution_count": 58,
   "metadata": {},
   "outputs": [],
   "source": [
    "# Drop year\n",
    "data.drop(['Year', 'Country'], axis=1, inplace=True)"
   ]
  },
  {
   "cell_type": "markdown",
   "metadata": {},
   "source": [
    "### Distributions"
   ]
  },
  {
   "cell_type": "code",
   "execution_count": 59,
   "metadata": {},
   "outputs": [
    {
     "data": {
      "text/plain": [
       "<matplotlib.axes._subplots.AxesSubplot at 0x7f7efc40c990>"
      ]
     },
     "execution_count": 59,
     "metadata": {},
     "output_type": "execute_result"
    },
    {
     "data": {
      "image/png": "[encoded data removed]",
      "text/plain": [
       "<Figure size 432x288 with 1 Axes>"
      ]
     },
     "metadata": {},
     "output_type": "display_data"
    }
   ],
   "source": [
    "# A great step in the data exploration is to display the probability distribution function (PDF) of a variable\n",
    "# The PDF will show us how that variable is distributed \n",
    "# This makes it very easy to spot anomalies, such as outliers\n",
    "# The PDF is often the basis on which we decide whether we want to transform a feature\n",
    "sns.distplot(data['Tobac_Use_M'])"
   ]
  },
  {
   "cell_type": "code",
   "execution_count": 60,
   "metadata": {},
   "outputs": [
    {
     "data": {
      "text/plain": [
       "<matplotlib.axes._subplots.AxesSubplot at 0x7f7efc340850>"
      ]
     },
     "execution_count": 60,
     "metadata": {},
     "output_type": "execute_result"
    },
    {
     "data": {
      "image/png": "[encoded data removed]",
      "text/plain": [
       "<Figure size 432x288 with 1 Axes>"
      ]
     },
     "metadata": {},
     "output_type": "display_data"
    }
   ],
   "source": [
    "sns.distplot(data['Tobac_Use_F'])"
   ]
  },
  {
   "cell_type": "markdown",
   "metadata": {},
   "source": [
    "### Dealing with outliers"
   ]
  },
  {
   "cell_type": "code",
   "execution_count": 61,
   "metadata": {},
   "outputs": [],
   "source": [
    "# Obviously there are some outliers present \n",
    "\n",
    "# Without diving too deep into the topic, we can deal with the problem easily by removing 0.5%, or 1% of the problematic samples\n",
    "# Here, the outliers are situated around the higher prices (right side of the graph)\n",
    "# Logic should also be applied\n",
    "# This is a dataset about used cars, therefore one can imagine how $300,000 is an excessive price\n",
    "\n",
    "# Outliers are a great issue for OLS, thus we must deal with them in some way\n",
    "# It may be a useful exercise to try training a model without removing the outliers\n",
    "\n",
    "# Let's declare a variable that will be equal to the 99th percentile of the 'Price' variable\n",
    "# q = data['Tobac_Use_F'].quantile(0.01)\n",
    "# # Then we can create a new df, with the condition that all prices must be below the 99 percentile of 'Price'\n",
    "# data_1 = data[data['Tobac_Use_F']>q]\n",
    "# # In this way we have essentially removed the top 1% of the data about 'Price'\n",
    "# sns.distplot(data_1['Tobac_Use_F'])\n",
    "# data_1.describe()"
   ]
  },
  {
   "cell_type": "code",
   "execution_count": 62,
   "metadata": {},
   "outputs": [
    {
     "data": {
      "text/plain": [
       "<matplotlib.axes._subplots.AxesSubplot at 0x7f7efc2eff50>"
      ]
     },
     "execution_count": 62,
     "metadata": {},
     "output_type": "execute_result"
    },
    {
     "data": {
      "image/png": "[encoded data removed]",
      "text/plain": [
       "<Figure size 432x288 with 1 Axes>"
      ]
     },
     "metadata": {},
     "output_type": "display_data"
    }
   ],
   "source": [
    "sns.distplot(data['Tax_2015'])"
   ]
  },
  {
   "cell_type": "code",
   "execution_count": 63,
   "metadata": {},
   "outputs": [
    {
     "data": {
      "text/plain": [
       "<matplotlib.axes._subplots.AxesSubplot at 0x7f7efc2408d0>"
      ]
     },
     "execution_count": 63,
     "metadata": {},
     "output_type": "execute_result"
    },
    {
     "data": {
      "image/png": "[encoded data removed]",
      "text/plain": [
       "<Figure size 432x288 with 1 Axes>"
      ]
     },
     "metadata": {},
     "output_type": "display_data"
    }
   ],
   "source": [
    "sns.distplot(data['Happiness_Score'])"
   ]
  },
  {
   "cell_type": "code",
   "execution_count": 64,
   "metadata": {},
   "outputs": [
    {
     "data": {
      "text/plain": [
       "<matplotlib.axes._subplots.AxesSubplot at 0x7f7efc1f8510>"
      ]
     },
     "execution_count": 64,
     "metadata": {},
     "output_type": "execute_result"
    },
    {
     "data": {
      "image/png": "[encoded data removed]",
      "text/plain": [
       "<Figure size 432x288 with 1 Axes>"
      ]
     },
     "metadata": {},
     "output_type": "display_data"
    }
   ],
   "source": [
    "sns.distplot(data['Afford_2015'])"
   ]
  },
  {
   "cell_type": "code",
   "execution_count": 65,
   "metadata": {},
   "outputs": [
    {
     "data": {
      "text/plain": [
       "<matplotlib.axes._subplots.AxesSubplot at 0x7f7efc15bb10>"
      ]
     },
     "execution_count": 65,
     "metadata": {},
     "output_type": "execute_result"
    },
    {
     "data": {
      "image/png": "[encoded data removed]",
      "text/plain": [
       "<Figure size 432x288 with 1 Axes>"
      ]
     },
     "metadata": {},
     "output_type": "display_data"
    }
   ],
   "source": [
    "sns.distplot(data['Ban_Score_Indr_Ads'])"
   ]
  },
  {
   "cell_type": "code",
   "execution_count": 66,
   "metadata": {},
   "outputs": [
    {
     "data": {
      "text/plain": [
       "<matplotlib.axes._subplots.AxesSubplot at 0x7f7efe23a290>"
      ]
     },
     "execution_count": 66,
     "metadata": {},
     "output_type": "execute_result"
    },
    {
     "data": {
      "image/png": "[encoded data removed]",
      "text/plain": [
       "<Figure size 432x288 with 1 Axes>"
      ]
     },
     "metadata": {},
     "output_type": "display_data"
    }
   ],
   "source": [
    "sns.distplot(data['Ban_Score_add_indir_ads'])"
   ]
  },
  {
   "cell_type": "code",
   "execution_count": 67,
   "metadata": {},
   "outputs": [
    {
     "data": {
      "text/plain": [
       "<matplotlib.axes._subplots.AxesSubplot at 0x7f7efc0da650>"
      ]
     },
     "execution_count": 67,
     "metadata": {},
     "output_type": "execute_result"
    },
    {
     "data": {
      "image/png": "[encoded data removed]",
      "text/plain": [
       "<Figure size 432x288 with 1 Axes>"
      ]
     },
     "metadata": {},
     "output_type": "display_data"
    }
   ],
   "source": [
    "sns.distplot(data['Warn_Score'])"
   ]
  },
  {
   "cell_type": "code",
   "execution_count": 68,
   "metadata": {},
   "outputs": [
    {
     "data": {
      "text/plain": [
       "<matplotlib.axes._subplots.AxesSubplot at 0x7f7efc0cbd10>"
      ]
     },
     "execution_count": 68,
     "metadata": {},
     "output_type": "execute_result"
    },
    {
     "data": {
      "image/png": "[encoded data removed]",
      "text/plain": [
       "<Figure size 432x288 with 1 Axes>"
      ]
     },
     "metadata": {},
     "output_type": "display_data"
    }
   ],
   "source": [
    "sns.distplot(data['Ban_Score_places'])"
   ]
  },
  {
   "cell_type": "markdown",
   "metadata": {},
   "source": [
    "## Checking the OLS assumptions"
   ]
  },
  {
   "cell_type": "code",
   "execution_count": 69,
   "metadata": {},
   "outputs": [
    {
     "data": {
      "image/png": "[encoded data removed]",
      "text/plain": [
       "<Figure size 1080x216 with 2 Axes>"
      ]
     },
     "metadata": {},
     "output_type": "display_data"
    }
   ],
   "source": [
    "# Here we decided to use some matplotlib code, without explaining it\n",
    "# You can simply use plt.scatter() for each of them (with your current knowledge)\n",
    "# But since Price is the 'y' axis of all the plots, it made sense to plot them side-by-side (so we can compare them)\n",
    "f, (ax1, ax2) = plt.subplots(1, 2, sharey=True, figsize =(15,3)) #sharey -> share 'Price' as y\n",
    "ax1.scatter(data['Tax_2015'],data['Tobac_Use_M'])\n",
    "ax1.set_title('Tobac_Use_M and Tax')\n",
    "ax2.scatter(data['Tax_2015'],data['Tobac_Use_F'])\n",
    "ax2.set_title('Tobac_Use_F and Tax')\n",
    "\n",
    "plt.show()"
   ]
  },
  {
   "cell_type": "markdown",
   "metadata": {},
   "source": [
    "### Multicollinearity"
   ]
  },
  {
   "cell_type": "code",
   "execution_count": 70,
   "metadata": {},
   "outputs": [
    {
     "data": {
      "text/plain": [
       "array(['Tobac_Use_M', 'Tobac_Use_F', 'Tax_2015', 'Happiness_Score',\n",
       "       'Afford_2015', 'Ban_Score_Dir_Ads', 'Ban_Score_Indr_Ads',\n",
       "       'Ban_Score_add_indir_ads', 'Warn_Score', 'Ban_Score_places'],\n",
       "      dtype=object)"
      ]
     },
     "execution_count": 70,
     "metadata": {},
     "output_type": "execute_result"
    }
   ],
   "source": [
    "# Let's quickly see the columns of our data frame\n",
    "data.columns.values"
   ]
  },
  {
   "cell_type": "code",
   "execution_count": 71,
   "metadata": {},
   "outputs": [],
   "source": [
    "# sklearn does not have a built-in way to check for multicollinearity\n",
    "# one of the main reasons is that this is an issue well covered in statistical frameworks and not in ML ones\n",
    "# surely it is an issue nonetheless, thus we will try to deal with it\n",
    "\n",
    "# Here's the relevant module\n",
    "# full documentation: http://www.statsmodels.org/dev/_modules/statsmodels/stats/outliers_influence.html#variance_inflation_factor\n",
    "from statsmodels.stats.outliers_influence import variance_inflation_factor\n",
    "\n",
    "# To make this as easy as possible to use, we declare a variable where we put\n",
    "# all features where we want to check for multicollinearity\n",
    "# since our categorical data is not yet preprocessed, we will only take the numerical ones\n",
    "variables = data[['Tax_2015',\n",
    "        'Afford_2015', \n",
    "       ]]\n",
    "\n",
    "# we create a new data frame which will include all the VIFs\n",
    "# note that each variable has its own variance inflation factor as this measure is variable specific (not model specific)\n",
    "vif = pd.DataFrame()\n",
    "\n",
    "# here we make use of the variance_inflation_factor, which will basically output the respective VIFs \n",
    "vif[\"VIF\"] = [variance_inflation_factor(variables.values, i) for i in range(variables.shape[1])]\n",
    "# Finally, I like to include names so it is easier to explore the result\n",
    "vif[\"Features\"] = variables.columns"
   ]
  },
  {
   "cell_type": "code",
   "execution_count": 72,
   "metadata": {},
   "outputs": [
    {
     "data": {
      "text/html": [
       "<div>\n",
       "<style scoped>\n",
       "    .dataframe tbody tr th:only-of-type {\n",
       "        vertical-align: middle;\n",
       "    }\n",
       "\n",
       "    .dataframe tbody tr th {\n",
       "        vertical-align: top;\n",
       "    }\n",
       "\n",
       "    .dataframe thead th {\n",
       "        text-align: right;\n",
       "    }\n",
       "</style>\n",
       "<table border=\"1\" class=\"dataframe\">\n",
       "  <thead>\n",
       "    <tr style=\"text-align: right;\">\n",
       "      <th></th>\n",
       "      <th>VIF</th>\n",
       "      <th>Features</th>\n",
       "    </tr>\n",
       "  </thead>\n",
       "  <tbody>\n",
       "    <tr>\n",
       "      <td>0</td>\n",
       "      <td>1.439871</td>\n",
       "      <td>Tax_2015</td>\n",
       "    </tr>\n",
       "    <tr>\n",
       "      <td>1</td>\n",
       "      <td>1.439871</td>\n",
       "      <td>Afford_2015</td>\n",
       "    </tr>\n",
       "  </tbody>\n",
       "</table>\n",
       "</div>"
      ],
      "text/plain": [
       "        VIF     Features\n",
       "0  1.439871     Tax_2015\n",
       "1  1.439871  Afford_2015"
      ]
     },
     "execution_count": 72,
     "metadata": {},
     "output_type": "execute_result"
    }
   ],
   "source": [
    "# Let's explore the result\n",
    "vif"
   ]
  },
  {
   "cell_type": "markdown",
   "metadata": {},
   "source": [
    "Candidates to remove: Tax_2015, Happiness_Score, Ban_Score_Dir_Ads, Ban_Score_Indr_Ads, Warn_Score"
   ]
  },
  {
   "cell_type": "markdown",
   "metadata": {},
   "source": [
    "## Linear regression model"
   ]
  },
  {
   "cell_type": "markdown",
   "metadata": {},
   "source": [
    "### Declare the inputs and the targets"
   ]
  },
  {
   "cell_type": "code",
   "execution_count": 73,
   "metadata": {},
   "outputs": [],
   "source": [
    "# The inputs are everything BUT the dependent variable, so we can simply drop it\n",
    "# inputs = data_scaled.drop(['Tobac_Use_M', 'Tobac_Use_F'],axis=1)\n",
    "targets_f = data['Tobac_Use_F']\n",
    "targets_m = data['Tobac_Use_M']\n",
    "inputs = data.drop(['Tobac_Use_F', 'Tobac_Use_M'], axis=1)"
   ]
  },
  {
   "cell_type": "markdown",
   "metadata": {},
   "source": [
    "### Scale the data"
   ]
  },
  {
   "cell_type": "code",
   "execution_count": 74,
   "metadata": {},
   "outputs": [
    {
     "data": {
      "text/plain": [
       "StandardScaler(copy=True, with_mean=True, with_std=True)"
      ]
     },
     "execution_count": 74,
     "metadata": {},
     "output_type": "execute_result"
    }
   ],
   "source": [
    "# Import the scaling module\n",
    "from sklearn.preprocessing import StandardScaler\n",
    "\n",
    "# Create a scaler object\n",
    "scaler = StandardScaler()\n",
    "# Fit the inputs (calculate the mean and standard deviation feature-wise)\n",
    "scaler.fit(inputs)"
   ]
  },
  {
   "cell_type": "code",
   "execution_count": 77,
   "metadata": {},
   "outputs": [],
   "source": [
    "# Scale the features and store them in a new variable (the actual scaling procedure)\n",
    "inputs_scaled = scaler.transform(inputs)\n",
    "# Split the variables with an 80-20 split and some random state\n",
    "# To have the same split as mine, use random_state = 42\n",
    "x_train, x_test, y_train, y_test = train_test_split(inputs_scaled, targets_f, test_size=0.2, random_state=42)"
   ]
  },
  {
   "cell_type": "markdown",
   "metadata": {},
   "source": [
    "## Investigation for Male\n",
    "### Train Test Split"
   ]
  },
  {
   "cell_type": "code",
   "execution_count": 78,
   "metadata": {},
   "outputs": [],
   "source": [
    "# Import the module for the split\n",
    "from sklearn.model_selection import train_test_split\n",
    "\n",
    "\n",
    "\n",
    "\n",
    "def reg_function(target, inputs):\n",
    "    \n",
    "    # Create a scaler object\n",
    "    scaler = StandardScaler()\n",
    "    # Fit the inputs (calculate the mean and standard deviation feature-wise)\n",
    "    scaler.fit(inputs)\n",
    "    \n",
    "    # Scale the features and store them in a new variable (the actual scaling procedure)\n",
    "    inputs_scaled = scaler.transform(inputs)\n",
    "    \n",
    "    # Split the variables with an 80-20 split and some random state\n",
    "    # To have the same split as mine, use random_state = 42\n",
    "    x_train, x_test, y_train, y_test = train_test_split(inputs_scaled, target, test_size=0.2, random_state=42)\n",
    "    \n",
    "    \n",
    "    # Create a linear regression object\n",
    "    reg = LinearRegression(intercept=False)\n",
    "    # Fit the regression with the scaled TRAIN inputs and targets\n",
    "    reg.fit(x_train,y_train)\n",
    "    \n",
    "    # Let's check the outputs of the regression\n",
    "    # I'll store them in y_hat as this is the 'theoretical' name of the predictions\n",
    "    y_hat = reg.predict(x_train)\n",
    "    \n",
    "    # The simplest way to compare the targets (y_train) and the predictions (y_hat) is to plot them on a scatter plot\n",
    "    # The closer the points to the 45-degree line, the better the prediction\n",
    "    plt.scatter(y_train, y_hat)\n",
    "    # Let's also name the axes\n",
    "    plt.xlabel('Targets (y_train)',size=18)\n",
    "    plt.ylabel('Predictions (y_hat)',size=18)\n",
    "    # Sometimes the plot will have different scales of the x-axis and the y-axis\n",
    "    # This is an issue as we won't be able to interpret the '45-degree line'\n",
    "    # We want the x-axis and the y-axis to be the same\n",
    "    # plt.xlim(6,13)\n",
    "    # plt.ylim(6,13)\n",
    "    plt.show()\n",
    "    \n",
    "    # Another useful check of our model is a residual plot\n",
    "    # We can plot the PDF of the residuals and check for anomalies\n",
    "    sns.distplot(y_train - y_hat)\n",
    "\n",
    "    # Include a title\n",
    "    plt.title(\"Residuals PDF\", size=18)\n",
    "\n",
    "    # In the best case scenario this plot should be normally distributed\n",
    "    # In our case we notice that there are many negative residuals (far away from the mean)\n",
    "    # Given the definition of the residuals (y_train - y_hat), negative values imply\n",
    "    # that y_hat (predictions) are much higher than y_train (the targets)\n",
    "    # This is food for thought to improve our model\n",
    "    \n",
    "    \n",
    "    # Find the R-squared of the model\n",
    "    r_score = reg.score(x_train,y_train)\n",
    "\n",
    "    # Note that this is NOT the adjusted R-squared\n",
    "    # in other words... find the Adjusted R-squared to have the appropriate measure :)\n",
    "    \n",
    "    print('R score is: ', r_score)\n",
    "    \n",
    "    # Obtain the bias (intercept) of the regression\n",
    "    print('Intercepts are: ', reg.intercept_)\n",
    "    \n",
    "    \n",
    "    # Create a regression summary where we can compare them with one-another\n",
    "    reg_summary = pd.DataFrame(inputs.columns.values, columns=['Features'])\n",
    "    reg_summary['Weights'] = reg.coef_\n",
    "    reg_summary\n",
    "    \n",
    "    \n",
    "    \n",
    "    \n",
    "    # Once we have trained and fine-tuned our model, we can proceed to testing it\n",
    "    # Testing is done on a dataset that the algorithm has never seen\n",
    "    # Luckily we have prepared such a dataset\n",
    "    # Our test inputs are 'x_test', while the outputs: 'y_test' \n",
    "    # We SHOULD NOT TRAIN THE MODEL ON THEM, we just feed them and find the predictions\n",
    "    # If the predictions are far off, we will know that our model overfitted\n",
    "    y_hat_test = reg.predict(x_test)\n",
    "    \n",
    "    # Create a scatter plot with the test targets and the test predictions\n",
    "    # You can include the argument 'alpha' which will introduce opacity to the graph\n",
    "    plt.scatter(y_test, y_hat_test, alpha=0.2)\n",
    "    plt.xlabel('Targets (y_test)',size=18)\n",
    "    plt.ylabel('Predictions (y_hat_test)',size=18)\n",
    "    # plt.xlim(6,13)\n",
    "    # plt.ylim(6,13)\n",
    "    plt.show()\n",
    "    \n",
    "    \n",
    "    # Finally, let's manually check these predictions\n",
    "    # To obtain the actual prices, we take the exponential of the log_price\n",
    "    df_pf = pd.DataFrame(y_hat_test, columns=['Prediction'])\n",
    "    df_pf.head()\n",
    "    \n",
    "    \n",
    "    # After displaying y_test, we find what the issue is\n",
    "    # The old indexes are preserved (recall earlier in that code we made a note on that)\n",
    "    # The code was: data_cleaned = data_4.reset_index(drop=True)\n",
    "\n",
    "    # Therefore, to get a proper result, we must reset the index and drop the old indexing\n",
    "    y_test = y_test.reset_index(drop=True)\n",
    "\n",
    "    # Check the result\n",
    "    y_test.head()\n",
    "    \n",
    "    \n",
    "    # Let's overwrite the 'Target' column with the appropriate values\n",
    "    # Again, we need the exponential of the test log price\n",
    "    df_pf['Target'] = y_test\n",
    "    \n",
    "    # Additionally, we can calculate the difference between the targets and the predictions\n",
    "    # Note that this is actually the residual (we already plotted the residuals)\n",
    "    df_pf['Residual'] = df_pf['Target'] - df_pf['Prediction']\n",
    "\n",
    "    # Since OLS is basically an algorithm which minimizes the total sum of squared errors (residuals),\n",
    "    # this comparison makes a lot of sense\n",
    "    \n",
    "    # Finally, it makes sense to see how far off we are from the result percentage-wise\n",
    "    # Here, we take the absolute difference in %, so we can easily order the data frame\n",
    "    df_pf['Difference%'] = np.absolute(df_pf['Residual']/df_pf['Target']*100)\n",
    "    print('df_pf is as: ', df_pf)\n",
    "    \n",
    "    # Sometimes it is useful to check these outputs manually\n",
    "    # To see all rows, we use the relevant pandas syntax\n",
    "    pd.options.display.max_rows = 999\n",
    "    # Moreover, to make the dataset clear, we can display the result with only 2 digits after the dot \n",
    "    pd.set_option('display.float_format', lambda x: '%.2f' % x)\n",
    "    # Finally, we sort by difference in % and manually check the model\n",
    "    df_pf.sort_values(by=['Difference%'])\n",
    "        \n",
    "    return"
   ]
  },
  {
   "cell_type": "markdown",
   "metadata": {},
   "source": [
    "### Create the regression"
   ]
  },
  {
   "cell_type": "code",
   "execution_count": 79,
   "metadata": {},
   "outputs": [
    {
     "ename": "TypeError",
     "evalue": "__init__() got an unexpected keyword argument 'intercept'",
     "output_type": "error",
     "traceback": [
      "\u001b[0;31m---------------------------------------------------------------------------\u001b[0m",
      "\u001b[0;31mTypeError\u001b[0m                                 Traceback (most recent call last)",
      "\u001b[0;32m<ipython-input-79-ab31703353d8>\u001b[0m in \u001b[0;36m<module>\u001b[0;34m\u001b[0m\n\u001b[0;32m----> 1\u001b[0;31m \u001b[0mreg_function\u001b[0m\u001b[0;34m(\u001b[0m\u001b[0mtargets_f\u001b[0m\u001b[0;34m,\u001b[0m \u001b[0minputs\u001b[0m\u001b[0;34m)\u001b[0m\u001b[0;34m\u001b[0m\u001b[0;34m\u001b[0m\u001b[0m\n\u001b[0m",
      "\u001b[0;32m<ipython-input-78-6ebba5e37b3b>\u001b[0m in \u001b[0;36mreg_function\u001b[0;34m(target, inputs)\u001b[0m\n\u001b[1;32m     21\u001b[0m \u001b[0;34m\u001b[0m\u001b[0m\n\u001b[1;32m     22\u001b[0m     \u001b[0;31m# Create a linear regression object\u001b[0m\u001b[0;34m\u001b[0m\u001b[0;34m\u001b[0m\u001b[0;34m\u001b[0m\u001b[0m\n\u001b[0;32m---> 23\u001b[0;31m     \u001b[0mreg\u001b[0m \u001b[0;34m=\u001b[0m \u001b[0mLinearRegression\u001b[0m\u001b[0;34m(\u001b[0m\u001b[0mintercept\u001b[0m\u001b[0;34m=\u001b[0m\u001b[0;32mFalse\u001b[0m\u001b[0;34m)\u001b[0m\u001b[0;34m\u001b[0m\u001b[0;34m\u001b[0m\u001b[0m\n\u001b[0m\u001b[1;32m     24\u001b[0m     \u001b[0;31m# Fit the regression with the scaled TRAIN inputs and targets\u001b[0m\u001b[0;34m\u001b[0m\u001b[0;34m\u001b[0m\u001b[0;34m\u001b[0m\u001b[0m\n\u001b[1;32m     25\u001b[0m     \u001b[0mreg\u001b[0m\u001b[0;34m.\u001b[0m\u001b[0mfit\u001b[0m\u001b[0;34m(\u001b[0m\u001b[0mx_train\u001b[0m\u001b[0;34m,\u001b[0m\u001b[0my_train\u001b[0m\u001b[0;34m)\u001b[0m\u001b[0;34m\u001b[0m\u001b[0;34m\u001b[0m\u001b[0m\n",
      "\u001b[0;31mTypeError\u001b[0m: __init__() got an unexpected keyword argument 'intercept'"
     ]
    }
   ],
   "source": [
    "reg_function(targets_f, inputs)"
   ]
  },
  {
   "cell_type": "code",
   "execution_count": 84,
   "metadata": {},
   "outputs": [
    {
     "ename": "ValueError",
     "evalue": "Expected 2D array, got 1D array instead:\narray=[ 7.6 18.4  1.5 13.1 34.8  0.4  7.6  0.7 10.6 20.   1.  30.  11.3 28.2\n  4.5  2.8  0.9 12.2 36.   1.8  6.2  6.   8.3 33.5 29.  16.4  9.4  3.3\n  0.3 24.9  0.5 18.5 25.6  5.7 28.3  0.4 32.7  2.1 24.8 15.1  1.9  3.6\n  0.7 21.9 19.3 19.7  5.9 10.6 10.7  9.3  2.1  3.6 24.3 31.   2.4 22.2\n 21.4  1.4  3.2 20.2  3.7  3.3  6.6  5.3  1.4  5.9  6.4 11.1 23.9  0.2\n  1.1 22.1  1.   3.   2.6  7.9  8.5 23.7 13.7 22.7  2.9  0.7 39.7 12.\n  5.  17.6 18.1  6.5 27.1  0.4 20.8 19.7  2.3 12.4  2.9 14.  18.4 15.\n 19.4  1.3  1.3  4.6  2.1].\nReshape your data either using array.reshape(-1, 1) if your data has a single feature or array.reshape(1, -1) if it contains a single sample.",
     "output_type": "error",
     "traceback": [
      "\u001b[0;31m---------------------------------------------------------------------------\u001b[0m",
      "\u001b[0;31mValueError\u001b[0m                                Traceback (most recent call last)",
      "\u001b[0;32m<ipython-input-84-4e76f2660d1a>\u001b[0m in \u001b[0;36m<module>\u001b[0;34m\u001b[0m\n\u001b[1;32m      1\u001b[0m \u001b[0;31m# Create a linear regression object\u001b[0m\u001b[0;34m\u001b[0m\u001b[0;34m\u001b[0m\u001b[0;34m\u001b[0m\u001b[0m\n\u001b[1;32m      2\u001b[0m \u001b[0mreg\u001b[0m \u001b[0;34m=\u001b[0m \u001b[0mLinearRegression\u001b[0m\u001b[0;34m(\u001b[0m\u001b[0;34m)\u001b[0m\u001b[0;34m\u001b[0m\u001b[0;34m\u001b[0m\u001b[0m\n\u001b[0;32m----> 3\u001b[0;31m \u001b[0mreg\u001b[0m\u001b[0;34m.\u001b[0m\u001b[0mfit\u001b[0m\u001b[0;34m(\u001b[0m\u001b[0mtargets_f\u001b[0m\u001b[0;34m,\u001b[0m \u001b[0minputs\u001b[0m\u001b[0;34m)\u001b[0m\u001b[0;34m\u001b[0m\u001b[0;34m\u001b[0m\u001b[0m\n\u001b[0m",
      "\u001b[0;32m~/anaconda3/lib/python3.7/site-packages/sklearn/linear_model/base.py\u001b[0m in \u001b[0;36mfit\u001b[0;34m(self, X, y, sample_weight)\u001b[0m\n\u001b[1;32m    461\u001b[0m         \u001b[0mn_jobs_\u001b[0m \u001b[0;34m=\u001b[0m \u001b[0mself\u001b[0m\u001b[0;34m.\u001b[0m\u001b[0mn_jobs\u001b[0m\u001b[0;34m\u001b[0m\u001b[0;34m\u001b[0m\u001b[0m\n\u001b[1;32m    462\u001b[0m         X, y = check_X_y(X, y, accept_sparse=['csr', 'csc', 'coo'],\n\u001b[0;32m--> 463\u001b[0;31m                          y_numeric=True, multi_output=True)\n\u001b[0m\u001b[1;32m    464\u001b[0m \u001b[0;34m\u001b[0m\u001b[0m\n\u001b[1;32m    465\u001b[0m         \u001b[0;32mif\u001b[0m \u001b[0msample_weight\u001b[0m \u001b[0;32mis\u001b[0m \u001b[0;32mnot\u001b[0m \u001b[0;32mNone\u001b[0m \u001b[0;32mand\u001b[0m \u001b[0mnp\u001b[0m\u001b[0;34m.\u001b[0m\u001b[0matleast_1d\u001b[0m\u001b[0;34m(\u001b[0m\u001b[0msample_weight\u001b[0m\u001b[0;34m)\u001b[0m\u001b[0;34m.\u001b[0m\u001b[0mndim\u001b[0m \u001b[0;34m>\u001b[0m \u001b[0;36m1\u001b[0m\u001b[0;34m:\u001b[0m\u001b[0;34m\u001b[0m\u001b[0;34m\u001b[0m\u001b[0m\n",
      "\u001b[0;32m~/anaconda3/lib/python3.7/site-packages/sklearn/utils/validation.py\u001b[0m in \u001b[0;36mcheck_X_y\u001b[0;34m(X, y, accept_sparse, accept_large_sparse, dtype, order, copy, force_all_finite, ensure_2d, allow_nd, multi_output, ensure_min_samples, ensure_min_features, y_numeric, warn_on_dtype, estimator)\u001b[0m\n\u001b[1;32m    717\u001b[0m                     \u001b[0mensure_min_features\u001b[0m\u001b[0;34m=\u001b[0m\u001b[0mensure_min_features\u001b[0m\u001b[0;34m,\u001b[0m\u001b[0;34m\u001b[0m\u001b[0;34m\u001b[0m\u001b[0m\n\u001b[1;32m    718\u001b[0m                     \u001b[0mwarn_on_dtype\u001b[0m\u001b[0;34m=\u001b[0m\u001b[0mwarn_on_dtype\u001b[0m\u001b[0;34m,\u001b[0m\u001b[0;34m\u001b[0m\u001b[0;34m\u001b[0m\u001b[0m\n\u001b[0;32m--> 719\u001b[0;31m                     estimator=estimator)\n\u001b[0m\u001b[1;32m    720\u001b[0m     \u001b[0;32mif\u001b[0m \u001b[0mmulti_output\u001b[0m\u001b[0;34m:\u001b[0m\u001b[0;34m\u001b[0m\u001b[0;34m\u001b[0m\u001b[0m\n\u001b[1;32m    721\u001b[0m         y = check_array(y, 'csr', force_all_finite=True, ensure_2d=False,\n",
      "\u001b[0;32m~/anaconda3/lib/python3.7/site-packages/sklearn/utils/validation.py\u001b[0m in \u001b[0;36mcheck_array\u001b[0;34m(array, accept_sparse, accept_large_sparse, dtype, order, copy, force_all_finite, ensure_2d, allow_nd, ensure_min_samples, ensure_min_features, warn_on_dtype, estimator)\u001b[0m\n\u001b[1;32m    519\u001b[0m                     \u001b[0;34m\"Reshape your data either using array.reshape(-1, 1) if \"\u001b[0m\u001b[0;34m\u001b[0m\u001b[0;34m\u001b[0m\u001b[0m\n\u001b[1;32m    520\u001b[0m                     \u001b[0;34m\"your data has a single feature or array.reshape(1, -1) \"\u001b[0m\u001b[0;34m\u001b[0m\u001b[0;34m\u001b[0m\u001b[0m\n\u001b[0;32m--> 521\u001b[0;31m                     \"if it contains a single sample.\".format(array))\n\u001b[0m\u001b[1;32m    522\u001b[0m \u001b[0;34m\u001b[0m\u001b[0m\n\u001b[1;32m    523\u001b[0m         \u001b[0;31m# in the future np.flexible dtypes will be handled like object dtypes\u001b[0m\u001b[0;34m\u001b[0m\u001b[0;34m\u001b[0m\u001b[0;34m\u001b[0m\u001b[0m\n",
      "\u001b[0;31mValueError\u001b[0m: Expected 2D array, got 1D array instead:\narray=[ 7.6 18.4  1.5 13.1 34.8  0.4  7.6  0.7 10.6 20.   1.  30.  11.3 28.2\n  4.5  2.8  0.9 12.2 36.   1.8  6.2  6.   8.3 33.5 29.  16.4  9.4  3.3\n  0.3 24.9  0.5 18.5 25.6  5.7 28.3  0.4 32.7  2.1 24.8 15.1  1.9  3.6\n  0.7 21.9 19.3 19.7  5.9 10.6 10.7  9.3  2.1  3.6 24.3 31.   2.4 22.2\n 21.4  1.4  3.2 20.2  3.7  3.3  6.6  5.3  1.4  5.9  6.4 11.1 23.9  0.2\n  1.1 22.1  1.   3.   2.6  7.9  8.5 23.7 13.7 22.7  2.9  0.7 39.7 12.\n  5.  17.6 18.1  6.5 27.1  0.4 20.8 19.7  2.3 12.4  2.9 14.  18.4 15.\n 19.4  1.3  1.3  4.6  2.1].\nReshape your data either using array.reshape(-1, 1) if your data has a single feature or array.reshape(1, -1) if it contains a single sample."
     ]
    }
   ],
   "source": [
    "# Create a linear regression object\n",
    "reg = LinearRegression()\n",
    "reg.fit(targets_f, inputs)"
   ]
  },
  {
   "cell_type": "code",
   "execution_count": 82,
   "metadata": {},
   "outputs": [
    {
     "ename": "NotFittedError",
     "evalue": "This LinearRegression instance is not fitted yet. Call 'fit' with appropriate arguments before using this method.",
     "output_type": "error",
     "traceback": [
      "\u001b[0;31m---------------------------------------------------------------------------\u001b[0m",
      "\u001b[0;31mNotFittedError\u001b[0m                            Traceback (most recent call last)",
      "\u001b[0;32m<ipython-input-82-c51f5abfd571>\u001b[0m in \u001b[0;36m<module>\u001b[0;34m\u001b[0m\n\u001b[1;32m      1\u001b[0m \u001b[0;31m# Let's check the outputs of the regression\u001b[0m\u001b[0;34m\u001b[0m\u001b[0;34m\u001b[0m\u001b[0;34m\u001b[0m\u001b[0m\n\u001b[1;32m      2\u001b[0m \u001b[0;31m# I'll store them in y_hat as this is the 'theoretical' name of the predictions\u001b[0m\u001b[0;34m\u001b[0m\u001b[0;34m\u001b[0m\u001b[0;34m\u001b[0m\u001b[0m\n\u001b[0;32m----> 3\u001b[0;31m \u001b[0my_hat\u001b[0m \u001b[0;34m=\u001b[0m \u001b[0mreg\u001b[0m\u001b[0;34m.\u001b[0m\u001b[0mpredict\u001b[0m\u001b[0;34m(\u001b[0m\u001b[0mx_train\u001b[0m\u001b[0;34m)\u001b[0m\u001b[0;34m\u001b[0m\u001b[0;34m\u001b[0m\u001b[0m\n\u001b[0m",
      "\u001b[0;32m~/anaconda3/lib/python3.7/site-packages/sklearn/linear_model/base.py\u001b[0m in \u001b[0;36mpredict\u001b[0;34m(self, X)\u001b[0m\n\u001b[1;32m    219\u001b[0m             \u001b[0mReturns\u001b[0m \u001b[0mpredicted\u001b[0m \u001b[0mvalues\u001b[0m\u001b[0;34m.\u001b[0m\u001b[0;34m\u001b[0m\u001b[0;34m\u001b[0m\u001b[0m\n\u001b[1;32m    220\u001b[0m         \"\"\"\n\u001b[0;32m--> 221\u001b[0;31m         \u001b[0;32mreturn\u001b[0m \u001b[0mself\u001b[0m\u001b[0;34m.\u001b[0m\u001b[0m_decision_function\u001b[0m\u001b[0;34m(\u001b[0m\u001b[0mX\u001b[0m\u001b[0;34m)\u001b[0m\u001b[0;34m\u001b[0m\u001b[0;34m\u001b[0m\u001b[0m\n\u001b[0m\u001b[1;32m    222\u001b[0m \u001b[0;34m\u001b[0m\u001b[0m\n\u001b[1;32m    223\u001b[0m     \u001b[0m_preprocess_data\u001b[0m \u001b[0;34m=\u001b[0m \u001b[0mstaticmethod\u001b[0m\u001b[0;34m(\u001b[0m\u001b[0m_preprocess_data\u001b[0m\u001b[0;34m)\u001b[0m\u001b[0;34m\u001b[0m\u001b[0;34m\u001b[0m\u001b[0m\n",
      "\u001b[0;32m~/anaconda3/lib/python3.7/site-packages/sklearn/linear_model/base.py\u001b[0m in \u001b[0;36m_decision_function\u001b[0;34m(self, X)\u001b[0m\n\u001b[1;32m    200\u001b[0m \u001b[0;34m\u001b[0m\u001b[0m\n\u001b[1;32m    201\u001b[0m     \u001b[0;32mdef\u001b[0m \u001b[0m_decision_function\u001b[0m\u001b[0;34m(\u001b[0m\u001b[0mself\u001b[0m\u001b[0;34m,\u001b[0m \u001b[0mX\u001b[0m\u001b[0;34m)\u001b[0m\u001b[0;34m:\u001b[0m\u001b[0;34m\u001b[0m\u001b[0;34m\u001b[0m\u001b[0m\n\u001b[0;32m--> 202\u001b[0;31m         \u001b[0mcheck_is_fitted\u001b[0m\u001b[0;34m(\u001b[0m\u001b[0mself\u001b[0m\u001b[0;34m,\u001b[0m \u001b[0;34m\"coef_\"\u001b[0m\u001b[0;34m)\u001b[0m\u001b[0;34m\u001b[0m\u001b[0;34m\u001b[0m\u001b[0m\n\u001b[0m\u001b[1;32m    203\u001b[0m \u001b[0;34m\u001b[0m\u001b[0m\n\u001b[1;32m    204\u001b[0m         \u001b[0mX\u001b[0m \u001b[0;34m=\u001b[0m \u001b[0mcheck_array\u001b[0m\u001b[0;34m(\u001b[0m\u001b[0mX\u001b[0m\u001b[0;34m,\u001b[0m \u001b[0maccept_sparse\u001b[0m\u001b[0;34m=\u001b[0m\u001b[0;34m[\u001b[0m\u001b[0;34m'csr'\u001b[0m\u001b[0;34m,\u001b[0m \u001b[0;34m'csc'\u001b[0m\u001b[0;34m,\u001b[0m \u001b[0;34m'coo'\u001b[0m\u001b[0;34m]\u001b[0m\u001b[0;34m)\u001b[0m\u001b[0;34m\u001b[0m\u001b[0;34m\u001b[0m\u001b[0m\n",
      "\u001b[0;32m~/anaconda3/lib/python3.7/site-packages/sklearn/utils/validation.py\u001b[0m in \u001b[0;36mcheck_is_fitted\u001b[0;34m(estimator, attributes, msg, all_or_any)\u001b[0m\n\u001b[1;32m    912\u001b[0m \u001b[0;34m\u001b[0m\u001b[0m\n\u001b[1;32m    913\u001b[0m     \u001b[0;32mif\u001b[0m \u001b[0;32mnot\u001b[0m \u001b[0mall_or_any\u001b[0m\u001b[0;34m(\u001b[0m\u001b[0;34m[\u001b[0m\u001b[0mhasattr\u001b[0m\u001b[0;34m(\u001b[0m\u001b[0mestimator\u001b[0m\u001b[0;34m,\u001b[0m \u001b[0mattr\u001b[0m\u001b[0;34m)\u001b[0m \u001b[0;32mfor\u001b[0m \u001b[0mattr\u001b[0m \u001b[0;32min\u001b[0m \u001b[0mattributes\u001b[0m\u001b[0;34m]\u001b[0m\u001b[0;34m)\u001b[0m\u001b[0;34m:\u001b[0m\u001b[0;34m\u001b[0m\u001b[0;34m\u001b[0m\u001b[0m\n\u001b[0;32m--> 914\u001b[0;31m         \u001b[0;32mraise\u001b[0m \u001b[0mNotFittedError\u001b[0m\u001b[0;34m(\u001b[0m\u001b[0mmsg\u001b[0m \u001b[0;34m%\u001b[0m \u001b[0;34m{\u001b[0m\u001b[0;34m'name'\u001b[0m\u001b[0;34m:\u001b[0m \u001b[0mtype\u001b[0m\u001b[0;34m(\u001b[0m\u001b[0mestimator\u001b[0m\u001b[0;34m)\u001b[0m\u001b[0;34m.\u001b[0m\u001b[0m__name__\u001b[0m\u001b[0;34m}\u001b[0m\u001b[0;34m)\u001b[0m\u001b[0;34m\u001b[0m\u001b[0;34m\u001b[0m\u001b[0m\n\u001b[0m\u001b[1;32m    915\u001b[0m \u001b[0;34m\u001b[0m\u001b[0m\n\u001b[1;32m    916\u001b[0m \u001b[0;34m\u001b[0m\u001b[0m\n",
      "\u001b[0;31mNotFittedError\u001b[0m: This LinearRegression instance is not fitted yet. Call 'fit' with appropriate arguments before using this method."
     ]
    }
   ],
   "source": [
    "# Let's check the outputs of the regression\n",
    "# I'll store them in y_hat as this is the 'theoretical' name of the predictions\n",
    "y_hat = reg.predict(x_train)"
   ]
  },
  {
   "cell_type": "code",
   "execution_count": 28,
   "metadata": {},
   "outputs": [
    {
     "ename": "NameError",
     "evalue": "name 'y_train' is not defined",
     "output_type": "error",
     "traceback": [
      "\u001b[0;31m---------------------------------------------------------------------------\u001b[0m",
      "\u001b[0;31mNameError\u001b[0m                                 Traceback (most recent call last)",
      "\u001b[0;32m<ipython-input-28-2e5b352aba0b>\u001b[0m in \u001b[0;36m<module>\u001b[0;34m\u001b[0m\n\u001b[1;32m      1\u001b[0m \u001b[0;31m# The simplest way to compare the targets (y_train) and the predictions (y_hat) is to plot them on a scatter plot\u001b[0m\u001b[0;34m\u001b[0m\u001b[0;34m\u001b[0m\u001b[0;34m\u001b[0m\u001b[0m\n\u001b[1;32m      2\u001b[0m \u001b[0;31m# The closer the points to the 45-degree line, the better the prediction\u001b[0m\u001b[0;34m\u001b[0m\u001b[0;34m\u001b[0m\u001b[0;34m\u001b[0m\u001b[0m\n\u001b[0;32m----> 3\u001b[0;31m \u001b[0mplt\u001b[0m\u001b[0;34m.\u001b[0m\u001b[0mscatter\u001b[0m\u001b[0;34m(\u001b[0m\u001b[0my_train\u001b[0m\u001b[0;34m,\u001b[0m \u001b[0my_hat\u001b[0m\u001b[0;34m)\u001b[0m\u001b[0;34m\u001b[0m\u001b[0;34m\u001b[0m\u001b[0m\n\u001b[0m\u001b[1;32m      4\u001b[0m \u001b[0;31m# Let's also name the axes\u001b[0m\u001b[0;34m\u001b[0m\u001b[0;34m\u001b[0m\u001b[0;34m\u001b[0m\u001b[0m\n\u001b[1;32m      5\u001b[0m \u001b[0mplt\u001b[0m\u001b[0;34m.\u001b[0m\u001b[0mxlabel\u001b[0m\u001b[0;34m(\u001b[0m\u001b[0;34m'Targets (y_train)'\u001b[0m\u001b[0;34m,\u001b[0m\u001b[0msize\u001b[0m\u001b[0;34m=\u001b[0m\u001b[0;36m18\u001b[0m\u001b[0;34m)\u001b[0m\u001b[0;34m\u001b[0m\u001b[0;34m\u001b[0m\u001b[0m\n",
      "\u001b[0;31mNameError\u001b[0m: name 'y_train' is not defined"
     ]
    }
   ],
   "source": [
    "# The simplest way to compare the targets (y_train) and the predictions (y_hat) is to plot them on a scatter plot\n",
    "# The closer the points to the 45-degree line, the better the prediction\n",
    "plt.scatter(y_train, y_hat)\n",
    "# Let's also name the axes\n",
    "plt.xlabel('Targets (y_train)',size=18)\n",
    "plt.ylabel('Predictions (y_hat)',size=18)\n",
    "# Sometimes the plot will have different scales of the x-axis and the y-axis\n",
    "# This is an issue as we won't be able to interpret the '45-degree line'\n",
    "# We want the x-axis and the y-axis to be the same\n",
    "# plt.xlim(6,13)\n",
    "# plt.ylim(6,13)\n",
    "plt.show()"
   ]
  },
  {
   "cell_type": "code",
   "execution_count": 4,
   "metadata": {},
   "outputs": [
    {
     "ename": "NameError",
     "evalue": "name 'sns' is not defined",
     "output_type": "error",
     "traceback": [
      "\u001b[0;31m---------------------------------------------------------------------------\u001b[0m",
      "\u001b[0;31mNameError\u001b[0m                                 Traceback (most recent call last)",
      "\u001b[0;32m<ipython-input-4-8caa214c6369>\u001b[0m in \u001b[0;36m<module>\u001b[0;34m\u001b[0m\n\u001b[1;32m      1\u001b[0m \u001b[0;31m# Another useful check of our model is a residual plot\u001b[0m\u001b[0;34m\u001b[0m\u001b[0;34m\u001b[0m\u001b[0;34m\u001b[0m\u001b[0m\n\u001b[1;32m      2\u001b[0m \u001b[0;31m# We can plot the PDF of the residuals and check for anomalies\u001b[0m\u001b[0;34m\u001b[0m\u001b[0;34m\u001b[0m\u001b[0;34m\u001b[0m\u001b[0m\n\u001b[0;32m----> 3\u001b[0;31m \u001b[0msns\u001b[0m\u001b[0;34m.\u001b[0m\u001b[0mdistplot\u001b[0m\u001b[0;34m(\u001b[0m\u001b[0my_train\u001b[0m \u001b[0;34m-\u001b[0m \u001b[0my_hat\u001b[0m\u001b[0;34m)\u001b[0m\u001b[0;34m\u001b[0m\u001b[0;34m\u001b[0m\u001b[0m\n\u001b[0m\u001b[1;32m      4\u001b[0m \u001b[0;34m\u001b[0m\u001b[0m\n\u001b[1;32m      5\u001b[0m \u001b[0;31m# Include a title\u001b[0m\u001b[0;34m\u001b[0m\u001b[0;34m\u001b[0m\u001b[0;34m\u001b[0m\u001b[0m\n",
      "\u001b[0;31mNameError\u001b[0m: name 'sns' is not defined"
     ]
    }
   ],
   "source": [
    "# Another useful check of our model is a residual plot\n",
    "# We can plot the PDF of the residuals and check for anomalies\n",
    "sns.distplot(y_train - y_hat)\n",
    "\n",
    "# Include a title\n",
    "plt.title(\"Residuals PDF\", size=18)\n",
    "\n",
    "# In the best case scenario this plot should be normally distributed\n",
    "# In our case we notice that there are many negative residuals (far away from the mean)\n",
    "# Given the definition of the residuals (y_train - y_hat), negative values imply\n",
    "# that y_hat (predictions) are much higher than y_train (the targets)\n",
    "# This is food for thought to improve our model"
   ]
  },
  {
   "cell_type": "code",
   "execution_count": 5,
   "metadata": {},
   "outputs": [
    {
     "ename": "NameError",
     "evalue": "name 'reg' is not defined",
     "output_type": "error",
     "traceback": [
      "\u001b[0;31m---------------------------------------------------------------------------\u001b[0m",
      "\u001b[0;31mNameError\u001b[0m                                 Traceback (most recent call last)",
      "\u001b[0;32m<ipython-input-5-b61904c975f9>\u001b[0m in \u001b[0;36m<module>\u001b[0;34m\u001b[0m\n\u001b[1;32m      1\u001b[0m \u001b[0;31m# Find the R-squared of the model\u001b[0m\u001b[0;34m\u001b[0m\u001b[0;34m\u001b[0m\u001b[0;34m\u001b[0m\u001b[0m\n\u001b[0;32m----> 2\u001b[0;31m \u001b[0mreg\u001b[0m\u001b[0;34m.\u001b[0m\u001b[0mscore\u001b[0m\u001b[0;34m(\u001b[0m\u001b[0mx_train\u001b[0m\u001b[0;34m,\u001b[0m\u001b[0my_train\u001b[0m\u001b[0;34m)\u001b[0m\u001b[0;34m\u001b[0m\u001b[0;34m\u001b[0m\u001b[0m\n\u001b[0m\u001b[1;32m      3\u001b[0m \u001b[0;34m\u001b[0m\u001b[0m\n\u001b[1;32m      4\u001b[0m \u001b[0;31m# Note that this is NOT the adjusted R-squared\u001b[0m\u001b[0;34m\u001b[0m\u001b[0;34m\u001b[0m\u001b[0;34m\u001b[0m\u001b[0m\n\u001b[1;32m      5\u001b[0m \u001b[0;31m# in other words... find the Adjusted R-squared to have the appropriate measure :)\u001b[0m\u001b[0;34m\u001b[0m\u001b[0;34m\u001b[0m\u001b[0;34m\u001b[0m\u001b[0m\n",
      "\u001b[0;31mNameError\u001b[0m: name 'reg' is not defined"
     ]
    }
   ],
   "source": [
    "# Find the R-squared of the model\n",
    "reg.score(x_train,y_train)\n",
    "\n",
    "# Note that this is NOT the adjusted R-squared\n",
    "# in other words... find the Adjusted R-squared to have the appropriate measure :)"
   ]
  },
  {
   "cell_type": "markdown",
   "metadata": {},
   "source": [
    "### Finding the weights and bias"
   ]
  },
  {
   "cell_type": "code",
   "execution_count": 144,
   "metadata": {},
   "outputs": [
    {
     "data": {
      "text/plain": [
       "32.32845101020163"
      ]
     },
     "execution_count": 144,
     "metadata": {},
     "output_type": "execute_result"
    }
   ],
   "source": [
    "# Obtain the bias (intercept) of the regression\n",
    "reg.intercept_"
   ]
  },
  {
   "cell_type": "code",
   "execution_count": 145,
   "metadata": {},
   "outputs": [
    {
     "data": {
      "text/plain": [
       "array([  3.77901387, -10.28041641,  -6.98905379,  -0.55981775,\n",
       "         0.42495834,  -2.36788393,  -2.13335524,  -0.67807947])"
      ]
     },
     "execution_count": 145,
     "metadata": {},
     "output_type": "execute_result"
    }
   ],
   "source": [
    "# Obtain the weights (coefficients) of the regression\n",
    "reg.coef_\n",
    "\n",
    "# Note that they are barely interpretable if at all"
   ]
  },
  {
   "cell_type": "code",
   "execution_count": 146,
   "metadata": {},
   "outputs": [
    {
     "data": {
      "text/html": [
       "<div>\n",
       "<style scoped>\n",
       "    .dataframe tbody tr th:only-of-type {\n",
       "        vertical-align: middle;\n",
       "    }\n",
       "\n",
       "    .dataframe tbody tr th {\n",
       "        vertical-align: top;\n",
       "    }\n",
       "\n",
       "    .dataframe thead th {\n",
       "        text-align: right;\n",
       "    }\n",
       "</style>\n",
       "<table border=\"1\" class=\"dataframe\">\n",
       "  <thead>\n",
       "    <tr style=\"text-align: right;\">\n",
       "      <th></th>\n",
       "      <th>Features</th>\n",
       "      <th>Weights</th>\n",
       "    </tr>\n",
       "  </thead>\n",
       "  <tbody>\n",
       "    <tr>\n",
       "      <td>0</td>\n",
       "      <td>Tax_2015</td>\n",
       "      <td>3.78</td>\n",
       "    </tr>\n",
       "    <tr>\n",
       "      <td>1</td>\n",
       "      <td>Happiness_Score</td>\n",
       "      <td>-10.28</td>\n",
       "    </tr>\n",
       "    <tr>\n",
       "      <td>2</td>\n",
       "      <td>Afford_2015</td>\n",
       "      <td>-6.99</td>\n",
       "    </tr>\n",
       "    <tr>\n",
       "      <td>3</td>\n",
       "      <td>Ban_Score_Dir_Ads</td>\n",
       "      <td>-0.56</td>\n",
       "    </tr>\n",
       "    <tr>\n",
       "      <td>4</td>\n",
       "      <td>Ban_Score_Indr_Ads</td>\n",
       "      <td>0.42</td>\n",
       "    </tr>\n",
       "    <tr>\n",
       "      <td>5</td>\n",
       "      <td>Ban_Score_add_indir_ads</td>\n",
       "      <td>-2.37</td>\n",
       "    </tr>\n",
       "    <tr>\n",
       "      <td>6</td>\n",
       "      <td>Warn_Score</td>\n",
       "      <td>-2.13</td>\n",
       "    </tr>\n",
       "    <tr>\n",
       "      <td>7</td>\n",
       "      <td>Ban_Score_places</td>\n",
       "      <td>-0.68</td>\n",
       "    </tr>\n",
       "  </tbody>\n",
       "</table>\n",
       "</div>"
      ],
      "text/plain": [
       "                  Features  Weights\n",
       "0                 Tax_2015     3.78\n",
       "1          Happiness_Score   -10.28\n",
       "2              Afford_2015    -6.99\n",
       "3        Ban_Score_Dir_Ads    -0.56\n",
       "4       Ban_Score_Indr_Ads     0.42\n",
       "5  Ban_Score_add_indir_ads    -2.37\n",
       "6               Warn_Score    -2.13\n",
       "7         Ban_Score_places    -0.68"
      ]
     },
     "execution_count": 146,
     "metadata": {},
     "output_type": "execute_result"
    }
   ],
   "source": [
    "# Create a regression summary where we can compare them with one-another\n",
    "reg_summary = pd.DataFrame(inputs.columns.values, columns=['Features'])\n",
    "reg_summary['Weights'] = reg.coef_\n",
    "reg_summary"
   ]
  },
  {
   "cell_type": "markdown",
   "metadata": {},
   "source": [
    "## Testing"
   ]
  },
  {
   "cell_type": "code",
   "execution_count": 147,
   "metadata": {},
   "outputs": [],
   "source": [
    "# Once we have trained and fine-tuned our model, we can proceed to testing it\n",
    "# Testing is done on a dataset that the algorithm has never seen\n",
    "# Luckily we have prepared such a dataset\n",
    "# Our test inputs are 'x_test', while the outputs: 'y_test' \n",
    "# We SHOULD NOT TRAIN THE MODEL ON THEM, we just feed them and find the predictions\n",
    "# If the predictions are far off, we will know that our model overfitted\n",
    "y_hat_test = reg.predict(x_test)"
   ]
  },
  {
   "cell_type": "code",
   "execution_count": 148,
   "metadata": {},
   "outputs": [
    {
     "data": {
      "image/png": "[encoded data removed]",
      "text/plain": [
       "<Figure size 432x288 with 1 Axes>"
      ]
     },
     "metadata": {},
     "output_type": "display_data"
    }
   ],
   "source": [
    "# Create a scatter plot with the test targets and the test predictions\n",
    "# You can include the argument 'alpha' which will introduce opacity to the graph\n",
    "plt.scatter(y_test, y_hat_test, alpha=0.2)\n",
    "plt.xlabel('Targets (y_test)',size=18)\n",
    "plt.ylabel('Predictions (y_hat_test)',size=18)\n",
    "# plt.xlim(6,13)\n",
    "# plt.ylim(6,13)\n",
    "plt.show()"
   ]
  },
  {
   "cell_type": "code",
   "execution_count": 149,
   "metadata": {},
   "outputs": [
    {
     "data": {
      "text/html": [
       "<div>\n",
       "<style scoped>\n",
       "    .dataframe tbody tr th:only-of-type {\n",
       "        vertical-align: middle;\n",
       "    }\n",
       "\n",
       "    .dataframe tbody tr th {\n",
       "        vertical-align: top;\n",
       "    }\n",
       "\n",
       "    .dataframe thead th {\n",
       "        text-align: right;\n",
       "    }\n",
       "</style>\n",
       "<table border=\"1\" class=\"dataframe\">\n",
       "  <thead>\n",
       "    <tr style=\"text-align: right;\">\n",
       "      <th></th>\n",
       "      <th>Prediction</th>\n",
       "    </tr>\n",
       "  </thead>\n",
       "  <tbody>\n",
       "    <tr>\n",
       "      <td>0</td>\n",
       "      <td>24.65</td>\n",
       "    </tr>\n",
       "    <tr>\n",
       "      <td>1</td>\n",
       "      <td>29.20</td>\n",
       "    </tr>\n",
       "    <tr>\n",
       "      <td>2</td>\n",
       "      <td>5.87</td>\n",
       "    </tr>\n",
       "    <tr>\n",
       "      <td>3</td>\n",
       "      <td>34.68</td>\n",
       "    </tr>\n",
       "    <tr>\n",
       "      <td>4</td>\n",
       "      <td>18.98</td>\n",
       "    </tr>\n",
       "  </tbody>\n",
       "</table>\n",
       "</div>"
      ],
      "text/plain": [
       "   Prediction\n",
       "0       24.65\n",
       "1       29.20\n",
       "2        5.87\n",
       "3       34.68\n",
       "4       18.98"
      ]
     },
     "execution_count": 149,
     "metadata": {},
     "output_type": "execute_result"
    }
   ],
   "source": [
    "# Finally, let's manually check these predictions\n",
    "# To obtain the actual prices, we take the exponential of the log_price\n",
    "df_pf = pd.DataFrame(y_hat_test, columns=['Prediction'])\n",
    "df_pf.head()"
   ]
  },
  {
   "cell_type": "code",
   "execution_count": 150,
   "metadata": {},
   "outputs": [
    {
     "data": {
      "text/plain": [
       "0   28.00\n",
       "1   24.90\n",
       "2   37.10\n",
       "3   43.90\n",
       "4   18.60\n",
       "Name: Tobac_Use_M, dtype: float64"
      ]
     },
     "execution_count": 150,
     "metadata": {},
     "output_type": "execute_result"
    }
   ],
   "source": [
    "# After displaying y_test, we find what the issue is\n",
    "# The old indexes are preserved (recall earlier in that code we made a note on that)\n",
    "# The code was: data_cleaned = data_4.reset_index(drop=True)\n",
    "\n",
    "# Therefore, to get a proper result, we must reset the index and drop the old indexing\n",
    "y_test = y_test.reset_index(drop=True)\n",
    "\n",
    "# Check the result\n",
    "y_test.head()"
   ]
  },
  {
   "cell_type": "code",
   "execution_count": 151,
   "metadata": {},
   "outputs": [
    {
     "data": {
      "text/html": [
       "<div>\n",
       "<style scoped>\n",
       "    .dataframe tbody tr th:only-of-type {\n",
       "        vertical-align: middle;\n",
       "    }\n",
       "\n",
       "    .dataframe tbody tr th {\n",
       "        vertical-align: top;\n",
       "    }\n",
       "\n",
       "    .dataframe thead th {\n",
       "        text-align: right;\n",
       "    }\n",
       "</style>\n",
       "<table border=\"1\" class=\"dataframe\">\n",
       "  <thead>\n",
       "    <tr style=\"text-align: right;\">\n",
       "      <th></th>\n",
       "      <th>Prediction</th>\n",
       "      <th>Target</th>\n",
       "    </tr>\n",
       "  </thead>\n",
       "  <tbody>\n",
       "    <tr>\n",
       "      <td>0</td>\n",
       "      <td>24.65</td>\n",
       "      <td>28.00</td>\n",
       "    </tr>\n",
       "    <tr>\n",
       "      <td>1</td>\n",
       "      <td>29.20</td>\n",
       "      <td>24.90</td>\n",
       "    </tr>\n",
       "    <tr>\n",
       "      <td>2</td>\n",
       "      <td>5.87</td>\n",
       "      <td>37.10</td>\n",
       "    </tr>\n",
       "    <tr>\n",
       "      <td>3</td>\n",
       "      <td>34.68</td>\n",
       "      <td>43.90</td>\n",
       "    </tr>\n",
       "    <tr>\n",
       "      <td>4</td>\n",
       "      <td>18.98</td>\n",
       "      <td>18.60</td>\n",
       "    </tr>\n",
       "    <tr>\n",
       "      <td>5</td>\n",
       "      <td>31.23</td>\n",
       "      <td>60.00</td>\n",
       "    </tr>\n",
       "    <tr>\n",
       "      <td>6</td>\n",
       "      <td>30.51</td>\n",
       "      <td>47.10</td>\n",
       "    </tr>\n",
       "    <tr>\n",
       "      <td>7</td>\n",
       "      <td>37.08</td>\n",
       "      <td>46.20</td>\n",
       "    </tr>\n",
       "    <tr>\n",
       "      <td>8</td>\n",
       "      <td>32.85</td>\n",
       "      <td>13.10</td>\n",
       "    </tr>\n",
       "    <tr>\n",
       "      <td>9</td>\n",
       "      <td>22.91</td>\n",
       "      <td>26.20</td>\n",
       "    </tr>\n",
       "    <tr>\n",
       "      <td>10</td>\n",
       "      <td>46.61</td>\n",
       "      <td>49.40</td>\n",
       "    </tr>\n",
       "    <tr>\n",
       "      <td>11</td>\n",
       "      <td>22.08</td>\n",
       "      <td>22.40</td>\n",
       "    </tr>\n",
       "    <tr>\n",
       "      <td>12</td>\n",
       "      <td>33.74</td>\n",
       "      <td>37.40</td>\n",
       "    </tr>\n",
       "    <tr>\n",
       "      <td>13</td>\n",
       "      <td>39.46</td>\n",
       "      <td>36.90</td>\n",
       "    </tr>\n",
       "    <tr>\n",
       "      <td>14</td>\n",
       "      <td>46.86</td>\n",
       "      <td>43.00</td>\n",
       "    </tr>\n",
       "    <tr>\n",
       "      <td>15</td>\n",
       "      <td>22.07</td>\n",
       "      <td>41.40</td>\n",
       "    </tr>\n",
       "    <tr>\n",
       "      <td>16</td>\n",
       "      <td>23.57</td>\n",
       "      <td>35.50</td>\n",
       "    </tr>\n",
       "    <tr>\n",
       "      <td>17</td>\n",
       "      <td>26.93</td>\n",
       "      <td>19.90</td>\n",
       "    </tr>\n",
       "    <tr>\n",
       "      <td>18</td>\n",
       "      <td>30.16</td>\n",
       "      <td>26.50</td>\n",
       "    </tr>\n",
       "    <tr>\n",
       "      <td>19</td>\n",
       "      <td>37.49</td>\n",
       "      <td>23.40</td>\n",
       "    </tr>\n",
       "    <tr>\n",
       "      <td>20</td>\n",
       "      <td>21.00</td>\n",
       "      <td>44.00</td>\n",
       "    </tr>\n",
       "  </tbody>\n",
       "</table>\n",
       "</div>"
      ],
      "text/plain": [
       "    Prediction  Target\n",
       "0        24.65   28.00\n",
       "1        29.20   24.90\n",
       "2         5.87   37.10\n",
       "3        34.68   43.90\n",
       "4        18.98   18.60\n",
       "5        31.23   60.00\n",
       "6        30.51   47.10\n",
       "7        37.08   46.20\n",
       "8        32.85   13.10\n",
       "9        22.91   26.20\n",
       "10       46.61   49.40\n",
       "11       22.08   22.40\n",
       "12       33.74   37.40\n",
       "13       39.46   36.90\n",
       "14       46.86   43.00\n",
       "15       22.07   41.40\n",
       "16       23.57   35.50\n",
       "17       26.93   19.90\n",
       "18       30.16   26.50\n",
       "19       37.49   23.40\n",
       "20       21.00   44.00"
      ]
     },
     "execution_count": 151,
     "metadata": {},
     "output_type": "execute_result"
    }
   ],
   "source": [
    "# Let's overwrite the 'Target' column with the appropriate values\n",
    "# Again, we need the exponential of the test log price\n",
    "df_pf['Target'] = y_test\n",
    "df_pf"
   ]
  },
  {
   "cell_type": "code",
   "execution_count": 152,
   "metadata": {},
   "outputs": [],
   "source": [
    "# Additionally, we can calculate the difference between the targets and the predictions\n",
    "# Note that this is actually the residual (we already plotted the residuals)\n",
    "df_pf['Residual'] = df_pf['Target'] - df_pf['Prediction']\n",
    "\n",
    "# Since OLS is basically an algorithm which minimizes the total sum of squared errors (residuals),\n",
    "# this comparison makes a lot of sense"
   ]
  },
  {
   "cell_type": "code",
   "execution_count": 153,
   "metadata": {},
   "outputs": [
    {
     "data": {
      "text/html": [
       "<div>\n",
       "<style scoped>\n",
       "    .dataframe tbody tr th:only-of-type {\n",
       "        vertical-align: middle;\n",
       "    }\n",
       "\n",
       "    .dataframe tbody tr th {\n",
       "        vertical-align: top;\n",
       "    }\n",
       "\n",
       "    .dataframe thead th {\n",
       "        text-align: right;\n",
       "    }\n",
       "</style>\n",
       "<table border=\"1\" class=\"dataframe\">\n",
       "  <thead>\n",
       "    <tr style=\"text-align: right;\">\n",
       "      <th></th>\n",
       "      <th>Prediction</th>\n",
       "      <th>Target</th>\n",
       "      <th>Residual</th>\n",
       "      <th>Difference%</th>\n",
       "    </tr>\n",
       "  </thead>\n",
       "  <tbody>\n",
       "    <tr>\n",
       "      <td>0</td>\n",
       "      <td>24.65</td>\n",
       "      <td>28.00</td>\n",
       "      <td>3.35</td>\n",
       "      <td>11.98</td>\n",
       "    </tr>\n",
       "    <tr>\n",
       "      <td>1</td>\n",
       "      <td>29.20</td>\n",
       "      <td>24.90</td>\n",
       "      <td>-4.30</td>\n",
       "      <td>17.27</td>\n",
       "    </tr>\n",
       "    <tr>\n",
       "      <td>2</td>\n",
       "      <td>5.87</td>\n",
       "      <td>37.10</td>\n",
       "      <td>31.23</td>\n",
       "      <td>84.18</td>\n",
       "    </tr>\n",
       "    <tr>\n",
       "      <td>3</td>\n",
       "      <td>34.68</td>\n",
       "      <td>43.90</td>\n",
       "      <td>9.22</td>\n",
       "      <td>21.00</td>\n",
       "    </tr>\n",
       "    <tr>\n",
       "      <td>4</td>\n",
       "      <td>18.98</td>\n",
       "      <td>18.60</td>\n",
       "      <td>-0.38</td>\n",
       "      <td>2.03</td>\n",
       "    </tr>\n",
       "    <tr>\n",
       "      <td>5</td>\n",
       "      <td>31.23</td>\n",
       "      <td>60.00</td>\n",
       "      <td>28.77</td>\n",
       "      <td>47.95</td>\n",
       "    </tr>\n",
       "    <tr>\n",
       "      <td>6</td>\n",
       "      <td>30.51</td>\n",
       "      <td>47.10</td>\n",
       "      <td>16.59</td>\n",
       "      <td>35.21</td>\n",
       "    </tr>\n",
       "    <tr>\n",
       "      <td>7</td>\n",
       "      <td>37.08</td>\n",
       "      <td>46.20</td>\n",
       "      <td>9.12</td>\n",
       "      <td>19.74</td>\n",
       "    </tr>\n",
       "    <tr>\n",
       "      <td>8</td>\n",
       "      <td>32.85</td>\n",
       "      <td>13.10</td>\n",
       "      <td>-19.75</td>\n",
       "      <td>150.80</td>\n",
       "    </tr>\n",
       "    <tr>\n",
       "      <td>9</td>\n",
       "      <td>22.91</td>\n",
       "      <td>26.20</td>\n",
       "      <td>3.29</td>\n",
       "      <td>12.56</td>\n",
       "    </tr>\n",
       "    <tr>\n",
       "      <td>10</td>\n",
       "      <td>46.61</td>\n",
       "      <td>49.40</td>\n",
       "      <td>2.79</td>\n",
       "      <td>5.66</td>\n",
       "    </tr>\n",
       "    <tr>\n",
       "      <td>11</td>\n",
       "      <td>22.08</td>\n",
       "      <td>22.40</td>\n",
       "      <td>0.32</td>\n",
       "      <td>1.43</td>\n",
       "    </tr>\n",
       "    <tr>\n",
       "      <td>12</td>\n",
       "      <td>33.74</td>\n",
       "      <td>37.40</td>\n",
       "      <td>3.66</td>\n",
       "      <td>9.79</td>\n",
       "    </tr>\n",
       "    <tr>\n",
       "      <td>13</td>\n",
       "      <td>39.46</td>\n",
       "      <td>36.90</td>\n",
       "      <td>-2.56</td>\n",
       "      <td>6.95</td>\n",
       "    </tr>\n",
       "    <tr>\n",
       "      <td>14</td>\n",
       "      <td>46.86</td>\n",
       "      <td>43.00</td>\n",
       "      <td>-3.86</td>\n",
       "      <td>8.99</td>\n",
       "    </tr>\n",
       "    <tr>\n",
       "      <td>15</td>\n",
       "      <td>22.07</td>\n",
       "      <td>41.40</td>\n",
       "      <td>19.33</td>\n",
       "      <td>46.70</td>\n",
       "    </tr>\n",
       "    <tr>\n",
       "      <td>16</td>\n",
       "      <td>23.57</td>\n",
       "      <td>35.50</td>\n",
       "      <td>11.93</td>\n",
       "      <td>33.61</td>\n",
       "    </tr>\n",
       "    <tr>\n",
       "      <td>17</td>\n",
       "      <td>26.93</td>\n",
       "      <td>19.90</td>\n",
       "      <td>-7.03</td>\n",
       "      <td>35.33</td>\n",
       "    </tr>\n",
       "    <tr>\n",
       "      <td>18</td>\n",
       "      <td>30.16</td>\n",
       "      <td>26.50</td>\n",
       "      <td>-3.66</td>\n",
       "      <td>13.80</td>\n",
       "    </tr>\n",
       "    <tr>\n",
       "      <td>19</td>\n",
       "      <td>37.49</td>\n",
       "      <td>23.40</td>\n",
       "      <td>-14.09</td>\n",
       "      <td>60.23</td>\n",
       "    </tr>\n",
       "    <tr>\n",
       "      <td>20</td>\n",
       "      <td>21.00</td>\n",
       "      <td>44.00</td>\n",
       "      <td>23.00</td>\n",
       "      <td>52.28</td>\n",
       "    </tr>\n",
       "  </tbody>\n",
       "</table>\n",
       "</div>"
      ],
      "text/plain": [
       "    Prediction  Target  Residual  Difference%\n",
       "0        24.65   28.00      3.35        11.98\n",
       "1        29.20   24.90     -4.30        17.27\n",
       "2         5.87   37.10     31.23        84.18\n",
       "3        34.68   43.90      9.22        21.00\n",
       "4        18.98   18.60     -0.38         2.03\n",
       "5        31.23   60.00     28.77        47.95\n",
       "6        30.51   47.10     16.59        35.21\n",
       "7        37.08   46.20      9.12        19.74\n",
       "8        32.85   13.10    -19.75       150.80\n",
       "9        22.91   26.20      3.29        12.56\n",
       "10       46.61   49.40      2.79         5.66\n",
       "11       22.08   22.40      0.32         1.43\n",
       "12       33.74   37.40      3.66         9.79\n",
       "13       39.46   36.90     -2.56         6.95\n",
       "14       46.86   43.00     -3.86         8.99\n",
       "15       22.07   41.40     19.33        46.70\n",
       "16       23.57   35.50     11.93        33.61\n",
       "17       26.93   19.90     -7.03        35.33\n",
       "18       30.16   26.50     -3.66        13.80\n",
       "19       37.49   23.40    -14.09        60.23\n",
       "20       21.00   44.00     23.00        52.28"
      ]
     },
     "execution_count": 153,
     "metadata": {},
     "output_type": "execute_result"
    }
   ],
   "source": [
    "# Finally, it makes sense to see how far off we are from the result percentage-wise\n",
    "# Here, we take the absolute difference in %, so we can easily order the data frame\n",
    "df_pf['Difference%'] = np.absolute(df_pf['Residual']/df_pf['Target']*100)\n",
    "df_pf"
   ]
  },
  {
   "cell_type": "code",
   "execution_count": 154,
   "metadata": {},
   "outputs": [
    {
     "data": {
      "text/html": [
       "<div>\n",
       "<style scoped>\n",
       "    .dataframe tbody tr th:only-of-type {\n",
       "        vertical-align: middle;\n",
       "    }\n",
       "\n",
       "    .dataframe tbody tr th {\n",
       "        vertical-align: top;\n",
       "    }\n",
       "\n",
       "    .dataframe thead th {\n",
       "        text-align: right;\n",
       "    }\n",
       "</style>\n",
       "<table border=\"1\" class=\"dataframe\">\n",
       "  <thead>\n",
       "    <tr style=\"text-align: right;\">\n",
       "      <th></th>\n",
       "      <th>Prediction</th>\n",
       "      <th>Target</th>\n",
       "      <th>Residual</th>\n",
       "      <th>Difference%</th>\n",
       "    </tr>\n",
       "  </thead>\n",
       "  <tbody>\n",
       "    <tr>\n",
       "      <td>count</td>\n",
       "      <td>21.00</td>\n",
       "      <td>21.00</td>\n",
       "      <td>21.00</td>\n",
       "      <td>21.00</td>\n",
       "    </tr>\n",
       "    <tr>\n",
       "      <td>mean</td>\n",
       "      <td>29.43</td>\n",
       "      <td>34.52</td>\n",
       "      <td>5.09</td>\n",
       "      <td>32.26</td>\n",
       "    </tr>\n",
       "    <tr>\n",
       "      <td>std</td>\n",
       "      <td>9.58</td>\n",
       "      <td>12.14</td>\n",
       "      <td>13.19</td>\n",
       "      <td>34.87</td>\n",
       "    </tr>\n",
       "    <tr>\n",
       "      <td>min</td>\n",
       "      <td>5.87</td>\n",
       "      <td>13.10</td>\n",
       "      <td>-19.75</td>\n",
       "      <td>1.43</td>\n",
       "    </tr>\n",
       "    <tr>\n",
       "      <td>25%</td>\n",
       "      <td>22.91</td>\n",
       "      <td>24.90</td>\n",
       "      <td>-3.66</td>\n",
       "      <td>9.79</td>\n",
       "    </tr>\n",
       "    <tr>\n",
       "      <td>50%</td>\n",
       "      <td>30.16</td>\n",
       "      <td>36.90</td>\n",
       "      <td>3.29</td>\n",
       "      <td>19.74</td>\n",
       "    </tr>\n",
       "    <tr>\n",
       "      <td>75%</td>\n",
       "      <td>34.68</td>\n",
       "      <td>43.90</td>\n",
       "      <td>11.93</td>\n",
       "      <td>46.70</td>\n",
       "    </tr>\n",
       "    <tr>\n",
       "      <td>max</td>\n",
       "      <td>46.86</td>\n",
       "      <td>60.00</td>\n",
       "      <td>31.23</td>\n",
       "      <td>150.80</td>\n",
       "    </tr>\n",
       "  </tbody>\n",
       "</table>\n",
       "</div>"
      ],
      "text/plain": [
       "       Prediction  Target  Residual  Difference%\n",
       "count       21.00   21.00     21.00        21.00\n",
       "mean        29.43   34.52      5.09        32.26\n",
       "std          9.58   12.14     13.19        34.87\n",
       "min          5.87   13.10    -19.75         1.43\n",
       "25%         22.91   24.90     -3.66         9.79\n",
       "50%         30.16   36.90      3.29        19.74\n",
       "75%         34.68   43.90     11.93        46.70\n",
       "max         46.86   60.00     31.23       150.80"
      ]
     },
     "execution_count": 154,
     "metadata": {},
     "output_type": "execute_result"
    }
   ],
   "source": [
    "# Exploring the descriptives here gives us additional insights\n",
    "df_pf.describe()"
   ]
  },
  {
   "cell_type": "code",
   "execution_count": 155,
   "metadata": {},
   "outputs": [
    {
     "data": {
      "text/html": [
       "<div>\n",
       "<style scoped>\n",
       "    .dataframe tbody tr th:only-of-type {\n",
       "        vertical-align: middle;\n",
       "    }\n",
       "\n",
       "    .dataframe tbody tr th {\n",
       "        vertical-align: top;\n",
       "    }\n",
       "\n",
       "    .dataframe thead th {\n",
       "        text-align: right;\n",
       "    }\n",
       "</style>\n",
       "<table border=\"1\" class=\"dataframe\">\n",
       "  <thead>\n",
       "    <tr style=\"text-align: right;\">\n",
       "      <th></th>\n",
       "      <th>Prediction</th>\n",
       "      <th>Target</th>\n",
       "      <th>Residual</th>\n",
       "      <th>Difference%</th>\n",
       "    </tr>\n",
       "  </thead>\n",
       "  <tbody>\n",
       "    <tr>\n",
       "      <td>11</td>\n",
       "      <td>22.08</td>\n",
       "      <td>22.40</td>\n",
       "      <td>0.32</td>\n",
       "      <td>1.43</td>\n",
       "    </tr>\n",
       "    <tr>\n",
       "      <td>4</td>\n",
       "      <td>18.98</td>\n",
       "      <td>18.60</td>\n",
       "      <td>-0.38</td>\n",
       "      <td>2.03</td>\n",
       "    </tr>\n",
       "    <tr>\n",
       "      <td>10</td>\n",
       "      <td>46.61</td>\n",
       "      <td>49.40</td>\n",
       "      <td>2.79</td>\n",
       "      <td>5.66</td>\n",
       "    </tr>\n",
       "    <tr>\n",
       "      <td>13</td>\n",
       "      <td>39.46</td>\n",
       "      <td>36.90</td>\n",
       "      <td>-2.56</td>\n",
       "      <td>6.95</td>\n",
       "    </tr>\n",
       "    <tr>\n",
       "      <td>14</td>\n",
       "      <td>46.86</td>\n",
       "      <td>43.00</td>\n",
       "      <td>-3.86</td>\n",
       "      <td>8.99</td>\n",
       "    </tr>\n",
       "    <tr>\n",
       "      <td>12</td>\n",
       "      <td>33.74</td>\n",
       "      <td>37.40</td>\n",
       "      <td>3.66</td>\n",
       "      <td>9.79</td>\n",
       "    </tr>\n",
       "    <tr>\n",
       "      <td>0</td>\n",
       "      <td>24.65</td>\n",
       "      <td>28.00</td>\n",
       "      <td>3.35</td>\n",
       "      <td>11.98</td>\n",
       "    </tr>\n",
       "    <tr>\n",
       "      <td>9</td>\n",
       "      <td>22.91</td>\n",
       "      <td>26.20</td>\n",
       "      <td>3.29</td>\n",
       "      <td>12.56</td>\n",
       "    </tr>\n",
       "    <tr>\n",
       "      <td>18</td>\n",
       "      <td>30.16</td>\n",
       "      <td>26.50</td>\n",
       "      <td>-3.66</td>\n",
       "      <td>13.80</td>\n",
       "    </tr>\n",
       "    <tr>\n",
       "      <td>1</td>\n",
       "      <td>29.20</td>\n",
       "      <td>24.90</td>\n",
       "      <td>-4.30</td>\n",
       "      <td>17.27</td>\n",
       "    </tr>\n",
       "    <tr>\n",
       "      <td>7</td>\n",
       "      <td>37.08</td>\n",
       "      <td>46.20</td>\n",
       "      <td>9.12</td>\n",
       "      <td>19.74</td>\n",
       "    </tr>\n",
       "    <tr>\n",
       "      <td>3</td>\n",
       "      <td>34.68</td>\n",
       "      <td>43.90</td>\n",
       "      <td>9.22</td>\n",
       "      <td>21.00</td>\n",
       "    </tr>\n",
       "    <tr>\n",
       "      <td>16</td>\n",
       "      <td>23.57</td>\n",
       "      <td>35.50</td>\n",
       "      <td>11.93</td>\n",
       "      <td>33.61</td>\n",
       "    </tr>\n",
       "    <tr>\n",
       "      <td>6</td>\n",
       "      <td>30.51</td>\n",
       "      <td>47.10</td>\n",
       "      <td>16.59</td>\n",
       "      <td>35.21</td>\n",
       "    </tr>\n",
       "    <tr>\n",
       "      <td>17</td>\n",
       "      <td>26.93</td>\n",
       "      <td>19.90</td>\n",
       "      <td>-7.03</td>\n",
       "      <td>35.33</td>\n",
       "    </tr>\n",
       "    <tr>\n",
       "      <td>15</td>\n",
       "      <td>22.07</td>\n",
       "      <td>41.40</td>\n",
       "      <td>19.33</td>\n",
       "      <td>46.70</td>\n",
       "    </tr>\n",
       "    <tr>\n",
       "      <td>5</td>\n",
       "      <td>31.23</td>\n",
       "      <td>60.00</td>\n",
       "      <td>28.77</td>\n",
       "      <td>47.95</td>\n",
       "    </tr>\n",
       "    <tr>\n",
       "      <td>20</td>\n",
       "      <td>21.00</td>\n",
       "      <td>44.00</td>\n",
       "      <td>23.00</td>\n",
       "      <td>52.28</td>\n",
       "    </tr>\n",
       "    <tr>\n",
       "      <td>19</td>\n",
       "      <td>37.49</td>\n",
       "      <td>23.40</td>\n",
       "      <td>-14.09</td>\n",
       "      <td>60.23</td>\n",
       "    </tr>\n",
       "    <tr>\n",
       "      <td>2</td>\n",
       "      <td>5.87</td>\n",
       "      <td>37.10</td>\n",
       "      <td>31.23</td>\n",
       "      <td>84.18</td>\n",
       "    </tr>\n",
       "    <tr>\n",
       "      <td>8</td>\n",
       "      <td>32.85</td>\n",
       "      <td>13.10</td>\n",
       "      <td>-19.75</td>\n",
       "      <td>150.80</td>\n",
       "    </tr>\n",
       "  </tbody>\n",
       "</table>\n",
       "</div>"
      ],
      "text/plain": [
       "    Prediction  Target  Residual  Difference%\n",
       "11       22.08   22.40      0.32         1.43\n",
       "4        18.98   18.60     -0.38         2.03\n",
       "10       46.61   49.40      2.79         5.66\n",
       "13       39.46   36.90     -2.56         6.95\n",
       "14       46.86   43.00     -3.86         8.99\n",
       "12       33.74   37.40      3.66         9.79\n",
       "0        24.65   28.00      3.35        11.98\n",
       "9        22.91   26.20      3.29        12.56\n",
       "18       30.16   26.50     -3.66        13.80\n",
       "1        29.20   24.90     -4.30        17.27\n",
       "7        37.08   46.20      9.12        19.74\n",
       "3        34.68   43.90      9.22        21.00\n",
       "16       23.57   35.50     11.93        33.61\n",
       "6        30.51   47.10     16.59        35.21\n",
       "17       26.93   19.90     -7.03        35.33\n",
       "15       22.07   41.40     19.33        46.70\n",
       "5        31.23   60.00     28.77        47.95\n",
       "20       21.00   44.00     23.00        52.28\n",
       "19       37.49   23.40    -14.09        60.23\n",
       "2         5.87   37.10     31.23        84.18\n",
       "8        32.85   13.10    -19.75       150.80"
      ]
     },
     "execution_count": 155,
     "metadata": {},
     "output_type": "execute_result"
    }
   ],
   "source": [
    "# Sometimes it is useful to check these outputs manually\n",
    "# To see all rows, we use the relevant pandas syntax\n",
    "pd.options.display.max_rows = 999\n",
    "# Moreover, to make the dataset clear, we can display the result with only 2 digits after the dot \n",
    "pd.set_option('display.float_format', lambda x: '%.2f' % x)\n",
    "# Finally, we sort by difference in % and manually check the model\n",
    "df_pf.sort_values(by=['Difference%'])"
   ]
  },
  {
   "cell_type": "code",
   "execution_count": null,
   "metadata": {},
   "outputs": [],
   "source": []
  },
  {
   "cell_type": "code",
   "execution_count": null,
   "metadata": {},
   "outputs": [],
   "source": []
  },
  {
   "cell_type": "code",
   "execution_count": null,
   "metadata": {},
   "outputs": [],
   "source": []
  }
 ],
 "metadata": {
  "kernelspec": {
   "display_name": "Python 3",
   "language": "python",
   "name": "python3"
  },
  "language_info": {
   "codemirror_mode": {
    "name": "ipython",
    "version": 3
   },
   "file_extension": ".py",
   "mimetype": "text/x-python",
   "name": "python",
   "nbconvert_exporter": "python",
   "pygments_lexer": "ipython3",
   "version": "3.7.4"
  }
 },
 "nbformat": 4,
 "nbformat_minor": 2
}
