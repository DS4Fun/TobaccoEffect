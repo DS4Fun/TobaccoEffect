{
 "cells": [
  {
   "cell_type": "code",
   "execution_count": 29,
   "metadata": {},
   "outputs": [],
   "source": [
    "# Import the necessary libraries\n",
    "import numpy as np\n",
    "import pandas as pd\n",
    "import statsmodels.api as sm\n",
    "import matplotlib.pyplot as plt\n",
    "from sklearn.linear_model import LinearRegression\n",
    "import seaborn as sns\n",
    "sns.set()\n",
    "\n",
    "from ipynb.fs.full.functions import compute_ols, compute_ols_intercept, plot_residuals"
   ]
  },
  {
   "cell_type": "markdown",
   "metadata": {},
   "source": [
    "## Load the data:"
   ]
  },
  {
   "cell_type": "code",
   "execution_count": 45,
   "metadata": {},
   "outputs": [
    {
     "data": {
      "text/html": [
       "<div>\n",
       "<style scoped>\n",
       "    .dataframe tbody tr th:only-of-type {\n",
       "        vertical-align: middle;\n",
       "    }\n",
       "\n",
       "    .dataframe tbody tr th {\n",
       "        vertical-align: top;\n",
       "    }\n",
       "\n",
       "    .dataframe thead th {\n",
       "        text-align: right;\n",
       "    }\n",
       "</style>\n",
       "<table border=\"1\" class=\"dataframe\">\n",
       "  <thead>\n",
       "    <tr style=\"text-align: right;\">\n",
       "      <th></th>\n",
       "      <th>Price_2015</th>\n",
       "      <th>Tobac_Use_M</th>\n",
       "      <th>Tobac_Use_F</th>\n",
       "      <th>Tax_2015</th>\n",
       "      <th>Happiness_Score</th>\n",
       "      <th>Afford_2015</th>\n",
       "      <th>Ban_Score_Dir_Ads</th>\n",
       "      <th>Ban_Score_Indr_Ads</th>\n",
       "      <th>Ban_Score_add_indir_ads</th>\n",
       "      <th>Warn_Score</th>\n",
       "      <th>Ban_Score_places</th>\n",
       "    </tr>\n",
       "  </thead>\n",
       "  <tbody>\n",
       "    <tr>\n",
       "      <td>0</td>\n",
       "      <td>1.905</td>\n",
       "      <td>51.2</td>\n",
       "      <td>7.6</td>\n",
       "      <td>65.195</td>\n",
       "      <td>4.959</td>\n",
       "      <td>3.920</td>\n",
       "      <td>8</td>\n",
       "      <td>8</td>\n",
       "      <td>3</td>\n",
       "      <td>50.0</td>\n",
       "      <td>8</td>\n",
       "    </tr>\n",
       "    <tr>\n",
       "      <td>1</td>\n",
       "      <td>2.220</td>\n",
       "      <td>29.5</td>\n",
       "      <td>18.4</td>\n",
       "      <td>75.045</td>\n",
       "      <td>6.574</td>\n",
       "      <td>1.310</td>\n",
       "      <td>7</td>\n",
       "      <td>10</td>\n",
       "      <td>5</td>\n",
       "      <td>50.0</td>\n",
       "      <td>8</td>\n",
       "    </tr>\n",
       "    <tr>\n",
       "      <td>2</td>\n",
       "      <td>1.370</td>\n",
       "      <td>52.3</td>\n",
       "      <td>1.5</td>\n",
       "      <td>34.165</td>\n",
       "      <td>4.350</td>\n",
       "      <td>3.945</td>\n",
       "      <td>5</td>\n",
       "      <td>2</td>\n",
       "      <td>0</td>\n",
       "      <td>50.0</td>\n",
       "      <td>3</td>\n",
       "    </tr>\n",
       "    <tr>\n",
       "      <td>3</td>\n",
       "      <td>6.060</td>\n",
       "      <td>35.5</td>\n",
       "      <td>34.8</td>\n",
       "      <td>74.835</td>\n",
       "      <td>7.200</td>\n",
       "      <td>1.225</td>\n",
       "      <td>7</td>\n",
       "      <td>8</td>\n",
       "      <td>5</td>\n",
       "      <td>65.0</td>\n",
       "      <td>2</td>\n",
       "    </tr>\n",
       "    <tr>\n",
       "      <td>4</td>\n",
       "      <td>1.780</td>\n",
       "      <td>46.5</td>\n",
       "      <td>0.4</td>\n",
       "      <td>17.705</td>\n",
       "      <td>5.212</td>\n",
       "      <td>2.055</td>\n",
       "      <td>8</td>\n",
       "      <td>8</td>\n",
       "      <td>3</td>\n",
       "      <td>30.0</td>\n",
       "      <td>3</td>\n",
       "    </tr>\n",
       "  </tbody>\n",
       "</table>\n",
       "</div>"
      ],
      "text/plain": [
       "   Price_2015  Tobac_Use_M  Tobac_Use_F  Tax_2015  Happiness_Score  \\\n",
       "0       1.905         51.2          7.6    65.195            4.959   \n",
       "1       2.220         29.5         18.4    75.045            6.574   \n",
       "2       1.370         52.3          1.5    34.165            4.350   \n",
       "3       6.060         35.5         34.8    74.835            7.200   \n",
       "4       1.780         46.5          0.4    17.705            5.212   \n",
       "\n",
       "   Afford_2015  Ban_Score_Dir_Ads  Ban_Score_Indr_Ads  \\\n",
       "0        3.920                  8                   8   \n",
       "1        1.310                  7                  10   \n",
       "2        3.945                  5                   2   \n",
       "3        1.225                  7                   8   \n",
       "4        2.055                  8                   8   \n",
       "\n",
       "   Ban_Score_add_indir_ads  Warn_Score  Ban_Score_places  \n",
       "0                        3        50.0                 8  \n",
       "1                        5        50.0                 8  \n",
       "2                        0        50.0                 3  \n",
       "3                        5        65.0                 2  \n",
       "4                        3        30.0                 3  "
      ]
     },
     "execution_count": 45,
     "metadata": {},
     "output_type": "execute_result"
    }
   ],
   "source": [
    "data = pd.read_csv('data/clean_data.csv')\n",
    "\n",
    "data.head()"
   ]
  },
  {
   "cell_type": "markdown",
   "metadata": {},
   "source": [
    "#### Make inputs and targets"
   ]
  },
  {
   "cell_type": "code",
   "execution_count": 46,
   "metadata": {},
   "outputs": [],
   "source": [
    "y_m = data['Tobac_Use_M']\n",
    "\n",
    "# Keep all columns\n",
    "cols = ['Price_2015',\n",
    "        'Tax_2015',\n",
    "        'Happiness_Score', 'Afford_2015', 'Ban_Score_Dir_Ads',\n",
    "        'Ban_Score_Indr_Ads', 'Ban_Score_add_indir_ads', 'Warn_Score',\n",
    "        'Ban_Score_places']\n",
    "\n",
    "# Instantiate x\n",
    "x = data[cols]"
   ]
  },
  {
   "cell_type": "markdown",
   "metadata": {},
   "source": [
    "### Regresion model:\n",
    "We investigate two different models. In the first investigation, we consider the intercept, which means there are considerable parameters which are not included in the model. This model will result in more realistic results but in the most cases not much promising. However, if we ignore the intercept and consider our data as the complete possible data in zero state of our perception about the subject, we get more promissing model fits data.\n",
    "In the real world we should consider both sides. We reach the realistic overview about the situation and what we don't know and cannot change and then investigate the model without bias to optimize it as well based on our known facts and data."
   ]
  },
  {
   "cell_type": "markdown",
   "metadata": {},
   "source": [
    "## Consider Intercept"
   ]
  },
  {
   "cell_type": "code",
   "execution_count": 47,
   "metadata": {},
   "outputs": [
    {
     "name": "stdout",
     "output_type": "stream",
     "text": [
      "Male results considering intercept:\n",
      "                            OLS Regression Results                            \n",
      "==============================================================================\n",
      "Dep. Variable:            Tobac_Use_M   R-squared:                       0.450\n",
      "Model:                            OLS   Adj. R-squared:                  0.389\n",
      "Method:                 Least Squares   F-statistic:                     7.446\n",
      "Date:                Sun, 05 Apr 2020   Prob (F-statistic):           7.16e-08\n",
      "Time:                        00:51:21   Log-Likelihood:                -332.87\n",
      "No. Observations:                  92   AIC:                             685.7\n",
      "Df Residuals:                      82   BIC:                             711.0\n",
      "Df Model:                           9                                         \n",
      "Covariance Type:            nonrobust                                         \n",
      "===========================================================================================\n",
      "                              coef    std err          t      P>|t|      [0.025      0.975]\n",
      "-------------------------------------------------------------------------------------------\n",
      "const                      81.4085     12.255      6.643      0.000      57.030     105.787\n",
      "Price_2015                 -0.8912      0.563     -1.583      0.117      -2.011       0.229\n",
      "Tax_2015                    0.1853      0.060      3.097      0.003       0.066       0.304\n",
      "Happiness_Score            -6.9081      1.575     -4.386      0.000     -10.041      -3.775\n",
      "Afford_2015                -1.3862      0.372     -3.728      0.000      -2.126      -0.647\n",
      "Ban_Score_Dir_Ads          -0.1018      0.937     -0.109      0.914      -1.967       1.763\n",
      "Ban_Score_Indr_Ads         -0.9214      0.558     -1.651      0.103      -2.032       0.189\n",
      "Ban_Score_add_indir_ads    -0.1000      0.685     -0.146      0.884      -1.462       1.262\n",
      "Warn_Score                 -0.0630      0.082     -0.767      0.445      -0.226       0.100\n",
      "Ban_Score_places           -0.2442      0.367     -0.666      0.508      -0.974       0.486\n",
      "==============================================================================\n",
      "Omnibus:                        1.318   Durbin-Watson:                   1.739\n",
      "Prob(Omnibus):                  0.517   Jarque-Bera (JB):                1.351\n",
      "Skew:                           0.273   Prob(JB):                        0.509\n",
      "Kurtosis:                       2.768   Cond. No.                     1.04e+03\n",
      "==============================================================================\n",
      "\n",
      "Warnings:\n",
      "[1] Standard Errors assume that the covariance matrix of the errors is correctly specified.\n",
      "[2] The condition number is large, 1.04e+03. This might indicate that there are\n",
      "strong multicollinearity or other numerical problems.\n"
     ]
    }
   ],
   "source": [
    "# Model with intercept and all features.\n",
    "res_f_intercept = compute_ols_intercept(x, y_m)\n",
    "\n",
    "print(\"Male results considering intercept:\")\n",
    "print(res_f_intercept.summary())"
   ]
  },
  {
   "cell_type": "markdown",
   "metadata": {},
   "source": [
    "##### Results:\n",
    "\n",
    "As can be seen by p-values, the constant value, tax, happiness, and affordability are the significant parameters.\n",
    "\n",
    "The constant value fairly stands for some parameters which are not included in the study, and it seems those are significantly important. \n",
    "\n",
    "** Significand treshold is 0.05"
   ]
  },
  {
   "cell_type": "markdown",
   "metadata": {},
   "source": [
    "##### The error investigation:"
   ]
  },
  {
   "cell_type": "code",
   "execution_count": 48,
   "metadata": {},
   "outputs": [
    {
     "data": {
      "image/png": "[encoded data removed]",
      "text/plain": [
       "<Figure size 432x288 with 2 Axes>"
      ]
     },
     "metadata": {},
     "output_type": "display_data"
    }
   ],
   "source": [
    "plot_residuals(x, y_m, 'Male_residual_errors', standard=True)"
   ]
  },
  {
   "cell_type": "markdown",
   "metadata": {},
   "source": [
    "The residual diagram shows fairly noraml distribution and, the comparison between train and test shows the improvement in values for test, which means the model works well on data."
   ]
  },
  {
   "cell_type": "markdown",
   "metadata": {},
   "source": [
    "#### Remove not-significant parameters:"
   ]
  },
  {
   "cell_type": "code",
   "execution_count": 49,
   "metadata": {},
   "outputs": [
    {
     "name": "stdout",
     "output_type": "stream",
     "text": [
      "Male results considering intercept with significant features:\n",
      "                            OLS Regression Results                            \n",
      "==============================================================================\n",
      "Dep. Variable:            Tobac_Use_M   R-squared:                       0.357\n",
      "Model:                            OLS   Adj. R-squared:                  0.335\n",
      "Method:                 Least Squares   F-statistic:                     16.31\n",
      "Date:                Sun, 05 Apr 2020   Prob (F-statistic):           1.63e-08\n",
      "Time:                        00:51:23   Log-Likelihood:                -340.00\n",
      "No. Observations:                  92   AIC:                             688.0\n",
      "Df Residuals:                      88   BIC:                             698.1\n",
      "Df Model:                           3                                         \n",
      "Covariance Type:            nonrobust                                         \n",
      "===================================================================================\n",
      "                      coef    std err          t      P>|t|      [0.025      0.975]\n",
      "-----------------------------------------------------------------------------------\n",
      "const              77.4012      7.923      9.769      0.000      61.656      93.146\n",
      "Tax_2015            0.1380      0.054      2.579      0.012       0.032       0.244\n",
      "Happiness_Score    -8.1537      1.210     -6.740      0.000     -10.558      -5.750\n",
      "Afford_2015        -1.5056      0.355     -4.247      0.000      -2.210      -0.801\n",
      "==============================================================================\n",
      "Omnibus:                        0.511   Durbin-Watson:                   1.771\n",
      "Prob(Omnibus):                  0.774   Jarque-Bera (JB):                0.362\n",
      "Skew:                           0.154   Prob(JB):                        0.834\n",
      "Kurtosis:                       2.994   Cond. No.                         476.\n",
      "==============================================================================\n",
      "\n",
      "Warnings:\n",
      "[1] Standard Errors assume that the covariance matrix of the errors is correctly specified.\n"
     ]
    },
    {
     "name": "stderr",
     "output_type": "stream",
     "text": [
      "/home/andrew/anaconda3/lib/python3.7/site-packages/numpy/core/fromnumeric.py:2495: FutureWarning: Method .ptp is deprecated and will be removed in a future version. Use numpy.ptp instead.\n",
      "  return ptp(axis=axis, out=out, **kwargs)\n"
     ]
    }
   ],
   "source": [
    "# Keep just significant parameters\n",
    "cols = ['Tax_2015',\n",
    "           'Happiness_Score', 'Afford_2015', ]\n",
    "\n",
    "# Instantiate x\n",
    "x_rem = data[cols]\n",
    "\n",
    "# Model with intercept and significant features.\n",
    "res_f_intercept = compute_ols_intercept(x_rem, y_m)\n",
    "\n",
    "print(\"Male results considering intercept with significant features:\")\n",
    "print(res_f_intercept.summary())"
   ]
  },
  {
   "cell_type": "markdown",
   "metadata": {},
   "source": [
    "#### Result: \n",
    "\n",
    "The significant indicators are not changed. Althought the difference between R-squared valud and Adjusted R-squared is decreased, the overall value for both parameters are detriorated, so we can keep the insignificant indicators as controllers."
   ]
  },
  {
   "cell_type": "markdown",
   "metadata": {},
   "source": [
    "##### The error investigation:"
   ]
  },
  {
   "cell_type": "code",
   "execution_count": 50,
   "metadata": {},
   "outputs": [
    {
     "data": {
      "image/png": "[encoded data removed]",
      "text/plain": [
       "<Figure size 432x288 with 2 Axes>"
      ]
     },
     "metadata": {},
     "output_type": "display_data"
    }
   ],
   "source": [
    "plot_residuals(x_rem, y_m, 'Male_residual_errors', standard=True)"
   ]
  },
  {
   "cell_type": "markdown",
   "metadata": {},
   "source": [
    "#### Result:\n",
    "The error is lower than what we had before removing the non significant indicators."
   ]
  },
  {
   "cell_type": "markdown",
   "metadata": {},
   "source": [
    "### Checking the OLS assumptions"
   ]
  },
  {
   "cell_type": "markdown",
   "metadata": {},
   "source": [
    "#### Linearity"
   ]
  },
  {
   "cell_type": "code",
   "execution_count": 51,
   "metadata": {},
   "outputs": [
    {
     "data": {
      "image/png": "[encoded data removed]",
      "text/plain": [
       "<Figure size 1080x216 with 3 Axes>"
      ]
     },
     "metadata": {},
     "output_type": "display_data"
    }
   ],
   "source": [
    "# Here we use some matplotlib code\n",
    "# Use plt.scatter() for each of them (with your current knowledge)\n",
    "# But since Tobaco_Use_M is the 'y' axis of all the plots, it made sense to plot them side-by-side (so we can compare them)\n",
    "f, (ax1, ax2, ax3) = plt.subplots(1, 3, sharey=True, figsize =(15,3)) #sharey -> share 'Price' as y\n",
    "ax1.scatter(data['Happiness_Score'],data['Tobac_Use_M'])\n",
    "ax1.set_title('Tobacco and Happiness')\n",
    "ax2.scatter(data['Tax_2015'],data['Tobac_Use_M'])\n",
    "ax2.set_title('Tobacco and Tax')\n",
    "ax3.scatter(data['Afford_2015'],data['Tobac_Use_M'])\n",
    "ax3.set_title('Tobacco and Affordability')\n",
    "\n",
    "\n",
    "plt.show()"
   ]
  },
  {
   "cell_type": "markdown",
   "metadata": {},
   "source": [
    "The scatter plots show fairly linear relation between tobacco consumption and the significant indicators."
   ]
  },
  {
   "cell_type": "markdown",
   "metadata": {},
   "source": [
    "#### Homoscedasticity\n",
    "The normal distribution of error satisfy homoscelasticity criteria for linear regression."
   ]
  },
  {
   "cell_type": "markdown",
   "metadata": {},
   "source": [
    "#### Multicollinearity"
   ]
  },
  {
   "cell_type": "code",
   "execution_count": 52,
   "metadata": {},
   "outputs": [
    {
     "data": {
      "text/plain": [
       "array(['Price_2015', 'Tobac_Use_M', 'Tobac_Use_F', 'Tax_2015',\n",
       "       'Happiness_Score', 'Afford_2015', 'Ban_Score_Dir_Ads',\n",
       "       'Ban_Score_Indr_Ads', 'Ban_Score_add_indir_ads', 'Warn_Score',\n",
       "       'Ban_Score_places'], dtype=object)"
      ]
     },
     "execution_count": 52,
     "metadata": {},
     "output_type": "execute_result"
    }
   ],
   "source": [
    "# Let's quickly see the columns of our data frame\n",
    "data.columns.values"
   ]
  },
  {
   "cell_type": "code",
   "execution_count": 53,
   "metadata": {},
   "outputs": [],
   "source": [
    "# sklearn does not have a built-in way to check for multicollinearity\n",
    "# one of the main reasons is that this is an issue well covered in statistical frameworks and not in ML ones\n",
    "# surely it is an issue nonetheless, thus we will try to deal with it\n",
    "\n",
    "# Here's the relevant module\n",
    "# full documentation: http://www.statsmodels.org/dev/_modules/statsmodels/stats/outliers_influence.html#variance_inflation_factor\n",
    "from statsmodels.stats.outliers_influence import variance_inflation_factor\n",
    "\n",
    "# To make this as easy as possible to use, we declare a variable where we put\n",
    "# all features where we want to check for multicollinearity\n",
    "# since our categorical data is not yet preprocessed, we will only take the numerical ones\n",
    "variables = data[['Afford_2015','Tax_2015','Happiness_Score']]\n",
    "\n",
    "# we create a new data frame which will include all the VIFs\n",
    "# note that each variable has its own variance inflation factor as this measure is variable specific (not model specific)\n",
    "vif = pd.DataFrame()\n",
    "\n",
    "# here we make use of the variance_inflation_factor, which will basically output the respective VIFs \n",
    "vif[\"VIF\"] = [variance_inflation_factor(variables.values, i) for i in range(variables.shape[1])]\n",
    "# Finally, I like to include names so it is easier to explore the result\n",
    "vif[\"Features\"] = variables.columns"
   ]
  },
  {
   "cell_type": "code",
   "execution_count": 54,
   "metadata": {},
   "outputs": [
    {
     "data": {
      "text/html": [
       "<div>\n",
       "<style scoped>\n",
       "    .dataframe tbody tr th:only-of-type {\n",
       "        vertical-align: middle;\n",
       "    }\n",
       "\n",
       "    .dataframe tbody tr th {\n",
       "        vertical-align: top;\n",
       "    }\n",
       "\n",
       "    .dataframe thead th {\n",
       "        text-align: right;\n",
       "    }\n",
       "</style>\n",
       "<table border=\"1\" class=\"dataframe\">\n",
       "  <thead>\n",
       "    <tr style=\"text-align: right;\">\n",
       "      <th></th>\n",
       "      <th>VIF</th>\n",
       "      <th>Features</th>\n",
       "    </tr>\n",
       "  </thead>\n",
       "  <tbody>\n",
       "    <tr>\n",
       "      <td>0</td>\n",
       "      <td>1.694707</td>\n",
       "      <td>Afford_2015</td>\n",
       "    </tr>\n",
       "    <tr>\n",
       "      <td>1</td>\n",
       "      <td>9.371032</td>\n",
       "      <td>Tax_2015</td>\n",
       "    </tr>\n",
       "    <tr>\n",
       "      <td>2</td>\n",
       "      <td>10.424759</td>\n",
       "      <td>Happiness_Score</td>\n",
       "    </tr>\n",
       "  </tbody>\n",
       "</table>\n",
       "</div>"
      ],
      "text/plain": [
       "         VIF         Features\n",
       "0   1.694707      Afford_2015\n",
       "1   9.371032         Tax_2015\n",
       "2  10.424759  Happiness_Score"
      ]
     },
     "execution_count": 54,
     "metadata": {},
     "output_type": "execute_result"
    }
   ],
   "source": [
    "# Let's explore the result\n",
    "vif"
   ]
  },
  {
   "cell_type": "markdown",
   "metadata": {},
   "source": [
    "Both Tax and happiness are candidates to be ommited. Remove the happiness_score as the worst and run the model again."
   ]
  },
  {
   "cell_type": "code",
   "execution_count": 56,
   "metadata": {},
   "outputs": [
    {
     "name": "stdout",
     "output_type": "stream",
     "text": [
      "Male results considering intercept with significant features:\n",
      "                            OLS Regression Results                            \n",
      "==============================================================================\n",
      "Dep. Variable:            Tobac_Use_M   R-squared:                       0.015\n",
      "Model:                            OLS   Adj. R-squared:                  0.004\n",
      "Method:                 Least Squares   F-statistic:                     1.363\n",
      "Date:                Sun, 05 Apr 2020   Prob (F-statistic):              0.246\n",
      "Time:                        00:51:40   Log-Likelihood:                -359.66\n",
      "No. Observations:                  92   AIC:                             723.3\n",
      "Df Residuals:                      90   BIC:                             728.4\n",
      "Df Model:                           1                                         \n",
      "Covariance Type:            nonrobust                                         \n",
      "===============================================================================\n",
      "                  coef    std err          t      P>|t|      [0.025      0.975]\n",
      "-------------------------------------------------------------------------------\n",
      "const          34.9403      1.865     18.733      0.000      31.235      38.646\n",
      "Afford_2015    -0.3904      0.334     -1.167      0.246      -1.055       0.274\n",
      "==============================================================================\n",
      "Omnibus:                        1.737   Durbin-Watson:                   1.951\n",
      "Prob(Omnibus):                  0.420   Jarque-Bera (JB):                1.574\n",
      "Skew:                           0.199   Prob(JB):                        0.455\n",
      "Kurtosis:                       2.497   Cond. No.                         8.32\n",
      "==============================================================================\n",
      "\n",
      "Warnings:\n",
      "[1] Standard Errors assume that the covariance matrix of the errors is correctly specified.\n"
     ]
    }
   ],
   "source": [
    "# Keep just significant parameters\n",
    "cols = ['Afford_2015']\n",
    "\n",
    "# Instantiate x\n",
    "x_rem = data[cols]\n",
    "\n",
    "# Model with intercept and significant features.\n",
    "res_f_intercept = compute_ols_intercept(x_rem, y_m)\n",
    "\n",
    "print(\"Male results considering intercept with significant features:\")\n",
    "print(res_f_intercept.summary())"
   ]
  },
  {
   "cell_type": "markdown",
   "metadata": {},
   "source": [
    "### Descriptive investigation\n",
    "The only remained regressor that remained is affordability. But, the R-values shows the weakness of model that gives us no patern of behaviour. So it's better to keep the  tax and happiness as before if we have considered the intercept in our model."
   ]
  },
  {
   "cell_type": "markdown",
   "metadata": {},
   "source": [
    "#### Not autocorrelation\n",
    "The Durbin-watson value in the summary of linear regression is around 2 which shows there is no autocorrelation between erros."
   ]
  },
  {
   "cell_type": "markdown",
   "metadata": {},
   "source": [
    "## No Intercept\n",
    "\n",
    "It means, we have ignored all unknown prarmeters and assumed system in zero state at first, without any bias. But, we know that constant (bias) is a significant parameter in the model. So this investigation just show us how much we cand infer from our data by keeping all bias information away or simply ignore them and assume the system in zero-state."
   ]
  },
  {
   "cell_type": "code",
   "execution_count": 57,
   "metadata": {},
   "outputs": [
    {
     "name": "stdout",
     "output_type": "stream",
     "text": [
      "Male results without considering intercept:\n",
      "                                 OLS Regression Results                                \n",
      "=======================================================================================\n",
      "Dep. Variable:            Tobac_Use_M   R-squared (uncentered):                   0.901\n",
      "Model:                            OLS   Adj. R-squared (uncentered):              0.890\n",
      "Method:                 Least Squares   F-statistic:                              83.66\n",
      "Date:                Sun, 05 Apr 2020   Prob (F-statistic):                    7.83e-38\n",
      "Time:                        00:53:28   Log-Likelihood:                         -352.68\n",
      "No. Observations:                  92   AIC:                                      723.4\n",
      "Df Residuals:                      83   BIC:                                      746.1\n",
      "Df Model:                           9                                                  \n",
      "Covariance Type:            nonrobust                                                  \n",
      "===========================================================================================\n",
      "                              coef    std err          t      P>|t|      [0.025      0.975]\n",
      "-------------------------------------------------------------------------------------------\n",
      "Price_2015                 -2.0679      0.659     -3.140      0.002      -3.378      -0.758\n",
      "Tax_2015                    0.2801      0.072      3.909      0.000       0.138       0.423\n",
      "Happiness_Score             1.2389      1.218      1.017      0.312      -1.184       3.661\n",
      "Afford_2015                 0.3182      0.332      0.959      0.340      -0.342       0.978\n",
      "Ban_Score_Dir_Ads           3.1899      0.981      3.252      0.002       1.239       5.141\n",
      "Ban_Score_Indr_Ads         -1.3254      0.684     -1.938      0.056      -2.686       0.035\n",
      "Ban_Score_add_indir_ads    -0.4075      0.842     -0.484      0.630      -2.082       1.267\n",
      "Warn_Score                  0.0603      0.099      0.612      0.542      -0.136       0.256\n",
      "Ban_Score_places           -0.0413      0.451     -0.092      0.927      -0.938       0.855\n",
      "==============================================================================\n",
      "Omnibus:                        1.429   Durbin-Watson:                   1.936\n",
      "Prob(Omnibus):                  0.489   Jarque-Bera (JB):                1.163\n",
      "Skew:                           0.275   Prob(JB):                        0.559\n",
      "Kurtosis:                       3.019   Cond. No.                         101.\n",
      "==============================================================================\n",
      "\n",
      "Warnings:\n",
      "[1] Standard Errors assume that the covariance matrix of the errors is correctly specified.\n"
     ]
    }
   ],
   "source": [
    "# Model without intercept but with all features.\n",
    "res_m_without = compute_ols(x, y_m)\n",
    "\n",
    "print(\"Male results without considering intercept:\")\n",
    "print(res_m_without.summary())"
   ]
  },
  {
   "cell_type": "markdown",
   "metadata": {},
   "source": [
    "##### Results:\n",
    "Firstly we can see that the R-squared and ajdusted R-squared are much improved. \n",
    "However, the significant parameters are changed. The happiness and affordability should be removed, on the other side the ban on advertisement and price should be added. We can explain it in zero state as, incentive and deterrent parmeters for tobacco consumption. Which means, in zero state the happiness and affordability are not a deterrent but avoiding the advertisement and price of tobacco are improtant factors in customer sight."
   ]
  },
  {
   "cell_type": "markdown",
   "metadata": {},
   "source": [
    "##### The error investigation:"
   ]
  },
  {
   "cell_type": "code",
   "execution_count": 58,
   "metadata": {},
   "outputs": [
    {
     "data": {
      "image/png": "[encoded data removed]",
      "text/plain": [
       "<Figure size 432x288 with 2 Axes>"
      ]
     },
     "metadata": {},
     "output_type": "display_data"
    }
   ],
   "source": [
    "plot_residuals(x, y_m, 'Male_residual_errors', standard=True)"
   ]
  },
  {
   "cell_type": "markdown",
   "metadata": {},
   "source": [
    "The difference between squared residuals of train and test data set is sensational. Which can be assumed as underfitting."
   ]
  },
  {
   "cell_type": "code",
   "execution_count": 60,
   "metadata": {
    "scrolled": true
   },
   "outputs": [
    {
     "name": "stdout",
     "output_type": "stream",
     "text": [
      "Male results without considering intercept:\n",
      "                                 OLS Regression Results                                \n",
      "=======================================================================================\n",
      "Dep. Variable:            Tobac_Use_M   R-squared (uncentered):                   0.885\n",
      "Model:                            OLS   Adj. R-squared (uncentered):              0.881\n",
      "Method:                 Least Squares   F-statistic:                              227.3\n",
      "Date:                Sun, 05 Apr 2020   Prob (F-statistic):                    1.35e-41\n",
      "Time:                        00:53:48   Log-Likelihood:                         -359.62\n",
      "No. Observations:                  92   AIC:                                      725.2\n",
      "Df Residuals:                      89   BIC:                                      732.8\n",
      "Df Model:                           3                                                  \n",
      "Covariance Type:            nonrobust                                                  \n",
      "=====================================================================================\n",
      "                        coef    std err          t      P>|t|      [0.025      0.975]\n",
      "-------------------------------------------------------------------------------------\n",
      "Price_2015           -1.6630      0.525     -3.170      0.002      -2.705      -0.621\n",
      "Tax_2015              0.3287      0.064      5.143      0.000       0.202       0.456\n",
      "Ban_Score_Dir_Ads     2.8672      0.440      6.522      0.000       1.994       3.741\n",
      "==============================================================================\n",
      "Omnibus:                        0.585   Durbin-Watson:                   2.002\n",
      "Prob(Omnibus):                  0.747   Jarque-Bera (JB):                0.723\n",
      "Skew:                           0.155   Prob(JB):                        0.697\n",
      "Kurtosis:                       2.695   Cond. No.                         26.4\n",
      "==============================================================================\n",
      "\n",
      "Warnings:\n",
      "[1] Standard Errors assume that the covariance matrix of the errors is correctly specified.\n"
     ]
    }
   ],
   "source": [
    "# Keep significant columns\n",
    "cols = ['Price_2015','Tax_2015', 'Ban_Score_Dir_Ads']\n",
    "\n",
    "# Instantiate x\n",
    "cleaned_x = data[cols]\n",
    "\n",
    "# Model without intercept but with significant features.\n",
    "res_m_without = compute_ols(cleaned_x, y_m)\n",
    "\n",
    "print(\"Male results without considering intercept:\")\n",
    "print(res_m_without.summary())"
   ]
  },
  {
   "cell_type": "markdown",
   "metadata": {},
   "source": [
    "#### Summary:\n",
    "Although the R-score is detriorated slightly, but, it's much closer to adjusted R-squared and all remained parameters are significant.\n",
    "\n",
    "F-statistics shows fairly good modeling with high significance. The negative coeficient of Price indicates its negative impact on tobacco consumption which is the only deterant factor. However, the positive coeficient of direct advertisement ban and tax should be investigated in more precise study."
   ]
  },
  {
   "cell_type": "markdown",
   "metadata": {},
   "source": [
    "##### The error investigation:"
   ]
  },
  {
   "cell_type": "code",
   "execution_count": 61,
   "metadata": {},
   "outputs": [
    {
     "data": {
      "image/png": "[encoded data removed]",
      "text/plain": [
       "<Figure size 432x288 with 2 Axes>"
      ]
     },
     "metadata": {},
     "output_type": "display_data"
    }
   ],
   "source": [
    "plot_residuals(cleaned_x, y_m, 'Male_residual_errors', standard=True)"
   ]
  },
  {
   "cell_type": "markdown",
   "metadata": {},
   "source": [
    "The error of train and test are decreased and much close to each other, so the model is working well without bias and non-significant indicators."
   ]
  },
  {
   "cell_type": "markdown",
   "metadata": {},
   "source": [
    "## Checking the OLS assumptions"
   ]
  },
  {
   "cell_type": "markdown",
   "metadata": {},
   "source": [
    "#### Linearity"
   ]
  },
  {
   "cell_type": "code",
   "execution_count": 62,
   "metadata": {},
   "outputs": [
    {
     "data": {
      "image/png": "[encoded data removed]",
      "text/plain": [
       "<Figure size 1080x216 with 3 Axes>"
      ]
     },
     "metadata": {},
     "output_type": "display_data"
    }
   ],
   "source": [
    "# Here we use some matplotlib code\n",
    "# Use plt.scatter() for each of them (with your current knowledge)\n",
    "# But since Tobaco_Use_M is the 'y' axis of all the plots, it made sense to plot them side-by-side (so we can compare them)\n",
    "f, (ax1, ax2, ax3) = plt.subplots(1, 3, sharey=True, figsize =(15,3)) #sharey -> share 'Price' as y\n",
    "ax1.scatter(data['Price_2015'],data['Tobac_Use_M'])\n",
    "ax1.set_title('Tobacco and Price')\n",
    "ax2.scatter(data['Tax_2015'],data['Tobac_Use_M'])\n",
    "ax2.set_title('Tobacco and Tax')\n",
    "ax3.scatter(data['Ban_Score_Dir_Ads'],data['Tobac_Use_M'])\n",
    "ax3.set_title('Tobacco and Ban on Advertisement')\n",
    "\n",
    "\n",
    "plt.show()"
   ]
  },
  {
   "cell_type": "markdown",
   "metadata": {},
   "source": [
    "The scatter plots show fairly linear relation between tobacco consumption and the significant indicators."
   ]
  },
  {
   "cell_type": "markdown",
   "metadata": {},
   "source": [
    "#### Homoscedasticity\n",
    "The normal distribution of error satisfy homoscelasticity criteria for linear regression."
   ]
  },
  {
   "cell_type": "markdown",
   "metadata": {},
   "source": [
    "#### Not autocorrelation\n",
    "The Durbin-watson value in the summary of linear regression is around 2 which shows there is no autocorrelation between erros."
   ]
  },
  {
   "cell_type": "markdown",
   "metadata": {},
   "source": [
    "#### Multicollinearity"
   ]
  },
  {
   "cell_type": "code",
   "execution_count": 64,
   "metadata": {},
   "outputs": [
    {
     "data": {
      "text/plain": [
       "array(['Price_2015', 'Tobac_Use_M', 'Tobac_Use_F', 'Tax_2015',\n",
       "       'Happiness_Score', 'Afford_2015', 'Ban_Score_Dir_Ads',\n",
       "       'Ban_Score_Indr_Ads', 'Ban_Score_add_indir_ads', 'Warn_Score',\n",
       "       'Ban_Score_places'], dtype=object)"
      ]
     },
     "execution_count": 64,
     "metadata": {},
     "output_type": "execute_result"
    }
   ],
   "source": [
    "# Let's quickly see the columns of our data frame\n",
    "data.columns.values"
   ]
  },
  {
   "cell_type": "code",
   "execution_count": 65,
   "metadata": {},
   "outputs": [],
   "source": [
    "# sklearn does not have a built-in way to check for multicollinearity\n",
    "# one of the main reasons is that this is an issue well covered in statistical frameworks and not in ML ones\n",
    "# surely it is an issue nonetheless, thus we will try to deal with it\n",
    "\n",
    "# Here's the relevant module\n",
    "# full documentation: http://www.statsmodels.org/dev/_modules/statsmodels/stats/outliers_influence.html#variance_inflation_factor\n",
    "from statsmodels.stats.outliers_influence import variance_inflation_factor\n",
    "\n",
    "# To make this as easy as possible to use, we declare a variable where we put\n",
    "# all features where we want to check for multicollinearity\n",
    "# since our categorical data is not yet preprocessed, we will only take the numerical ones\n",
    "variables = data[['Price_2015','Tax_2015','Ban_Score_Dir_Ads']]\n",
    "\n",
    "# we create a new data frame which will include all the VIFs\n",
    "# note that each variable has its own variance inflation factor as this measure is variable specific (not model specific)\n",
    "vif = pd.DataFrame()\n",
    "\n",
    "# here we make use of the variance_inflation_factor, which will basically output the respective VIFs \n",
    "vif[\"VIF\"] = [variance_inflation_factor(variables.values, i) for i in range(variables.shape[1])]\n",
    "# Finally, I like to include names so it is easier to explore the result\n",
    "vif[\"Features\"] = variables.columns"
   ]
  },
  {
   "cell_type": "code",
   "execution_count": 66,
   "metadata": {},
   "outputs": [
    {
     "data": {
      "text/html": [
       "<div>\n",
       "<style scoped>\n",
       "    .dataframe tbody tr th:only-of-type {\n",
       "        vertical-align: middle;\n",
       "    }\n",
       "\n",
       "    .dataframe tbody tr th {\n",
       "        vertical-align: top;\n",
       "    }\n",
       "\n",
       "    .dataframe thead th {\n",
       "        text-align: right;\n",
       "    }\n",
       "</style>\n",
       "<table border=\"1\" class=\"dataframe\">\n",
       "  <thead>\n",
       "    <tr style=\"text-align: right;\">\n",
       "      <th></th>\n",
       "      <th>VIF</th>\n",
       "      <th>Features</th>\n",
       "    </tr>\n",
       "  </thead>\n",
       "  <tbody>\n",
       "    <tr>\n",
       "      <td>0</td>\n",
       "      <td>3.505555</td>\n",
       "      <td>Price_2015</td>\n",
       "    </tr>\n",
       "    <tr>\n",
       "      <td>1</td>\n",
       "      <td>9.436458</td>\n",
       "      <td>Tax_2015</td>\n",
       "    </tr>\n",
       "    <tr>\n",
       "      <td>2</td>\n",
       "      <td>5.683439</td>\n",
       "      <td>Ban_Score_Dir_Ads</td>\n",
       "    </tr>\n",
       "  </tbody>\n",
       "</table>\n",
       "</div>"
      ],
      "text/plain": [
       "        VIF           Features\n",
       "0  3.505555         Price_2015\n",
       "1  9.436458           Tax_2015\n",
       "2  5.683439  Ban_Score_Dir_Ads"
      ]
     },
     "execution_count": 66,
     "metadata": {},
     "output_type": "execute_result"
    }
   ],
   "source": [
    "# Let's explore the result\n",
    "vif"
   ]
  },
  {
   "cell_type": "markdown",
   "metadata": {},
   "source": [
    "### Repeat the with new data"
   ]
  },
  {
   "cell_type": "code",
   "execution_count": 68,
   "metadata": {},
   "outputs": [
    {
     "name": "stdout",
     "output_type": "stream",
     "text": [
      "Male results without considering intercept:\n",
      "                                 OLS Regression Results                                \n",
      "=======================================================================================\n",
      "Dep. Variable:            Tobac_Use_M   R-squared (uncentered):                   0.850\n",
      "Model:                            OLS   Adj. R-squared (uncentered):              0.847\n",
      "Method:                 Least Squares   F-statistic:                              255.5\n",
      "Date:                Sun, 05 Apr 2020   Prob (F-statistic):                    7.82e-38\n",
      "Time:                        00:54:57   Log-Likelihood:                         -371.59\n",
      "No. Observations:                  92   AIC:                                      747.2\n",
      "Df Residuals:                      90   BIC:                                      752.2\n",
      "Df Model:                           2                                                  \n",
      "Covariance Type:            nonrobust                                                  \n",
      "=====================================================================================\n",
      "                        coef    std err          t      P>|t|      [0.025      0.975]\n",
      "-------------------------------------------------------------------------------------\n",
      "Price_2015            0.0872      0.452      0.193      0.848      -0.811       0.985\n",
      "Ban_Score_Dir_Ads     4.6798      0.298     15.727      0.000       4.089       5.271\n",
      "==============================================================================\n",
      "Omnibus:                        0.667   Durbin-Watson:                   2.226\n",
      "Prob(Omnibus):                  0.716   Jarque-Bera (JB):                0.753\n",
      "Skew:                          -0.053   Prob(JB):                        0.686\n",
      "Kurtosis:                       2.570   Cond. No.                         2.74\n",
      "==============================================================================\n",
      "\n",
      "Warnings:\n",
      "[1] Standard Errors assume that the covariance matrix of the errors is correctly specified.\n"
     ]
    }
   ],
   "source": [
    "# Since Tax_2015 has the highest VIF, I will remove it from the model\n",
    "# This will drive the VIF of other variables down!!! \n",
    "# So even if EngineV seems with a high VIF, too, once 'Tax' is gone that will no longer be the case\n",
    "cols = ['Price_2015', 'Ban_Score_Dir_Ads']\n",
    "\n",
    "# Instantiate x\n",
    "data_no_multicollinearity = data[cols]\n",
    "\n",
    "# Model without intercept but with significant features.\n",
    "res_m_without = compute_ols(data_no_multicollinearity, y_m)\n",
    "\n",
    "print(\"Male results without considering intercept:\")\n",
    "print(res_m_without.summary())"
   ]
  },
  {
   "cell_type": "markdown",
   "metadata": {},
   "source": [
    "### Results: \n",
    "Price is not significant."
   ]
  },
  {
   "cell_type": "code",
   "execution_count": 70,
   "metadata": {},
   "outputs": [
    {
     "name": "stdout",
     "output_type": "stream",
     "text": [
      "Male results without considering intercept:\n",
      "                                 OLS Regression Results                                \n",
      "=======================================================================================\n",
      "Dep. Variable:            Tobac_Use_M   R-squared (uncentered):                   0.850\n",
      "Model:                            OLS   Adj. R-squared (uncentered):              0.849\n",
      "Method:                 Least Squares   F-statistic:                              516.4\n",
      "Date:                Sun, 05 Apr 2020   Prob (F-statistic):                    2.79e-39\n",
      "Time:                        00:55:05   Log-Likelihood:                         -371.60\n",
      "No. Observations:                  92   AIC:                                      745.2\n",
      "Df Residuals:                      91   BIC:                                      747.7\n",
      "Df Model:                           1                                                  \n",
      "Covariance Type:            nonrobust                                                  \n",
      "=====================================================================================\n",
      "                        coef    std err          t      P>|t|      [0.025      0.975]\n",
      "-------------------------------------------------------------------------------------\n",
      "Ban_Score_Dir_Ads     4.7206      0.208     22.724      0.000       4.308       5.133\n",
      "==============================================================================\n",
      "Omnibus:                        0.498   Durbin-Watson:                   2.227\n",
      "Prob(Omnibus):                  0.780   Jarque-Bera (JB):                0.637\n",
      "Skew:                          -0.058   Prob(JB):                        0.727\n",
      "Kurtosis:                       2.609   Cond. No.                         1.00\n",
      "==============================================================================\n",
      "\n",
      "Warnings:\n",
      "[1] Standard Errors assume that the covariance matrix of the errors is correctly specified.\n"
     ]
    }
   ],
   "source": [
    "# Keep significant columns\n",
    "cols = ['Ban_Score_Dir_Ads']\n",
    "\n",
    "# Instantiate x\n",
    "cleaned_x = data[cols]\n",
    "\n",
    "# Model without intercept but with significant features.\n",
    "res_m_without = compute_ols(cleaned_x, y_m)\n",
    "\n",
    "print(\"Male results without considering intercept:\")\n",
    "print(res_m_without.summary())"
   ]
  },
  {
   "cell_type": "markdown",
   "metadata": {},
   "source": [
    "### Descriptive investigation\n",
    "The final result shows that we can just count on bans over advertisement. This is what the governments can do and what is in their hand. However, we should consider this results is obtained with much simplifying the model and without considering unknown parameters which are included in the bias. "
   ]
  },
  {
   "cell_type": "code",
   "execution_count": null,
   "metadata": {},
   "outputs": [],
   "source": []
  }
 ],
 "metadata": {
  "kernelspec": {
   "display_name": "Python 3",
   "language": "python",
   "name": "python3"
  },
  "language_info": {
   "codemirror_mode": {
    "name": "ipython",
    "version": 3
   },
   "file_extension": ".py",
   "mimetype": "text/x-python",
   "name": "python",
   "nbconvert_exporter": "python",
   "pygments_lexer": "ipython3",
   "version": "3.7.4"
  }
 },
 "nbformat": 4,
 "nbformat_minor": 2
}
