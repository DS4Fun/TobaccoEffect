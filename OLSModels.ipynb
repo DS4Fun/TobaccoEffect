{
 "cells": [
  {
   "cell_type": "markdown",
   "metadata": {},
   "source": [
    "# Regression Analysis"
   ]
  },
  {
   "cell_type": "code",
   "execution_count": 1,
   "metadata": {},
   "outputs": [],
   "source": [
    "import numpy as np\n",
    "from sklearn.linear_model import LinearRegression\n",
    "from sklearn.preprocessing import PolynomialFeatures\n",
    "import pandas as pd\n",
    "from sklearn.model_selection import train_test_split\n",
    "\n",
    "\n",
    "from sklearn.preprocessing import StandardScaler\n",
    "from yellowbrick.regressor import ResidualsPlot\n",
    "\n",
    "import matplotlib.pyplot as plt\n",
    "import statsmodels.api as sm\n",
    "import seaborn as sns\n",
    "sns.set()"
   ]
  },
  {
   "cell_type": "code",
   "execution_count": 2,
   "metadata": {},
   "outputs": [],
   "source": [
    "def plot_residuals(x, y, title, standard=True):\n",
    "    scaler = StandardScaler()\n",
    "    X_train, X_test, Y_train, Y_test = train_test_split(x, y, test_size=0.3, random_state=1)\n",
    "\n",
    "    if standard:\n",
    "        X_train = scaler.fit_transform(X_train)\n",
    "        X_test = scaler.fit_transform(X_test)\n",
    "\n",
    "    # fit the transformed features to Linear Regression\n",
    "    poly_model = LinearRegression()\n",
    "    # poly_model.fit(X_train_poly, Y_train)\n",
    "    ax = plt.axes()\n",
    "    ax.set_title(title)\n",
    "    visualizer = ResidualsPlot(poly_model, ax=ax)\n",
    "    visualizer.fit(X_train, Y_train)  # Fit the training data to the visualizer\n",
    "    visualizer.score(X_test, Y_test)  # Evaluate the model on the test data\n",
    "    visualizer.show()  # Finalize and render the figure"
   ]
  },
  {
   "cell_type": "code",
   "execution_count": 3,
   "metadata": {},
   "outputs": [],
   "source": [
    "def compute_ols(x, y):\n",
    "#     x1 = sm.add_constant(x)\n",
    "    model = sm.OLS(y, x)\n",
    "    res = model.fit()\n",
    "    return res"
   ]
  },
  {
   "cell_type": "code",
   "execution_count": 4,
   "metadata": {},
   "outputs": [],
   "source": [
    "def compute_ols_intercept(x, y):\n",
    "    x1 = sm.add_constant(x)\n",
    "    model = sm.OLS(y, x1)\n",
    "    res = model.fit()\n",
    "    return res"
   ]
  },
  {
   "cell_type": "code",
   "execution_count": 5,
   "metadata": {},
   "outputs": [
    {
     "data": {
      "text/html": [
       "<div>\n",
       "<style scoped>\n",
       "    .dataframe tbody tr th:only-of-type {\n",
       "        vertical-align: middle;\n",
       "    }\n",
       "\n",
       "    .dataframe tbody tr th {\n",
       "        vertical-align: top;\n",
       "    }\n",
       "\n",
       "    .dataframe thead th {\n",
       "        text-align: right;\n",
       "    }\n",
       "</style>\n",
       "<table border=\"1\" class=\"dataframe\">\n",
       "  <thead>\n",
       "    <tr style=\"text-align: right;\">\n",
       "      <th></th>\n",
       "      <th>Country</th>\n",
       "      <th>Year</th>\n",
       "      <th>Tobac_Use_M</th>\n",
       "      <th>Tobac_Use_F</th>\n",
       "      <th>Tax_2015</th>\n",
       "      <th>Happiness_Score</th>\n",
       "      <th>Afford_2015</th>\n",
       "      <th>Ban_Score_Dir_Ads</th>\n",
       "      <th>Ban_Score_Indr_Ads</th>\n",
       "      <th>Ban_Score_add_indir_ads</th>\n",
       "      <th>Warn_Score</th>\n",
       "      <th>Ban_Score_places</th>\n",
       "    </tr>\n",
       "  </thead>\n",
       "  <tbody>\n",
       "    <tr>\n",
       "      <td>0</td>\n",
       "      <td>Albania</td>\n",
       "      <td>2015</td>\n",
       "      <td>51.2</td>\n",
       "      <td>7.6</td>\n",
       "      <td>65.195</td>\n",
       "      <td>4.959</td>\n",
       "      <td>3.920</td>\n",
       "      <td>8</td>\n",
       "      <td>8</td>\n",
       "      <td>3</td>\n",
       "      <td>50.0</td>\n",
       "      <td>8</td>\n",
       "    </tr>\n",
       "    <tr>\n",
       "      <td>1</td>\n",
       "      <td>Argentina</td>\n",
       "      <td>2015</td>\n",
       "      <td>29.5</td>\n",
       "      <td>18.4</td>\n",
       "      <td>75.045</td>\n",
       "      <td>6.574</td>\n",
       "      <td>1.310</td>\n",
       "      <td>7</td>\n",
       "      <td>10</td>\n",
       "      <td>5</td>\n",
       "      <td>50.0</td>\n",
       "      <td>8</td>\n",
       "    </tr>\n",
       "    <tr>\n",
       "      <td>2</td>\n",
       "      <td>Armenia</td>\n",
       "      <td>2015</td>\n",
       "      <td>52.3</td>\n",
       "      <td>1.5</td>\n",
       "      <td>34.165</td>\n",
       "      <td>4.350</td>\n",
       "      <td>3.945</td>\n",
       "      <td>5</td>\n",
       "      <td>2</td>\n",
       "      <td>0</td>\n",
       "      <td>50.0</td>\n",
       "      <td>3</td>\n",
       "    </tr>\n",
       "    <tr>\n",
       "      <td>3</td>\n",
       "      <td>Australia</td>\n",
       "      <td>2015</td>\n",
       "      <td>16.7</td>\n",
       "      <td>13.1</td>\n",
       "      <td>58.515</td>\n",
       "      <td>7.284</td>\n",
       "      <td>2.285</td>\n",
       "      <td>6</td>\n",
       "      <td>2</td>\n",
       "      <td>0</td>\n",
       "      <td>83.0</td>\n",
       "      <td>6</td>\n",
       "    </tr>\n",
       "    <tr>\n",
       "      <td>4</td>\n",
       "      <td>Austria</td>\n",
       "      <td>2015</td>\n",
       "      <td>35.5</td>\n",
       "      <td>34.8</td>\n",
       "      <td>74.835</td>\n",
       "      <td>7.200</td>\n",
       "      <td>1.225</td>\n",
       "      <td>7</td>\n",
       "      <td>8</td>\n",
       "      <td>5</td>\n",
       "      <td>65.0</td>\n",
       "      <td>2</td>\n",
       "    </tr>\n",
       "  </tbody>\n",
       "</table>\n",
       "</div>"
      ],
      "text/plain": [
       "     Country  Year  Tobac_Use_M  Tobac_Use_F  Tax_2015  Happiness_Score  \\\n",
       "0    Albania  2015         51.2          7.6    65.195            4.959   \n",
       "1  Argentina  2015         29.5         18.4    75.045            6.574   \n",
       "2    Armenia  2015         52.3          1.5    34.165            4.350   \n",
       "3  Australia  2015         16.7         13.1    58.515            7.284   \n",
       "4    Austria  2015         35.5         34.8    74.835            7.200   \n",
       "\n",
       "   Afford_2015  Ban_Score_Dir_Ads  Ban_Score_Indr_Ads  \\\n",
       "0        3.920                  8                   8   \n",
       "1        1.310                  7                  10   \n",
       "2        3.945                  5                   2   \n",
       "3        2.285                  6                   2   \n",
       "4        1.225                  7                   8   \n",
       "\n",
       "   Ban_Score_add_indir_ads  Warn_Score  Ban_Score_places  \n",
       "0                        3        50.0                 8  \n",
       "1                        5        50.0                 8  \n",
       "2                        0        50.0                 3  \n",
       "3                        0        83.0                 6  \n",
       "4                        5        65.0                 2  "
      ]
     },
     "execution_count": 5,
     "metadata": {},
     "output_type": "execute_result"
    }
   ],
   "source": [
    "df = pd.read_csv('data/tobacco_data.csv')\n",
    "\n",
    "\n",
    "df.head()"
   ]
  },
  {
   "cell_type": "code",
   "execution_count": 6,
   "metadata": {},
   "outputs": [],
   "source": [
    "y_f = df['Tobac_Use_F']\n",
    "y_m = df['Tobac_Use_M']    "
   ]
  },
  {
   "cell_type": "markdown",
   "metadata": {},
   "source": [
    "## Female Investigation"
   ]
  },
  {
   "cell_type": "code",
   "execution_count": 7,
   "metadata": {},
   "outputs": [
    {
     "name": "stdout",
     "output_type": "stream",
     "text": [
      "Female results with considering intercept:\n",
      "                            OLS Regression Results                            \n",
      "==============================================================================\n",
      "Dep. Variable:            Tobac_Use_F   R-squared:                       0.464\n",
      "Model:                            OLS   Adj. R-squared:                  0.418\n",
      "Method:                 Least Squares   F-statistic:                     10.16\n",
      "Date:                Sun, 15 Mar 2020   Prob (F-statistic):           4.01e-10\n",
      "Time:                        20:58:54   Log-Likelihood:                -354.48\n",
      "No. Observations:                 103   AIC:                             727.0\n",
      "Df Residuals:                      94   BIC:                             750.7\n",
      "Df Model:                           8                                         \n",
      "Covariance Type:            nonrobust                                         \n",
      "===========================================================================================\n",
      "                              coef    std err          t      P>|t|      [0.025      0.975]\n",
      "-------------------------------------------------------------------------------------------\n",
      "const                      -7.1026      7.177     -0.990      0.325     -21.353       7.148\n",
      "Tax_2015                    0.2736      0.045      6.093      0.000       0.184       0.363\n",
      "Happiness_Score             0.9317      0.965      0.966      0.337      -0.984       2.847\n",
      "Afford_2015                -0.1976      0.256     -0.772      0.442      -0.706       0.310\n",
      "Ban_Score_Dir_Ads          -0.1268      0.482     -0.263      0.793      -1.084       0.830\n",
      "Ban_Score_Indr_Ads         -0.2896      0.454     -0.638      0.525      -1.191       0.611\n",
      "Ban_Score_add_indir_ads     0.3167      0.557      0.569      0.571      -0.789       1.422\n",
      "Warn_Score                  0.0307      0.059      0.518      0.606      -0.087       0.149\n",
      "Ban_Score_places           -0.2267      0.287     -0.789      0.432      -0.797       0.344\n",
      "==============================================================================\n",
      "Omnibus:                        9.806   Durbin-Watson:                   1.974\n",
      "Prob(Omnibus):                  0.007   Jarque-Bera (JB):               10.001\n",
      "Skew:                           0.635   Prob(JB):                      0.00673\n",
      "Kurtosis:                       3.847   Cond. No.                         765.\n",
      "==============================================================================\n",
      "\n",
      "Warnings:\n",
      "[1] Standard Errors assume that the covariance matrix of the errors is correctly specified.\n",
      "\n",
      "\n",
      " Female results without considering intercept:\n",
      "                                 OLS Regression Results                                \n",
      "=======================================================================================\n",
      "Dep. Variable:            Tobac_Use_F   R-squared (uncentered):                   0.764\n",
      "Model:                            OLS   Adj. R-squared (uncentered):              0.744\n",
      "Method:                 Least Squares   F-statistic:                              38.34\n",
      "Date:                Sun, 15 Mar 2020   Prob (F-statistic):                    1.65e-26\n",
      "Time:                        20:58:54   Log-Likelihood:                         -355.02\n",
      "No. Observations:                 103   AIC:                                      726.0\n",
      "Df Residuals:                      95   BIC:                                      747.1\n",
      "Df Model:                           8                                                  \n",
      "Covariance Type:            nonrobust                                                  \n",
      "===========================================================================================\n",
      "                              coef    std err          t      P>|t|      [0.025      0.975]\n",
      "-------------------------------------------------------------------------------------------\n",
      "Tax_2015                    0.2680      0.045      6.017      0.000       0.180       0.356\n",
      "Happiness_Score             0.1636      0.573      0.285      0.776      -0.974       1.301\n",
      "Afford_2015                -0.3707      0.187     -1.984      0.050      -0.741       0.000\n",
      "Ban_Score_Dir_Ads          -0.3155      0.443     -0.713      0.478      -1.194       0.563\n",
      "Ban_Score_Indr_Ads         -0.2520      0.452     -0.557      0.579      -1.150       0.646\n",
      "Ban_Score_add_indir_ads     0.3357      0.556      0.603      0.548      -0.769       1.440\n",
      "Warn_Score                  0.0216      0.059      0.368      0.714      -0.095       0.138\n",
      "Ban_Score_places           -0.2685      0.284     -0.945      0.347      -0.833       0.296\n",
      "==============================================================================\n",
      "Omnibus:                        8.222   Durbin-Watson:                   1.987\n",
      "Prob(Omnibus):                  0.016   Jarque-Bera (JB):                7.861\n",
      "Skew:                           0.607   Prob(JB):                       0.0196\n",
      "Kurtosis:                       3.600   Cond. No.                         70.6\n",
      "==============================================================================\n",
      "\n",
      "Warnings:\n",
      "[1] Standard Errors assume that the covariance matrix of the errors is correctly specified.\n"
     ]
    },
    {
     "name": "stderr",
     "output_type": "stream",
     "text": [
      "/home/andrew/anaconda3/lib/python3.7/site-packages/numpy/core/fromnumeric.py:2495: FutureWarning: Method .ptp is deprecated and will be removed in a future version. Use numpy.ptp instead.\n",
      "  return ptp(axis=axis, out=out, **kwargs)\n"
     ]
    }
   ],
   "source": [
    "# Keep all columns\n",
    "cols = ['Tax_2015',\n",
    "           'Happiness_Score', 'Afford_2015', 'Ban_Score_Dir_Ads',\n",
    "           'Ban_Score_Indr_Ads', 'Ban_Score_add_indir_ads', 'Warn_Score',\n",
    "           'Ban_Score_places']\n",
    "\n",
    "# Instantiate x\n",
    "x = df[cols]\n",
    "\n",
    "\n",
    "# Model with intercept and all features.\n",
    "res_f_intercept = compute_ols_intercept(x, y_f)\n",
    "\n",
    "# Model with intercept and all features.\n",
    "res_f_no_intercept = compute_ols(x, y_f)\n",
    "\n",
    "\n",
    "print(\"Female results with considering intercept:\")\n",
    "print(res_f_intercept.summary())\n",
    "\n",
    "print(\"\\n\\n Female results without considering intercept:\")\n",
    "print(res_f_no_intercept.summary())\n",
    "\n"
   ]
  },
  {
   "cell_type": "markdown",
   "metadata": {},
   "source": [
    "### Explanation:\n",
    "\n",
    "The coeficient R^2 values show that intercept just makes our model result worse. Which makes sense as by default we have no consideration about smoking.  \n",
    "\n",
    "However, the p-values of other features show that only Tax and Affordability are significant features that we will keep them in our model.\n"
   ]
  },
  {
   "cell_type": "code",
   "execution_count": 8,
   "metadata": {},
   "outputs": [
    {
     "data": {
      "image/png": "[encoded data removed]",
      "text/plain": [
       "<Figure size 432x288 with 2 Axes>"
      ]
     },
     "metadata": {
      "needs_background": "light"
     },
     "output_type": "display_data"
    }
   ],
   "source": [
    "plot_residuals(x, y_f, 'Female_residual_errors', standard=True)"
   ]
  },
  {
   "cell_type": "markdown",
   "metadata": {},
   "source": [
    "Residual errors show the skewness which could be because of it's data skewness. However, the value of error for train and test are close to each othe, which more important for our model."
   ]
  },
  {
   "cell_type": "markdown",
   "metadata": {},
   "source": [
    "### Remove prarmeters"
   ]
  },
  {
   "cell_type": "code",
   "execution_count": 9,
   "metadata": {},
   "outputs": [
    {
     "name": "stdout",
     "output_type": "stream",
     "text": [
      "Male results:\n",
      "                                 OLS Regression Results                                \n",
      "=======================================================================================\n",
      "Dep. Variable:            Tobac_Use_F   R-squared (uncentered):                   0.756\n",
      "Model:                            OLS   Adj. R-squared (uncentered):              0.752\n",
      "Method:                 Least Squares   F-statistic:                              156.9\n",
      "Date:                Sat, 14 Mar 2020   Prob (F-statistic):                    1.05e-31\n",
      "Time:                        11:36:19   Log-Likelihood:                         -356.53\n",
      "No. Observations:                 103   AIC:                                      717.1\n",
      "Df Residuals:                     101   BIC:                                      722.3\n",
      "Df Model:                           2                                                  \n",
      "Covariance Type:            nonrobust                                                  \n",
      "===============================================================================\n",
      "                  coef    std err          t      P>|t|      [0.025      0.975]\n",
      "-------------------------------------------------------------------------------\n",
      "Tax_2015        0.2487      0.015     16.209      0.000       0.218       0.279\n",
      "Afford_2015    -0.4409      0.147     -3.005      0.003      -0.732      -0.150\n",
      "==============================================================================\n",
      "Omnibus:                        3.941   Durbin-Watson:                   1.995\n",
      "Prob(Omnibus):                  0.139   Jarque-Bera (JB):                3.465\n",
      "Skew:                           0.443   Prob(JB):                        0.177\n",
      "Kurtosis:                       3.154   Cond. No.                         11.5\n",
      "==============================================================================\n",
      "\n",
      "Warnings:\n",
      "[1] Standard Errors assume that the covariance matrix of the errors is correctly specified.\n"
     ]
    }
   ],
   "source": [
    "# Just kept significant features (p-value =< 0.05)\n",
    "cols = ['Tax_2015', 'Afford_2015']\n",
    "x = df[cols]\n",
    "\n",
    "# Removed intercept as it's not significant\n",
    "res_f = compute_ols(x, y_f)\n",
    "\n",
    "print(\"Male results:\")\n",
    "print(res_f.summary())"
   ]
  },
  {
   "cell_type": "code",
   "execution_count": 10,
   "metadata": {},
   "outputs": [
    {
     "data": {
      "image/png": "[encoded data removed]",
      "text/plain": [
       "<Figure size 432x288 with 2 Axes>"
      ]
     },
     "metadata": {
      "needs_background": "light"
     },
     "output_type": "display_data"
    }
   ],
   "source": [
    "plot_residuals(x, y_f, 'Female_removed', standard=True)"
   ]
  },
  {
   "cell_type": "markdown",
   "metadata": {},
   "source": [
    "The error of test is increased, meanwhile the error of train is decreased. Which can be assumed as overfitting. So it's better to keep all features as the controller features in the model.  "
   ]
  },
  {
   "cell_type": "markdown",
   "metadata": {},
   "source": [
    "## Male Investigation"
   ]
  },
  {
   "cell_type": "code",
   "execution_count": 14,
   "metadata": {
    "scrolled": true
   },
   "outputs": [
    {
     "name": "stdout",
     "output_type": "stream",
     "text": [
      "Male results with considering intercept:\n",
      "                            OLS Regression Results                            \n",
      "==============================================================================\n",
      "Dep. Variable:            Tobac_Use_M   R-squared:                       0.337\n",
      "Model:                            OLS   Adj. R-squared:                  0.280\n",
      "Method:                 Least Squares   F-statistic:                     5.970\n",
      "Date:                Sat, 14 Mar 2020   Prob (F-statistic):           3.49e-06\n",
      "Time:                        11:43:39   Log-Likelihood:                -388.17\n",
      "No. Observations:                 103   AIC:                             794.3\n",
      "Df Residuals:                      94   BIC:                             818.0\n",
      "Df Model:                           8                                         \n",
      "Covariance Type:            nonrobust                                         \n",
      "===========================================================================================\n",
      "                              coef    std err          t      P>|t|      [0.025      0.975]\n",
      "-------------------------------------------------------------------------------------------\n",
      "const                      87.1428      9.954      8.755      0.000      67.380     106.906\n",
      "Tax_2015                    0.1264      0.062      2.029      0.045       0.003       0.250\n",
      "Happiness_Score            -8.2013      1.338     -6.129      0.000     -10.858      -5.544\n",
      "Afford_2015                -1.3223      0.355     -3.726      0.000      -2.027      -0.618\n",
      "Ban_Score_Dir_Ads          -0.2606      0.668     -0.390      0.697      -1.588       1.066\n",
      "Ban_Score_Indr_Ads         -0.5213      0.629     -0.828      0.410      -1.771       0.728\n",
      "Ban_Score_add_indir_ads    -0.1882      0.772     -0.244      0.808      -1.721       1.345\n",
      "Warn_Score                 -0.0489      0.082     -0.593      0.554      -0.212       0.115\n",
      "Ban_Score_places           -0.2528      0.398     -0.634      0.527      -1.044       0.538\n",
      "==============================================================================\n",
      "Omnibus:                        9.309   Durbin-Watson:                   2.100\n",
      "Prob(Omnibus):                  0.010   Jarque-Bera (JB):                9.890\n",
      "Skew:                           0.569   Prob(JB):                      0.00712\n",
      "Kurtosis:                       4.005   Cond. No.                         765.\n",
      "==============================================================================\n",
      "\n",
      "Warnings:\n",
      "[1] Standard Errors assume that the covariance matrix of the errors is correctly specified.\n",
      "Male results without considering intercept:\n",
      "                                 OLS Regression Results                                \n",
      "=======================================================================================\n",
      "Dep. Variable:            Tobac_Use_M   R-squared (uncentered):                   0.844\n",
      "Model:                            OLS   Adj. R-squared (uncentered):              0.831\n",
      "Method:                 Least Squares   F-statistic:                              64.27\n",
      "Date:                Sat, 14 Mar 2020   Prob (F-statistic):                    5.71e-35\n",
      "Time:                        11:43:39   Log-Likelihood:                         -418.88\n",
      "No. Observations:                 103   AIC:                                      853.8\n",
      "Df Residuals:                      95   BIC:                                      874.8\n",
      "Df Model:                           8                                                  \n",
      "Covariance Type:            nonrobust                                                  \n",
      "===========================================================================================\n",
      "                              coef    std err          t      P>|t|      [0.025      0.975]\n",
      "-------------------------------------------------------------------------------------------\n",
      "Tax_2015                    0.1949      0.083      2.354      0.021       0.031       0.359\n",
      "Happiness_Score             1.2230      1.065      1.148      0.254      -0.892       3.338\n",
      "Afford_2015                 0.8007      0.347      2.306      0.023       0.111       1.490\n",
      "Ban_Score_Dir_Ads           2.0547      0.823      2.498      0.014       0.422       3.688\n",
      "Ban_Score_Indr_Ads         -0.9821      0.841     -1.168      0.246      -2.651       0.687\n",
      "Ban_Score_add_indir_ads    -0.4202      1.034     -0.406      0.685      -2.473       1.633\n",
      "Warn_Score                  0.0633      0.109      0.580      0.563      -0.153       0.280\n",
      "Ban_Score_places            0.2609      0.528      0.494      0.622      -0.788       1.310\n",
      "==============================================================================\n",
      "Omnibus:                       15.781   Durbin-Watson:                   2.061\n",
      "Prob(Omnibus):                  0.000   Jarque-Bera (JB):               19.295\n",
      "Skew:                           0.821   Prob(JB):                     6.46e-05\n",
      "Kurtosis:                       4.341   Cond. No.                         70.6\n",
      "==============================================================================\n",
      "\n",
      "Warnings:\n",
      "[1] Standard Errors assume that the covariance matrix of the errors is correctly specified.\n"
     ]
    },
    {
     "name": "stderr",
     "output_type": "stream",
     "text": [
      "/home/andrew/anaconda3/lib/python3.7/site-packages/numpy/core/fromnumeric.py:2495: FutureWarning: Method .ptp is deprecated and will be removed in a future version. Use numpy.ptp instead.\n",
      "  return ptp(axis=axis, out=out, **kwargs)\n"
     ]
    }
   ],
   "source": [
    "\n",
    "# Keep all columns\n",
    "cols = ['Tax_2015', 'Happiness_Score', 'Afford_2015', 'Ban_Score_Dir_Ads',\n",
    "        'Ban_Score_Indr_Ads', 'Ban_Score_add_indir_ads', 'Warn_Score',\n",
    "        'Ban_Score_places']\n",
    "\n",
    "# Instantiate x\n",
    "x = df[cols]\n",
    "\n",
    "\n",
    "# Model with intercept and all features.\n",
    "res_m_with = compute_ols_intercept(x, y_m)\n",
    "\n",
    "\n",
    "# Model without intercept and all features.\n",
    "res_m_without = compute_ols(x, y_m)\n",
    "\n",
    "\n",
    "print(\"Male results with considering intercept:\")\n",
    "print(res_m_with.summary())\n",
    "\n",
    "\n",
    "print(\"Male results without considering intercept:\")\n",
    "print(res_m_without.summary())"
   ]
  },
  {
   "cell_type": "markdown",
   "metadata": {},
   "source": [
    "### Explanation:\n",
    "\n",
    "As we expected from female investigation results, including coeficient in the model just deteriorates the R^2 scores, so it could be assumed as a candidate to be removed from our model, like what we did in the female investigation. However, the p-value for const here is close to zero, which means the constant value is a significant parameter. And so as the bias value (intercept) stands for all unknown prameters, we should consider that, there are many unknow parameters in our investigation. \n",
    "\n",
    "On the other side, the coeficient p-values show that the \"indirect ban on advertisement\" and \"additional ban on advertisement\" are not significant, and could be covered by \"direct advertising score\". And so, we see that \"warnings\" and \"ban on places to be allowed for smoking\" are not significant parameters which could be removed as well."
   ]
  },
  {
   "cell_type": "code",
   "execution_count": 13,
   "metadata": {},
   "outputs": [
    {
     "data": {
      "image/png": "[encoded data removed]",
      "text/plain": [
       "<Figure size 432x288 with 2 Axes>"
      ]
     },
     "metadata": {
      "needs_background": "light"
     },
     "output_type": "display_data"
    }
   ],
   "source": [
    "plot_residuals(x, y_m, 'Male', standard=True)"
   ]
  },
  {
   "cell_type": "markdown",
   "metadata": {},
   "source": [
    "The destribution of error is fairly normal, but, the error of test is less than train, which could be assumed as underfitting.  "
   ]
  },
  {
   "cell_type": "markdown",
   "metadata": {},
   "source": [
    "### Cleaned regression model"
   ]
  },
  {
   "cell_type": "code",
   "execution_count": 22,
   "metadata": {
    "scrolled": true
   },
   "outputs": [
    {
     "name": "stderr",
     "output_type": "stream",
     "text": [
      "/home/andrew/anaconda3/lib/python3.7/site-packages/numpy/core/fromnumeric.py:2495: FutureWarning: Method .ptp is deprecated and will be removed in a future version. Use numpy.ptp instead.\n",
      "  return ptp(axis=axis, out=out, **kwargs)\n"
     ]
    },
    {
     "data": {
      "image/png": "[encoded data removed]",
      "text/plain": [
       "<Figure size 432x288 with 2 Axes>"
      ]
     },
     "metadata": {
      "needs_background": "light"
     },
     "output_type": "display_data"
    },
    {
     "name": "stdout",
     "output_type": "stream",
     "text": [
      "Male results:\n",
      "                            OLS Regression Results                            \n",
      "==============================================================================\n",
      "Dep. Variable:            Tobac_Use_M   R-squared:                       0.259\n",
      "Model:                            OLS   Adj. R-squared:                  0.244\n",
      "Method:                 Least Squares   F-statistic:                     17.50\n",
      "Date:                Sat, 14 Mar 2020   Prob (F-statistic):           3.04e-07\n",
      "Time:                        12:21:53   Log-Likelihood:                -393.87\n",
      "No. Observations:                 103   AIC:                             793.7\n",
      "Df Residuals:                     100   BIC:                             801.6\n",
      "Df Model:                           2                                         \n",
      "Covariance Type:            nonrobust                                         \n",
      "===================================================================================\n",
      "                      coef    std err          t      P>|t|      [0.025      0.975]\n",
      "-----------------------------------------------------------------------------------\n",
      "const              81.5799      8.235      9.906      0.000      65.242      97.918\n",
      "Happiness_Score    -7.4152      1.278     -5.804      0.000      -9.950      -4.881\n",
      "Afford_2015        -1.4916      0.329     -4.530      0.000      -2.145      -0.838\n",
      "==============================================================================\n",
      "Omnibus:                       10.085   Durbin-Watson:                   2.219\n",
      "Prob(Omnibus):                  0.006   Jarque-Bera (JB):               14.569\n",
      "Skew:                           0.448   Prob(JB):                     0.000686\n",
      "Kurtosis:                       4.610   Cond. No.                         58.0\n",
      "==============================================================================\n",
      "\n",
      "Warnings:\n",
      "[1] Standard Errors assume that the covariance matrix of the errors is correctly specified.\n"
     ]
    }
   ],
   "source": [
    "# Just significant features are remained.\n",
    "cols = ['Happiness_Score',\n",
    "        'Afford_2015']\n",
    "\n",
    "x = df[cols]\n",
    "\n",
    "# Do modeling without intercept, as it's not significant.\n",
    "res_m = compute_ols_intercept(x, y_m)\n",
    "\n",
    "plot_residuals(x, y_m, 'Male', standard=True)\n",
    "\n",
    "print(\"Male results:\")\n",
    "print(res_m.summary())"
   ]
  },
  {
   "cell_type": "markdown",
   "metadata": {},
   "source": [
    "### Worse results. Keep the parameters as controller."
   ]
  },
  {
   "cell_type": "markdown",
   "metadata": {},
   "source": []
  },
  {
   "cell_type": "code",
   "execution_count": null,
   "metadata": {},
   "outputs": [],
   "source": []
  },
  {
   "cell_type": "code",
   "execution_count": null,
   "metadata": {},
   "outputs": [],
   "source": []
  }
 ],
 "metadata": {
  "kernelspec": {
   "display_name": "Python 3",
   "language": "python",
   "name": "python3"
  },
  "language_info": {
   "codemirror_mode": {
    "name": "ipython",
    "version": 3
   },
   "file_extension": ".py",
   "mimetype": "text/x-python",
   "name": "python",
   "nbconvert_exporter": "python",
   "pygments_lexer": "ipython3",
   "version": "3.7.4"
  }
 },
 "nbformat": 4,
 "nbformat_minor": 2
}
