{
 "cells": [
  {
   "cell_type": "code",
   "execution_count": 6,
   "metadata": {},
   "outputs": [],
   "source": [
    "import numpy as np\n",
    "from sklearn.linear_model import LinearRegression\n",
    "from sklearn.preprocessing import PolynomialFeatures\n",
    "import pandas as pd\n",
    "from sklearn.model_selection import train_test_split\n",
    "\n",
    "\n",
    "from sklearn.preprocessing import StandardScaler\n",
    "from yellowbrick.regressor import ResidualsPlot\n",
    "\n",
    "import matplotlib.pyplot as plt\n",
    "import statsmodels.api as sm\n",
    "import seaborn as sns\n",
    "sns.set()"
   ]
  },
  {
   "cell_type": "code",
   "execution_count": 7,
   "metadata": {},
   "outputs": [],
   "source": [
    "def compute_ols(x, y):\n",
    "#     x1 = sm.add_constant(x)\n",
    "    model = sm.OLS(y, x)\n",
    "    res = model.fit()\n",
    "    return res"
   ]
  },
  {
   "cell_type": "code",
   "execution_count": 8,
   "metadata": {},
   "outputs": [],
   "source": [
    "def compute_ols_intercept(x, y):\n",
    "    x1 = sm.add_constant(x)\n",
    "    model = sm.OLS(y, x1)\n",
    "    res = model.fit()\n",
    "    return res"
   ]
  },
  {
   "cell_type": "code",
   "execution_count": 11,
   "metadata": {},
   "outputs": [],
   "source": [
    "# The residuals are the difference between any data point and the regression line, \n",
    "# they are sometimes called “errors.” Error in this context doesn’t mean \n",
    "# that there’s something wrong with the analysis; it just means that there is some unexplained difference. \n",
    "# In other words, the residual is the error that isn’t explained by the regression line.\n",
    "\n",
    "def plot_residuals(x, y, title, standard=True):\n",
    "    scaler = StandardScaler()\n",
    "    X_train, X_test, Y_train, Y_test = train_test_split(x, y, test_size=0.3, random_state=1)\n",
    "\n",
    "    if standard:\n",
    "        X_train = scaler.fit_transform(X_train)\n",
    "        X_test = scaler.fit_transform(X_test)\n",
    "\n",
    "    # fit the transformed features to Linear Regression\n",
    "    poly_model = LinearRegression()\n",
    "    # poly_model.fit(X_train_poly, Y_train)\n",
    "    ax = plt.axes()\n",
    "    ax.set_title(title)\n",
    "    visualizer = ResidualsPlot(poly_model, ax=ax)\n",
    "    visualizer.fit(X_train, Y_train)  # Fit the training data to the visualizer\n",
    "    visualizer.score(X_test, Y_test)  # Evaluate the model on the test data\n",
    "    visualizer.show()  # Finalize and render the figure"
   ]
  },
  {
   "cell_type": "code",
   "execution_count": null,
   "metadata": {},
   "outputs": [],
   "source": []
  }
 ],
 "metadata": {
  "kernelspec": {
   "display_name": "Python 3",
   "language": "python",
   "name": "python3"
  },
  "language_info": {
   "codemirror_mode": {
    "name": "ipython",
    "version": 3
   },
   "file_extension": ".py",
   "mimetype": "text/x-python",
   "name": "python",
   "nbconvert_exporter": "python",
   "pygments_lexer": "ipython3",
   "version": "3.7.4"
  }
 },
 "nbformat": 4,
 "nbformat_minor": 2
}
