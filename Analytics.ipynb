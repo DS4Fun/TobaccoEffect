{
 "cells": [
  {
   "cell_type": "markdown",
   "metadata": {},
   "source": [
    "# The Impact of Economic, Society, Health Care and Law on Tobacco Consumption\n",
    "\n",
    "This study aimed to investigate the impact of different parameters on tobacco consumption in different countries. These parameters are generally categorized into:\n",
    "\n",
    "- Economic; in this study we considered Tax and affordability.\n",
    "    - Tax on tabacco usage \n",
    "    - Affordability; which covers GDP intrinsically\n",
    "- Society; in this study we considered happiness and as the indicator of social situation for different country.\n",
    "- Health Care; we included the score of health warn in this pupose.\n",
    "- Law; in this study we cosidered three different bans on advertising and ban for places which are allowed for smoking. \n",
    "\n",
    "\n",
    "** This study is based on gathered data for the year 2015.\n",
    "\n",
    "** All data sets are from WHO reports, instead of happiness score which is found from a research which was conducted by kaggle. \n",
    "\n",
    "** Domain study is based on WHO reports.\n",
    "\n",
    "*** Links for data source and domain study will be included later.\n",
    "\n",
    "*** Explanation about data will be covered later."
   ]
  },
  {
   "cell_type": "code",
   "execution_count": 105,
   "metadata": {},
   "outputs": [],
   "source": [
    "import numpy as np\n",
    "from sklearn.linear_model import LinearRegression\n",
    "from sklearn.preprocessing import PolynomialFeatures\n",
    "import pandas as pd\n",
    "from sklearn.model_selection import train_test_split"
   ]
  },
  {
   "cell_type": "code",
   "execution_count": 106,
   "metadata": {},
   "outputs": [],
   "source": [
    "# Read the complete cleaned data that contains all parameters extracted from domain study. \n",
    "df = pd.read_csv('data/tobacco_data.csv')"
   ]
  },
  {
   "cell_type": "code",
   "execution_count": 107,
   "metadata": {},
   "outputs": [
    {
     "data": {
      "text/html": [
       "<div>\n",
       "<style scoped>\n",
       "    .dataframe tbody tr th:only-of-type {\n",
       "        vertical-align: middle;\n",
       "    }\n",
       "\n",
       "    .dataframe tbody tr th {\n",
       "        vertical-align: top;\n",
       "    }\n",
       "\n",
       "    .dataframe thead th {\n",
       "        text-align: right;\n",
       "    }\n",
       "</style>\n",
       "<table border=\"1\" class=\"dataframe\">\n",
       "  <thead>\n",
       "    <tr style=\"text-align: right;\">\n",
       "      <th></th>\n",
       "      <th>Country</th>\n",
       "      <th>Year</th>\n",
       "      <th>Tobac_Use_M</th>\n",
       "      <th>Tobac_Use_F</th>\n",
       "      <th>Tax_2015</th>\n",
       "      <th>Happiness_Score</th>\n",
       "      <th>Afford_2015</th>\n",
       "      <th>Ban_Score_Dir_Ads</th>\n",
       "      <th>Ban_Score_Indr_Ads</th>\n",
       "      <th>Ban_Score_add_indir_ads</th>\n",
       "      <th>Warn_Score</th>\n",
       "      <th>Ban_Score_places</th>\n",
       "    </tr>\n",
       "  </thead>\n",
       "  <tbody>\n",
       "    <tr>\n",
       "      <td>0</td>\n",
       "      <td>Albania</td>\n",
       "      <td>2015</td>\n",
       "      <td>51.2</td>\n",
       "      <td>7.6</td>\n",
       "      <td>65.195</td>\n",
       "      <td>4.959</td>\n",
       "      <td>3.920</td>\n",
       "      <td>8</td>\n",
       "      <td>8</td>\n",
       "      <td>3</td>\n",
       "      <td>50.0</td>\n",
       "      <td>8</td>\n",
       "    </tr>\n",
       "    <tr>\n",
       "      <td>1</td>\n",
       "      <td>Argentina</td>\n",
       "      <td>2015</td>\n",
       "      <td>29.5</td>\n",
       "      <td>18.4</td>\n",
       "      <td>75.045</td>\n",
       "      <td>6.574</td>\n",
       "      <td>1.310</td>\n",
       "      <td>7</td>\n",
       "      <td>10</td>\n",
       "      <td>5</td>\n",
       "      <td>50.0</td>\n",
       "      <td>8</td>\n",
       "    </tr>\n",
       "    <tr>\n",
       "      <td>2</td>\n",
       "      <td>Armenia</td>\n",
       "      <td>2015</td>\n",
       "      <td>52.3</td>\n",
       "      <td>1.5</td>\n",
       "      <td>34.165</td>\n",
       "      <td>4.350</td>\n",
       "      <td>3.945</td>\n",
       "      <td>5</td>\n",
       "      <td>2</td>\n",
       "      <td>0</td>\n",
       "      <td>50.0</td>\n",
       "      <td>3</td>\n",
       "    </tr>\n",
       "    <tr>\n",
       "      <td>3</td>\n",
       "      <td>Australia</td>\n",
       "      <td>2015</td>\n",
       "      <td>16.7</td>\n",
       "      <td>13.1</td>\n",
       "      <td>58.515</td>\n",
       "      <td>7.284</td>\n",
       "      <td>2.285</td>\n",
       "      <td>6</td>\n",
       "      <td>2</td>\n",
       "      <td>0</td>\n",
       "      <td>83.0</td>\n",
       "      <td>6</td>\n",
       "    </tr>\n",
       "    <tr>\n",
       "      <td>4</td>\n",
       "      <td>Austria</td>\n",
       "      <td>2015</td>\n",
       "      <td>35.5</td>\n",
       "      <td>34.8</td>\n",
       "      <td>74.835</td>\n",
       "      <td>7.200</td>\n",
       "      <td>1.225</td>\n",
       "      <td>7</td>\n",
       "      <td>8</td>\n",
       "      <td>5</td>\n",
       "      <td>65.0</td>\n",
       "      <td>2</td>\n",
       "    </tr>\n",
       "  </tbody>\n",
       "</table>\n",
       "</div>"
      ],
      "text/plain": [
       "     Country  Year  Tobac_Use_M  Tobac_Use_F  Tax_2015  Happiness_Score  \\\n",
       "0    Albania  2015         51.2          7.6    65.195            4.959   \n",
       "1  Argentina  2015         29.5         18.4    75.045            6.574   \n",
       "2    Armenia  2015         52.3          1.5    34.165            4.350   \n",
       "3  Australia  2015         16.7         13.1    58.515            7.284   \n",
       "4    Austria  2015         35.5         34.8    74.835            7.200   \n",
       "\n",
       "   Afford_2015  Ban_Score_Dir_Ads  Ban_Score_Indr_Ads  \\\n",
       "0        3.920                  8                   8   \n",
       "1        1.310                  7                  10   \n",
       "2        3.945                  5                   2   \n",
       "3        2.285                  6                   2   \n",
       "4        1.225                  7                   8   \n",
       "\n",
       "   Ban_Score_add_indir_ads  Warn_Score  Ban_Score_places  \n",
       "0                        3        50.0                 8  \n",
       "1                        5        50.0                 8  \n",
       "2                        0        50.0                 3  \n",
       "3                        0        83.0                 6  \n",
       "4                        5        65.0                 2  "
      ]
     },
     "execution_count": 107,
     "metadata": {},
     "output_type": "execute_result"
    }
   ],
   "source": [
    "df.head()"
   ]
  },
  {
   "cell_type": "markdown",
   "metadata": {},
   "source": [
    "## Data distribution\n",
    "\n",
    "What we like to investigate is the distribution of tobacco consumption in different countries."
   ]
  },
  {
   "cell_type": "code",
   "execution_count": 108,
   "metadata": {},
   "outputs": [
    {
     "data": {
      "text/plain": [
       "<matplotlib.axes._subplots.AxesSubplot at 0x7f35f9514790>"
      ]
     },
     "execution_count": 108,
     "metadata": {},
     "output_type": "execute_result"
    },
    {
     "data": {
      "image/png": "[encoded data removed]",
      "text/plain": [
       "<Figure size 432x288 with 1 Axes>"
      ]
     },
     "metadata": {
      "needs_background": "light"
     },
     "output_type": "display_data"
    }
   ],
   "source": [
    "# Male\n",
    "df.plot.bar(x='Country', y='Tobac_Use_M', rot=0)"
   ]
  },
  {
   "cell_type": "code",
   "execution_count": 109,
   "metadata": {},
   "outputs": [
    {
     "data": {
      "text/plain": [
       "(0.0, 30.0)"
      ]
     },
     "execution_count": 109,
     "metadata": {},
     "output_type": "execute_result"
    },
    {
     "data": {
      "image/png": "[encoded data removed]",
      "text/plain": [
       "<Figure size 432x288 with 1 Axes>"
      ]
     },
     "metadata": {
      "needs_background": "light"
     },
     "output_type": "display_data"
    }
   ],
   "source": [
    "import matplotlib.pyplot as plt\n",
    "\n",
    "# An \"interface\" to matplotlib.axes.Axes.hist() method\n",
    "n, bins, patches = plt.hist(x=df['Tobac_Use_M'], bins='auto', color='#0504aa',\n",
    "                            alpha=0.7, rwidth=0.85)\n",
    "plt.grid(axis='y', alpha=0.75)\n",
    "plt.xlabel('Value')\n",
    "plt.ylabel('Frequency')\n",
    "plt.title('Male Tobacco Consumption')\n",
    "plt.text(23, 45, r'$\\mu=15, b=3$')\n",
    "maxfreq = n.max()\n",
    "# Set a clean upper y-axis limit.\n",
    "plt.ylim(ymax=np.ceil(maxfreq / 10) * 10 if maxfreq % 10 else maxfreq + 10)"
   ]
  },
  {
   "cell_type": "code",
   "execution_count": 110,
   "metadata": {},
   "outputs": [
    {
     "data": {
      "text/plain": [
       "count    103.000000\n",
       "mean      33.366990\n",
       "std       12.935514\n",
       "min        8.900000\n",
       "25%       22.750000\n",
       "50%       31.500000\n",
       "75%       43.000000\n",
       "max       76.200000\n",
       "Name: Tobac_Use_M, dtype: float64"
      ]
     },
     "execution_count": 110,
     "metadata": {},
     "output_type": "execute_result"
    }
   ],
   "source": [
    "df['Tobac_Use_M'].describe()"
   ]
  },
  {
   "cell_type": "code",
   "execution_count": 111,
   "metadata": {},
   "outputs": [
    {
     "data": {
      "text/plain": [
       "<matplotlib.axes._subplots.AxesSubplot at 0x7f35f8aff410>"
      ]
     },
     "execution_count": 111,
     "metadata": {},
     "output_type": "execute_result"
    },
    {
     "data": {
      "image/png": "[encoded data removed]",
      "text/plain": [
       "<Figure size 432x288 with 1 Axes>"
      ]
     },
     "metadata": {
      "needs_background": "light"
     },
     "output_type": "display_data"
    }
   ],
   "source": [
    "# Female\n",
    "df.plot.bar(x='Country', y='Tobac_Use_F', rot=0)"
   ]
  },
  {
   "cell_type": "code",
   "execution_count": 112,
   "metadata": {},
   "outputs": [
    {
     "data": {
      "text/plain": [
       "(0.0, 40.0)"
      ]
     },
     "execution_count": 112,
     "metadata": {},
     "output_type": "execute_result"
    },
    {
     "data": {
      "image/png": "[encoded data removed]",
      "text/plain": [
       "<Figure size 432x288 with 1 Axes>"
      ]
     },
     "metadata": {
      "needs_background": "light"
     },
     "output_type": "display_data"
    }
   ],
   "source": [
    "# An \"interface\" to matplotlib.axes.Axes.hist() method\n",
    "n, bins, patches = plt.hist(x=df['Tobac_Use_F'], bins='auto', color='#0504aa',\n",
    "                            alpha=0.7, rwidth=0.85)\n",
    "plt.grid(axis='y', alpha=0.75)\n",
    "plt.xlabel('Value')\n",
    "plt.ylabel('Frequency')\n",
    "plt.title('Male Tobacco Consumption')\n",
    "plt.text(23, 45, r'$\\mu=15, b=3$')\n",
    "maxfreq = n.max()\n",
    "# Set a clean upper y-axis limit.\n",
    "plt.ylim(ymax=np.ceil(maxfreq / 10) * 10 if maxfreq % 10 else maxfreq + 10)"
   ]
  },
  {
   "cell_type": "code",
   "execution_count": 113,
   "metadata": {},
   "outputs": [
    {
     "data": {
      "text/plain": [
       "count    103.000000\n",
       "mean      11.729126\n",
       "std       10.371725\n",
       "min        0.200000\n",
       "25%        2.700000\n",
       "50%        8.300000\n",
       "75%       19.700000\n",
       "max       39.700000\n",
       "Name: Tobac_Use_F, dtype: float64"
      ]
     },
     "execution_count": 113,
     "metadata": {},
     "output_type": "execute_result"
    }
   ],
   "source": [
    "df['Tobac_Use_F'].describe()"
   ]
  },
  {
   "cell_type": "code",
   "execution_count": 114,
   "metadata": {},
   "outputs": [],
   "source": [
    "df.drop(['Country', 'Year' ] , axis=1, inplace=True)"
   ]
  },
  {
   "cell_type": "markdown",
   "metadata": {},
   "source": [
    "## Correlation Matrix"
   ]
  },
  {
   "cell_type": "code",
   "execution_count": 67,
   "metadata": {},
   "outputs": [
    {
     "data": {
      "text/html": [
       "<style  type=\"text/css\" >\n",
       "    #T_16f334ca_37f6_11ea_8d71_4983536c65abrow0_col0 {\n",
       "            background-color:  #b40426;\n",
       "            color:  #f1f1f1;\n",
       "        }    #T_16f334ca_37f6_11ea_8d71_4983536c65abrow0_col1 {\n",
       "            background-color:  #b2ccfb;\n",
       "            color:  #000000;\n",
       "        }    #T_16f334ca_37f6_11ea_8d71_4983536c65abrow0_col2 {\n",
       "            background-color:  #bed2f6;\n",
       "            color:  #000000;\n",
       "        }    #T_16f334ca_37f6_11ea_8d71_4983536c65abrow0_col3 {\n",
       "            background-color:  #7699f6;\n",
       "            color:  #000000;\n",
       "        }    #T_16f334ca_37f6_11ea_8d71_4983536c65abrow0_col4 {\n",
       "            background-color:  #a7c5fe;\n",
       "            color:  #000000;\n",
       "        }    #T_16f334ca_37f6_11ea_8d71_4983536c65abrow0_col5 {\n",
       "            background-color:  #516ddb;\n",
       "            color:  #000000;\n",
       "        }    #T_16f334ca_37f6_11ea_8d71_4983536c65abrow0_col6 {\n",
       "            background-color:  #3b4cc0;\n",
       "            color:  #f1f1f1;\n",
       "        }    #T_16f334ca_37f6_11ea_8d71_4983536c65abrow0_col7 {\n",
       "            background-color:  #3b4cc0;\n",
       "            color:  #f1f1f1;\n",
       "        }    #T_16f334ca_37f6_11ea_8d71_4983536c65abrow0_col8 {\n",
       "            background-color:  #3b4cc0;\n",
       "            color:  #f1f1f1;\n",
       "        }    #T_16f334ca_37f6_11ea_8d71_4983536c65abrow0_col9 {\n",
       "            background-color:  #688aef;\n",
       "            color:  #000000;\n",
       "        }    #T_16f334ca_37f6_11ea_8d71_4983536c65abrow1_col0 {\n",
       "            background-color:  #a2c1ff;\n",
       "            color:  #000000;\n",
       "        }    #T_16f334ca_37f6_11ea_8d71_4983536c65abrow1_col1 {\n",
       "            background-color:  #b40426;\n",
       "            color:  #f1f1f1;\n",
       "        }    #T_16f334ca_37f6_11ea_8d71_4983536c65abrow1_col2 {\n",
       "            background-color:  #f29274;\n",
       "            color:  #000000;\n",
       "        }    #T_16f334ca_37f6_11ea_8d71_4983536c65abrow1_col3 {\n",
       "            background-color:  #f6bfa6;\n",
       "            color:  #000000;\n",
       "        }    #T_16f334ca_37f6_11ea_8d71_4983536c65abrow1_col4 {\n",
       "            background-color:  #6180e9;\n",
       "            color:  #000000;\n",
       "        }    #T_16f334ca_37f6_11ea_8d71_4983536c65abrow1_col5 {\n",
       "            background-color:  #6384eb;\n",
       "            color:  #000000;\n",
       "        }    #T_16f334ca_37f6_11ea_8d71_4983536c65abrow1_col6 {\n",
       "            background-color:  #6180e9;\n",
       "            color:  #000000;\n",
       "        }    #T_16f334ca_37f6_11ea_8d71_4983536c65abrow1_col7 {\n",
       "            background-color:  #5572df;\n",
       "            color:  #000000;\n",
       "        }    #T_16f334ca_37f6_11ea_8d71_4983536c65abrow1_col8 {\n",
       "            background-color:  #89acfd;\n",
       "            color:  #000000;\n",
       "        }    #T_16f334ca_37f6_11ea_8d71_4983536c65abrow1_col9 {\n",
       "            background-color:  #6788ee;\n",
       "            color:  #000000;\n",
       "        }    #T_16f334ca_37f6_11ea_8d71_4983536c65abrow2_col0 {\n",
       "            background-color:  #a5c3fe;\n",
       "            color:  #000000;\n",
       "        }    #T_16f334ca_37f6_11ea_8d71_4983536c65abrow2_col1 {\n",
       "            background-color:  #f39577;\n",
       "            color:  #000000;\n",
       "        }    #T_16f334ca_37f6_11ea_8d71_4983536c65abrow2_col2 {\n",
       "            background-color:  #b40426;\n",
       "            color:  #f1f1f1;\n",
       "        }    #T_16f334ca_37f6_11ea_8d71_4983536c65abrow2_col3 {\n",
       "            background-color:  #f7ba9f;\n",
       "            color:  #000000;\n",
       "        }    #T_16f334ca_37f6_11ea_8d71_4983536c65abrow2_col4 {\n",
       "            background-color:  #5470de;\n",
       "            color:  #000000;\n",
       "        }    #T_16f334ca_37f6_11ea_8d71_4983536c65abrow2_col5 {\n",
       "            background-color:  #7295f4;\n",
       "            color:  #000000;\n",
       "        }    #T_16f334ca_37f6_11ea_8d71_4983536c65abrow2_col6 {\n",
       "            background-color:  #6f92f3;\n",
       "            color:  #000000;\n",
       "        }    #T_16f334ca_37f6_11ea_8d71_4983536c65abrow2_col7 {\n",
       "            background-color:  #4e68d8;\n",
       "            color:  #000000;\n",
       "        }    #T_16f334ca_37f6_11ea_8d71_4983536c65abrow2_col8 {\n",
       "            background-color:  #a3c2fe;\n",
       "            color:  #000000;\n",
       "        }    #T_16f334ca_37f6_11ea_8d71_4983536c65abrow2_col9 {\n",
       "            background-color:  #96b7ff;\n",
       "            color:  #000000;\n",
       "        }    #T_16f334ca_37f6_11ea_8d71_4983536c65abrow3_col0 {\n",
       "            background-color:  #3b4cc0;\n",
       "            color:  #f1f1f1;\n",
       "        }    #T_16f334ca_37f6_11ea_8d71_4983536c65abrow3_col1 {\n",
       "            background-color:  #f1cdba;\n",
       "            color:  #000000;\n",
       "        }    #T_16f334ca_37f6_11ea_8d71_4983536c65abrow3_col2 {\n",
       "            background-color:  #f4c5ad;\n",
       "            color:  #000000;\n",
       "        }    #T_16f334ca_37f6_11ea_8d71_4983536c65abrow3_col3 {\n",
       "            background-color:  #b40426;\n",
       "            color:  #f1f1f1;\n",
       "        }    #T_16f334ca_37f6_11ea_8d71_4983536c65abrow3_col4 {\n",
       "            background-color:  #3b4cc0;\n",
       "            color:  #f1f1f1;\n",
       "        }    #T_16f334ca_37f6_11ea_8d71_4983536c65abrow3_col5 {\n",
       "            background-color:  #5d7ce6;\n",
       "            color:  #000000;\n",
       "        }    #T_16f334ca_37f6_11ea_8d71_4983536c65abrow3_col6 {\n",
       "            background-color:  #6f92f3;\n",
       "            color:  #000000;\n",
       "        }    #T_16f334ca_37f6_11ea_8d71_4983536c65abrow3_col7 {\n",
       "            background-color:  #6282ea;\n",
       "            color:  #000000;\n",
       "        }    #T_16f334ca_37f6_11ea_8d71_4983536c65abrow3_col8 {\n",
       "            background-color:  #6b8df0;\n",
       "            color:  #000000;\n",
       "        }    #T_16f334ca_37f6_11ea_8d71_4983536c65abrow3_col9 {\n",
       "            background-color:  #3b4cc0;\n",
       "            color:  #f1f1f1;\n",
       "        }    #T_16f334ca_37f6_11ea_8d71_4983536c65abrow4_col0 {\n",
       "            background-color:  #7295f4;\n",
       "            color:  #000000;\n",
       "        }    #T_16f334ca_37f6_11ea_8d71_4983536c65abrow4_col1 {\n",
       "            background-color:  #3b4cc0;\n",
       "            color:  #f1f1f1;\n",
       "        }    #T_16f334ca_37f6_11ea_8d71_4983536c65abrow4_col2 {\n",
       "            background-color:  #3b4cc0;\n",
       "            color:  #f1f1f1;\n",
       "        }    #T_16f334ca_37f6_11ea_8d71_4983536c65abrow4_col3 {\n",
       "            background-color:  #3b4cc0;\n",
       "            color:  #f1f1f1;\n",
       "        }    #T_16f334ca_37f6_11ea_8d71_4983536c65abrow4_col4 {\n",
       "            background-color:  #b40426;\n",
       "            color:  #f1f1f1;\n",
       "        }    #T_16f334ca_37f6_11ea_8d71_4983536c65abrow4_col5 {\n",
       "            background-color:  #3b4cc0;\n",
       "            color:  #f1f1f1;\n",
       "        }    #T_16f334ca_37f6_11ea_8d71_4983536c65abrow4_col6 {\n",
       "            background-color:  #7093f3;\n",
       "            color:  #000000;\n",
       "        }    #T_16f334ca_37f6_11ea_8d71_4983536c65abrow4_col7 {\n",
       "            background-color:  #7295f4;\n",
       "            color:  #000000;\n",
       "        }    #T_16f334ca_37f6_11ea_8d71_4983536c65abrow4_col8 {\n",
       "            background-color:  #536edd;\n",
       "            color:  #000000;\n",
       "        }    #T_16f334ca_37f6_11ea_8d71_4983536c65abrow4_col9 {\n",
       "            background-color:  #6e90f2;\n",
       "            color:  #000000;\n",
       "        }    #T_16f334ca_37f6_11ea_8d71_4983536c65abrow5_col0 {\n",
       "            background-color:  #799cf8;\n",
       "            color:  #000000;\n",
       "        }    #T_16f334ca_37f6_11ea_8d71_4983536c65abrow5_col1 {\n",
       "            background-color:  #9dbdff;\n",
       "            color:  #000000;\n",
       "        }    #T_16f334ca_37f6_11ea_8d71_4983536c65abrow5_col2 {\n",
       "            background-color:  #b2ccfb;\n",
       "            color:  #000000;\n",
       "        }    #T_16f334ca_37f6_11ea_8d71_4983536c65abrow5_col3 {\n",
       "            background-color:  #b6cefa;\n",
       "            color:  #000000;\n",
       "        }    #T_16f334ca_37f6_11ea_8d71_4983536c65abrow5_col4 {\n",
       "            background-color:  #9bbcff;\n",
       "            color:  #000000;\n",
       "        }    #T_16f334ca_37f6_11ea_8d71_4983536c65abrow5_col5 {\n",
       "            background-color:  #b40426;\n",
       "            color:  #f1f1f1;\n",
       "        }    #T_16f334ca_37f6_11ea_8d71_4983536c65abrow5_col6 {\n",
       "            background-color:  #f7b497;\n",
       "            color:  #000000;\n",
       "        }    #T_16f334ca_37f6_11ea_8d71_4983536c65abrow5_col7 {\n",
       "            background-color:  #f5c4ac;\n",
       "            color:  #000000;\n",
       "        }    #T_16f334ca_37f6_11ea_8d71_4983536c65abrow5_col8 {\n",
       "            background-color:  #a5c3fe;\n",
       "            color:  #000000;\n",
       "        }    #T_16f334ca_37f6_11ea_8d71_4983536c65abrow5_col9 {\n",
       "            background-color:  #a3c2fe;\n",
       "            color:  #000000;\n",
       "        }    #T_16f334ca_37f6_11ea_8d71_4983536c65abrow6_col0 {\n",
       "            background-color:  #5673e0;\n",
       "            color:  #000000;\n",
       "        }    #T_16f334ca_37f6_11ea_8d71_4983536c65abrow6_col1 {\n",
       "            background-color:  #90b2fe;\n",
       "            color:  #000000;\n",
       "        }    #T_16f334ca_37f6_11ea_8d71_4983536c65abrow6_col2 {\n",
       "            background-color:  #a7c5fe;\n",
       "            color:  #000000;\n",
       "        }    #T_16f334ca_37f6_11ea_8d71_4983536c65abrow6_col3 {\n",
       "            background-color:  #bad0f8;\n",
       "            color:  #000000;\n",
       "        }    #T_16f334ca_37f6_11ea_8d71_4983536c65abrow6_col4 {\n",
       "            background-color:  #bbd1f8;\n",
       "            color:  #000000;\n",
       "        }    #T_16f334ca_37f6_11ea_8d71_4983536c65abrow6_col5 {\n",
       "            background-color:  #f7b89c;\n",
       "            color:  #000000;\n",
       "        }    #T_16f334ca_37f6_11ea_8d71_4983536c65abrow6_col6 {\n",
       "            background-color:  #b40426;\n",
       "            color:  #f1f1f1;\n",
       "        }    #T_16f334ca_37f6_11ea_8d71_4983536c65abrow6_col7 {\n",
       "            background-color:  #e7745b;\n",
       "            color:  #000000;\n",
       "        }    #T_16f334ca_37f6_11ea_8d71_4983536c65abrow6_col8 {\n",
       "            background-color:  #92b4fe;\n",
       "            color:  #000000;\n",
       "        }    #T_16f334ca_37f6_11ea_8d71_4983536c65abrow6_col9 {\n",
       "            background-color:  #aac7fd;\n",
       "            color:  #000000;\n",
       "        }    #T_16f334ca_37f6_11ea_8d71_4983536c65abrow7_col0 {\n",
       "            background-color:  #5b7ae5;\n",
       "            color:  #000000;\n",
       "        }    #T_16f334ca_37f6_11ea_8d71_4983536c65abrow7_col1 {\n",
       "            background-color:  #89acfd;\n",
       "            color:  #000000;\n",
       "        }    #T_16f334ca_37f6_11ea_8d71_4983536c65abrow7_col2 {\n",
       "            background-color:  #8fb1fe;\n",
       "            color:  #000000;\n",
       "        }    #T_16f334ca_37f6_11ea_8d71_4983536c65abrow7_col3 {\n",
       "            background-color:  #b3cdfb;\n",
       "            color:  #000000;\n",
       "        }    #T_16f334ca_37f6_11ea_8d71_4983536c65abrow7_col4 {\n",
       "            background-color:  #bfd3f6;\n",
       "            color:  #000000;\n",
       "        }    #T_16f334ca_37f6_11ea_8d71_4983536c65abrow7_col5 {\n",
       "            background-color:  #f3c7b1;\n",
       "            color:  #000000;\n",
       "        }    #T_16f334ca_37f6_11ea_8d71_4983536c65abrow7_col6 {\n",
       "            background-color:  #e7745b;\n",
       "            color:  #000000;\n",
       "        }    #T_16f334ca_37f6_11ea_8d71_4983536c65abrow7_col7 {\n",
       "            background-color:  #b40426;\n",
       "            color:  #f1f1f1;\n",
       "        }    #T_16f334ca_37f6_11ea_8d71_4983536c65abrow7_col8 {\n",
       "            background-color:  #8fb1fe;\n",
       "            color:  #000000;\n",
       "        }    #T_16f334ca_37f6_11ea_8d71_4983536c65abrow7_col9 {\n",
       "            background-color:  #97b8ff;\n",
       "            color:  #000000;\n",
       "        }    #T_16f334ca_37f6_11ea_8d71_4983536c65abrow8_col0 {\n",
       "            background-color:  #7093f3;\n",
       "            color:  #000000;\n",
       "        }    #T_16f334ca_37f6_11ea_8d71_4983536c65abrow8_col1 {\n",
       "            background-color:  #c5d6f2;\n",
       "            color:  #000000;\n",
       "        }    #T_16f334ca_37f6_11ea_8d71_4983536c65abrow8_col2 {\n",
       "            background-color:  #dbdcde;\n",
       "            color:  #000000;\n",
       "        }    #T_16f334ca_37f6_11ea_8d71_4983536c65abrow8_col3 {\n",
       "            background-color:  #c9d7f0;\n",
       "            color:  #000000;\n",
       "        }    #T_16f334ca_37f6_11ea_8d71_4983536c65abrow8_col4 {\n",
       "            background-color:  #b9d0f9;\n",
       "            color:  #000000;\n",
       "        }    #T_16f334ca_37f6_11ea_8d71_4983536c65abrow8_col5 {\n",
       "            background-color:  #afcafc;\n",
       "            color:  #000000;\n",
       "        }    #T_16f334ca_37f6_11ea_8d71_4983536c65abrow8_col6 {\n",
       "            background-color:  #a7c5fe;\n",
       "            color:  #000000;\n",
       "        }    #T_16f334ca_37f6_11ea_8d71_4983536c65abrow8_col7 {\n",
       "            background-color:  #a1c0ff;\n",
       "            color:  #000000;\n",
       "        }    #T_16f334ca_37f6_11ea_8d71_4983536c65abrow8_col8 {\n",
       "            background-color:  #b40426;\n",
       "            color:  #f1f1f1;\n",
       "        }    #T_16f334ca_37f6_11ea_8d71_4983536c65abrow8_col9 {\n",
       "            background-color:  #bed2f6;\n",
       "            color:  #000000;\n",
       "        }    #T_16f334ca_37f6_11ea_8d71_4983536c65abrow9_col0 {\n",
       "            background-color:  #8fb1fe;\n",
       "            color:  #000000;\n",
       "        }    #T_16f334ca_37f6_11ea_8d71_4983536c65abrow9_col1 {\n",
       "            background-color:  #9fbfff;\n",
       "            color:  #000000;\n",
       "        }    #T_16f334ca_37f6_11ea_8d71_4983536c65abrow9_col2 {\n",
       "            background-color:  #cbd8ee;\n",
       "            color:  #000000;\n",
       "        }    #T_16f334ca_37f6_11ea_8d71_4983536c65abrow9_col3 {\n",
       "            background-color:  #9abbff;\n",
       "            color:  #000000;\n",
       "        }    #T_16f334ca_37f6_11ea_8d71_4983536c65abrow9_col4 {\n",
       "            background-color:  #c1d4f4;\n",
       "            color:  #000000;\n",
       "        }    #T_16f334ca_37f6_11ea_8d71_4983536c65abrow9_col5 {\n",
       "            background-color:  #a3c2fe;\n",
       "            color:  #000000;\n",
       "        }    #T_16f334ca_37f6_11ea_8d71_4983536c65abrow9_col6 {\n",
       "            background-color:  #b3cdfb;\n",
       "            color:  #000000;\n",
       "        }    #T_16f334ca_37f6_11ea_8d71_4983536c65abrow9_col7 {\n",
       "            background-color:  #9dbdff;\n",
       "            color:  #000000;\n",
       "        }    #T_16f334ca_37f6_11ea_8d71_4983536c65abrow9_col8 {\n",
       "            background-color:  #b5cdfa;\n",
       "            color:  #000000;\n",
       "        }    #T_16f334ca_37f6_11ea_8d71_4983536c65abrow9_col9 {\n",
       "            background-color:  #b40426;\n",
       "            color:  #f1f1f1;\n",
       "        }</style><table id=\"T_16f334ca_37f6_11ea_8d71_4983536c65ab\" ><thead>    <tr>        <th class=\"blank level0\" ></th>        <th class=\"col_heading level0 col0\" >Tobac_Use_M</th>        <th class=\"col_heading level0 col1\" >Tobac_Use_F</th>        <th class=\"col_heading level0 col2\" >Tax_2015</th>        <th class=\"col_heading level0 col3\" >Happiness_Score</th>        <th class=\"col_heading level0 col4\" >Afford_2015</th>        <th class=\"col_heading level0 col5\" >Ban_Score_Dir_Ads</th>        <th class=\"col_heading level0 col6\" >Ban_Score_Indr_Ads</th>        <th class=\"col_heading level0 col7\" >Ban_Score_add_indir_ads</th>        <th class=\"col_heading level0 col8\" >Warn_Score</th>        <th class=\"col_heading level0 col9\" >Ban_Score_places</th>    </tr></thead><tbody>\n",
       "                <tr>\n",
       "                        <th id=\"T_16f334ca_37f6_11ea_8d71_4983536c65ablevel0_row0\" class=\"row_heading level0 row0\" >Tobac_Use_M</th>\n",
       "                        <td id=\"T_16f334ca_37f6_11ea_8d71_4983536c65abrow0_col0\" class=\"data row0 col0\" >1</td>\n",
       "                        <td id=\"T_16f334ca_37f6_11ea_8d71_4983536c65abrow0_col1\" class=\"data row0 col1\" >0.0847056</td>\n",
       "                        <td id=\"T_16f334ca_37f6_11ea_8d71_4983536c65abrow0_col2\" class=\"data row0 col2\" >0.0967064</td>\n",
       "                        <td id=\"T_16f334ca_37f6_11ea_8d71_4983536c65abrow0_col3\" class=\"data row0 col3\" >-0.327438</td>\n",
       "                        <td id=\"T_16f334ca_37f6_11ea_8d71_4983536c65abrow0_col4\" class=\"data row0 col4\" >-0.0985019</td>\n",
       "                        <td id=\"T_16f334ca_37f6_11ea_8d71_4983536c65abrow0_col5\" class=\"data row0 col5\" >-0.0689886</td>\n",
       "                        <td id=\"T_16f334ca_37f6_11ea_8d71_4983536c65abrow0_col6\" class=\"data row0 col6\" >-0.203158</td>\n",
       "                        <td id=\"T_16f334ca_37f6_11ea_8d71_4983536c65abrow0_col7\" class=\"data row0 col7\" >-0.187177</td>\n",
       "                        <td id=\"T_16f334ca_37f6_11ea_8d71_4983536c65abrow0_col8\" class=\"data row0 col8\" >-0.10219</td>\n",
       "                        <td id=\"T_16f334ca_37f6_11ea_8d71_4983536c65abrow0_col9\" class=\"data row0 col9\" >0.0125115</td>\n",
       "            </tr>\n",
       "            <tr>\n",
       "                        <th id=\"T_16f334ca_37f6_11ea_8d71_4983536c65ablevel0_row1\" class=\"row_heading level0 row1\" >Tobac_Use_F</th>\n",
       "                        <td id=\"T_16f334ca_37f6_11ea_8d71_4983536c65abrow1_col0\" class=\"data row1 col0\" >0.0847056</td>\n",
       "                        <td id=\"T_16f334ca_37f6_11ea_8d71_4983536c65abrow1_col1\" class=\"data row1 col1\" >1</td>\n",
       "                        <td id=\"T_16f334ca_37f6_11ea_8d71_4983536c65abrow1_col2\" class=\"data row1 col2\" >0.656236</td>\n",
       "                        <td id=\"T_16f334ca_37f6_11ea_8d71_4983536c65abrow1_col3\" class=\"data row1 col3\" >0.420648</td>\n",
       "                        <td id=\"T_16f334ca_37f6_11ea_8d71_4983536c65abrow1_col4\" class=\"data row1 col4\" >-0.42563</td>\n",
       "                        <td id=\"T_16f334ca_37f6_11ea_8d71_4983536c65abrow1_col5\" class=\"data row1 col5\" >-0.00518897</td>\n",
       "                        <td id=\"T_16f334ca_37f6_11ea_8d71_4983536c65abrow1_col6\" class=\"data row1 col6\" >-0.0535025</td>\n",
       "                        <td id=\"T_16f334ca_37f6_11ea_8d71_4983536c65abrow1_col7\" class=\"data row1 col7\" >-0.0825792</td>\n",
       "                        <td id=\"T_16f334ca_37f6_11ea_8d71_4983536c65abrow1_col8\" class=\"data row1 col8\" >0.164694</td>\n",
       "                        <td id=\"T_16f334ca_37f6_11ea_8d71_4983536c65abrow1_col9\" class=\"data row1 col9\" >0.00868903</td>\n",
       "            </tr>\n",
       "            <tr>\n",
       "                        <th id=\"T_16f334ca_37f6_11ea_8d71_4983536c65ablevel0_row2\" class=\"row_heading level0 row2\" >Tax_2015</th>\n",
       "                        <td id=\"T_16f334ca_37f6_11ea_8d71_4983536c65abrow2_col0\" class=\"data row2 col0\" >0.0967064</td>\n",
       "                        <td id=\"T_16f334ca_37f6_11ea_8d71_4983536c65abrow2_col1\" class=\"data row2 col1\" >0.656236</td>\n",
       "                        <td id=\"T_16f334ca_37f6_11ea_8d71_4983536c65abrow2_col2\" class=\"data row2 col2\" >1</td>\n",
       "                        <td id=\"T_16f334ca_37f6_11ea_8d71_4983536c65abrow2_col3\" class=\"data row2 col3\" >0.441964</td>\n",
       "                        <td id=\"T_16f334ca_37f6_11ea_8d71_4983536c65abrow2_col4\" class=\"data row2 col4\" >-0.487305</td>\n",
       "                        <td id=\"T_16f334ca_37f6_11ea_8d71_4983536c65abrow2_col5\" class=\"data row2 col5\" >0.0459263</td>\n",
       "                        <td id=\"T_16f334ca_37f6_11ea_8d71_4983536c65abrow2_col6\" class=\"data row2 col6\" >-0.00311081</td>\n",
       "                        <td id=\"T_16f334ca_37f6_11ea_8d71_4983536c65abrow2_col7\" class=\"data row2 col7\" >-0.10922</td>\n",
       "                        <td id=\"T_16f334ca_37f6_11ea_8d71_4983536c65abrow2_col8\" class=\"data row2 col8\" >0.246269</td>\n",
       "                        <td id=\"T_16f334ca_37f6_11ea_8d71_4983536c65abrow2_col9\" class=\"data row2 col9\" >0.16135</td>\n",
       "            </tr>\n",
       "            <tr>\n",
       "                        <th id=\"T_16f334ca_37f6_11ea_8d71_4983536c65ablevel0_row3\" class=\"row_heading level0 row3\" >Happiness_Score</th>\n",
       "                        <td id=\"T_16f334ca_37f6_11ea_8d71_4983536c65abrow3_col0\" class=\"data row3 col0\" >-0.327438</td>\n",
       "                        <td id=\"T_16f334ca_37f6_11ea_8d71_4983536c65abrow3_col1\" class=\"data row3 col1\" >0.420648</td>\n",
       "                        <td id=\"T_16f334ca_37f6_11ea_8d71_4983536c65abrow3_col2\" class=\"data row3 col2\" >0.441964</td>\n",
       "                        <td id=\"T_16f334ca_37f6_11ea_8d71_4983536c65abrow3_col3\" class=\"data row3 col3\" >1</td>\n",
       "                        <td id=\"T_16f334ca_37f6_11ea_8d71_4983536c65abrow3_col4\" class=\"data row3 col4\" >-0.626922</td>\n",
       "                        <td id=\"T_16f334ca_37f6_11ea_8d71_4983536c65abrow3_col5\" class=\"data row3 col5\" >-0.0272592</td>\n",
       "                        <td id=\"T_16f334ca_37f6_11ea_8d71_4983536c65abrow3_col6\" class=\"data row3 col6\" >-0.00420253</td>\n",
       "                        <td id=\"T_16f334ca_37f6_11ea_8d71_4983536c65abrow3_col7\" class=\"data row3 col7\" >-0.0360306</td>\n",
       "                        <td id=\"T_16f334ca_37f6_11ea_8d71_4983536c65abrow3_col8\" class=\"data row3 col8\" >0.0670242</td>\n",
       "                        <td id=\"T_16f334ca_37f6_11ea_8d71_4983536c65abrow3_col9\" class=\"data row3 col9\" >-0.156774</td>\n",
       "            </tr>\n",
       "            <tr>\n",
       "                        <th id=\"T_16f334ca_37f6_11ea_8d71_4983536c65ablevel0_row4\" class=\"row_heading level0 row4\" >Afford_2015</th>\n",
       "                        <td id=\"T_16f334ca_37f6_11ea_8d71_4983536c65abrow4_col0\" class=\"data row4 col0\" >-0.0985019</td>\n",
       "                        <td id=\"T_16f334ca_37f6_11ea_8d71_4983536c65abrow4_col1\" class=\"data row4 col1\" >-0.42563</td>\n",
       "                        <td id=\"T_16f334ca_37f6_11ea_8d71_4983536c65abrow4_col2\" class=\"data row4 col2\" >-0.487305</td>\n",
       "                        <td id=\"T_16f334ca_37f6_11ea_8d71_4983536c65abrow4_col3\" class=\"data row4 col3\" >-0.626922</td>\n",
       "                        <td id=\"T_16f334ca_37f6_11ea_8d71_4983536c65abrow4_col4\" class=\"data row4 col4\" >1</td>\n",
       "                        <td id=\"T_16f334ca_37f6_11ea_8d71_4983536c65abrow4_col5\" class=\"data row4 col5\" >-0.155646</td>\n",
       "                        <td id=\"T_16f334ca_37f6_11ea_8d71_4983536c65abrow4_col6\" class=\"data row4 col6\" >-0.000443755</td>\n",
       "                        <td id=\"T_16f334ca_37f6_11ea_8d71_4983536c65abrow4_col7\" class=\"data row4 col7\" >0.0193821</td>\n",
       "                        <td id=\"T_16f334ca_37f6_11ea_8d71_4983536c65abrow4_col8\" class=\"data row4 col8\" >-0.0155854</td>\n",
       "                        <td id=\"T_16f334ca_37f6_11ea_8d71_4983536c65abrow4_col9\" class=\"data row4 col9\" >0.0304187</td>\n",
       "            </tr>\n",
       "            <tr>\n",
       "                        <th id=\"T_16f334ca_37f6_11ea_8d71_4983536c65ablevel0_row5\" class=\"row_heading level0 row5\" >Ban_Score_Dir_Ads</th>\n",
       "                        <td id=\"T_16f334ca_37f6_11ea_8d71_4983536c65abrow5_col0\" class=\"data row5 col0\" >-0.0689886</td>\n",
       "                        <td id=\"T_16f334ca_37f6_11ea_8d71_4983536c65abrow5_col1\" class=\"data row5 col1\" >-0.00518897</td>\n",
       "                        <td id=\"T_16f334ca_37f6_11ea_8d71_4983536c65abrow5_col2\" class=\"data row5 col2\" >0.0459263</td>\n",
       "                        <td id=\"T_16f334ca_37f6_11ea_8d71_4983536c65abrow5_col3\" class=\"data row5 col3\" >-0.0272592</td>\n",
       "                        <td id=\"T_16f334ca_37f6_11ea_8d71_4983536c65abrow5_col4\" class=\"data row5 col4\" >-0.155646</td>\n",
       "                        <td id=\"T_16f334ca_37f6_11ea_8d71_4983536c65abrow5_col5\" class=\"data row5 col5\" >1</td>\n",
       "                        <td id=\"T_16f334ca_37f6_11ea_8d71_4983536c65abrow5_col6\" class=\"data row5 col6\" >0.611921</td>\n",
       "                        <td id=\"T_16f334ca_37f6_11ea_8d71_4983536c65abrow5_col7\" class=\"data row5 col7\" >0.557217</td>\n",
       "                        <td id=\"T_16f334ca_37f6_11ea_8d71_4983536c65abrow5_col8\" class=\"data row5 col8\" >0.247975</td>\n",
       "                        <td id=\"T_16f334ca_37f6_11ea_8d71_4983536c65abrow5_col9\" class=\"data row5 col9\" >0.207777</td>\n",
       "            </tr>\n",
       "            <tr>\n",
       "                        <th id=\"T_16f334ca_37f6_11ea_8d71_4983536c65ablevel0_row6\" class=\"row_heading level0 row6\" >Ban_Score_Indr_Ads</th>\n",
       "                        <td id=\"T_16f334ca_37f6_11ea_8d71_4983536c65abrow6_col0\" class=\"data row6 col0\" >-0.203158</td>\n",
       "                        <td id=\"T_16f334ca_37f6_11ea_8d71_4983536c65abrow6_col1\" class=\"data row6 col1\" >-0.0535025</td>\n",
       "                        <td id=\"T_16f334ca_37f6_11ea_8d71_4983536c65abrow6_col2\" class=\"data row6 col2\" >-0.00311081</td>\n",
       "                        <td id=\"T_16f334ca_37f6_11ea_8d71_4983536c65abrow6_col3\" class=\"data row6 col3\" >-0.00420253</td>\n",
       "                        <td id=\"T_16f334ca_37f6_11ea_8d71_4983536c65abrow6_col4\" class=\"data row6 col4\" >-0.000443755</td>\n",
       "                        <td id=\"T_16f334ca_37f6_11ea_8d71_4983536c65abrow6_col5\" class=\"data row6 col5\" >0.611921</td>\n",
       "                        <td id=\"T_16f334ca_37f6_11ea_8d71_4983536c65abrow6_col6\" class=\"data row6 col6\" >1</td>\n",
       "                        <td id=\"T_16f334ca_37f6_11ea_8d71_4983536c65abrow6_col7\" class=\"data row6 col7\" >0.801185</td>\n",
       "                        <td id=\"T_16f334ca_37f6_11ea_8d71_4983536c65abrow6_col8\" class=\"data row6 col8\" >0.190317</td>\n",
       "                        <td id=\"T_16f334ca_37f6_11ea_8d71_4983536c65abrow6_col9\" class=\"data row6 col9\" >0.230062</td>\n",
       "            </tr>\n",
       "            <tr>\n",
       "                        <th id=\"T_16f334ca_37f6_11ea_8d71_4983536c65ablevel0_row7\" class=\"row_heading level0 row7\" >Ban_Score_add_indir_ads</th>\n",
       "                        <td id=\"T_16f334ca_37f6_11ea_8d71_4983536c65abrow7_col0\" class=\"data row7 col0\" >-0.187177</td>\n",
       "                        <td id=\"T_16f334ca_37f6_11ea_8d71_4983536c65abrow7_col1\" class=\"data row7 col1\" >-0.0825792</td>\n",
       "                        <td id=\"T_16f334ca_37f6_11ea_8d71_4983536c65abrow7_col2\" class=\"data row7 col2\" >-0.10922</td>\n",
       "                        <td id=\"T_16f334ca_37f6_11ea_8d71_4983536c65abrow7_col3\" class=\"data row7 col3\" >-0.0360306</td>\n",
       "                        <td id=\"T_16f334ca_37f6_11ea_8d71_4983536c65abrow7_col4\" class=\"data row7 col4\" >0.0193821</td>\n",
       "                        <td id=\"T_16f334ca_37f6_11ea_8d71_4983536c65abrow7_col5\" class=\"data row7 col5\" >0.557217</td>\n",
       "                        <td id=\"T_16f334ca_37f6_11ea_8d71_4983536c65abrow7_col6\" class=\"data row7 col6\" >0.801185</td>\n",
       "                        <td id=\"T_16f334ca_37f6_11ea_8d71_4983536c65abrow7_col7\" class=\"data row7 col7\" >1</td>\n",
       "                        <td id=\"T_16f334ca_37f6_11ea_8d71_4983536c65abrow7_col8\" class=\"data row7 col8\" >0.177901</td>\n",
       "                        <td id=\"T_16f334ca_37f6_11ea_8d71_4983536c65abrow7_col9\" class=\"data row7 col9\" >0.164753</td>\n",
       "            </tr>\n",
       "            <tr>\n",
       "                        <th id=\"T_16f334ca_37f6_11ea_8d71_4983536c65ablevel0_row8\" class=\"row_heading level0 row8\" >Warn_Score</th>\n",
       "                        <td id=\"T_16f334ca_37f6_11ea_8d71_4983536c65abrow8_col0\" class=\"data row8 col0\" >-0.10219</td>\n",
       "                        <td id=\"T_16f334ca_37f6_11ea_8d71_4983536c65abrow8_col1\" class=\"data row8 col1\" >0.164694</td>\n",
       "                        <td id=\"T_16f334ca_37f6_11ea_8d71_4983536c65abrow8_col2\" class=\"data row8 col2\" >0.246269</td>\n",
       "                        <td id=\"T_16f334ca_37f6_11ea_8d71_4983536c65abrow8_col3\" class=\"data row8 col3\" >0.0670242</td>\n",
       "                        <td id=\"T_16f334ca_37f6_11ea_8d71_4983536c65abrow8_col4\" class=\"data row8 col4\" >-0.0155854</td>\n",
       "                        <td id=\"T_16f334ca_37f6_11ea_8d71_4983536c65abrow8_col5\" class=\"data row8 col5\" >0.247975</td>\n",
       "                        <td id=\"T_16f334ca_37f6_11ea_8d71_4983536c65abrow8_col6\" class=\"data row8 col6\" >0.190317</td>\n",
       "                        <td id=\"T_16f334ca_37f6_11ea_8d71_4983536c65abrow8_col7\" class=\"data row8 col7\" >0.177901</td>\n",
       "                        <td id=\"T_16f334ca_37f6_11ea_8d71_4983536c65abrow8_col8\" class=\"data row8 col8\" >1</td>\n",
       "                        <td id=\"T_16f334ca_37f6_11ea_8d71_4983536c65abrow8_col9\" class=\"data row8 col9\" >0.298445</td>\n",
       "            </tr>\n",
       "            <tr>\n",
       "                        <th id=\"T_16f334ca_37f6_11ea_8d71_4983536c65ablevel0_row9\" class=\"row_heading level0 row9\" >Ban_Score_places</th>\n",
       "                        <td id=\"T_16f334ca_37f6_11ea_8d71_4983536c65abrow9_col0\" class=\"data row9 col0\" >0.0125115</td>\n",
       "                        <td id=\"T_16f334ca_37f6_11ea_8d71_4983536c65abrow9_col1\" class=\"data row9 col1\" >0.00868903</td>\n",
       "                        <td id=\"T_16f334ca_37f6_11ea_8d71_4983536c65abrow9_col2\" class=\"data row9 col2\" >0.16135</td>\n",
       "                        <td id=\"T_16f334ca_37f6_11ea_8d71_4983536c65abrow9_col3\" class=\"data row9 col3\" >-0.156774</td>\n",
       "                        <td id=\"T_16f334ca_37f6_11ea_8d71_4983536c65abrow9_col4\" class=\"data row9 col4\" >0.0304187</td>\n",
       "                        <td id=\"T_16f334ca_37f6_11ea_8d71_4983536c65abrow9_col5\" class=\"data row9 col5\" >0.207777</td>\n",
       "                        <td id=\"T_16f334ca_37f6_11ea_8d71_4983536c65abrow9_col6\" class=\"data row9 col6\" >0.230062</td>\n",
       "                        <td id=\"T_16f334ca_37f6_11ea_8d71_4983536c65abrow9_col7\" class=\"data row9 col7\" >0.164753</td>\n",
       "                        <td id=\"T_16f334ca_37f6_11ea_8d71_4983536c65abrow9_col8\" class=\"data row9 col8\" >0.298445</td>\n",
       "                        <td id=\"T_16f334ca_37f6_11ea_8d71_4983536c65abrow9_col9\" class=\"data row9 col9\" >1</td>\n",
       "            </tr>\n",
       "    </tbody></table>"
      ],
      "text/plain": [
       "<pandas.io.formats.style.Styler at 0x7f35fb360410>"
      ]
     },
     "execution_count": 67,
     "metadata": {},
     "output_type": "execute_result"
    }
   ],
   "source": [
    "corr = df.corr()\n",
    "corr.style.background_gradient(cmap='coolwarm')"
   ]
  },
  {
   "cell_type": "markdown",
   "metadata": {},
   "source": [
    "#### Explanation: \n",
    "The correlation value is in the range of [-1, 1]. The positive value indicates positive impact and so for negative. The value close to boundries (-1 and 1) demonstrate high tangible relation between indicators and on ther side the values close to zero show insignificant relation between indicators."
   ]
  },
  {
   "cell_type": "markdown",
   "metadata": {},
   "source": [
    "#### Analytics:\n",
    "As could be seen on correlation matrix, tobacco usage of men is negatively impacted by happiness and advertisement limitations which makes sense. However, there is no indicator which impact on Men tobacco consumpation. \n",
    "Among all it can be seen that tax is the most important influencer of men consumption, which is against what governments claim about it, but this impact is not much significant. There is only one other indicator which has positive impact on men tobacco usage, which is limitation on places where smoking is allowed. Howere this impact is not much cosiderable.\n",
    "\n",
    "On the other side, women are more influenced by these indicators, as tax an happiness cause more tobacco usage between women, that although show different habitat between women, confirm our hypothesis about tax which increasing the tax won't cause decrease on tobacco usage. However it seems tobacco usage between women is mostly for fun and not one regular habitate.  \n",
    "\n",
    "However, the negative correlation between affordability and women tobacco usage shows that the more affordable women (who could be from wealty class) are less likely to smoke and this could be because of more alternative fun for wealty women.  "
   ]
  },
  {
   "cell_type": "markdown",
   "metadata": {},
   "source": [
    "# Linear Regression\n",
    "https://realpython.com/linear-regression-in-python/\n",
    "\n",
    "\n",
    "https://towardsdatascience.com/let-us-understand-the-correlation-matrix-and-covariance-matrix-d42e6b643c22"
   ]
  },
  {
   "cell_type": "code",
   "execution_count": 68,
   "metadata": {},
   "outputs": [],
   "source": [
    "y_f = np.array(df['Tobac_Use_F'])\n",
    "y_m = np.array(df['Tobac_Use_M'])"
   ]
  },
  {
   "cell_type": "code",
   "execution_count": 69,
   "metadata": {},
   "outputs": [],
   "source": [
    "lr_df = df.drop(['Tobac_Use_M', 'Tobac_Use_F'] , axis=1)"
   ]
  },
  {
   "cell_type": "code",
   "execution_count": 70,
   "metadata": {},
   "outputs": [],
   "source": [
    "x = lr_df.to_numpy()"
   ]
  },
  {
   "cell_type": "code",
   "execution_count": 71,
   "metadata": {},
   "outputs": [
    {
     "data": {
      "text/plain": [
       "0.33691346246582055"
      ]
     },
     "execution_count": 71,
     "metadata": {},
     "output_type": "execute_result"
    }
   ],
   "source": [
    "model_m = LinearRegression().fit(x, y_m)\n",
    "r_sq_m = model_m.score(x, y_m) \n",
    "r_sq_m"
   ]
  },
  {
   "cell_type": "code",
   "execution_count": 72,
   "metadata": {},
   "outputs": [
    {
     "name": "stdout",
     "output_type": "stream",
     "text": [
      "slope: [ 0.12635259 -8.20130396 -1.32232896 -0.26062131 -0.52126046 -0.18815666\n",
      " -0.04887805 -0.25277603]\n"
     ]
    }
   ],
   "source": [
    "print('slope:', model_m.coef_)"
   ]
  },
  {
   "cell_type": "code",
   "execution_count": 73,
   "metadata": {},
   "outputs": [
    {
     "data": {
      "text/plain": [
       "0.46373311879366974"
      ]
     },
     "execution_count": 73,
     "metadata": {},
     "output_type": "execute_result"
    }
   ],
   "source": [
    "model_f = LinearRegression().fit(x, y_f)\n",
    "r_sq_f = model_f.score(x, y_f) \n",
    "r_sq_f"
   ]
  },
  {
   "cell_type": "markdown",
   "metadata": {},
   "source": [
    "#### Explanation: \n",
    "The results show not much satisfying model to map the tobacco usage between countries."
   ]
  },
  {
   "cell_type": "markdown",
   "metadata": {},
   "source": [
    "\n",
    "#### R squared definition:\n",
    "http://www.fairlynerdy.com/what-is-r-squared/\n",
    "Any R squared value greater than zero means that the regression analysis did better than just using a horizontal line through the mean value.  In the rare cases you get a negative r squared value, you should probably rethink your regression analysis, especially if you are forcing an intercept."
   ]
  },
  {
   "cell_type": "code",
   "execution_count": 74,
   "metadata": {},
   "outputs": [
    {
     "name": "stdout",
     "output_type": "stream",
     "text": [
      "slope: [ 0.27362316  0.93169864 -0.19762503 -0.12680227 -0.28958526  0.31674062\n",
      "  0.03073524 -0.22666631]\n",
      "intercept: -7.102598018627804\n"
     ]
    }
   ],
   "source": [
    "print('slope:', model_f.coef_)\n",
    "print('intercept:', model_f.intercept_)"
   ]
  },
  {
   "cell_type": "markdown",
   "metadata": {},
   "source": [
    "# Polynomial Regression"
   ]
  },
  {
   "cell_type": "markdown",
   "metadata": {},
   "source": [
    "https://towardsdatascience.com/polynomial-regression-bbe8b9d97491"
   ]
  },
  {
   "cell_type": "code",
   "execution_count": 75,
   "metadata": {},
   "outputs": [
    {
     "data": {
      "text/plain": [
       "StandardScaler(copy=True, with_mean=True, with_std=True)"
      ]
     },
     "execution_count": 75,
     "metadata": {},
     "output_type": "execute_result"
    }
   ],
   "source": [
    "from sklearn.metrics import mean_squared_error, r2_score\n",
    "from sklearn.preprocessing import StandardScaler\n",
    "scaler = StandardScaler()\n",
    "poly_features = PolynomialFeatures(degree=2, include_bias=True)\n",
    "X_train, X_test, Y_train, Y_test = train_test_split(x, y_m, test_size=0.3, random_state=1)\n",
    "\n",
    "X_train_poly = poly_features.fit_transform(X_train)\n",
    "X_test_poly = poly_features.fit_transform(X_test)\n",
    "scaler.fit(X_train_poly)\n",
    "scaler.fit(X_test_poly)"
   ]
  },
  {
   "cell_type": "code",
   "execution_count": 76,
   "metadata": {},
   "outputs": [
    {
     "data": {
      "text/plain": [
       "LinearRegression(copy_X=True, fit_intercept=True, n_jobs=None, normalize=False)"
      ]
     },
     "execution_count": 76,
     "metadata": {},
     "output_type": "execute_result"
    }
   ],
   "source": [
    "# fit the transformed features to Linear Regression\n",
    "poly_model = LinearRegression()\n",
    "poly_model.fit(X_train_poly, Y_train)"
   ]
  },
  {
   "cell_type": "code",
   "execution_count": 77,
   "metadata": {},
   "outputs": [],
   "source": [
    "# predicting on training data-set\n",
    "y_train_predicted = poly_model.predict(X_train_poly)"
   ]
  },
  {
   "cell_type": "code",
   "execution_count": 78,
   "metadata": {},
   "outputs": [],
   "source": [
    "# predicting on test data-set\n",
    "y_test_predict = poly_model.predict(X_test_poly)"
   ]
  },
  {
   "cell_type": "code",
   "execution_count": 79,
   "metadata": {},
   "outputs": [],
   "source": [
    "# evaluating the model on training dataset\n",
    "rmse_train = np.sqrt(mean_squared_error(Y_train, y_train_predicted))\n",
    "r2_train = r2_score(Y_train, y_train_predicted)"
   ]
  },
  {
   "cell_type": "code",
   "execution_count": 80,
   "metadata": {},
   "outputs": [],
   "source": [
    "# evaluating the model on test dataset\n",
    "rmse_test = np.sqrt(mean_squared_error(Y_test, y_test_predict))\n",
    "r2_test = r2_score(Y_test, y_test_predict)"
   ]
  },
  {
   "cell_type": "code",
   "execution_count": 81,
   "metadata": {},
   "outputs": [
    {
     "name": "stdout",
     "output_type": "stream",
     "text": [
      "The model performance for the training set\n",
      "-------------------------------------------\n",
      "RMSE of training set is 7.09961709247057\n",
      "R2 score of training set is 0.6658006461297796\n",
      "\n",
      "\n",
      "The model performance for the test set\n",
      "-------------------------------------------\n",
      "RMSE of test set is 24.284463893121796\n",
      "R2 score of test set is -1.952668333748353\n"
     ]
    }
   ],
   "source": [
    "print(\"The model performance for the training set\")\n",
    "print(\"-------------------------------------------\")\n",
    "print(\"RMSE of training set is {}\".format(rmse_train))\n",
    "print(\"R2 score of training set is {}\".format(r2_train))\n",
    "\n",
    "print(\"\\n\")\n",
    "\n",
    "print(\"The model performance for the test set\")\n",
    "print(\"-------------------------------------------\")\n",
    "print(\"RMSE of test set is {}\".format(rmse_test))\n",
    "print(\"R2 score of test set is {}\".format(r2_test))"
   ]
  },
  {
   "cell_type": "markdown",
   "metadata": {},
   "source": [
    "#### Explanation: \n",
    "The results show overfitting which could be because of applying more complex kernel over small data set."
   ]
  },
  {
   "cell_type": "markdown",
   "metadata": {},
   "source": [
    "# SVM\n",
    "https://realpython.com/linear-regression-in-python/"
   ]
  },
  {
   "cell_type": "code",
   "execution_count": 82,
   "metadata": {},
   "outputs": [],
   "source": [
    "from sklearn.model_selection import train_test_split\n",
    "from sklearn.svm import SVR\n",
    "from sklearn import metrics"
   ]
  },
  {
   "cell_type": "code",
   "execution_count": 83,
   "metadata": {},
   "outputs": [],
   "source": [
    "X_train, X_test, y_train, y_test = train_test_split(x, y_m, test_size=0.2, random_state=1)"
   ]
  },
  {
   "cell_type": "code",
   "execution_count": 84,
   "metadata": {},
   "outputs": [
    {
     "name": "stdout",
     "output_type": "stream",
     "text": [
      "0.30302966421687705\n",
      "0.2352757074278976\n",
      "10.687398876446897\n",
      "11.269881597485163\n"
     ]
    }
   ],
   "source": [
    "svr = SVR(kernel='linear', epsilon= 0.1) #Default hyperparameters\n",
    "svr.fit(X_train,y_train)\n",
    "y_pred_train = svr.predict(X_train)\n",
    "y_pred_test = svr.predict(X_test)\n",
    "rmse_test = np.sqrt(mean_squared_error(y_test, y_pred_test))\n",
    "rmse_train = np.sqrt(mean_squared_error(y_train, y_pred_train))\n",
    "print(svr.score(X_train,y_train))\n",
    "print(r2_score(y_test,y_pred_test))\n",
    "print(rmse_train)\n",
    "print(rmse_test)\n",
    "# print('Accuracy Score:', svr.score(X_train, y_pred_train, sample_weight=None))"
   ]
  },
  {
   "cell_type": "markdown",
   "metadata": {},
   "source": [
    "R squared intrepretation: https://www.datasciencecentral.com/profiles/blogs/regression-analysis-how-do-i-interpret-r-squared-and-assess-the"
   ]
  },
  {
   "cell_type": "markdown",
   "metadata": {},
   "source": [
    "#### Explanation: \n",
    "No promising result."
   ]
  },
  {
   "cell_type": "code",
   "execution_count": 219,
   "metadata": {},
   "outputs": [],
   "source": [
    "# # evaluating the model on training dataset\n",
    "# rmse_train = np.sqrt(mean_squared_error(y_train, y_pred_train))\n",
    "# r2_train = r2_score(y_train, y_train_predicted)\n",
    "# print(rmse_train, r2_train)"
   ]
  },
  {
   "cell_type": "code",
   "execution_count": 220,
   "metadata": {},
   "outputs": [],
   "source": [
    "# # evaluating the model on testing dataset\n",
    "# rmse_test = np.sqrt(mean_squared_error(y_test, y_pred_test))\n",
    "# r2_test = r2_score(y_test, y_pred_test)\n",
    "# print(rmse_test, r2_test)"
   ]
  }
 ],
 "metadata": {
  "kernelspec": {
   "display_name": "Python 3",
   "language": "python",
   "name": "python3"
  },
  "language_info": {
   "codemirror_mode": {
    "name": "ipython",
    "version": 3
   },
   "file_extension": ".py",
   "mimetype": "text/x-python",
   "name": "python",
   "nbconvert_exporter": "python",
   "pygments_lexer": "ipython3",
   "version": "3.7.4"
  }
 },
 "nbformat": 4,
 "nbformat_minor": 2
}
